{
 "cells": [
  {
   "cell_type": "markdown",
   "id": "0a93d76b",
   "metadata": {},
   "source": [
    "No in built string builder is availble in python"
   ]
  },
  {
   "cell_type": "markdown",
   "id": "81dcdce2",
   "metadata": {},
   "source": [
    "we have string builder equivalent in python since we dont have any string builder class in python "
   ]
  },
  {
   "cell_type": "markdown",
   "id": "af556405",
   "metadata": {},
   "source": [
    "String builder is mutable."
   ]
  },
  {
   "cell_type": "markdown",
   "id": "7bfe3a38",
   "metadata": {},
   "source": [
    "### Difference between strings and string builder in python:"
   ]
  },
  {
   "cell_type": "raw",
   "id": "19094fcb",
   "metadata": {},
   "source": [
    "String                            |             string builder\n",
    "__________________________________________________________________________\n",
    "collection of characters          |         collection of strings\n",
    "immutable                         |         mutable\n",
    "new memory is allocated           |         added with existing string\n",
    "easy to create                    |         need more syntax compared to string  many in built                     |         have limited functions"
   ]
  },
  {
   "cell_type": "markdown",
   "id": "eda103eb",
   "metadata": {},
   "source": [
    "### Ways to create string builder in python:"
   ]
  },
  {
   "cell_type": "raw",
   "id": "31263ff9",
   "metadata": {},
   "source": [
    "join()\n",
    "string concatenation\n",
    "append\n",
    "string io module"
   ]
  },
  {
   "cell_type": "markdown",
   "id": "56dcf67f",
   "metadata": {},
   "source": [
    "##### join "
   ]
  },
  {
   "cell_type": "code",
   "execution_count": 4,
   "id": "05359a23",
   "metadata": {},
   "outputs": [
    {
     "name": "stdout",
     "output_type": "stream",
     "text": [
      "apple>banana>orange\n"
     ]
    }
   ],
   "source": [
    "a=[\"apple\",\"banana\",\"orange\"]\n",
    "b=\">\"\n",
    "print(b.join(a))"
   ]
  },
  {
   "cell_type": "markdown",
   "id": "7ee714ee",
   "metadata": {},
   "source": [
    "##### concatenate:"
   ]
  },
  {
   "cell_type": "code",
   "execution_count": 5,
   "id": "673a6378",
   "metadata": {},
   "outputs": [
    {
     "name": "stdout",
     "output_type": "stream",
     "text": [
      "codingninjas\n"
     ]
    }
   ],
   "source": [
    "str1=\"coding\"\n",
    "str2=\"ninjas\"\n",
    "print(str1+str2)"
   ]
  },
  {
   "cell_type": "markdown",
   "id": "4faecf6e",
   "metadata": {},
   "source": [
    "##### append:"
   ]
  },
  {
   "cell_type": "code",
   "execution_count": 6,
   "id": "fa1b66c5",
   "metadata": {},
   "outputs": [
    {
     "name": "stdout",
     "output_type": "stream",
     "text": [
      "helloworld\n"
     ]
    }
   ],
   "source": [
    "str1=\"hello\"\n",
    "str2=\"world\"\n",
    "str1+=str2\n",
    "print(str1)\n"
   ]
  },
  {
   "cell_type": "markdown",
   "id": "26cd80c4",
   "metadata": {},
   "source": [
    "##### String Io Module:"
   ]
  },
  {
   "cell_type": "code",
   "execution_count": 8,
   "id": "a4546937",
   "metadata": {},
   "outputs": [
    {
     "name": "stdout",
     "output_type": "stream",
     "text": [
      "hiwelcometocodingninjas\n"
     ]
    }
   ],
   "source": [
    "from io import StringIO\n",
    "\n",
    "a=['hi','welcome','to','coding','ninjas']\n",
    "\n",
    "string=StringIO()\n",
    "\n",
    "for i in a:\n",
    "    string.write(i)\n",
    "print(string.getvalue())"
   ]
  },
  {
   "cell_type": "code",
   "execution_count": 4,
   "id": "23f02702",
   "metadata": {},
   "outputs": [
    {
     "name": "stdout",
     "output_type": "stream",
     "text": [
      "Wor lodelHl\n"
     ]
    }
   ],
   "source": [
    "import random\n",
    "\n",
    "string = \"Hello World\"\n",
    "string_list = list(string)\n",
    "random.shuffle(string_list)\n",
    "jumbled_string = ''.join(string_list)\n",
    "\n",
    "print(jumbled_string)\n"
   ]
  },
  {
   "cell_type": "code",
   "execution_count": null,
   "id": "d35b2731",
   "metadata": {},
   "outputs": [],
   "source": [
    "game_over=0\n",
    "for i in range(11):\n",
    "    \n",
    "    a=input()\n",
    "    if a== string:\n",
    "        print(\"you Won\")\n",
    "        game_over=1\n",
    "        break\n",
    "    else:\n",
    "        print(\"incorrect\")\n",
    "if game_over==0:\n",
    "    print(\"game over you lose\")"
   ]
  },
  {
   "cell_type": "code",
   "execution_count": null,
   "id": "d866c785",
   "metadata": {},
   "outputs": [],
   "source": []
  }
 ],
 "metadata": {
  "kernelspec": {
   "display_name": "Python 3 (ipykernel)",
   "language": "python",
   "name": "python3"
  },
  "language_info": {
   "codemirror_mode": {
    "name": "ipython",
    "version": 3
   },
   "file_extension": ".py",
   "mimetype": "text/x-python",
   "name": "python",
   "nbconvert_exporter": "python",
   "pygments_lexer": "ipython3",
   "version": "3.9.1"
  }
 },
 "nbformat": 4,
 "nbformat_minor": 5
}
