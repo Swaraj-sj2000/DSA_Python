{
 "cells": [
  {
   "cell_type": "code",
   "execution_count": 2,
   "id": "5c97d62e",
   "metadata": {},
   "outputs": [
    {
     "name": "stdout",
     "output_type": "stream",
     "text": [
      "55\n"
     ]
    }
   ],
   "source": [
    "def fibonacci(n):\n",
    "    #base case\n",
    "    if n<=2:\n",
    "        return 1\n",
    "    #assumption\n",
    "    a=fibonacci(n-1)\n",
    "    b=fibonacci(n-2)\n",
    "    #small work\n",
    "    return a+b\n",
    "    \n",
    "print(fibonacci(10))"
   ]
  },
  {
   "cell_type": "code",
   "execution_count": 6,
   "id": "a1455509",
   "metadata": {},
   "outputs": [
    {
     "data": {
      "text/plain": [
       "55"
      ]
     },
     "execution_count": 6,
     "metadata": {},
     "output_type": "execute_result"
    }
   ],
   "source": [
    "def fibonacciNo(n):\n",
    "    if n<=2:\n",
    "        return 1\n",
    "    else:\n",
    "        data=[1,1]\n",
    "        for i in range(2,n):\n",
    "            data.append(data[i-1]+data[i-2])\n",
    "        #print(data)\n",
    "        return data[n-1]\n",
    "fibonacciNo(10)"
   ]
  },
  {
   "cell_type": "code",
   "execution_count": 9,
   "id": "a43d9026",
   "metadata": {},
   "outputs": [
    {
     "name": "stdout",
     "output_type": "stream",
     "text": [
      "3 1 4\n"
     ]
    }
   ],
   "source": [
    "a=[2,0,0,1,2,0,2,2]\n",
    "t_0=a.count(0)\n",
    "t_1=a.count(1)\n",
    "t_2=a.count(2)\n",
    "print(t_0,t_1,t_2)\n",
    "a2=[]"
   ]
  },
  {
   "cell_type": "code",
   "execution_count": 10,
   "id": "edb09e95",
   "metadata": {},
   "outputs": [
    {
     "name": "stdout",
     "output_type": "stream",
     "text": [
      "[0, 0, 0, 1, 2, 2, 2, 2]\n"
     ]
    }
   ],
   "source": [
    "for i in range(t_0):\n",
    "    a2.append(0)\n",
    "for i in range(t_1):\n",
    "    a2.append(1)\n",
    "for i in range(t_2):\n",
    "    a2.append(2)\n",
    "print(a2)"
   ]
  },
  {
   "cell_type": "code",
   "execution_count": 11,
   "id": "3cd20e5c",
   "metadata": {},
   "outputs": [],
   "source": [
    "a.sort()"
   ]
  },
  {
   "cell_type": "code",
   "execution_count": 12,
   "id": "ae0af979",
   "metadata": {},
   "outputs": [
    {
     "name": "stdout",
     "output_type": "stream",
     "text": [
      "[0, 0, 0, 1, 2, 2, 2, 2]\n"
     ]
    }
   ],
   "source": [
    "print(a)"
   ]
  },
  {
   "cell_type": "code",
   "execution_count": 26,
   "id": "c8a2f40e",
   "metadata": {},
   "outputs": [
    {
     "name": "stdout",
     "output_type": "stream",
     "text": [
      "[False, True, True, True, True, False, False, False, True, False, True]\n",
      "10\n"
     ]
    }
   ],
   "source": [
    "def finddup(arr,n):\n",
    "    visited=[False]*(n+1)\n",
    "    for num in arr:\n",
    "        if visited[num]==True:\n",
    "            print(visited)\n",
    "            return num\n",
    "        else:\n",
    "            visited[num]=True\n",
    "    \n",
    "a=[2,3,4,1,8,10,10]\n",
    "print(finddup(a,max(a)))\n"
   ]
  },
  {
   "cell_type": "code",
   "execution_count": 14,
   "id": "bd8c1a72",
   "metadata": {},
   "outputs": [],
   "source": [
    "visited=[False]*5"
   ]
  },
  {
   "cell_type": "code",
   "execution_count": 15,
   "id": "5e99992a",
   "metadata": {},
   "outputs": [
    {
     "name": "stdout",
     "output_type": "stream",
     "text": [
      "[False, False, False, False, False]\n"
     ]
    }
   ],
   "source": [
    "print(visited)"
   ]
  },
  {
   "cell_type": "raw",
   "id": "803a7bfe",
   "metadata": {},
   "source": [
    " The above method to find duplicate takes alot of extrvariables and memory and thus is not very efficient.\n",
    "it constructs an array containing false. the length of the array is the max value in the gaiven list, and then it checks and turns every false to true, if a no. is true and again it is checked then it returns the number\n"
   ]
  },
  {
   "cell_type": "code",
   "execution_count": 6,
   "id": "6e4d275e",
   "metadata": {},
   "outputs": [
    {
     "name": "stdout",
     "output_type": "stream",
     "text": [
      "{1: 1, 2: 10, 3: 11, 4: 100, 5: 101, 6: 110, 7: 111, 8: 1000, 9: 1001, 10: 1010, 11: 1011, 12: 1100, 13: 1101, 14: 1110, 15: 1111, 16: 10000, 17: 10001, 18: 10010, 19: 10011, 20: 10100, 21: 10101, 22: 10110, 23: 10111, 24: 11000, 25: 11001, 26: 11010, 27: 11011, 28: 11100, 29: 11101, 30: 11110, 31: 11111, 32: 100000}\n"
     ]
    }
   ],
   "source": [
    "def dec_to_bin(n):\n",
    "    binary_no=\"\"\n",
    "    while n!=0:\n",
    "        binary_no+=str(n%2)\n",
    "        n=n//2\n",
    "    return binary_no[::-1]\n",
    "\n",
    "def gen_bin(n):\n",
    "    binary_list={}\n",
    "    for i in range(1,n+1):\n",
    "        binary_list.update({i:int(dec_to_bin(i))})\n",
    "    return binary_list\n",
    "\n",
    "print(gen_bin(32))\n",
    "    "
   ]
  },
  {
   "cell_type": "code",
   "execution_count": null,
   "id": "371f14b9",
   "metadata": {},
   "outputs": [],
   "source": []
  }
 ],
 "metadata": {
  "kernelspec": {
   "display_name": "Python 3 (ipykernel)",
   "language": "python",
   "name": "python3"
  },
  "language_info": {
   "codemirror_mode": {
    "name": "ipython",
    "version": 3
   },
   "file_extension": ".py",
   "mimetype": "text/x-python",
   "name": "python",
   "nbconvert_exporter": "python",
   "pygments_lexer": "ipython3",
   "version": "3.9.13"
  }
 },
 "nbformat": 4,
 "nbformat_minor": 5
}
