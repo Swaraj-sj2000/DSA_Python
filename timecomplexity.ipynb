{
 "cells": [
  {
   "cell_type": "markdown",
   "id": "768ed996",
   "metadata": {},
   "source": [
    "# Time complexity:"
   ]
  },
  {
   "cell_type": "markdown",
   "id": "86a67267",
   "metadata": {},
   "source": [
    "The no. of times a statement is executed wrt input  and its not an actual time."
   ]
  },
  {
   "cell_type": "markdown",
   "id": "10f842f5",
   "metadata": {},
   "source": [
    "Two ways to analyze time complexity.\n",
    "1.Theoretical Method\n",
    "2. experimental Method\n"
   ]
  },
  {
   "cell_type": "code",
   "execution_count": 4,
   "id": "bd054b33",
   "metadata": {},
   "outputs": [
    {
     "name": "stdout",
     "output_type": "stream",
     "text": [
      "[1, 3]\n",
      "1678996538.9289773 1678996538.9289773 0.0\n"
     ]
    }
   ],
   "source": [
    "import time\n",
    "start=time.time()\n",
    "arr=[1,2,3,1,4,3]                      #k1 work\n",
    "found=-1                               #k2 work\n",
    "for i in range(0,len(arr)):            #n time\n",
    "    for j in range(i+1,len(arr)):      #n time\n",
    "        if arr[i]==arr[j]:             #k3 work\n",
    "            found==arr[i]              #k4 work\n",
    "print(found)                           #k5 work\n",
    "end=time.time()\n",
    "print(start,end,1000*(end-start))"
   ]
  },
  {
   "cell_type": "markdown",
   "id": "98f2b73b",
   "metadata": {},
   "source": [
    "Experimental analysis depends on different system parameters and may vary."
   ]
  },
  {
   "cell_type": "markdown",
   "id": "065e5972",
   "metadata": {},
   "source": [
    "# Theoretical Analysis:\n"
   ]
  },
  {
   "cell_type": "markdown",
   "id": "71956ce2",
   "metadata": {},
   "source": [
    "total time consumed will be of order k1+k2+k*n*n+k5 <=(k+1)n^2\n",
    "Thus it is of the order n^2\n",
    "therefore written as O(n^2)\n",
    "Always the highest degree is considered while evaluating bog o notation."
   ]
  },
  {
   "cell_type": "markdown",
   "id": "62049213",
   "metadata": {},
   "source": [
    "# Big O Notation:"
   ]
  },
  {
   "cell_type": "markdown",
   "id": "a3f8651d",
   "metadata": {},
   "source": [
    "Expresses the runtime of an algorithm in terms of how quickly it grows relative to the input."
   ]
  },
  {
   "cell_type": "markdown",
   "id": "0eef524e",
   "metadata": {},
   "source": [
    "Used to compare two algorithms."
   ]
  },
  {
   "cell_type": "markdown",
   "id": "6515c2c3",
   "metadata": {},
   "source": [
    "Three types:\n",
    "    BestCase (Ω)\n",
    "    Average Case (ϴ)\n",
    "    Worst Case (O)"
   ]
  },
  {
   "cell_type": "markdown",
   "id": "2f97b42d",
   "metadata": {},
   "source": [
    "Generally we use worst case complexity for our algorithm.\n"
   ]
  },
  {
   "cell_type": "markdown",
   "id": "6d0bb833",
   "metadata": {},
   "source": [
    "# Rules for calculating Time Complexity:\n"
   ]
  },
  {
   "cell_type": "markdown",
   "id": "099f64c9",
   "metadata": {},
   "source": [
    "1.Only consider the highest degree\n",
    "\n"
   ]
  },
  {
   "cell_type": "markdown",
   "id": "3b46391d",
   "metadata": {},
   "source": [
    "2.Drop the constants."
   ]
  },
  {
   "cell_type": "code",
   "execution_count": 10,
   "id": "0538993d",
   "metadata": {},
   "outputs": [
    {
     "name": "stdout",
     "output_type": "stream",
     "text": [
      "Hello\n"
     ]
    }
   ],
   "source": [
    "#Example1\n",
    "print(\"Hello\")  #c1 time=constant=O(c)=o(1)"
   ]
  },
  {
   "cell_type": "code",
   "execution_count": 11,
   "id": "f8325eed",
   "metadata": {},
   "outputs": [
    {
     "name": "stdout",
     "output_type": "stream",
     "text": [
      "Hi\n",
      "hey\n",
      "hello\n"
     ]
    }
   ],
   "source": [
    "#Example2\n",
    "print(\"Hi\") #c1\n",
    "print(\"hey\") #c2\n",
    "print(\"hello\")#c3\n",
    "\n",
    "#c1+c2+c3=o(c)=O(1)"
   ]
  },
  {
   "cell_type": "code",
   "execution_count": 12,
   "id": "7c61ad28",
   "metadata": {},
   "outputs": [
    {
     "name": "stdout",
     "output_type": "stream",
     "text": [
      "hello\n",
      "hello\n",
      "hello\n",
      "hello\n",
      "hello\n",
      "hello\n",
      "hello\n",
      "hello\n",
      "hello\n",
      "hello\n"
     ]
    }
   ],
   "source": [
    "#Example3\n",
    "n=10 #c1\n",
    "for i in range(n): #c2\n",
    "    print(\"hello\")   #n*c3\n",
    "    \n",
    "#tc=c1+c2+n*c3=n*c3+ K=O(n)"
   ]
  },
  {
   "cell_type": "code",
   "execution_count": 13,
   "id": "39a1b2bd",
   "metadata": {},
   "outputs": [
    {
     "name": "stdout",
     "output_type": "stream",
     "text": [
      "hello\n",
      "hello\n",
      "hello\n",
      "hello\n",
      "hello\n",
      "hello\n",
      "hello\n",
      "hello\n",
      "hello\n",
      "hello\n",
      "hi\n",
      "hi\n",
      "hi\n",
      "hi\n",
      "hi\n",
      "hi\n",
      "hi\n",
      "hi\n",
      "hi\n",
      "hi\n",
      "hi\n",
      "hi\n",
      "hi\n",
      "hi\n",
      "hi\n",
      "hi\n",
      "hi\n",
      "hi\n",
      "hi\n",
      "hi\n"
     ]
    }
   ],
   "source": [
    "#Example4\n",
    "m=20#c1\n",
    "n=10#c2\n",
    "for i in range(n):#c3\n",
    "    print(\"hello\")#n*c4\n",
    "for i in range(m):#c5\n",
    "    print(\"hi\")#m*c6\n",
    "    \n",
    "#tc=c+c4*n+m*c6=O(n+m)"
   ]
  },
  {
   "cell_type": "code",
   "execution_count": 14,
   "id": "40fa4f65",
   "metadata": {},
   "outputs": [
    {
     "name": "stdout",
     "output_type": "stream",
     "text": [
      "hey\n",
      "python\n",
      "python\n",
      "python\n",
      "python\n",
      "python\n",
      "python\n",
      "python\n",
      "python\n",
      "python\n",
      "python\n",
      "python\n",
      "python\n",
      "python\n",
      "python\n",
      "python\n",
      "python\n",
      "python\n",
      "python\n",
      "python\n",
      "python\n",
      "hey\n",
      "python\n",
      "python\n",
      "python\n",
      "python\n",
      "python\n",
      "python\n",
      "python\n",
      "python\n",
      "python\n",
      "python\n",
      "python\n",
      "python\n",
      "python\n",
      "python\n",
      "python\n",
      "python\n",
      "python\n",
      "python\n",
      "python\n",
      "python\n",
      "hey\n",
      "python\n",
      "python\n",
      "python\n",
      "python\n",
      "python\n",
      "python\n",
      "python\n",
      "python\n",
      "python\n",
      "python\n",
      "python\n",
      "python\n",
      "python\n",
      "python\n",
      "python\n",
      "python\n",
      "python\n",
      "python\n",
      "python\n",
      "python\n",
      "hey\n",
      "python\n",
      "python\n",
      "python\n",
      "python\n",
      "python\n",
      "python\n",
      "python\n",
      "python\n",
      "python\n",
      "python\n",
      "python\n",
      "python\n",
      "python\n",
      "python\n",
      "python\n",
      "python\n",
      "python\n",
      "python\n",
      "python\n",
      "python\n",
      "hey\n",
      "python\n",
      "python\n",
      "python\n",
      "python\n",
      "python\n",
      "python\n",
      "python\n",
      "python\n",
      "python\n",
      "python\n",
      "python\n",
      "python\n",
      "python\n",
      "python\n",
      "python\n",
      "python\n",
      "python\n",
      "python\n",
      "python\n",
      "python\n",
      "hey\n",
      "python\n",
      "python\n",
      "python\n",
      "python\n",
      "python\n",
      "python\n",
      "python\n",
      "python\n",
      "python\n",
      "python\n",
      "python\n",
      "python\n",
      "python\n",
      "python\n",
      "python\n",
      "python\n",
      "python\n",
      "python\n",
      "python\n",
      "python\n",
      "hey\n",
      "python\n",
      "python\n",
      "python\n",
      "python\n",
      "python\n",
      "python\n",
      "python\n",
      "python\n",
      "python\n",
      "python\n",
      "python\n",
      "python\n",
      "python\n",
      "python\n",
      "python\n",
      "python\n",
      "python\n",
      "python\n",
      "python\n",
      "python\n",
      "hey\n",
      "python\n",
      "python\n",
      "python\n",
      "python\n",
      "python\n",
      "python\n",
      "python\n",
      "python\n",
      "python\n",
      "python\n",
      "python\n",
      "python\n",
      "python\n",
      "python\n",
      "python\n",
      "python\n",
      "python\n",
      "python\n",
      "python\n",
      "python\n",
      "hey\n",
      "python\n",
      "python\n",
      "python\n",
      "python\n",
      "python\n",
      "python\n",
      "python\n",
      "python\n",
      "python\n",
      "python\n",
      "python\n",
      "python\n",
      "python\n",
      "python\n",
      "python\n",
      "python\n",
      "python\n",
      "python\n",
      "python\n",
      "python\n",
      "hey\n",
      "python\n",
      "python\n",
      "python\n",
      "python\n",
      "python\n",
      "python\n",
      "python\n",
      "python\n",
      "python\n",
      "python\n",
      "python\n",
      "python\n",
      "python\n",
      "python\n",
      "python\n",
      "python\n",
      "python\n",
      "python\n",
      "python\n",
      "python\n"
     ]
    }
   ],
   "source": [
    "#example5\n",
    "for i in range(n): #c1\n",
    "    print(\"hey\") #n*c2\n",
    "    for i in range(m):#c3*n\n",
    "        print(\"python\")#c4*n*m\n",
    "        \n",
    "#tc=c1+c2*n+c3*n+c4*n*m=O(n*m)"
   ]
  },
  {
   "cell_type": "code",
   "execution_count": 15,
   "id": "8500e5fe",
   "metadata": {},
   "outputs": [
    {
     "name": "stdout",
     "output_type": "stream",
     "text": [
      "hello\n",
      "hello\n",
      "hello\n",
      "hello\n",
      "hello\n",
      "hello\n",
      "hello\n",
      "hello\n",
      "hello\n",
      "hello\n"
     ]
    }
   ],
   "source": [
    "#Exampl6\n",
    "if n==m: #c1\n",
    "    print(\"swaraj\") #c2\n",
    "else: #c3\n",
    "    for i in range(min(n,m)):#c4\n",
    "        print(\"hello\")\n",
    "\n",
    "#tc=O(min(n,m))"
   ]
  },
  {
   "cell_type": "markdown",
   "id": "8de91ea0",
   "metadata": {},
   "source": [
    "# Big O Complexity Graph"
   ]
  },
  {
   "cell_type": "markdown",
   "id": "52284bb2",
   "metadata": {},
   "source": [
    "<img src=\"mypic.png\">"
   ]
  },
  {
   "cell_type": "markdown",
   "id": "8329d397",
   "metadata": {},
   "source": [
    "Graph tells how an algorithm grows as input is changed.\n"
   ]
  },
  {
   "cell_type": "markdown",
   "id": "be959616",
   "metadata": {},
   "source": [
    "# Miscellaneous examples"
   ]
  },
  {
   "cell_type": "code",
   "execution_count": 1,
   "id": "561729b7",
   "metadata": {},
   "outputs": [
    {
     "name": "stdout",
     "output_type": "stream",
     "text": [
      "hi\n",
      "hi\n",
      "hi\n",
      "hi\n",
      "hi\n",
      "hi\n",
      "hi\n",
      "hi\n",
      "hi\n",
      "hi\n"
     ]
    }
   ],
   "source": [
    "#example 1\n",
    "n=1000\n",
    "while n>1:\n",
    "    print(\"hi\")\n",
    "    n/=2 \n",
    "#tc=O(log n)"
   ]
  },
  {
   "cell_type": "markdown",
   "id": "bd4704da",
   "metadata": {},
   "source": [
    "Since n=>n/2=>n/4=>n/8....=>n/2^x....1\n"
   ]
  },
  {
   "cell_type": "markdown",
   "id": "cd6c15b8",
   "metadata": {},
   "source": [
    "Thus when n/2^x=1<br>\n",
    "x=log2 n<br>\n",
    "Thus O(log2 n)<br>"
   ]
  },
  {
   "cell_type": "code",
   "execution_count": 3,
   "id": "5e8092ce",
   "metadata": {},
   "outputs": [
    {
     "name": "stdout",
     "output_type": "stream",
     "text": [
      "hey\n",
      "hey\n",
      "hey\n",
      "hey\n",
      "hey\n",
      "hey\n",
      "hey\n",
      "hey\n",
      "hey\n",
      "hey\n"
     ]
    }
   ],
   "source": [
    "#example2\n",
    "n=1000\n",
    "i=1\n",
    "while i<n:\n",
    "    print(\"hey\")\n",
    "    i*=2\n"
   ]
  },
  {
   "cell_type": "markdown",
   "id": "1eed378e",
   "metadata": {},
   "source": [
    "1=>2=>2^2=>2^3=>2^4=>2^5=>2^6=>2^7=>2^8=>2^9<br>\n",
    "2^x=n<br>\n",
    "x=log2 n<br>\n",
    "tc=O(log2 n)"
   ]
  },
  {
   "cell_type": "code",
   "execution_count": 6,
   "id": "a19bb494",
   "metadata": {},
   "outputs": [
    {
     "name": "stdout",
     "output_type": "stream",
     "text": [
      "4\n"
     ]
    }
   ],
   "source": [
    "#example3\n",
    "s=0\n",
    "i=1\n",
    "cnt=0\n",
    "while s<10:\n",
    "    s+=i\n",
    "    i+=1\n",
    "    cnt+=1\n",
    "print(cnt)"
   ]
  },
  {
   "cell_type": "markdown",
   "id": "629dfe1c",
   "metadata": {},
   "source": [
    "tc=O(root(n))"
   ]
  },
  {
   "cell_type": "markdown",
   "id": "660791b1",
   "metadata": {},
   "source": [
    "# Important time complexities:"
   ]
  },
  {
   "cell_type": "markdown",
   "id": "28f0152e",
   "metadata": {},
   "source": [
    "O(1) < O(log n) < O(root(n)) < O(n) < O(nlog n) < O(n^2) < O(n^3) < O(2^n) < O(n!) < O(n^n)"
   ]
  }
 ],
 "metadata": {
  "kernelspec": {
   "display_name": "Python 3 (ipykernel)",
   "language": "python",
   "name": "python3"
  },
  "language_info": {
   "codemirror_mode": {
    "name": "ipython",
    "version": 3
   },
   "file_extension": ".py",
   "mimetype": "text/x-python",
   "name": "python",
   "nbconvert_exporter": "python",
   "pygments_lexer": "ipython3",
   "version": "3.9.1"
  }
 },
 "nbformat": 4,
 "nbformat_minor": 5
}
