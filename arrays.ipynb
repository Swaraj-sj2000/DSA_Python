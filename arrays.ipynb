{
 "cells": [
  {
   "cell_type": "raw",
   "id": "a4a63f7b",
   "metadata": {},
   "source": [
    "Contiguous memory of arrays refers to a way of organizing memory in a computer's memory hierarchy such that elements of an array are stored in a contiguous block of memory. This means that each element of the array is located in memory at a fixed offset from the beginning of the array."
   ]
  },
  {
   "cell_type": "raw",
   "id": "df5207e7",
   "metadata": {},
   "source": [
    "advantages of contiguous storage:\n",
    "    helps to calculate location of every element easily\n",
    "    "
   ]
  },
  {
   "cell_type": "raw",
   "id": "bb8d22d4",
   "metadata": {},
   "source": [
    "lists can be treated as arrays but not vice versa, since lists contain multiple datatypes but arrays only contains single type"
   ]
  },
  {
   "cell_type": "raw",
   "id": "6d7a6e84",
   "metadata": {},
   "source": [
    "array is allocated with some location = the location of its 1st element.\n",
    "the index of an element represents the offset of it from the array location.\n",
    "The space taken by the array is of the order O(n) since it offers locaation as M1+index\n",
    "The memory of each element of an array is of O(1) since constant alloctaion."
   ]
  },
  {
   "cell_type": "markdown",
   "id": "72320118",
   "metadata": {},
   "source": [
    "# Arrays in python:\n"
   ]
  },
  {
   "cell_type": "code",
   "execution_count": 14,
   "id": "1b2fe54e",
   "metadata": {},
   "outputs": [
    {
     "name": "stdout",
     "output_type": "stream",
     "text": [
      "array('d', [2.0, 5.0, 3.0])\n",
      "2.0\n",
      "5.0\n",
      "3.0\n"
     ]
    }
   ],
   "source": [
    "import array as arr\n",
    "a=arr.array('d',[2,5,3])  #arr.array(datatype,values)\n",
    "print(a)\n",
    "for i in a:\n",
    "    print(i)"
   ]
  },
  {
   "cell_type": "markdown",
   "id": "37595eb9",
   "metadata": {},
   "source": [
    "## datatypes in an array:"
   ]
  },
  {
   "cell_type": "raw",
   "id": "8ce90766",
   "metadata": {},
   "source": [
    "symbol      |  datatypes          | size by element\n",
    "---------------------------------------------------\n",
    "'b'         | signed characters   | 1 byte\n",
    "'B'         | unsigned characters | 1 byte\n",
    "'u'         | unicode character   | 2 bytes\n",
    "'h' or 'H'  | short               | 2 bytes\n",
    "'i' or 'I'  | int                 | 4 bytes\n",
    "'l' or 'L'  | Long                | 4 bytes\n",
    "'q' or 'Q'  | Long Long           | 8 bytes\n",
    "'f'         | float               | 4 bytes\n",
    "'d'         | double              | 8 bytes"
   ]
  },
  {
   "cell_type": "markdown",
   "id": "b4b3cc33",
   "metadata": {},
   "source": [
    "# adding elements in an array:\n"
   ]
  },
  {
   "cell_type": "raw",
   "id": "456553d5",
   "metadata": {},
   "source": [
    "a.insert(index,value)\n",
    "append(value)"
   ]
  },
  {
   "cell_type": "code",
   "execution_count": 15,
   "id": "6244db98",
   "metadata": {},
   "outputs": [
    {
     "name": "stdout",
     "output_type": "stream",
     "text": [
      "array('f', [1.0, 2.0, 3.0, 4.0, 5.0, 6.0])\n",
      "array('f', [1.0, 4.0, 2.0, 3.0, 4.0, 5.0, 6.0])\n",
      "array('f', [1.0, 4.0, 2.0, 3.0, 4.0, 5.0, 6.0, 10.0])\n"
     ]
    }
   ],
   "source": [
    "import array as arr\n",
    "def pr(a):\n",
    "    print(a)\n",
    "    \n",
    "a=arr.array('f',[1,2,3,4,5,6])\n",
    "pr(a)\n",
    "a.insert(1,4)\n",
    "pr(a)\n",
    "a.append(10)\n",
    "pr(a)"
   ]
  },
  {
   "cell_type": "code",
   "execution_count": 16,
   "id": "68a02185",
   "metadata": {},
   "outputs": [
    {
     "name": "stdout",
     "output_type": "stream",
     "text": [
      "3.0\n"
     ]
    }
   ],
   "source": [
    "print(a[3])"
   ]
  },
  {
   "cell_type": "code",
   "execution_count": 17,
   "id": "5593256b",
   "metadata": {},
   "outputs": [
    {
     "name": "stdout",
     "output_type": "stream",
     "text": [
      "array('f', [2.0, 3.0, 4.0])\n"
     ]
    }
   ],
   "source": [
    "print(a[2:5])"
   ]
  },
  {
   "cell_type": "code",
   "execution_count": 18,
   "id": "05885b6d",
   "metadata": {},
   "outputs": [
    {
     "name": "stdout",
     "output_type": "stream",
     "text": [
      "array('f', [2.0, 4.0])\n"
     ]
    }
   ],
   "source": [
    "print(a[2:5:2])"
   ]
  },
  {
   "cell_type": "markdown",
   "id": "dbe0bead",
   "metadata": {},
   "source": [
    "# removing elements from array:"
   ]
  },
  {
   "cell_type": "raw",
   "id": "82d6478c",
   "metadata": {},
   "source": [
    "remove(element):removes an element specified\n",
    "pop():removes the last element from the array"
   ]
  },
  {
   "cell_type": "code",
   "execution_count": 19,
   "id": "f9fc1125",
   "metadata": {},
   "outputs": [
    {
     "name": "stdout",
     "output_type": "stream",
     "text": [
      "array('f', [1.0, 4.0, 3.0, 4.0, 5.0, 6.0, 10.0])\n"
     ]
    }
   ],
   "source": [
    "a.remove(2)\n",
    "pr(a)"
   ]
  },
  {
   "cell_type": "code",
   "execution_count": 20,
   "id": "a12270de",
   "metadata": {},
   "outputs": [
    {
     "name": "stdout",
     "output_type": "stream",
     "text": [
      "array('f', [1.0, 4.0, 3.0, 4.0, 5.0, 6.0])\n"
     ]
    }
   ],
   "source": [
    "a.pop()\n",
    "pr(a)"
   ]
  },
  {
   "cell_type": "code",
   "execution_count": 21,
   "id": "3feca034",
   "metadata": {},
   "outputs": [],
   "source": [
    "a.append(0)\n",
    "a.append(2)"
   ]
  },
  {
   "cell_type": "code",
   "execution_count": 29,
   "id": "e77a2694",
   "metadata": {},
   "outputs": [
    {
     "name": "stdout",
     "output_type": "stream",
     "text": [
      "[(1.0, 4.0), (1.0, 4.0), (3.0, 2.0), (5.0, 0.0)]\n"
     ]
    }
   ],
   "source": [
    " def findpair(arr,s):\n",
    "        t=[]\n",
    "        for i in range(len(arr)):\n",
    "            for j in range(i+1,len(arr)):\n",
    "                if arr[i]+arr[j]==s:\n",
    "                    t.append((arr[i],arr[j]))\n",
    "        return t\n",
    "t=findpair(a,5)\n",
    "print(t)\n"
   ]
  },
  {
   "cell_type": "code",
   "execution_count": 30,
   "id": "f435fc76",
   "metadata": {},
   "outputs": [],
   "source": [
    "def sumofmax_min(arr):\n",
    "    return max(arr)+min(arr)"
   ]
  },
  {
   "cell_type": "code",
   "execution_count": 31,
   "id": "3ce04b21",
   "metadata": {},
   "outputs": [
    {
     "name": "stdout",
     "output_type": "stream",
     "text": [
      "6.0\n"
     ]
    }
   ],
   "source": [
    "print(sumofmax_min(a))"
   ]
  },
  {
   "cell_type": "code",
   "execution_count": 32,
   "id": "107e0fd3",
   "metadata": {},
   "outputs": [
    {
     "name": "stdout",
     "output_type": "stream",
     "text": [
      "array('f', [1.0, 4.0, 3.0, 4.0, 5.0, 6.0, 0.0, 2.0])\n"
     ]
    }
   ],
   "source": [
    "print(a)"
   ]
  },
  {
   "cell_type": "code",
   "execution_count": 54,
   "id": "3ea2d1d5",
   "metadata": {},
   "outputs": [],
   "source": [
    "l1= list(i for i in a)"
   ]
  },
  {
   "cell_type": "code",
   "execution_count": 55,
   "id": "9d05f6a2",
   "metadata": {},
   "outputs": [
    {
     "name": "stdout",
     "output_type": "stream",
     "text": [
      "[1.0, 4.0, 3.0, 4.0, 5.0, 6.0, 0.0, 2.0]\n"
     ]
    }
   ],
   "source": [
    "print(l1)"
   ]
  },
  {
   "cell_type": "code",
   "execution_count": 37,
   "id": "34af0d81",
   "metadata": {},
   "outputs": [],
   "source": [
    "l1.sort()"
   ]
  },
  {
   "cell_type": "code",
   "execution_count": 38,
   "id": "b99bc2c5",
   "metadata": {},
   "outputs": [
    {
     "name": "stdout",
     "output_type": "stream",
     "text": [
      "[0.0, 1.0, 2.0, 3.0, 4.0, 4.0, 5.0, 6.0]\n"
     ]
    }
   ],
   "source": [
    "print(l1)"
   ]
  },
  {
   "cell_type": "code",
   "execution_count": 42,
   "id": "205e6f10",
   "metadata": {},
   "outputs": [],
   "source": [
    "l1.sort(reverse=True)"
   ]
  },
  {
   "cell_type": "code",
   "execution_count": 43,
   "id": "1afedc7d",
   "metadata": {},
   "outputs": [
    {
     "name": "stdout",
     "output_type": "stream",
     "text": [
      "[6.0, 5.0, 4.0, 4.0, 3.0, 2.0, 1.0, 0.0]\n"
     ]
    }
   ],
   "source": [
    "print(l1)"
   ]
  },
  {
   "cell_type": "code",
   "execution_count": 52,
   "id": "695a34f1",
   "metadata": {},
   "outputs": [],
   "source": [
    "arr=[[3,1],[0.5,2],[1,3]]\n",
    "arr.sort()"
   ]
  },
  {
   "cell_type": "code",
   "execution_count": 53,
   "id": "000d5ef5",
   "metadata": {},
   "outputs": [
    {
     "name": "stdout",
     "output_type": "stream",
     "text": [
      "[[0.5, 2], [1, 3], [3, 1]]\n"
     ]
    }
   ],
   "source": [
    "print(arr)"
   ]
  },
  {
   "cell_type": "code",
   "execution_count": 56,
   "id": "953d7890",
   "metadata": {},
   "outputs": [
    {
     "data": {
      "text/plain": [
       "[1.0, 4.0, 3.0, 4.0, 5.0, 6.0, 0.0, 2.0]"
      ]
     },
     "execution_count": 56,
     "metadata": {},
     "output_type": "execute_result"
    }
   ],
   "source": [
    "l1"
   ]
  },
  {
   "cell_type": "code",
   "execution_count": 59,
   "id": "4fcf32fc",
   "metadata": {},
   "outputs": [],
   "source": [
    "l1.reverse()"
   ]
  },
  {
   "cell_type": "code",
   "execution_count": 60,
   "id": "9bb2d805",
   "metadata": {},
   "outputs": [
    {
     "name": "stdout",
     "output_type": "stream",
     "text": [
      "[2.0, 0.0, 6.0, 5.0, 4.0, 3.0, 4.0, 1.0]\n"
     ]
    }
   ],
   "source": [
    "print(l1)"
   ]
  },
  {
   "cell_type": "code",
   "execution_count": 61,
   "id": "dcddf10a",
   "metadata": {},
   "outputs": [],
   "source": [
    "l2=l1[::-1]"
   ]
  },
  {
   "cell_type": "code",
   "execution_count": 62,
   "id": "d6f678e7",
   "metadata": {},
   "outputs": [
    {
     "name": "stdout",
     "output_type": "stream",
     "text": [
      "[1.0, 4.0, 3.0, 4.0, 5.0, 6.0, 0.0, 2.0]\n"
     ]
    }
   ],
   "source": [
    "print(l2)"
   ]
  },
  {
   "cell_type": "markdown",
   "id": "2cae3bfb",
   "metadata": {},
   "source": [
    "# 2d array:"
   ]
  },
  {
   "cell_type": "code",
   "execution_count": 71,
   "id": "52a613f6",
   "metadata": {},
   "outputs": [],
   "source": [
    "a=[[1,2,3],[4,5,6],[7,8,9]]"
   ]
  },
  {
   "cell_type": "markdown",
   "id": "41ce3ebd",
   "metadata": {},
   "source": [
    "<img src=\"row-major-2D.png\">"
   ]
  },
  {
   "cell_type": "markdown",
   "id": "0db9c1fd",
   "metadata": {},
   "source": [
    "so the elements are arranged linearly inmemory for a 2d array just like a normal array however the method of accessing the elements differ."
   ]
  },
  {
   "cell_type": "code",
   "execution_count": 72,
   "id": "93a0b6e5",
   "metadata": {},
   "outputs": [
    {
     "name": "stdout",
     "output_type": "stream",
     "text": [
      "1 2 3 \n",
      "4 5 6 \n",
      "7 8 9 \n"
     ]
    }
   ],
   "source": [
    "for i in range(len(a)):\n",
    "    for j in range(len(a[0])):\n",
    "        print(a[i][j],end=\" \")\n",
    "    print()"
   ]
  },
  {
   "cell_type": "code",
   "execution_count": 74,
   "id": "5b69be7f",
   "metadata": {},
   "outputs": [],
   "source": [
    "a[1][2]=10"
   ]
  },
  {
   "cell_type": "code",
   "execution_count": 75,
   "id": "a53feb7b",
   "metadata": {},
   "outputs": [
    {
     "name": "stdout",
     "output_type": "stream",
     "text": [
      "1 2 3 \n",
      "4 5 10 \n",
      "7 8 9 \n"
     ]
    }
   ],
   "source": [
    "for i in range(len(a)):\n",
    "    for j in range(len(a[0])):\n",
    "        print(a[i][j],end=\" \")\n",
    "    print()"
   ]
  },
  {
   "cell_type": "code",
   "execution_count": 76,
   "id": "54084498",
   "metadata": {},
   "outputs": [],
   "source": [
    "del(a[1][2])"
   ]
  },
  {
   "cell_type": "code",
   "execution_count": 78,
   "id": "210cea46",
   "metadata": {},
   "outputs": [
    {
     "name": "stdout",
     "output_type": "stream",
     "text": [
      "1 2 3 \n",
      "4 5 \n",
      "7 8 9 \n"
     ]
    }
   ],
   "source": [
    "for i in range(len(a)):\n",
    "    for j in range(len(a[0])):\n",
    "        if i==1 and j==2:\n",
    "            continue\n",
    "        print(a[i][j],end=\" \")\n",
    "    print()"
   ]
  },
  {
   "cell_type": "markdown",
   "id": "b1630785",
   "metadata": {},
   "source": [
    "## Reverse an array:\n"
   ]
  },
  {
   "cell_type": "markdown",
   "id": "0769993e",
   "metadata": {},
   "source": [
    "Given an array of integers and a position 'm'. Arrange the array in reverse order after that position."
   ]
  },
  {
   "cell_type": "code",
   "execution_count": 83,
   "id": "5c641e9d",
   "metadata": {},
   "outputs": [],
   "source": [
    "def rev(arr,m):\n",
    "    return arr[0:m+1]+arr[:m:-1]"
   ]
  },
  {
   "cell_type": "code",
   "execution_count": 84,
   "id": "06c152d5",
   "metadata": {},
   "outputs": [
    {
     "name": "stdout",
     "output_type": "stream",
     "text": [
      "[1, 2, 3, 4, 6, 5]\n"
     ]
    }
   ],
   "source": [
    "a=[1,2,3,4,5,6]\n",
    "m=3\n",
    "print(rev(a,m))"
   ]
  },
  {
   "cell_type": "markdown",
   "id": "fef53a47",
   "metadata": {},
   "source": [
    "# Intersection of two sorted arrays  "
   ]
  },
  {
   "cell_type": "markdown",
   "id": "fde7f2b6",
   "metadata": {},
   "source": [
    "#### Given two arrays A and B of size 'n'  and 'm' respectively. Both these are sorted in non decreasing order. You have to find the intersection of these two arrays"
   ]
  },
  {
   "cell_type": "raw",
   "id": "18a412b3",
   "metadata": {},
   "source": [
    "1.initialise pointers for both the arrays \n",
    "2.if the current element of both the arrays are same then append that element to the intersection array.\n",
    "3.if element of arr1<arr2 increment pointer for arr1\n",
    "4.if element of arr1>arr2 then increment pointer for arr2"
   ]
  },
  {
   "cell_type": "code",
   "execution_count": 3,
   "id": "45ab5eec",
   "metadata": {},
   "outputs": [],
   "source": [
    "def find_int(arr1,arr2):\n",
    "    i,j=0,0\n",
    "    r=[]\n",
    "    while i<len(arr1) and j<len(arr2):\n",
    "        if arr1[i]==arr2[j]:\n",
    "            r.append(arr1[i])\n",
    "            i+=1\n",
    "            j+=1\n",
    "        elif arr1[i]<arr2[j]:\n",
    "            i+=1\n",
    "            \n",
    "        else:j+=1\n",
    "            \n",
    "    return r\n",
    "            "
   ]
  },
  {
   "cell_type": "code",
   "execution_count": 5,
   "id": "27e9b008",
   "metadata": {},
   "outputs": [
    {
     "name": "stdout",
     "output_type": "stream",
     "text": [
      "[2, 3, 5, 7]\n"
     ]
    }
   ],
   "source": [
    "a=[1,1,2,3,5,5,7,8,9,9,9,10]\n",
    "b=[2,3,5,7,11]\n",
    "print(find_int(a,b))"
   ]
  },
  {
   "cell_type": "markdown",
   "id": "15223d1d",
   "metadata": {},
   "source": [
    "#### You have been given an int array of size 'm'. it contains only 0 1 2 .write a solution to sort this arraylist."
   ]
  },
  {
   "cell_type": "code",
   "execution_count": 9,
   "id": "ac97c9e0",
   "metadata": {},
   "outputs": [],
   "source": [
    "#brute approach:\n",
    "def sort_012(arr):\n",
    "    a=arr.count(0)\n",
    "    b=arr.count(1)\n",
    "    c=arr.count(2)\n",
    "    \n",
    "    l1=[]\n",
    "    for i in range(a):\n",
    "        l1.append(0)\n",
    "    for i in range(b):\n",
    "        l1.append(1)\n",
    "    for i in range(c):\n",
    "        l1.append(2)\n",
    "    return l1"
   ]
  },
  {
   "cell_type": "code",
   "execution_count": 10,
   "id": "58048951",
   "metadata": {},
   "outputs": [
    {
     "data": {
      "text/plain": [
       "[0, 0, 0, 0, 1, 1, 1, 1, 2, 2]"
      ]
     },
     "execution_count": 10,
     "metadata": {},
     "output_type": "execute_result"
    }
   ],
   "source": [
    "a=[0,1,0,1,1,2,0,1,0,2]\n",
    "\n",
    "sort_012(a)\n"
   ]
  },
  {
   "cell_type": "markdown",
   "id": "bbef18f5",
   "metadata": {},
   "source": [
    "##### optimised approach"
   ]
  },
  {
   "cell_type": "raw",
   "id": "82406770",
   "metadata": {},
   "source": [
    "The algorithm works by dividing the array into three partitions based on the value of the elements - elements less than 0, elements equal to 1, and elements greater than 2. It then uses three pointers - low, mid, and high - to keep track of the current positions of these partitions.\n",
    "\n",
    "Starting with the mid pointer, the algorithm checks the value of each element in the array and moves it to the appropriate partition by swapping elements and updating the pointers. Specifically:\n",
    "\n",
    "If the value of the element is 0, it is moved to the left partition by swapping it with the element at the low pointer, and then the low and mid pointers are incremented.\n",
    "\n",
    "If the value of the element is 1, it is already in the middle partition, so the mid pointer is simply incremented.\n",
    "\n",
    "If the value of the element is 2, it is moved to the right partition by swapping it with the element at the high pointer, and then the high pointer is decremented.\n",
    "\n",
    "This process continues until the mid pointer reaches the high pointer, at which point the array is fully sorted."
   ]
  },
  {
   "cell_type": "code",
   "execution_count": 13,
   "id": "0781ddca",
   "metadata": {},
   "outputs": [],
   "source": [
    "def sort_012(arr):\n",
    "    a,b=0,0\n",
    "    c=len(arr)-1\n",
    "    while b<=c:\n",
    "        if arr[b]==0:\n",
    "            arr[b],arr[a]=arr[a],arr[b]\n",
    "            a+=1\n",
    "            b+=1\n",
    "        elif arr[b]==2:\n",
    "            arr[b],arr[c]=arr[c],arr[b]\n",
    "        \n",
    "            c-=1\n",
    "        else:\n",
    "            b+=1\n",
    "    return arr\n",
    "    "
   ]
  },
  {
   "cell_type": "code",
   "execution_count": 14,
   "id": "d858f460",
   "metadata": {},
   "outputs": [
    {
     "data": {
      "text/plain": [
       "[0, 0, 0, 0, 0, 0, 1, 1, 1, 1, 2, 2, 2]"
      ]
     },
     "execution_count": 14,
     "metadata": {},
     "output_type": "execute_result"
    }
   ],
   "source": [
    "arr=[1,0,2,0,0,1,0,1,2,2,0,0,1]\n",
    "sort_012(arr)"
   ]
  },
  {
   "cell_type": "code",
   "execution_count": 17,
   "id": "4a4c222e",
   "metadata": {},
   "outputs": [],
   "source": [
    "import numpy as np"
   ]
  },
  {
   "cell_type": "code",
   "execution_count": 18,
   "id": "68f2f41a",
   "metadata": {},
   "outputs": [],
   "source": [
    "arr=np.array({1,2,3,4,5,6})"
   ]
  },
  {
   "cell_type": "code",
   "execution_count": 19,
   "id": "2ab17314",
   "metadata": {},
   "outputs": [
    {
     "name": "stdout",
     "output_type": "stream",
     "text": [
      "{1, 2, 3, 4, 5, 6} <class 'numpy.ndarray'>\n"
     ]
    }
   ],
   "source": [
    "print(arr, type(arr))"
   ]
  },
  {
   "cell_type": "code",
   "execution_count": 28,
   "id": "91f110f0",
   "metadata": {},
   "outputs": [],
   "source": [
    "val=np.linspace(0,1,5)   #equal spaced elements from start to end-1 with given length"
   ]
  },
  {
   "cell_type": "code",
   "execution_count": 29,
   "id": "46de9d46",
   "metadata": {},
   "outputs": [
    {
     "name": "stdout",
     "output_type": "stream",
     "text": [
      "[0.   0.25 0.5  0.75 1.  ] <class 'numpy.ndarray'>\n"
     ]
    }
   ],
   "source": [
    "print(val,type(val))"
   ]
  },
  {
   "cell_type": "markdown",
   "id": "a6b20ffe",
   "metadata": {},
   "source": [
    "here the start was 0 end was 1 and no. of elements were 5"
   ]
  },
  {
   "cell_type": "code",
   "execution_count": 31,
   "id": "35da1be9",
   "metadata": {},
   "outputs": [
    {
     "name": "stdout",
     "output_type": "stream",
     "text": [
      "[1.00000000e+00 2.15443469e+03 4.64158883e+06 1.00000000e+10]\n"
     ]
    }
   ],
   "source": [
    "t1=np.logspace(0,10,4) #equal log distributions from start to stop with given no. of elements\n",
    "print(t1)"
   ]
  },
  {
   "cell_type": "code",
   "execution_count": 33,
   "id": "d08753c7",
   "metadata": {},
   "outputs": [
    {
     "name": "stdout",
     "output_type": "stream",
     "text": [
      "[ 1  4  7 10 13 16 19]\n"
     ]
    }
   ],
   "source": [
    "v2=np.arange(1,20,3) #start to end with given intervals\n",
    "print(v2)"
   ]
  },
  {
   "cell_type": "code",
   "execution_count": 36,
   "id": "1f54370e",
   "metadata": {},
   "outputs": [],
   "source": [
    "zer=np.zeros((6,3), int)"
   ]
  },
  {
   "cell_type": "code",
   "execution_count": 37,
   "id": "17ed216c",
   "metadata": {},
   "outputs": [
    {
     "name": "stdout",
     "output_type": "stream",
     "text": [
      "[[0 0 0]\n",
      " [0 0 0]\n",
      " [0 0 0]\n",
      " [0 0 0]\n",
      " [0 0 0]\n",
      " [0 0 0]]\n"
     ]
    }
   ],
   "source": [
    "print(zer)"
   ]
  },
  {
   "cell_type": "code",
   "execution_count": 38,
   "id": "41beb4b1",
   "metadata": {},
   "outputs": [],
   "source": [
    "onez=np.ones((2,3),int)"
   ]
  },
  {
   "cell_type": "code",
   "execution_count": 39,
   "id": "28819ff8",
   "metadata": {
    "scrolled": true
   },
   "outputs": [
    {
     "name": "stdout",
     "output_type": "stream",
     "text": [
      "[[1 1 1]\n",
      " [1 1 1]]\n"
     ]
    }
   ],
   "source": [
    "print(onez)"
   ]
  },
  {
   "cell_type": "markdown",
   "id": "8232f3d7",
   "metadata": {},
   "source": [
    "# Matrix:"
   ]
  },
  {
   "cell_type": "code",
   "execution_count": 69,
   "id": "ea4d0497",
   "metadata": {},
   "outputs": [],
   "source": [
    "arr=[[1,2,3],[4,5,6],[7,8,9],[10,11,12],[13,14,15]]\n"
   ]
  },
  {
   "cell_type": "code",
   "execution_count": 75,
   "id": "77e7d148",
   "metadata": {},
   "outputs": [
    {
     "data": {
      "text/plain": [
       "[[7, 8, 9], [10, 11, 12]]"
      ]
     },
     "execution_count": 75,
     "metadata": {},
     "output_type": "execute_result"
    }
   ],
   "source": [
    "arr[2:4]   #slicing returns another 2d list"
   ]
  },
  {
   "cell_type": "code",
   "execution_count": 76,
   "id": "0fd15c01",
   "metadata": {},
   "outputs": [
    {
     "data": {
      "text/plain": [
       "[7, 8, 9]"
      ]
     },
     "execution_count": 76,
     "metadata": {},
     "output_type": "execute_result"
    }
   ],
   "source": [
    "arr[2:4][0]"
   ]
  },
  {
   "cell_type": "code",
   "execution_count": 77,
   "id": "ebb2fb9b",
   "metadata": {},
   "outputs": [
    {
     "data": {
      "text/plain": [
       "8"
      ]
     },
     "execution_count": 77,
     "metadata": {},
     "output_type": "execute_result"
    }
   ],
   "source": [
    "arr[2:4][0][1]"
   ]
  },
  {
   "cell_type": "code",
   "execution_count": 78,
   "id": "88c04a67",
   "metadata": {},
   "outputs": [
    {
     "data": {
      "text/plain": [
       "11"
      ]
     },
     "execution_count": 78,
     "metadata": {},
     "output_type": "execute_result"
    }
   ],
   "source": [
    "arr[3][1]"
   ]
  },
  {
   "cell_type": "code",
   "execution_count": 80,
   "id": "b2f03cdb",
   "metadata": {},
   "outputs": [
    {
     "ename": "TypeError",
     "evalue": "array() argument 1 must be a unicode character, not list",
     "output_type": "error",
     "traceback": [
      "\u001b[1;31m---------------------------------------------------------------------------\u001b[0m",
      "\u001b[1;31mTypeError\u001b[0m                                 Traceback (most recent call last)",
      "\u001b[1;32m~\\AppData\\Local\\Temp\\ipykernel_15508\\2912803048.py\u001b[0m in \u001b[0;36m<module>\u001b[1;34m\u001b[0m\n\u001b[0;32m      1\u001b[0m \u001b[1;32mimport\u001b[0m \u001b[0marray\u001b[0m \u001b[1;32mas\u001b[0m \u001b[0marr\u001b[0m\u001b[1;33m\u001b[0m\u001b[1;33m\u001b[0m\u001b[0m\n\u001b[1;32m----> 2\u001b[1;33m \u001b[0ma\u001b[0m\u001b[1;33m=\u001b[0m\u001b[0marr\u001b[0m\u001b[1;33m.\u001b[0m\u001b[0marray\u001b[0m\u001b[1;33m(\u001b[0m\u001b[1;33m[\u001b[0m\u001b[1;33m[\u001b[0m\u001b[1;36m1\u001b[0m\u001b[1;33m,\u001b[0m\u001b[1;36m2\u001b[0m\u001b[1;33m,\u001b[0m\u001b[1;36m3\u001b[0m\u001b[1;33m,\u001b[0m\u001b[1;36m4\u001b[0m\u001b[1;33m]\u001b[0m\u001b[1;33m,\u001b[0m\u001b[1;33m[\u001b[0m\u001b[1;36m2\u001b[0m\u001b[1;33m,\u001b[0m\u001b[1;36m3\u001b[0m\u001b[1;33m,\u001b[0m\u001b[1;36m4\u001b[0m\u001b[1;33m,\u001b[0m\u001b[1;36m5\u001b[0m\u001b[1;33m]\u001b[0m\u001b[1;33m]\u001b[0m\u001b[1;33m)\u001b[0m \u001b[1;31m#array module does not support multidimensional arrays\u001b[0m\u001b[1;33m\u001b[0m\u001b[1;33m\u001b[0m\u001b[0m\n\u001b[0m",
      "\u001b[1;31mTypeError\u001b[0m: array() argument 1 must be a unicode character, not list"
     ]
    }
   ],
   "source": [
    "import array as arr\n",
    "a=arr.array([[1,2,3,4],[2,3,4,5]]) #array module does not support multidimensional arrays"
   ]
  },
  {
   "cell_type": "code",
   "execution_count": 86,
   "id": "f38e2b83",
   "metadata": {},
   "outputs": [],
   "source": [
    "import numpy as np\n",
    "a=np.array([[1,2,0,4],[2,3,5,6]])   #numoy does support multidimensional array"
   ]
  },
  {
   "cell_type": "code",
   "execution_count": 87,
   "id": "891c365c",
   "metadata": {},
   "outputs": [
    {
     "name": "stdout",
     "output_type": "stream",
     "text": [
      "[[1 2 0 4]\n",
      " [2 3 5 6]]\n"
     ]
    }
   ],
   "source": [
    "print(a)"
   ]
  },
  {
   "cell_type": "code",
   "execution_count": null,
   "id": "7e1b786c",
   "metadata": {},
   "outputs": [],
   "source": []
  }
 ],
 "metadata": {
  "kernelspec": {
   "display_name": "Python 3 (ipykernel)",
   "language": "python",
   "name": "python3"
  },
  "language_info": {
   "codemirror_mode": {
    "name": "ipython",
    "version": 3
   },
   "file_extension": ".py",
   "mimetype": "text/x-python",
   "name": "python",
   "nbconvert_exporter": "python",
   "pygments_lexer": "ipython3",
   "version": "3.9.1"
  }
 },
 "nbformat": 4,
 "nbformat_minor": 5
}
