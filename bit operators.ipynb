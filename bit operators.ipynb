{
 "cells": [
  {
   "cell_type": "raw",
   "id": "6c5310e0",
   "metadata": {},
   "source": [
    "precedence of operators:\n",
    "    ()\n",
    "    **\n",
    "    *\n",
    "    +-"
   ]
  },
  {
   "cell_type": "raw",
   "id": "d8f4d730",
   "metadata": {},
   "source": [
    "associativity:\n",
    "    mul,div,+,-: left to right\n",
    "    **:right to left"
   ]
  },
  {
   "cell_type": "code",
   "execution_count": 1,
   "id": "3f5e8588",
   "metadata": {},
   "outputs": [
    {
     "name": "stdout",
     "output_type": "stream",
     "text": [
      "15\n"
     ]
    }
   ],
   "source": [
    "print(6*2+3)        #precedence"
   ]
  },
  {
   "cell_type": "code",
   "execution_count": 3,
   "id": "1451f82f",
   "metadata": {},
   "outputs": [
    {
     "name": "stdout",
     "output_type": "stream",
     "text": [
      "1.0\n"
     ]
    }
   ],
   "source": [
    "print(6/2/3)      #left to right associativity"
   ]
  },
  {
   "cell_type": "code",
   "execution_count": 5,
   "id": "77d67739",
   "metadata": {},
   "outputs": [
    {
     "name": "stdout",
     "output_type": "stream",
     "text": [
      "512\n"
     ]
    }
   ],
   "source": [
    "print(2**3**2)  #right to left associativity"
   ]
  },
  {
   "cell_type": "markdown",
   "id": "bf2c36c2",
   "metadata": {},
   "source": [
    "# Bit manipulation:"
   ]
  },
  {
   "cell_type": "code",
   "execution_count": 1,
   "id": "b5237875",
   "metadata": {},
   "outputs": [
    {
     "name": "stdout",
     "output_type": "stream",
     "text": [
      "2\n"
     ]
    }
   ],
   "source": [
    "x=10\n",
    "y=2\n",
    "print(x&y)"
   ]
  },
  {
   "cell_type": "code",
   "execution_count": 2,
   "id": "e903bc16",
   "metadata": {},
   "outputs": [
    {
     "name": "stdout",
     "output_type": "stream",
     "text": [
      "10\n"
     ]
    }
   ],
   "source": [
    "print(x|y)"
   ]
  },
  {
   "cell_type": "code",
   "execution_count": 3,
   "id": "5517d03f",
   "metadata": {},
   "outputs": [
    {
     "name": "stdout",
     "output_type": "stream",
     "text": [
      "2\n"
     ]
    }
   ],
   "source": [
    "z=3\n",
    "print(x&y&z)"
   ]
  },
  {
   "cell_type": "code",
   "execution_count": 4,
   "id": "1117e8d3",
   "metadata": {},
   "outputs": [
    {
     "name": "stdout",
     "output_type": "stream",
     "text": [
      "11\n"
     ]
    }
   ],
   "source": [
    "print(x|y|z)"
   ]
  },
  {
   "cell_type": "code",
   "execution_count": 5,
   "id": "4c080868",
   "metadata": {},
   "outputs": [
    {
     "name": "stdout",
     "output_type": "stream",
     "text": [
      "8\n"
     ]
    }
   ],
   "source": [
    " print(x^y)"
   ]
  },
  {
   "cell_type": "code",
   "execution_count": 6,
   "id": "dbc15c98",
   "metadata": {},
   "outputs": [
    {
     "name": "stdout",
     "output_type": "stream",
     "text": [
      "11\n"
     ]
    }
   ],
   "source": [
    "print(x^y^z)"
   ]
  },
  {
   "cell_type": "code",
   "execution_count": 16,
   "id": "efd45036",
   "metadata": {},
   "outputs": [
    {
     "name": "stdout",
     "output_type": "stream",
     "text": [
      "2048\n"
     ]
    }
   ],
   "source": [
    "m=8\n",
    "m=m<<8\n",
    "print(m)"
   ]
  },
  {
   "cell_type": "code",
   "execution_count": 17,
   "id": "296e0c4c",
   "metadata": {},
   "outputs": [],
   "source": [
    "m=m>>7"
   ]
  },
  {
   "cell_type": "code",
   "execution_count": 18,
   "id": "7dab55de",
   "metadata": {},
   "outputs": [
    {
     "name": "stdout",
     "output_type": "stream",
     "text": [
      "16\n"
     ]
    }
   ],
   "source": [
    "print(m)"
   ]
  },
  {
   "cell_type": "code",
   "execution_count": 19,
   "id": "1755ff92",
   "metadata": {},
   "outputs": [
    {
     "name": "stdout",
     "output_type": "stream",
     "text": [
      "-2\n"
     ]
    }
   ],
   "source": [
    "m=1\n",
    "print(~m)"
   ]
  },
  {
   "cell_type": "raw",
   "id": "3b4314c6",
   "metadata": {},
   "source": [
    "~(000000....01)\n",
    "=1111111....10\n",
    "msb=1 thus -ve\n",
    "2's complementing the rest of the bits\n",
    "1 0000...0000010\n",
    "=-2\n"
   ]
  },
  {
   "cell_type": "markdown",
   "id": "656a4246",
   "metadata": {},
   "source": [
    "## even or odd"
   ]
  },
  {
   "cell_type": "raw",
   "id": "56ee43c8",
   "metadata": {},
   "source": [
    "if lsb=1 then odd\n",
    "else even"
   ]
  },
  {
   "cell_type": "raw",
   "id": "269da864",
   "metadata": {},
   "source": [
    "thus if n & 1==1 odd\n",
    "else even\n"
   ]
  },
  {
   "cell_type": "code",
   "execution_count": 22,
   "id": "7a17b504",
   "metadata": {},
   "outputs": [
    {
     "name": "stdout",
     "output_type": "stream",
     "text": [
      "even\n"
     ]
    }
   ],
   "source": [
    "n=24\n",
    "if n&1==1:\n",
    "    print(\"odd\")\n",
    "else:print(\"even\")"
   ]
  },
  {
   "cell_type": "markdown",
   "id": "9e045d89",
   "metadata": {},
   "source": [
    "### check ith bit:\n"
   ]
  },
  {
   "cell_type": "raw",
   "id": "35a38394",
   "metadata": {},
   "source": [
    "use masking, i.e. if 2nd bit of 15 is to be seen\n",
    "15=1111\n",
    "so we and it with 0010\n",
    "we can create this mask by shift operators."
   ]
  },
  {
   "cell_type": "code",
   "execution_count": 34,
   "id": "a6fc07d1",
   "metadata": {},
   "outputs": [
    {
     "name": "stdout",
     "output_type": "stream",
     "text": [
      "2\n",
      "0\n"
     ]
    }
   ],
   "source": [
    "n=13\n",
    "i=2\n",
    "mask=1<<i-1    \n",
    "print(mask)             #i=2=> 1<<2-1 => 10 => 1101 & 10 =>0000\n",
    "print(n & mask >>i-1 ) if n & mask>0 else print(0)"
   ]
  },
  {
   "cell_type": "markdown",
   "id": "cb194a2a",
   "metadata": {},
   "source": [
    "### set ith bit:"
   ]
  },
  {
   "cell_type": "raw",
   "id": "0cd5600c",
   "metadata": {},
   "source": [
    "this time just or with the mask"
   ]
  },
  {
   "cell_type": "markdown",
   "id": "8567450d",
   "metadata": {},
   "source": [
    "### reset ith bit"
   ]
  },
  {
   "cell_type": "raw",
   "id": "594753c0",
   "metadata": {},
   "source": [
    "and with complement of the mask"
   ]
  },
  {
   "cell_type": "code",
   "execution_count": null,
   "id": "e04b5f64",
   "metadata": {},
   "outputs": [],
   "source": []
  }
 ],
 "metadata": {
  "kernelspec": {
   "display_name": "Python 3 (ipykernel)",
   "language": "python",
   "name": "python3"
  },
  "language_info": {
   "codemirror_mode": {
    "name": "ipython",
    "version": 3
   },
   "file_extension": ".py",
   "mimetype": "text/x-python",
   "name": "python",
   "nbconvert_exporter": "python",
   "pygments_lexer": "ipython3",
   "version": "3.9.1"
  }
 },
 "nbformat": 4,
 "nbformat_minor": 5
}
