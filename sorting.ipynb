{
 "cells": [
  {
   "cell_type": "raw",
   "id": "734c9885",
   "metadata": {},
   "source": [
    "Sorting in python:\n",
    "    buuble sort    :sorts from back\n",
    "    selection sort :sorts from front\n",
    "    insertion sort :sorts from  "
   ]
  },
  {
   "cell_type": "markdown",
   "id": "0331a07f",
   "metadata": {},
   "source": [
    "# Bubble sort"
   ]
  },
  {
   "cell_type": "code",
   "execution_count": 1,
   "id": "5221efb8",
   "metadata": {},
   "outputs": [],
   "source": [
    "num=[5,3,8,6,7,2]\n",
    "def bubble_sort(arr):\n",
    "    for i in range(len(arr)-1):\n",
    "        for j in range(len(arr)-1-i):\n",
    "            if arr[j]>arr[j+1]:\n",
    "                arr[j],arr[j+1]=arr[j+1],arr[j]\n",
    "    return arr"
   ]
  },
  {
   "cell_type": "code",
   "execution_count": 2,
   "id": "d4ee2111",
   "metadata": {
    "scrolled": true
   },
   "outputs": [
    {
     "name": "stdout",
     "output_type": "stream",
     "text": [
      "[2, 3, 5, 6, 7, 8]\n"
     ]
    }
   ],
   "source": [
    "print(bubble_sort(num))"
   ]
  },
  {
   "cell_type": "raw",
   "id": "05301eff",
   "metadata": {},
   "source": [
    "in bubble sort we arrange in a form that every iteration over the the array pushes the nth largest value to the nth position.\n",
    "\n",
    "like in first iteration of i 8 is pushed to last\n",
    "then 7 to second last\n",
    "6 to third last till sorted.\n",
    "\n",
    "therefore the complete traversal over the array is done for every element present to push it to its position from the last\n",
    "\n",
    "thus i is iterated from 0 to len(arr)-1 \n",
    "\n",
    "now every time a value is placed at its respective postion from the last we now iterate over the elements not sent to its position, thus after every iteration of i there are len(arr)-i values unsorted, thus j traverses from 0 to len(arr)-1-i\n",
    "\n",
    "to push every element to its position when j comes over it we check if its greater than its proceeding value and thus swap them if it is.\n",
    "\n",
    "otherwise we move to the next value."
   ]
  },
  {
   "cell_type": "markdown",
   "id": "7eabce2b",
   "metadata": {},
   "source": [
    "<img src=\"bubble-short.png\">"
   ]
  },
  {
   "cell_type": "markdown",
   "id": "2ecf7432",
   "metadata": {},
   "source": [
    "### To demonstrate the above diagram:"
   ]
  },
  {
   "cell_type": "code",
   "execution_count": 3,
   "id": "29d91b47",
   "metadata": {},
   "outputs": [],
   "source": [
    "num=[5,3,8,6,7,2]\n",
    "def bubble_sort(arr):\n",
    "    for i in range(len(arr)-1):\n",
    "        for j in range(len(arr)-1-i):\n",
    "            print(arr)\n",
    "            if arr[j]>arr[j+1]:\n",
    "                arr[j],arr[j+1]=arr[j+1],arr[j]   \n",
    "        print(\"*\")\n",
    "    return arr"
   ]
  },
  {
   "cell_type": "code",
   "execution_count": 4,
   "id": "a7b167fe",
   "metadata": {},
   "outputs": [
    {
     "name": "stdout",
     "output_type": "stream",
     "text": [
      "[5, 3, 8, 6, 7, 2]\n",
      "[3, 5, 8, 6, 7, 2]\n",
      "[3, 5, 8, 6, 7, 2]\n",
      "[3, 5, 6, 8, 7, 2]\n",
      "[3, 5, 6, 7, 8, 2]\n",
      "*\n",
      "[3, 5, 6, 7, 2, 8]\n",
      "[3, 5, 6, 7, 2, 8]\n",
      "[3, 5, 6, 7, 2, 8]\n",
      "[3, 5, 6, 7, 2, 8]\n",
      "*\n",
      "[3, 5, 6, 2, 7, 8]\n",
      "[3, 5, 6, 2, 7, 8]\n",
      "[3, 5, 6, 2, 7, 8]\n",
      "*\n",
      "[3, 5, 2, 6, 7, 8]\n",
      "[3, 5, 2, 6, 7, 8]\n",
      "*\n",
      "[3, 2, 5, 6, 7, 8]\n",
      "*\n"
     ]
    },
    {
     "data": {
      "text/plain": [
       "[2, 3, 5, 6, 7, 8]"
      ]
     },
     "execution_count": 4,
     "metadata": {},
     "output_type": "execute_result"
    }
   ],
   "source": [
    "bubble_sort(num)"
   ]
  },
  {
   "cell_type": "markdown",
   "id": "28691570",
   "metadata": {},
   "source": [
    "# Selection sorting:\n"
   ]
  },
  {
   "cell_type": "markdown",
   "id": "0d0701b7",
   "metadata": {},
   "source": [
    "find minimum element in array\n",
    "put that in first index i.e. here i=0\n",
    "now take list from i=1 and repeat above steps. now min val goes to i=1 and so on till i<=len(arr)-1"
   ]
  },
  {
   "cell_type": "code",
   "execution_count": 5,
   "id": "15842daa",
   "metadata": {},
   "outputs": [],
   "source": [
    "def selection_sort(arr):\n",
    "    for i in range(len(arr)):\n",
    "        j=arr.index(min(arr[i:]))\n",
    "        arr[i],arr[j]=arr[j],arr[i]\n",
    "    return arr"
   ]
  },
  {
   "cell_type": "code",
   "execution_count": 6,
   "id": "c49129fa",
   "metadata": {},
   "outputs": [
    {
     "name": "stdout",
     "output_type": "stream",
     "text": [
      "[5, 3, 8, 6, 7, 2]\n",
      "[2, 3, 5, 6, 7, 8]\n"
     ]
    }
   ],
   "source": [
    "num=[5,3,8,6,7,2]\n",
    "print(num)\n",
    "print(selection_sort(num))"
   ]
  },
  {
   "cell_type": "code",
   "execution_count": 7,
   "id": "a6d38399",
   "metadata": {},
   "outputs": [],
   "source": [
    "def selection_sort(arr):\n",
    "    for i in range(len(arr)):\n",
    "        min=i\n",
    "        for j in range(i,len(arr)):\n",
    "            if arr[min]>arr[j]:\n",
    "                min=j\n",
    "        arr[i],arr[min]=arr[min],arr[i]\n",
    "    return arr\n",
    "            "
   ]
  },
  {
   "cell_type": "code",
   "execution_count": 8,
   "id": "e0e65963",
   "metadata": {},
   "outputs": [
    {
     "name": "stdout",
     "output_type": "stream",
     "text": [
      "[7, 5, 4, 2]\n",
      "[2, 4, 5, 7]\n"
     ]
    }
   ],
   "source": [
    "num=[7,5,4,2]\n",
    "print(num)\n",
    "print(selection_sort(num))"
   ]
  },
  {
   "cell_type": "markdown",
   "id": "06c72356",
   "metadata": {},
   "source": [
    "<img src=\"download.png\">"
   ]
  },
  {
   "cell_type": "markdown",
   "id": "ed192d8c",
   "metadata": {},
   "source": [
    "### to demonstrate:"
   ]
  },
  {
   "cell_type": "code",
   "execution_count": 9,
   "id": "8714e4b8",
   "metadata": {},
   "outputs": [],
   "source": [
    "def selection_sort(arr):\n",
    "    for i in range(len(arr)):\n",
    "        min=i\n",
    "        for j in range(i,len(arr)):\n",
    "            if arr[min]>arr[j]:\n",
    "                min=j\n",
    "        arr[i],arr[min]=arr[min],arr[i]\n",
    "        print(arr)\n",
    "    return arr\n",
    "            "
   ]
  },
  {
   "cell_type": "code",
   "execution_count": 10,
   "id": "c336cc97",
   "metadata": {},
   "outputs": [
    {
     "name": "stdout",
     "output_type": "stream",
     "text": [
      "[2, 5, 4, 7]\n",
      "[2, 4, 5, 7]\n",
      "[2, 4, 5, 7]\n",
      "[2, 4, 5, 7]\n"
     ]
    },
    {
     "data": {
      "text/plain": [
       "[2, 4, 5, 7]"
      ]
     },
     "execution_count": 10,
     "metadata": {},
     "output_type": "execute_result"
    }
   ],
   "source": [
    "num=[7,5,4,2]\n",
    "selection_sort(num)"
   ]
  },
  {
   "cell_type": "markdown",
   "id": "f79ca45b",
   "metadata": {},
   "source": [
    "# Insertion sort:"
   ]
  },
  {
   "cell_type": "code",
   "execution_count": 11,
   "id": "5a0fc6bc",
   "metadata": {},
   "outputs": [
    {
     "name": "stdout",
     "output_type": "stream",
     "text": [
      "[1, 2, 2, 4, 5, 5, 7, 7, 10, 45, 67]\n"
     ]
    }
   ],
   "source": [
    "def insertion_sort(arr):\n",
    "    for i in range(1,len(arr)):\n",
    "        pos=i\n",
    "        while arr[pos]<arr[pos-1] and pos>0:\n",
    "            arr[pos],arr[pos-1]=arr[pos-1],arr[pos]\n",
    "            pos-=1\n",
    "    return arr\n",
    "\n",
    "num=[7,5,4,1,7,10,5,2,45,67,2]\n",
    "print(insertion_sort(num))\n"
   ]
  },
  {
   "cell_type": "raw",
   "id": "b778e3e4",
   "metadata": {},
   "source": [
    "Start by iterating through the array from the second element (index 1) to the last element (index n-1), where n is the length of the array.\n",
    "\n",
    "For each element in the iteration, compare it with the previous element (i.e. the element to its left). If the previous element is greater than the current element, swap the two elements.\n",
    "\n",
    "Continue comparing and swapping the current element with all the previous elements until you find the correct position for the current element in the sorted portion of the array.\n",
    "\n",
    "After the current element is inserted into the correct position, move on to the next element in the iteration and repeat steps 2-3 until all elements have been processed."
   ]
  },
  {
   "cell_type": "code",
   "execution_count": 12,
   "id": "e1639a0f",
   "metadata": {},
   "outputs": [
    {
     "data": {
      "text/plain": [
       "[12, 45, 51, 59, 72, 85]"
      ]
     },
     "execution_count": 12,
     "metadata": {},
     "output_type": "execute_result"
    }
   ],
   "source": [
    "insertion_sort([85,12,59,45,72,51])"
   ]
  },
  {
   "cell_type": "markdown",
   "id": "449275f5",
   "metadata": {},
   "source": [
    "<img src=\"insertion-sort.png\">"
   ]
  },
  {
   "cell_type": "markdown",
   "id": "8d74393c",
   "metadata": {},
   "source": [
    "# Finding duplicates in an array:"
   ]
  },
  {
   "cell_type": "markdown",
   "id": "c250988b",
   "metadata": {},
   "source": [
    "Given an array of integers containing 'n' elements. Each integer is in range(1,n-1),with exactly one element repeated in the array.Find the duplicate element."
   ]
  },
  {
   "cell_type": "code",
   "execution_count": 13,
   "id": "0efe93cd",
   "metadata": {},
   "outputs": [],
   "source": [
    "def dupl(arr):\n",
    "    arr.sort()\n",
    "    for i in range(len(arr)-2):\n",
    "        if arr[i]==arr[i+1]:\n",
    "            return arr[i]\n",
    "    else: return -1"
   ]
  },
  {
   "cell_type": "markdown",
   "id": "c63d63fe",
   "metadata": {},
   "source": [
    "# Quick sort:"
   ]
  },
  {
   "cell_type": "raw",
   "id": "f81f857c",
   "metadata": {},
   "source": [
    "called partition exchange sort\n",
    "faster than merge sort and heap sort"
   ]
  },
  {
   "cell_type": "raw",
   "id": "ebcf0955",
   "metadata": {},
   "source": [
    "comparision sort\n",
    "in_place\n",
    "unstable\n",
    "recursive algorithm"
   ]
  },
  {
   "cell_type": "raw",
   "id": "bb083d4d",
   "metadata": {},
   "source": [
    "also called divide and conquer algorithm"
   ]
  },
  {
   "cell_type": "code",
   "execution_count": 6,
   "id": "98a6dc49",
   "metadata": {},
   "outputs": [],
   "source": [
    "def hoare_partition(arr,start,end):\n",
    "    pivot_index=start\n",
    "    pivot=arr[pivot_index]\n",
    "    #start=pivot_index+1\n",
    "    #end=len(arr)-1\n",
    "    while start<end:\n",
    "        while start<len(arr) and arr[start]<=pivot:\n",
    "            start+=1\n",
    "        while arr[end]>pivot:\n",
    "            end-=1\n",
    "        if start<end:\n",
    "            arr[start],arr[end]=arr[end],arr[start]\n",
    "    arr[pivot_index],arr[end]=arr[end],arr[pivot_index]\n",
    "    return end\n",
    "    "
   ]
  },
  {
   "cell_type": "code",
   "execution_count": 7,
   "id": "8adec17a",
   "metadata": {},
   "outputs": [
    {
     "name": "stdout",
     "output_type": "stream",
     "text": [
      "[2, 7, 9, 11, 15, 28, 29]\n",
      "[0, 1, 4, 6, 8, 12, 23, 23, 44, 44, 56, 90]\n",
      "[4, 22, 33, 44, 67, 212]\n",
      "[2]\n",
      "[1, 2]\n",
      "[]\n"
     ]
    }
   ],
   "source": [
    "def quick_sort(arr,start,end):\n",
    "    if start<end:\n",
    "        pi=hoare_partition(arr,start,end)\n",
    "        quick_sort(arr,start,pi-1)\n",
    "        quick_sort(arr,pi+1,end)\n",
    "    \n",
    "\n",
    "num=[[11,9,29,7,2,15,28],[23,44,44,56,12,0,1,23,4,6,8,90],[22,33,44,212,4,67],[2],[2,1],[]]\n",
    "for i in num:\n",
    "    quick_sort(i,0,len(i)-1)\n",
    "    print(i)"
   ]
  },
  {
   "cell_type": "markdown",
   "id": "7286962d",
   "metadata": {},
   "source": [
    "# Merge sort:"
   ]
  },
  {
   "cell_type": "code",
   "execution_count": 6,
   "id": "d4406f34",
   "metadata": {},
   "outputs": [
    {
     "name": "stdout",
     "output_type": "stream",
     "text": [
      "[3, 7, 8, 10, 15, 23, 29, 98]\n",
      "[]\n",
      "[3]\n",
      "[2, 7, 8, 9]\n",
      "[1, 2, 3, 4, 5]\n"
     ]
    }
   ],
   "source": [
    "\n",
    "def merge_sort(arr):\n",
    "    if len(arr) <= 1:\n",
    "        return\n",
    "\n",
    "    mid = len(arr)//2\n",
    "\n",
    "    left = arr[:mid]\n",
    "    right = arr[mid:]\n",
    "\n",
    "    merge_sort(left)\n",
    "    merge_sort(right)\n",
    "\n",
    "    merge_two_sorted_lists(left, right, arr)\n",
    "\n",
    "def merge_two_sorted_lists(a,b,arr):\n",
    "    len_a = len(a)\n",
    "    len_b = len(b)\n",
    "\n",
    "    i = j = k = 0\n",
    "\n",
    "    while i < len_a and j < len_b:\n",
    "        if a[i] <= b[j]:\n",
    "            arr[k] = a[i]\n",
    "            i+=1\n",
    "        else:\n",
    "            arr[k] = b[j]\n",
    "            j+=1\n",
    "        k+=1\n",
    "\n",
    "    while i < len_a:\n",
    "        arr[k] = a[i]\n",
    "        i+=1\n",
    "        k+=1\n",
    "\n",
    "    while j < len_b:\n",
    "        arr[k] = b[j]\n",
    "        j+=1\n",
    "        k+=1\n",
    "\n",
    "\n",
    "test_cases = [\n",
    "    [10, 3, 15, 7, 8, 23, 98, 29],\n",
    "    [],\n",
    "    [3],\n",
    "    [9,8,7,2],\n",
    "    [1,2,3,4,5]\n",
    "]\n",
    "\n",
    "for arr in test_cases:\n",
    "    merge_sort(arr)\n",
    "    print(arr)"
   ]
  },
  {
   "cell_type": "code",
   "execution_count": null,
   "id": "fc3b14ae",
   "metadata": {},
   "outputs": [],
   "source": []
  }
 ],
 "metadata": {
  "kernelspec": {
   "display_name": "Python 3 (ipykernel)",
   "language": "python",
   "name": "python3"
  },
  "language_info": {
   "codemirror_mode": {
    "name": "ipython",
    "version": 3
   },
   "file_extension": ".py",
   "mimetype": "text/x-python",
   "name": "python",
   "nbconvert_exporter": "python",
   "pygments_lexer": "ipython3",
   "version": "3.9.1"
  },
  "vscode": {
   "interpreter": {
    "hash": "8c455a4213ad22b1ac41aa28373b87a7df4d9832b20044a15be34a8260aa3e12"
   }
  }
 },
 "nbformat": 4,
 "nbformat_minor": 5
}
