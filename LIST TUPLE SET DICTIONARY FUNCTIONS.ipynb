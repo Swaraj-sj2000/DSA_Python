{
 "cells": [
  {
   "cell_type": "markdown",
   "id": "05df592f",
   "metadata": {},
   "source": [
    "# DataTypes in Python:"
   ]
  },
  {
   "cell_type": "markdown",
   "id": "55dee7c2",
   "metadata": {},
   "source": [
    "<img src=\"dsp.jpg\">"
   ]
  },
  {
   "cell_type": "code",
   "execution_count": 3,
   "id": "d14f2a76",
   "metadata": {},
   "outputs": [
    {
     "name": "stdout",
     "output_type": "stream",
     "text": [
      "['1', 2, 34.5]\n"
     ]
    }
   ],
   "source": [
    "l1=['1',2,34.5]\n",
    "print(l1)\n",
    "del(l1)"
   ]
  },
  {
   "cell_type": "code",
   "execution_count": 4,
   "id": "5815f470",
   "metadata": {},
   "outputs": [
    {
     "ename": "NameError",
     "evalue": "name 'l1' is not defined",
     "output_type": "error",
     "traceback": [
      "\u001b[1;31m---------------------------------------------------------------------------\u001b[0m",
      "\u001b[1;31mNameError\u001b[0m                                 Traceback (most recent call last)",
      "\u001b[1;32m~\\AppData\\Local\\Temp\\ipykernel_10548\\3995646210.py\u001b[0m in \u001b[0;36m<module>\u001b[1;34m\u001b[0m\n\u001b[1;32m----> 1\u001b[1;33m \u001b[0mprint\u001b[0m\u001b[1;33m(\u001b[0m\u001b[0ml1\u001b[0m\u001b[1;33m)\u001b[0m\u001b[1;33m\u001b[0m\u001b[1;33m\u001b[0m\u001b[0m\n\u001b[0m",
      "\u001b[1;31mNameError\u001b[0m: name 'l1' is not defined"
     ]
    }
   ],
   "source": [
    "print(l1)"
   ]
  },
  {
   "cell_type": "markdown",
   "id": "10600333",
   "metadata": {},
   "source": [
    "# List functions:"
   ]
  },
  {
   "cell_type": "markdown",
   "id": "54e5b315",
   "metadata": {},
   "source": [
    "1. len():len() function returns the number of elements in a list.\n",
    "\n",
    "Syntax: len(list)\n",
    "\n"
   ]
  },
  {
   "cell_type": "markdown",
   "id": "82adc2c8",
   "metadata": {},
   "source": [
    "2. append():append() function adds an element to the end of a list.\n",
    "\n",
    "Syntax: list.append(element)"
   ]
  },
  {
   "cell_type": "markdown",
   "id": "060ed514",
   "metadata": {},
   "source": [
    "3. insert():insert() function inserts an element at a specified position in a list.\n",
    "\n",
    "Syntax: list.insert(index, element)"
   ]
  },
  {
   "cell_type": "markdown",
   "id": "ddda2e40",
   "metadata": {},
   "source": [
    "4. remove():remove() function removes the first occurrence of an element from a list.\n",
    "\n",
    "Syntax: list.remove(element)"
   ]
  },
  {
   "cell_type": "markdown",
   "id": "0f136935",
   "metadata": {},
   "source": [
    "5. pop():pop() function removes and returns the last element from a list, or the element at a specified position.\n",
    "\n",
    "Syntax: list.pop(index)"
   ]
  },
  {
   "cell_type": "markdown",
   "id": "6e3b5bdb",
   "metadata": {},
   "source": [
    "6. index(): returns the index of the first occurrence of an element in a list.\n",
    "\n",
    "Syntax: list.index(element)\n",
    "\n"
   ]
  },
  {
   "cell_type": "markdown",
   "id": "0a2b9a61",
   "metadata": {},
   "source": [
    "7. count(): returns the number of times an element appears in a list.\n",
    "\n",
    "Syntax: list.count(element)\n"
   ]
  },
  {
   "cell_type": "markdown",
   "id": "a7aa1317",
   "metadata": {},
   "source": [
    "8. sort(): sorts the elements in a list in ascending order.\n",
    "\n",
    "Syntax: list.sort()"
   ]
  },
  {
   "cell_type": "markdown",
   "id": "52f8d9be",
   "metadata": {},
   "source": [
    "9. reverse(): reverses the order of the elements in a list.\n",
    "\n",
    "Syntax: list.reverse()"
   ]
  },
  {
   "cell_type": "markdown",
   "id": "03ce46c3",
   "metadata": {},
   "source": [
    "10. copy(): returns a copy of a list.\n",
    "\n",
    "Syntax: new_list = list.copy()\n",
    "\n"
   ]
  },
  {
   "cell_type": "markdown",
   "id": "8f49a393",
   "metadata": {},
   "source": [
    "11. extend(): extends a list by appending elements from another iterable.\n",
    "\n",
    "Syntax: list.extend(iterable)"
   ]
  },
  {
   "cell_type": "markdown",
   "id": "9b03d542",
   "metadata": {},
   "source": [
    "12. clear(): removes all elements from a list.\n",
    "Syntax: list.clear()"
   ]
  },
  {
   "cell_type": "markdown",
   "id": "ced71ef3",
   "metadata": {},
   "source": [
    "13. max(): returns the largest element in a list.\n",
    "Syntax: max(list)"
   ]
  },
  {
   "cell_type": "markdown",
   "id": "fbc48722",
   "metadata": {},
   "source": [
    "14. min(): returns the smallest element in a list.\n",
    "Syntax: min(list)"
   ]
  },
  {
   "cell_type": "markdown",
   "id": "1cde4dd5",
   "metadata": {},
   "source": [
    "15. join(): joins a list of strings into a single string, using a specified separator.\n",
    "Syntax: separator.join(list)"
   ]
  },
  {
   "cell_type": "code",
   "execution_count": 12,
   "id": "bc776964",
   "metadata": {},
   "outputs": [
    {
     "name": "stdout",
     "output_type": "stream",
     "text": [
      "5\n",
      "[1, 2, 3, 4, 5, 6]\n",
      "[1, 2, 10, 3, 4, 5]\n",
      "[1, 2, 4, 5]\n",
      "[1, 2, 3, 4]\n",
      "[1, 3, 4]\n",
      "2\n",
      "2\n",
      "[1, 2, 3, 4, 5]\n",
      "[5, 4, 3, 2, 1]\n",
      "[1, 2, 3, 4, 5]\n",
      "[1, 2, 3, 4, 5]\n",
      "[]\n",
      "5\n",
      "1\n",
      "apple, banana, cherry\n"
     ]
    }
   ],
   "source": [
    "#len\n",
    "my_list = [1, 2, 3, 4, 5]\n",
    "print(len(my_list)) # Output: 5\n",
    "\n",
    "#append\n",
    "my_list = [1, 2, 3, 4, 5]\n",
    "my_list.append(6)\n",
    "print(my_list) # Output: [1, 2, 3, 4, 5, 6]\n",
    "\n",
    "#insert\n",
    "my_list = [1, 2, 3, 4, 5]\n",
    "my_list.insert(2, 10)\n",
    "print(my_list) # Output: [1, 2, 10, 3, 4, 5]\n",
    "\n",
    "#remove\n",
    "my_list = [1, 2, 3, 4, 5]\n",
    "my_list.remove(3)\n",
    "print(my_list) # Output: [1, 2, 4, 5]\n",
    "\n",
    "\n",
    "#pop\n",
    "my_list = [1, 2, 3, 4, 5]\n",
    "my_list.pop()\n",
    "print(my_list) # Output: [1, 2, 3, 4]\n",
    "my_list.pop(1)\n",
    "print(my_list) # Output: [1, 3, 4]\n",
    "\n",
    "#index\n",
    "my_list = [1, 2, 3, 4, 5]\n",
    "print(my_list.index(3)) # Output: 2\n",
    "\n",
    "#count\n",
    "my_list = [1, 2, 3, 4, 5, 2]\n",
    "print(my_list.count(2)) # Output: 2\n",
    "\n",
    "#sort\n",
    "my_list = [3, 1, 4, 2, 5]\n",
    "my_list.sort()\n",
    "print(my_list) # Output: [1, 2, 3, 4, 5]\n",
    "\n",
    "#reverse\n",
    "my_list = [1, 2, 3, 4, 5]\n",
    "my_list.reverse()\n",
    "print(my_list) # Output: [5, 4, 3, 2, 1]\n",
    "\n",
    "#copy\n",
    "my_list = [1, 2, 3, 4, 5]\n",
    "new_list = my_list.copy()\n",
    "print(new_list) # Output: [1, 2, 3, 4, 5]\n",
    "\n",
    "#extend\n",
    "my_list = [1, 2, 3]\n",
    "my_list.extend([4, 5])\n",
    "print(my_list) # Output: [1, 2, 3, 4, 5]\n",
    "\n",
    "#clear\n",
    "my_list = [1, 2, 3, 4, 5]\n",
    "my_list.clear()\n",
    "print(my_list) # Output: []\n",
    "\n",
    "#max\n",
    "my_list = [1, 2, 3, 4, 5]\n",
    "print(max(my_list)) # Output: 5\n",
    "\n",
    "#min\n",
    "my_list = [1, 2, 3, 4, 5]\n",
    "print(min(my_list)) # Output: 1\n",
    "\n",
    "#join\n",
    "my_list = [\"apple\", \"banana\", \"cherry\"]\n",
    "my_string = \", \".join(my_list)\n",
    "print(my_string) # Output: \"apple, banana, cherry\"\n"
   ]
  },
  {
   "cell_type": "markdown",
   "id": "54e3bf95",
   "metadata": {},
   "source": [
    "# Tupples(immutible data structure) functions"
   ]
  },
  {
   "cell_type": "markdown",
   "id": "3c2ac413",
   "metadata": {},
   "source": [
    "len(): returns the length (number of elements) of a tuple.\n",
    "\n",
    "Syntax: len(tuple)"
   ]
  },
  {
   "cell_type": "code",
   "execution_count": 13,
   "id": "54638b4b",
   "metadata": {},
   "outputs": [
    {
     "name": "stdout",
     "output_type": "stream",
     "text": [
      "5\n"
     ]
    }
   ],
   "source": [
    "my_tuple = (1, 2, 3, 4, 5)\n",
    "print(len(my_tuple)) # Output: 5\n"
   ]
  },
  {
   "cell_type": "markdown",
   "id": "923b21b5",
   "metadata": {},
   "source": [
    "count(): returns the number of times a specified element appears in a tuple.\n",
    "\n",
    "Syntax: tuple.count(element)"
   ]
  },
  {
   "cell_type": "code",
   "execution_count": 14,
   "id": "456fb128",
   "metadata": {},
   "outputs": [
    {
     "name": "stdout",
     "output_type": "stream",
     "text": [
      "3\n"
     ]
    }
   ],
   "source": [
    "my_tuple = (1, 2, 2, 3, 4, 2, 5)\n",
    "print(my_tuple.count(2)) # Output: 3\n"
   ]
  },
  {
   "cell_type": "markdown",
   "id": "64ae7c0a",
   "metadata": {},
   "source": [
    "index(): returns the index of the first occurrence of a specified element in a tuple.\n",
    "\n",
    "Syntax: tuple.index(element)"
   ]
  },
  {
   "cell_type": "code",
   "execution_count": 15,
   "id": "7685c057",
   "metadata": {},
   "outputs": [
    {
     "name": "stdout",
     "output_type": "stream",
     "text": [
      "2\n"
     ]
    }
   ],
   "source": [
    "my_tuple = (1, 2, 3, 4, 5)\n",
    "print(my_tuple.index(3)) # Output: 2\n"
   ]
  },
  {
   "cell_type": "markdown",
   "id": "777d698e",
   "metadata": {},
   "source": [
    "sorted(): returns a new sorted list from the elements of a tuple.\n",
    "\n",
    "Syntax: sorted(tuple)"
   ]
  },
  {
   "cell_type": "code",
   "execution_count": 16,
   "id": "e0c3082e",
   "metadata": {},
   "outputs": [
    {
     "name": "stdout",
     "output_type": "stream",
     "text": [
      "[1, 2, 3, 4, 5]\n"
     ]
    }
   ],
   "source": [
    "my_tuple = (3, 1, 4, 2, 5)\n",
    "new_list = sorted(my_tuple)\n",
    "print(new_list) # Output: [1, 2, 3, 4, 5]\n"
   ]
  },
  {
   "cell_type": "markdown",
   "id": "db147d72",
   "metadata": {},
   "source": [
    "sorted(): returns a new sorted list from the elements of a tuple.\n",
    "\n",
    "Syntax: sorted(tuple)"
   ]
  },
  {
   "cell_type": "code",
   "execution_count": 18,
   "id": "07027c60",
   "metadata": {},
   "outputs": [
    {
     "name": "stdout",
     "output_type": "stream",
     "text": [
      "[1, 2, 3, 4, 5]\n"
     ]
    }
   ],
   "source": [
    "my_tuple = (3, 1, 4, 2, 5)\n",
    "new_list = sorted(my_tuple)\n",
    "print(new_list) # Output: [1, 2, 3, 4, 5]\n"
   ]
  },
  {
   "cell_type": "markdown",
   "id": "dcbcdaca",
   "metadata": {},
   "source": [
    "min(): returns the smallest element in a tuple.\n",
    "\n",
    "Syntax: min(tuple)"
   ]
  },
  {
   "cell_type": "code",
   "execution_count": 19,
   "id": "9f09ce20",
   "metadata": {},
   "outputs": [
    {
     "name": "stdout",
     "output_type": "stream",
     "text": [
      "1\n"
     ]
    }
   ],
   "source": [
    "my_tuple = (1, 2, 3, 4, 5)\n",
    "print(min(my_tuple)) # Output: 1\n"
   ]
  },
  {
   "cell_type": "markdown",
   "id": "44be4b9c",
   "metadata": {},
   "source": [
    "max(): returns the largest element in a tuple.\n",
    "\n",
    "Syntax: max(tuple)"
   ]
  },
  {
   "cell_type": "code",
   "execution_count": 21,
   "id": "1ba1d8c9",
   "metadata": {},
   "outputs": [
    {
     "name": "stdout",
     "output_type": "stream",
     "text": [
      "5\n"
     ]
    }
   ],
   "source": [
    "my_tuple = (1, 2, 3, 4, 5)\n",
    "print(max(my_tuple)) # Output: 5\n"
   ]
  },
  {
   "cell_type": "markdown",
   "id": "fdde63bd",
   "metadata": {},
   "source": [
    "sum(): returns the sum of all elements in a tuple (only works for tuples of numbers).\n",
    "\n",
    "Syntax: sum(tuple)"
   ]
  },
  {
   "cell_type": "code",
   "execution_count": 22,
   "id": "4731c834",
   "metadata": {},
   "outputs": [
    {
     "name": "stdout",
     "output_type": "stream",
     "text": [
      "15\n"
     ]
    }
   ],
   "source": [
    "my_tuple = (1, 2, 3, 4, 5)\n",
    "print(sum(my_tuple)) # Output: 15\n"
   ]
  },
  {
   "cell_type": "markdown",
   "id": "2e158370",
   "metadata": {},
   "source": [
    "any(): returns True if at least one element in a tuple is true (non-zero, non-empty, etc.).\n",
    "\n",
    "Syntax: any(tuple)"
   ]
  },
  {
   "cell_type": "code",
   "execution_count": 23,
   "id": "669c1116",
   "metadata": {},
   "outputs": [
    {
     "name": "stdout",
     "output_type": "stream",
     "text": [
      "False\n"
     ]
    }
   ],
   "source": [
    "my_tuple = (0, '', [], False)\n",
    "print(any(my_tuple)) # Output: False\n"
   ]
  },
  {
   "cell_type": "markdown",
   "id": "de48d88c",
   "metadata": {},
   "source": [
    "all(): returns True if all elements in a tuple are true (non-zero, non-empty, etc.).\n",
    "\n",
    "Syntax: all(tuple)"
   ]
  },
  {
   "cell_type": "code",
   "execution_count": 24,
   "id": "183054ff",
   "metadata": {},
   "outputs": [
    {
     "name": "stdout",
     "output_type": "stream",
     "text": [
      "True\n"
     ]
    }
   ],
   "source": [
    "my_tuple = (1, 'hello', [1, 2, 3], True)\n",
    "print(all(my_tuple)) # Output: True\n"
   ]
  },
  {
   "cell_type": "markdown",
   "id": "22289ca4",
   "metadata": {},
   "source": [
    "zip(): takes one or more iterables and aggregates their elements into tuples.\n",
    "\n",
    "Syntax: zip(iterable1, iterable2, ...)"
   ]
  },
  {
   "cell_type": "code",
   "execution_count": 25,
   "id": "0f16f68c",
   "metadata": {},
   "outputs": [
    {
     "name": "stdout",
     "output_type": "stream",
     "text": [
      "[(1, 'a'), (2, 'b'), (3, 'c')]\n"
     ]
    }
   ],
   "source": [
    "x = (1, 2, 3)\n",
    "y = ('a', 'b', 'c')\n",
    "zipped = zip(x, y)\n",
    "print(list(zipped)) # Output: [(1, 'a'), (2, 'b'), (3, 'c')]\n"
   ]
  },
  {
   "cell_type": "markdown",
   "id": "09dbfdf0",
   "metadata": {},
   "source": [
    "# Strings:"
   ]
  },
  {
   "cell_type": "code",
   "execution_count": 27,
   "id": "b3dafcec",
   "metadata": {},
   "outputs": [
    {
     "name": "stdout",
     "output_type": "stream",
     "text": [
      "<class 'str'>\n",
      "<class 'str'>\n",
      "<class 'str'>\n"
     ]
    }
   ],
   "source": [
    "a=\"hello\"\n",
    "b='hello'\n",
    "c='''hello'''\n",
    "\n",
    "print(type(a))\n",
    "print(type(b))\n",
    "print(type(c))"
   ]
  },
  {
   "cell_type": "markdown",
   "id": "0e20960e",
   "metadata": {},
   "source": [
    "len(): returns the length (number of characters) of a string.\n",
    "\n",
    "Syntax: len(string)"
   ]
  },
  {
   "cell_type": "code",
   "execution_count": 28,
   "id": "531e9fcb",
   "metadata": {},
   "outputs": [
    {
     "name": "stdout",
     "output_type": "stream",
     "text": [
      "13\n"
     ]
    }
   ],
   "source": [
    "my_string = \"Hello, World!\"\n",
    "print(len(my_string)) # Output: 13\n"
   ]
  },
  {
   "cell_type": "markdown",
   "id": "1f3a34da",
   "metadata": {},
   "source": [
    "lower(): returns a copy of the string with all uppercase characters converted to lowercase.\n",
    "\n",
    "Syntax: string.lower()"
   ]
  },
  {
   "cell_type": "code",
   "execution_count": 29,
   "id": "549c0fe8",
   "metadata": {},
   "outputs": [
    {
     "name": "stdout",
     "output_type": "stream",
     "text": [
      "hello, world!\n"
     ]
    }
   ],
   "source": [
    "my_string = \"Hello, World!\"\n",
    "print(my_string.lower()) # Output: hello, world!\n"
   ]
  },
  {
   "cell_type": "markdown",
   "id": "363afa37",
   "metadata": {},
   "source": [
    "upper(): returns a copy of the string with all lowercase characters converted to uppercase.\n",
    "\n",
    "Syntax: string.upper()"
   ]
  },
  {
   "cell_type": "code",
   "execution_count": 30,
   "id": "8a881a5a",
   "metadata": {},
   "outputs": [
    {
     "name": "stdout",
     "output_type": "stream",
     "text": [
      "HELLO, WORLD!\n"
     ]
    }
   ],
   "source": [
    "my_string = \"Hello, World!\"\n",
    "print(my_string.upper()) # Output: HELLO, WORLD!\n"
   ]
  },
  {
   "cell_type": "markdown",
   "id": "1917bc6d",
   "metadata": {},
   "source": [
    "title(): returns a copy of the string with the first character of each word capitalized and the rest lowercase.\n",
    "\n",
    "Syntax: string.title()"
   ]
  },
  {
   "cell_type": "code",
   "execution_count": 31,
   "id": "7b2a426c",
   "metadata": {},
   "outputs": [
    {
     "name": "stdout",
     "output_type": "stream",
     "text": [
      "Hello, World!\n"
     ]
    }
   ],
   "source": [
    "my_string = \"hello, world!\"\n",
    "print(my_string.title()) # Output: Hello, World!\n"
   ]
  },
  {
   "cell_type": "markdown",
   "id": "5c3a488b",
   "metadata": {},
   "source": [
    "strip(): returns a copy of the string with leading and trailing whitespace removed.\n",
    "\n",
    "Syntax: string.strip()"
   ]
  },
  {
   "cell_type": "code",
   "execution_count": 33,
   "id": "85badfe5",
   "metadata": {},
   "outputs": [
    {
     "name": "stdout",
     "output_type": "stream",
     "text": [
      "Hello, World!\n"
     ]
    }
   ],
   "source": [
    "my_string = \"   Hello, World!   \"\n",
    "print(my_string.strip()) # Output: \"Hello, World!\"\n"
   ]
  },
  {
   "cell_type": "markdown",
   "id": "bb46ba3f",
   "metadata": {},
   "source": [
    "replace(): returns a copy of the string with all occurrences of a specified substring replaced with another substring.\n",
    "\n",
    "Syntax: string.replace(old, new)"
   ]
  },
  {
   "cell_type": "code",
   "execution_count": 34,
   "id": "914d57c4",
   "metadata": {},
   "outputs": [
    {
     "name": "stdout",
     "output_type": "stream",
     "text": [
      "Hello, Python!\n"
     ]
    }
   ],
   "source": [
    "my_string = \"Hello, World!\"\n",
    "new_string = my_string.replace(\"World\", \"Python\")\n",
    "print(new_string) # Output: \"Hello, Python!\"\n"
   ]
  },
  {
   "cell_type": "markdown",
   "id": "1d0bd7f7",
   "metadata": {},
   "source": [
    "split(): returns a list of the words in a string, using a specified delimiter string to separate the words.\n",
    "\n",
    "Syntax: string.split(delimiter)"
   ]
  },
  {
   "cell_type": "code",
   "execution_count": 35,
   "id": "1ac8182c",
   "metadata": {},
   "outputs": [
    {
     "name": "stdout",
     "output_type": "stream",
     "text": [
      "['Hello', ' World!']\n"
     ]
    }
   ],
   "source": [
    "my_string = \"Hello, World!\"\n",
    "words = my_string.split(\",\")\n",
    "print(words) # Output: [\"Hello\", \" World!\"]\n"
   ]
  },
  {
   "cell_type": "markdown",
   "id": "cc1ea50f",
   "metadata": {},
   "source": [
    "join(): joins the elements of a sequence (e.g. a list or tuple) into a string, using a specified separator.\n",
    "\n",
    "Syntax: separator.join(sequence)"
   ]
  },
  {
   "cell_type": "code",
   "execution_count": 36,
   "id": "435b3027",
   "metadata": {},
   "outputs": [
    {
     "name": "stdout",
     "output_type": "stream",
     "text": [
      "apple, banana, cherry\n"
     ]
    }
   ],
   "source": [
    "my_list = [\"apple\", \"banana\", \"cherry\"]\n",
    "my_string = \", \".join(my_list)\n",
    "print(my_string) # Output: \"apple, banana, cherry\"\n"
   ]
  },
  {
   "cell_type": "markdown",
   "id": "28a576b0",
   "metadata": {},
   "source": [
    "startswith(): returns True if the string starts with a specified prefix, and False otherwise.\n",
    "\n",
    "Syntax: string.startswith(prefix)"
   ]
  },
  {
   "cell_type": "code",
   "execution_count": 37,
   "id": "808d21ee",
   "metadata": {},
   "outputs": [
    {
     "name": "stdout",
     "output_type": "stream",
     "text": [
      "True\n"
     ]
    }
   ],
   "source": [
    "my_string = \"Hello, World!\"\n",
    "print(my_string.startswith(\"Hello\")) # Output: True\n"
   ]
  },
  {
   "cell_type": "markdown",
   "id": "fdc160a5",
   "metadata": {},
   "source": [
    "endswith(): returns True if the string ends with a specified suffix, and False otherwise.\n",
    "\n",
    "Syntax: string.endswith(suffix)"
   ]
  },
  {
   "cell_type": "code",
   "execution_count": 38,
   "id": "68a25184",
   "metadata": {},
   "outputs": [
    {
     "name": "stdout",
     "output_type": "stream",
     "text": [
      "True\n"
     ]
    }
   ],
   "source": [
    "my_string = \"Hello, World!\"\n",
    "print(my_string.endswith(\"!\")) # Output: True\n"
   ]
  },
  {
   "cell_type": "markdown",
   "id": "77b9b618",
   "metadata": {},
   "source": [
    "count(): returns the number of occurrences of a specified substring in a string.\n",
    "\n",
    "Syntax: string.count(substring)"
   ]
  },
  {
   "cell_type": "code",
   "execution_count": 39,
   "id": "b52e77da",
   "metadata": {},
   "outputs": [
    {
     "name": "stdout",
     "output_type": "stream",
     "text": [
      "2\n"
     ]
    }
   ],
   "source": [
    "my_string = \"Hello, World!\"\n",
    "count = my_string.count(\"o\")\n",
    "print(count) # Output: 2\n"
   ]
  },
  {
   "cell_type": "markdown",
   "id": "7e26ff3d",
   "metadata": {},
   "source": [
    "find(): searches for a specified substring in a string and returns the index of the first occurrence, or -1 if the substring is not found.\n",
    "\n",
    "Syntax: string.find(substring)"
   ]
  },
  {
   "cell_type": "code",
   "execution_count": 40,
   "id": "debfe8b8",
   "metadata": {},
   "outputs": [
    {
     "name": "stdout",
     "output_type": "stream",
     "text": [
      "7\n"
     ]
    }
   ],
   "source": [
    "my_string = \"Hello, World!\"\n",
    "index = my_string.find(\"World\")\n",
    "print(index) # Output: 7\n"
   ]
  },
  {
   "cell_type": "markdown",
   "id": "c86abf82",
   "metadata": {},
   "source": [
    "isalpha(): returns True if all characters in the string are alphabetic (i.e. letters), and False otherwise.\n",
    "\n",
    "Syntax: string.isalpha()"
   ]
  },
  {
   "cell_type": "code",
   "execution_count": 41,
   "id": "3c1b8609",
   "metadata": {},
   "outputs": [
    {
     "name": "stdout",
     "output_type": "stream",
     "text": [
      "False\n"
     ]
    }
   ],
   "source": [
    "my_string = \"Hello, World!\"\n",
    "print(my_string.isalpha()) # Output: False\n"
   ]
  },
  {
   "cell_type": "markdown",
   "id": "c03f31a1",
   "metadata": {},
   "source": [
    "isdigit(): returns True if all characters in the string are digits, and False otherwise.\n",
    "\n",
    "Syntax: string.isdigit()"
   ]
  },
  {
   "cell_type": "code",
   "execution_count": 42,
   "id": "5d6d8f49",
   "metadata": {},
   "outputs": [
    {
     "name": "stdout",
     "output_type": "stream",
     "text": [
      "True\n"
     ]
    }
   ],
   "source": [
    "my_string = \"12345\"\n",
    "print(my_string.isdigit()) # Output: True\n"
   ]
  },
  {
   "cell_type": "markdown",
   "id": "7be2baaf",
   "metadata": {},
   "source": [
    "splitlines(): returns a list of the lines in a string, breaking at line boundaries.\n",
    "\n",
    "Syntax: string.splitlines()"
   ]
  },
  {
   "cell_type": "code",
   "execution_count": 43,
   "id": "1a5bb047",
   "metadata": {},
   "outputs": [
    {
     "name": "stdout",
     "output_type": "stream",
     "text": [
      "['Hello,', 'World!']\n"
     ]
    }
   ],
   "source": [
    "my_string = \"Hello,\\nWorld!\"\n",
    "lines = my_string.splitlines()\n",
    "print(lines) # Output: [\"Hello,\", \"World!\"]\n"
   ]
  },
  {
   "cell_type": "markdown",
   "id": "92644cde",
   "metadata": {},
   "source": [
    "# Sets:"
   ]
  },
  {
   "cell_type": "markdown",
   "id": "9a5655fb",
   "metadata": {},
   "source": [
    "It contains only unique elements so even after enterring a duplicate elemetn the set eradicates it\n"
   ]
  },
  {
   "cell_type": "code",
   "execution_count": 47,
   "id": "c9fee212",
   "metadata": {},
   "outputs": [
    {
     "name": "stdout",
     "output_type": "stream",
     "text": [
      "{1, 2, 3, 4, 5, 6}\n",
      "<class 'set'>\n",
      "<class 'set'>\n"
     ]
    }
   ],
   "source": [
    "s1={1,2,3,4,5,6,2,1}\n",
    "print(s1)\n",
    "print(type(s1))\n",
    "s2=set({1,2,3,4})\n",
    "print(type(s2))"
   ]
  },
  {
   "cell_type": "markdown",
   "id": "de4d461f",
   "metadata": {},
   "source": [
    "add(): adds an element to a set.\n",
    "\n",
    "Syntax: set.add(element)"
   ]
  },
  {
   "cell_type": "code",
   "execution_count": 48,
   "id": "06003b59",
   "metadata": {},
   "outputs": [
    {
     "name": "stdout",
     "output_type": "stream",
     "text": [
      "{1, 2, 3, 4}\n"
     ]
    }
   ],
   "source": [
    "my_set = {1, 2, 3}\n",
    "my_set.add(4)\n",
    "print(my_set) # Output: {1, 2, 3, 4}\n"
   ]
  },
  {
   "cell_type": "markdown",
   "id": "c6d0ed24",
   "metadata": {},
   "source": [
    "clear(): removes all elements from a set.\n",
    "\n",
    "Syntax: set.clear()"
   ]
  },
  {
   "cell_type": "code",
   "execution_count": 49,
   "id": "a0c6b178",
   "metadata": {},
   "outputs": [
    {
     "name": "stdout",
     "output_type": "stream",
     "text": [
      "set()\n"
     ]
    }
   ],
   "source": [
    "my_set = {1, 2, 3}\n",
    "my_set.clear()\n",
    "print(my_set) # Output: set()\n"
   ]
  },
  {
   "cell_type": "markdown",
   "id": "b32aff85",
   "metadata": {},
   "source": [
    "copy(): returns a shallow copy of a set.\n",
    "\n",
    "Syntax: set.copy()"
   ]
  },
  {
   "cell_type": "code",
   "execution_count": 50,
   "id": "08b6b69d",
   "metadata": {},
   "outputs": [
    {
     "name": "stdout",
     "output_type": "stream",
     "text": [
      "{1, 2, 3}\n"
     ]
    }
   ],
   "source": [
    "my_set = {1, 2, 3}\n",
    "new_set = my_set.copy()\n",
    "print(new_set) # Output: {1, 2, 3}\n"
   ]
  },
  {
   "cell_type": "markdown",
   "id": "f26d7422",
   "metadata": {},
   "source": [
    "difference(): returns the difference between two sets as a new set.\n",
    "\n",
    "Syntax: set1.difference(set2)"
   ]
  },
  {
   "cell_type": "code",
   "execution_count": 51,
   "id": "5569cd06",
   "metadata": {},
   "outputs": [
    {
     "name": "stdout",
     "output_type": "stream",
     "text": [
      "{1}\n"
     ]
    }
   ],
   "source": [
    "set1 = {1, 2, 3}\n",
    "set2 = {2, 3, 4}\n",
    "new_set = set1.difference(set2)\n",
    "print(new_set) # Output: {1}\n"
   ]
  },
  {
   "cell_type": "markdown",
   "id": "28c4f057",
   "metadata": {},
   "source": [
    "intersection(): returns the intersection of two or more sets as a new set.\n",
    "\n",
    "Syntax: set1.intersection(set2, set3, ...)\n",
    "\n",
    "Example:"
   ]
  },
  {
   "cell_type": "code",
   "execution_count": 53,
   "id": "0aade3c1",
   "metadata": {},
   "outputs": [
    {
     "name": "stdout",
     "output_type": "stream",
     "text": [
      "{2, 3}\n"
     ]
    }
   ],
   "source": [
    "set1 = {1, 2, 3}\n",
    "set2 = {2, 3, 4}\n",
    "new_set = set1.intersection(set2)\n",
    "print(new_set) # Output: {2, 3}\n"
   ]
  },
  {
   "cell_type": "markdown",
   "id": "e3ec7ec8",
   "metadata": {},
   "source": [
    "isdisjoint(): returns True if two sets have no common elements, and False otherwise.\n",
    "\n",
    "Syntax: set1.isdisjoint(set2)"
   ]
  },
  {
   "cell_type": "markdown",
   "id": "43075107",
   "metadata": {},
   "source": [
    "set1 = {1, 2, 3}\n",
    "set2 = {4, 5, 6}\n",
    "print(set1.isdisjoint(set2)) # Output: True\n"
   ]
  },
  {
   "cell_type": "markdown",
   "id": "b0da7ea6",
   "metadata": {},
   "source": [
    "issubset(): returns True if all elements of a set are present in another set, and False otherwise.\n",
    "\n",
    "Syntax: set1.issubset(set2)"
   ]
  },
  {
   "cell_type": "code",
   "execution_count": 56,
   "id": "24cb30cf",
   "metadata": {},
   "outputs": [
    {
     "name": "stdout",
     "output_type": "stream",
     "text": [
      "True\n"
     ]
    }
   ],
   "source": [
    "set1 = {1, 2}\n",
    "set2 = {1, 2, 3}\n",
    "print(set1.issubset(set2)) # Output: True\n"
   ]
  },
  {
   "cell_type": "markdown",
   "id": "b6a5c1c2",
   "metadata": {},
   "source": [
    "issuperset(): returns True if a set contains all elements of another set, and False otherwise.\n",
    "\n",
    "Syntax: set1.issuperset(set2)"
   ]
  },
  {
   "cell_type": "code",
   "execution_count": 57,
   "id": "a22cc644",
   "metadata": {},
   "outputs": [
    {
     "name": "stdout",
     "output_type": "stream",
     "text": [
      "True\n"
     ]
    }
   ],
   "source": [
    "set1 = {1, 2, 3}\n",
    "set2 = {1, 2}\n",
    "print(set1.issuperset(set2)) # Output: True\n"
   ]
  },
  {
   "cell_type": "markdown",
   "id": "2c41f0ad",
   "metadata": {},
   "source": [
    "remove(): removes an element from a set, raising a KeyError if the element is not found.\n",
    "\n",
    "Syntax: set.remove(element)"
   ]
  },
  {
   "cell_type": "code",
   "execution_count": 58,
   "id": "d30248e9",
   "metadata": {},
   "outputs": [
    {
     "name": "stdout",
     "output_type": "stream",
     "text": [
      "{1, 3}\n"
     ]
    }
   ],
   "source": [
    "my_set = {1, 2, 3}\n",
    "my_set.remove(2)\n",
    "print(my_set) # Output: {1, 3}\n"
   ]
  },
  {
   "cell_type": "markdown",
   "id": "ffb49e3a",
   "metadata": {},
   "source": [
    "discard(): removes an element from a set if it is a member, and does nothing if the element is not found.\n",
    "\n",
    "Syntax: `set.discard(element)"
   ]
  },
  {
   "cell_type": "code",
   "execution_count": 67,
   "id": "132b09c4",
   "metadata": {},
   "outputs": [
    {
     "name": "stdout",
     "output_type": "stream",
     "text": [
      "{1, 3}\n"
     ]
    }
   ],
   "source": [
    "my_set = {1, 2, 3}\n",
    "my_set.discard(2)\n",
    "my_set.discard(4)\n",
    "print(my_set) # Output: {1, 3}"
   ]
  },
  {
   "cell_type": "markdown",
   "id": "124487d7",
   "metadata": {},
   "source": [
    "pop(): removes and returns an arbitrary element from a set.\n",
    "\n",
    "Syntax: set.pop()"
   ]
  },
  {
   "cell_type": "code",
   "execution_count": 60,
   "id": "6f904ebe",
   "metadata": {},
   "outputs": [
    {
     "name": "stdout",
     "output_type": "stream",
     "text": [
      "1\n",
      "{2, 3}\n"
     ]
    }
   ],
   "source": [
    "my_set = {1, 2, 3}\n",
    "x = my_set.pop()\n",
    "print(x) # Output: 1\n",
    "print(my_set) # Output: {2, 3}\n"
   ]
  },
  {
   "cell_type": "markdown",
   "id": "e5dde098",
   "metadata": {},
   "source": [
    "union(): returns the union of two or more sets as a new set.\n",
    "\n",
    "Syntax: set1.union(set2, set3, ...)"
   ]
  },
  {
   "cell_type": "code",
   "execution_count": 61,
   "id": "a0aa2d56",
   "metadata": {},
   "outputs": [
    {
     "name": "stdout",
     "output_type": "stream",
     "text": [
      "{1, 2, 3, 4}\n"
     ]
    }
   ],
   "source": [
    "set1 = {1, 2, 3}\n",
    "set2 = {2, 3, 4}\n",
    "new_set = set1.union(set2)\n",
    "print(new_set) # Output: {1, 2, 3, 4}\n"
   ]
  },
  {
   "cell_type": "markdown",
   "id": "8d475fcc",
   "metadata": {},
   "source": [
    "update(): updates a set with the union of itself and others.\n",
    "\n",
    "Syntax: set.update(set2, set3, ...)"
   ]
  },
  {
   "cell_type": "code",
   "execution_count": 63,
   "id": "38b71e69",
   "metadata": {},
   "outputs": [
    {
     "name": "stdout",
     "output_type": "stream",
     "text": [
      "{1, 2, 3, 4}\n"
     ]
    }
   ],
   "source": [
    "set1 = {1, 2, 3}\n",
    "set2 = {2, 3, 4}\n",
    "set1.update(set2)\n",
    "print(set1) # Output: {1, 2, 3, 4}\n"
   ]
  },
  {
   "cell_type": "markdown",
   "id": "859c24fc",
   "metadata": {},
   "source": [
    "difference_update(): removes all elements of another set from a set.\n",
    "\n",
    "Syntax: set1.difference_update(set2)"
   ]
  },
  {
   "cell_type": "code",
   "execution_count": 64,
   "id": "bcaa74f8",
   "metadata": {},
   "outputs": [
    {
     "name": "stdout",
     "output_type": "stream",
     "text": [
      "{1}\n"
     ]
    }
   ],
   "source": [
    "set1 = {1, 2, 3}\n",
    "set2 = {2, 3, 4}\n",
    "set1.difference_update(set2)\n",
    "print(set1) # Output: {1}\n"
   ]
  },
  {
   "cell_type": "markdown",
   "id": "46861bc7",
   "metadata": {},
   "source": [
    "symmetric_difference(): returns the symmetric difference of two sets as a new set (i.e., the set of elements that are in either of the sets, but not in both).\n",
    "\n",
    "Syntax: set1.symmetric_difference(set2)"
   ]
  },
  {
   "cell_type": "code",
   "execution_count": 65,
   "id": "a2c69a95",
   "metadata": {},
   "outputs": [
    {
     "name": "stdout",
     "output_type": "stream",
     "text": [
      "{1, 4}\n"
     ]
    }
   ],
   "source": [
    "set1 = {1, 2, 3}\n",
    "set2 = {2, 3, 4}\n",
    "new_set = set1.symmetric_difference(set2)\n",
    "print(new_set) # Output: {1, 4}\n"
   ]
  },
  {
   "cell_type": "markdown",
   "id": "10f97603",
   "metadata": {},
   "source": [
    "# Dictionaries:"
   ]
  },
  {
   "cell_type": "markdown",
   "id": "b4d063dd",
   "metadata": {},
   "source": [
    "len(): returns the number of key-value pairs in a dictionary.\n",
    "\n",
    "Syntax: len(dict)"
   ]
  },
  {
   "cell_type": "code",
   "execution_count": 68,
   "id": "8c6fdb53",
   "metadata": {},
   "outputs": [
    {
     "name": "stdout",
     "output_type": "stream",
     "text": [
      "3\n"
     ]
    }
   ],
   "source": [
    "my_dict = {'apple': 2, 'banana': 3, 'orange': 4}\n",
    "print(len(my_dict)) # Output: 3\n"
   ]
  },
  {
   "cell_type": "markdown",
   "id": "1c8881a1",
   "metadata": {},
   "source": [
    "keys(): returns a list of all the keys in a dictionary.\n",
    "\n",
    "Syntax: dict.keys()"
   ]
  },
  {
   "cell_type": "code",
   "execution_count": 69,
   "id": "b2c454aa",
   "metadata": {},
   "outputs": [
    {
     "name": "stdout",
     "output_type": "stream",
     "text": [
      "dict_keys(['apple', 'banana', 'orange'])\n"
     ]
    }
   ],
   "source": [
    "my_dict = {'apple': 2, 'banana': 3, 'orange': 4}\n",
    "print(my_dict.keys()) # Output: ['apple', 'banana', 'orange']\n"
   ]
  },
  {
   "cell_type": "markdown",
   "id": "dca95318",
   "metadata": {},
   "source": [
    "values(): returns a list of all the values in a dictionary.\n",
    "\n",
    "Syntax: dict.values()"
   ]
  },
  {
   "cell_type": "code",
   "execution_count": 70,
   "id": "5281706c",
   "metadata": {},
   "outputs": [
    {
     "name": "stdout",
     "output_type": "stream",
     "text": [
      "dict_values([2, 3, 4])\n"
     ]
    }
   ],
   "source": [
    "my_dict = {'apple': 2, 'banana': 3, 'orange': 4}\n",
    "print(my_dict.values()) # Output: [2, 3, 4]\n"
   ]
  },
  {
   "cell_type": "markdown",
   "id": "e0e94699",
   "metadata": {},
   "source": [
    "items(): returns a list of all the key-value pairs in a dictionary.\n",
    "\n",
    "Syntax: dict.items()"
   ]
  },
  {
   "cell_type": "code",
   "execution_count": 71,
   "id": "f6e27d6e",
   "metadata": {},
   "outputs": [
    {
     "name": "stdout",
     "output_type": "stream",
     "text": [
      "dict_items([('apple', 2), ('banana', 3), ('orange', 4)])\n"
     ]
    }
   ],
   "source": [
    "my_dict = {'apple': 2, 'banana': 3, 'orange': 4}\n",
    "print(my_dict.items()) # Output: [('apple', 2), ('banana', 3), ('orange', 4)]\n"
   ]
  },
  {
   "cell_type": "markdown",
   "id": "22caa9bb",
   "metadata": {},
   "source": [
    "get(): returns the value of a specified key. If the key does not exist, it returns the default value (None by default).\n",
    "\n",
    "Syntax: dict.get(key, default=None)"
   ]
  },
  {
   "cell_type": "code",
   "execution_count": 84,
   "id": "231154f1",
   "metadata": {},
   "outputs": [
    {
     "name": "stdout",
     "output_type": "stream",
     "text": [
      "2\n",
      "None\n",
      "0\n",
      "2\n"
     ]
    }
   ],
   "source": [
    "my_dict = {'apple': 2, 'banana': 3, 'orange': 4}\n",
    "print(my_dict.get('apple')) # Output: 2\n",
    "print(my_dict.get('peach')) # Output: None\n",
    "print(my_dict.get('peach', 0)) # Output: 0\n",
    "print(my_dict[\"apple\"])"
   ]
  },
  {
   "cell_type": "markdown",
   "id": "f53331ea",
   "metadata": {},
   "source": [
    "pop(): removes and returns the value of a specified key.\n",
    "\n",
    "Syntax: dict.pop(key, default=None)"
   ]
  },
  {
   "cell_type": "code",
   "execution_count": 74,
   "id": "555b345e",
   "metadata": {},
   "outputs": [
    {
     "name": "stdout",
     "output_type": "stream",
     "text": [
      "2\n",
      "{'banana': 3, 'orange': 4}\n"
     ]
    }
   ],
   "source": [
    "my_dict = {'apple': 2, 'banana': 3, 'orange': 4}\n",
    "x = my_dict.pop('apple')\n",
    "print(x) # Output: 2\n",
    "print(my_dict) # Output: {'banana': 3, 'orange': 4}\n"
   ]
  },
  {
   "cell_type": "markdown",
   "id": "7b6dc6cb",
   "metadata": {},
   "source": [
    "popitem(): removes and returns the last key-value pair in a dictionary.\n",
    "\n",
    "Syntax: dict.popitem()"
   ]
  },
  {
   "cell_type": "code",
   "execution_count": 75,
   "id": "6616fe2b",
   "metadata": {},
   "outputs": [
    {
     "name": "stdout",
     "output_type": "stream",
     "text": [
      "('orange', 4)\n",
      "{'apple': 2, 'banana': 3}\n"
     ]
    }
   ],
   "source": [
    "my_dict = {'apple': 2, 'banana': 3, 'orange': 4}\n",
    "x = my_dict.popitem()\n",
    "print(x) # Output: ('orange', 4)\n",
    "print(my_dict) # Output: {'apple': 2, 'banana': 3}\n"
   ]
  },
  {
   "cell_type": "markdown",
   "id": "ae5cac0d",
   "metadata": {},
   "source": [
    "clear(): removes all the key-value pairs in a dictionary.\n",
    "\n",
    "Syntax: dict.clear()\n",
    "\n"
   ]
  },
  {
   "cell_type": "code",
   "execution_count": 76,
   "id": "2e83b661",
   "metadata": {},
   "outputs": [
    {
     "name": "stdout",
     "output_type": "stream",
     "text": [
      "{}\n"
     ]
    }
   ],
   "source": [
    "my_dict = {'apple': 2, 'banana': 3, 'orange': 4}\n",
    "my_dict.clear()\n",
    "print(my_dict) # Output: {}\n"
   ]
  },
  {
   "cell_type": "markdown",
   "id": "5b93b3d1",
   "metadata": {},
   "source": [
    "copy(): returns a shallow copy of a dictionary.\n",
    "\n",
    "Syntax: dict.copy()"
   ]
  },
  {
   "cell_type": "code",
   "execution_count": 77,
   "id": "44e9450f",
   "metadata": {},
   "outputs": [
    {
     "name": "stdout",
     "output_type": "stream",
     "text": [
      "{'apple': 2, 'banana': 3, 'orange': 4}\n"
     ]
    }
   ],
   "source": [
    "my_dict = {'apple': 2, 'banana': 3, 'orange': 4}\n",
    "new_dict = my_dict.copy()\n",
    "print(new_dict) # Output: {'apple': 2, 'banana': 3, 'orange': 4}\n"
   ]
  },
  {
   "cell_type": "markdown",
   "id": "9b375b81",
   "metadata": {},
   "source": [
    "update(): updates a dictionary with the key-value pairs from another dictionary or an iterable object.\n",
    "\n",
    "Syntax: dict.update(iterable)"
   ]
  },
  {
   "cell_type": "code",
   "execution_count": 78,
   "id": "b21a992e",
   "metadata": {},
   "outputs": [
    {
     "name": "stdout",
     "output_type": "stream",
     "text": [
      "{'apple': 2, 'banana': 3, 'orange': 4, 'peach': 5}\n"
     ]
    }
   ],
   "source": [
    "my_dict = {'apple': 2, 'banana': 3}\n",
    "my_dict.update({'orange': 4, 'peach': 5})\n",
    "print(my_dict) # Output: {'apple': 2, 'banana': 3, 'orange': 4, 'peach': 5}\n"
   ]
  },
  {
   "cell_type": "markdown",
   "id": "ceefbe23",
   "metadata": {},
   "source": [
    "setdefault(): returns the value of a specified key. If the key does not exist, it adds the key-value pair to the dictionary with the specified default value.\n",
    "\n",
    "Syntax: dict.setdefault(key, default=None)"
   ]
  },
  {
   "cell_type": "code",
   "execution_count": 79,
   "id": "7e950408",
   "metadata": {},
   "outputs": [
    {
     "name": "stdout",
     "output_type": "stream",
     "text": [
      "4\n",
      "{'apple': 2, 'banana': 3, 'orange': 4}\n"
     ]
    }
   ],
   "source": [
    "my_dict = {'apple': 2, 'banana': 3}\n",
    "x = my_dict.setdefault('orange', 4)\n",
    "print(x) # Output: 4\n",
    "print(my_dict) # Output: {'apple': 2, 'banana': 3, 'orange': 4}\n"
   ]
  },
  {
   "cell_type": "markdown",
   "id": "057b7351",
   "metadata": {},
   "source": [
    "fromkeys(): creates a new dictionary with the specified keys and a default value.\n",
    "\n",
    "Syntax: dict.fromkeys(keys, value=None)"
   ]
  },
  {
   "cell_type": "code",
   "execution_count": 80,
   "id": "da3da21b",
   "metadata": {},
   "outputs": [
    {
     "name": "stdout",
     "output_type": "stream",
     "text": [
      "{'apple': 0, 'banana': 0, 'orange': 0}\n"
     ]
    }
   ],
   "source": [
    "keys = ['apple', 'banana', 'orange']\n",
    "values = 0\n",
    "my_dict = dict.fromkeys(keys, values)\n",
    "print(my_dict) # Output: {'apple': 0, 'banana': 0, 'orange': 0}\n"
   ]
  },
  {
   "cell_type": "markdown",
   "id": "716d1d16",
   "metadata": {},
   "source": [
    "# Checking pallindrome string after avoiding non alphanumerica character:"
   ]
  },
  {
   "cell_type": "code",
   "execution_count": 115,
   "id": "1cf8cd27",
   "metadata": {},
   "outputs": [],
   "source": [
    "def c_p(s):\n",
    "    s=s.lower()\n",
    "    s1=s[::-1]\n",
    "    i=0\n",
    "    j=0\n",
    "    n=len(s)\n",
    "    while i<n and j<n:\n",
    "        if(s[i].isalnum()==False):i+=1\n",
    "        elif(s1[j].isalnum()==False):j+=1\n",
    "        elif s[i]==s1[j]:\n",
    "            i+=1\n",
    "            j+=1\n",
    "        else:return False\n",
    "    else: return True\n",
    "        "
   ]
  },
  {
   "cell_type": "code",
   "execution_count": 116,
   "id": "b6d2a837",
   "metadata": {},
   "outputs": [],
   "source": [
    "s=\"11@#$sAs1^1\""
   ]
  },
  {
   "cell_type": "code",
   "execution_count": 117,
   "id": "e7d29a1f",
   "metadata": {},
   "outputs": [
    {
     "name": "stdout",
     "output_type": "stream",
     "text": [
      "True\n"
     ]
    }
   ],
   "source": [
    "print(c_p(s))"
   ]
  },
  {
   "cell_type": "code",
   "execution_count": 1,
   "id": "183faf22",
   "metadata": {},
   "outputs": [
    {
     "name": "stdout",
     "output_type": "stream",
     "text": [
      "Requirement already satisfied: nbconvert[qtpdf] in c:\\python3.9\\lib\\site-packages (7.2.9)\n",
      "Requirement already satisfied: jupyterlab-pygments in c:\\python3.9\\lib\\site-packages (from nbconvert[qtpdf]) (0.1.2)\n",
      "Requirement already satisfied: jinja2>=3.0 in c:\\python3.9\\lib\\site-packages (from nbconvert[qtpdf]) (3.1.2)\n",
      "Requirement already satisfied: packaging in c:\\python3.9\\lib\\site-packages (from nbconvert[qtpdf]) (23.0)\n",
      "Requirement already satisfied: pygments>=2.4.1 in c:\\python3.9\\lib\\site-packages (from nbconvert[qtpdf]) (2.9.0)\n",
      "Requirement already satisfied: tinycss2 in c:\\python3.9\\lib\\site-packages (from nbconvert[qtpdf]) (1.2.1)\n",
      "Requirement already satisfied: beautifulsoup4 in c:\\python3.9\\lib\\site-packages (from nbconvert[qtpdf]) (4.9.3)\n",
      "Requirement already satisfied: bleach in c:\\python3.9\\lib\\site-packages (from nbconvert[qtpdf]) (4.0.0)\n",
      "Requirement already satisfied: nbformat>=5.1 in c:\\python3.9\\lib\\site-packages (from nbconvert[qtpdf]) (5.7.3)\n",
      "Requirement already satisfied: importlib-metadata>=3.6 in c:\\python3.9\\lib\\site-packages (from nbconvert[qtpdf]) (4.11.0)\n",
      "Requirement already satisfied: mistune<3,>=2.0.3 in c:\\python3.9\\lib\\site-packages (from nbconvert[qtpdf]) (2.0.5)\n",
      "Requirement already satisfied: jupyter-core>=4.7 in c:\\python3.9\\lib\\site-packages (from nbconvert[qtpdf]) (5.2.0)\n",
      "Requirement already satisfied: nbclient>=0.5.0 in c:\\python3.9\\lib\\site-packages (from nbconvert[qtpdf]) (0.5.3)\n",
      "Requirement already satisfied: pandocfilters>=1.4.1 in c:\\python3.9\\lib\\site-packages (from nbconvert[qtpdf]) (1.4.3)\n",
      "Requirement already satisfied: traitlets>=5.0 in c:\\python3.9\\lib\\site-packages (from nbconvert[qtpdf]) (5.9.0)\n",
      "Requirement already satisfied: markupsafe>=2.0 in c:\\python3.9\\lib\\site-packages (from nbconvert[qtpdf]) (2.0.1)\n",
      "Requirement already satisfied: defusedxml in c:\\python3.9\\lib\\site-packages (from nbconvert[qtpdf]) (0.7.1)\n",
      "Requirement already satisfied: zipp>=0.5 in c:\\python3.9\\lib\\site-packages (from importlib-metadata>=3.6->nbconvert[qtpdf]) (3.7.0)\n",
      "Requirement already satisfied: platformdirs>=2.5 in c:\\python3.9\\lib\\site-packages (from jupyter-core>=4.7->nbconvert[qtpdf]) (3.1.0)\n",
      "Requirement already satisfied: pywin32>=1.0 in c:\\python3.9\\lib\\site-packages (from jupyter-core>=4.7->nbconvert[qtpdf]) (300)\n",
      "Requirement already satisfied: jupyter-client>=6.1.5 in c:\\python3.9\\lib\\site-packages (from nbclient>=0.5.0->nbconvert[qtpdf]) (8.0.3)\n",
      "Requirement already satisfied: async-generator in c:\\python3.9\\lib\\site-packages (from nbclient>=0.5.0->nbconvert[qtpdf]) (1.10)\n",
      "Requirement already satisfied: nest-asyncio in c:\\python3.9\\lib\\site-packages (from nbclient>=0.5.0->nbconvert[qtpdf]) (1.5.1)\n",
      "Requirement already satisfied: fastjsonschema in c:\\python3.9\\lib\\site-packages (from nbformat>=5.1->nbconvert[qtpdf]) (2.16.3)\n",
      "Requirement already satisfied: jsonschema>=2.6 in c:\\python3.9\\lib\\site-packages (from nbformat>=5.1->nbconvert[qtpdf]) (4.17.3)\n",
      "Requirement already satisfied: soupsieve>1.2 in c:\\python3.9\\lib\\site-packages (from beautifulsoup4->nbconvert[qtpdf]) (2.2.1)\n",
      "Requirement already satisfied: webencodings in c:\\python3.9\\lib\\site-packages (from bleach->nbconvert[qtpdf]) (0.5.1)\n",
      "Requirement already satisfied: six>=1.9.0 in c:\\python3.9\\lib\\site-packages (from bleach->nbconvert[qtpdf]) (1.16.0)\n",
      "Collecting pyqtwebengine>=5.15\n",
      "  Downloading PyQtWebEngine-5.15.6-cp37-abi3-win_amd64.whl (182 kB)\n",
      "     ---------------------------------------- 0.0/182.7 kB ? eta -:--:--\n",
      "     -- ------------------------------------- 10.2/182.7 kB ? eta -:--:--\n",
      "     -- ------------------------------------- 10.2/182.7 kB ? eta -:--:--\n",
      "     -- ------------------------------------- 10.2/182.7 kB ? eta -:--:--\n",
      "     ------ ------------------------------ 30.7/182.7 kB 163.8 kB/s eta 0:00:01\n",
      "     -------- ---------------------------- 41.0/182.7 kB 163.4 kB/s eta 0:00:01\n",
      "     -------- ---------------------------- 41.0/182.7 kB 163.4 kB/s eta 0:00:01\n",
      "     -------- ---------------------------- 41.0/182.7 kB 163.4 kB/s eta 0:00:01\n",
      "     -------- ---------------------------- 41.0/182.7 kB 163.4 kB/s eta 0:00:01\n",
      "     ---------------- -------------------- 81.9/182.7 kB 183.3 kB/s eta 0:00:01\n",
      "     ---------------- -------------------- 81.9/182.7 kB 183.3 kB/s eta 0:00:01\n",
      "     ---------------- -------------------- 81.9/182.7 kB 183.3 kB/s eta 0:00:01\n",
      "     ---------------- -------------------- 81.9/182.7 kB 183.3 kB/s eta 0:00:01\n",
      "     ---------------- -------------------- 81.9/182.7 kB 183.3 kB/s eta 0:00:01\n",
      "     ------------------------ ----------- 122.9/182.7 kB 180.2 kB/s eta 0:00:01\n",
      "     ------------------------ ----------- 122.9/182.7 kB 180.2 kB/s eta 0:00:01\n",
      "     ------------------------ ----------- 122.9/182.7 kB 180.2 kB/s eta 0:00:01\n",
      "     ------------------------ ----------- 122.9/182.7 kB 180.2 kB/s eta 0:00:01\n",
      "     ---------------------------- ------- 143.4/182.7 kB 163.7 kB/s eta 0:00:01\n",
      "     -------------------------------- --- 163.8/182.7 kB 185.5 kB/s eta 0:00:01\n",
      "     -------------------------------- --- 163.8/182.7 kB 185.5 kB/s eta 0:00:01\n",
      "     -------------------------------- --- 163.8/182.7 kB 185.5 kB/s eta 0:00:01\n",
      "     -------------------------------- --- 163.8/182.7 kB 185.5 kB/s eta 0:00:01\n",
      "     ------------------------------------ 182.7/182.7 kB 167.1 kB/s eta 0:00:00\n",
      "Requirement already satisfied: pyrsistent!=0.17.0,!=0.17.1,!=0.17.2,>=0.14.0 in c:\\python3.9\\lib\\site-packages (from jsonschema>=2.6->nbformat>=5.1->nbconvert[qtpdf]) (0.18.0)\n",
      "Requirement already satisfied: attrs>=17.4.0 in c:\\python3.9\\lib\\site-packages (from jsonschema>=2.6->nbformat>=5.1->nbconvert[qtpdf]) (21.2.0)\n",
      "Requirement already satisfied: tornado>=6.2 in c:\\python3.9\\lib\\site-packages (from jupyter-client>=6.1.5->nbclient>=0.5.0->nbconvert[qtpdf]) (6.2)\n",
      "Requirement already satisfied: pyzmq>=23.0 in c:\\python3.9\\lib\\site-packages (from jupyter-client>=6.1.5->nbclient>=0.5.0->nbconvert[qtpdf]) (25.0.0)\n",
      "Requirement already satisfied: python-dateutil>=2.8.2 in c:\\python3.9\\lib\\site-packages (from jupyter-client>=6.1.5->nbclient>=0.5.0->nbconvert[qtpdf]) (2.8.2)\n",
      "Collecting PyQtWebEngine-Qt5>=5.15.0\n",
      "  Downloading PyQtWebEngine_Qt5-5.15.2-py3-none-win_amd64.whl (60.0 MB)\n",
      "     ---------------------------------------- 0.0/60.0 MB ? eta -:--:--\n",
      "     ---------------------------------------- 0.0/60.0 MB 1.3 MB/s eta 0:00:47\n",
      "     --------------------------------------- 0.0/60.0 MB 393.8 kB/s eta 0:02:33\n",
      "     --------------------------------------- 0.1/60.0 MB 544.7 kB/s eta 0:01:51\n",
      "     --------------------------------------- 0.1/60.0 MB 774.0 kB/s eta 0:01:18\n",
      "     --------------------------------------- 0.1/60.0 MB 774.0 kB/s eta 0:01:18\n",
      "     --------------------------------------- 0.1/60.0 MB 774.0 kB/s eta 0:01:18\n",
      "     --------------------------------------- 0.1/60.0 MB 774.0 kB/s eta 0:01:18\n",
      "     --------------------------------------- 0.1/60.0 MB 774.0 kB/s eta 0:01:18\n",
      "     --------------------------------------- 0.2/60.0 MB 403.5 kB/s eta 0:02:29\n",
      "     --------------------------------------- 0.2/60.0 MB 403.5 kB/s eta 0:02:29\n",
      "     --------------------------------------- 0.2/60.0 MB 403.5 kB/s eta 0:02:29\n",
      "     --------------------------------------- 0.2/60.0 MB 403.5 kB/s eta 0:02:29\n",
      "     --------------------------------------- 0.2/60.0 MB 403.5 kB/s eta 0:02:29\n",
      "     --------------------------------------- 0.2/60.0 MB 303.5 kB/s eta 0:03:18\n",
      "     --------------------------------------- 0.4/60.0 MB 520.9 kB/s eta 0:01:55\n",
      "     --------------------------------------- 0.4/60.0 MB 520.9 kB/s eta 0:01:55\n",
      "     --------------------------------------- 0.4/60.0 MB 520.9 kB/s eta 0:01:55\n",
      "     --------------------------------------- 0.4/60.0 MB 520.9 kB/s eta 0:01:55\n",
      "     --------------------------------------- 0.4/60.0 MB 520.9 kB/s eta 0:01:55\n",
      "     --------------------------------------- 0.4/60.0 MB 520.9 kB/s eta 0:01:55\n",
      "     --------------------------------------- 0.4/60.0 MB 520.9 kB/s eta 0:01:55\n",
      "     --------------------------------------- 0.4/60.0 MB 520.9 kB/s eta 0:01:55\n",
      "     --------------------------------------- 0.4/60.0 MB 395.0 kB/s eta 0:02:31\n",
      "     --------------------------------------- 0.4/60.0 MB 395.0 kB/s eta 0:02:31\n",
      "     --------------------------------------- 0.4/60.0 MB 395.0 kB/s eta 0:02:31\n",
      "     --------------------------------------- 0.4/60.0 MB 395.0 kB/s eta 0:02:31\n",
      "     --------------------------------------- 0.4/60.0 MB 395.0 kB/s eta 0:02:31\n",
      "     --------------------------------------- 0.5/60.0 MB 351.7 kB/s eta 0:02:50\n",
      "     --------------------------------------- 0.6/60.0 MB 457.1 kB/s eta 0:02:10\n",
      "     --------------------------------------- 0.6/60.0 MB 457.1 kB/s eta 0:02:10\n",
      "     --------------------------------------- 0.6/60.0 MB 446.5 kB/s eta 0:02:13\n",
      "     --------------------------------------- 0.6/60.0 MB 446.5 kB/s eta 0:02:13\n",
      "     --------------------------------------- 0.6/60.0 MB 446.5 kB/s eta 0:02:13\n",
      "     --------------------------------------- 0.6/60.0 MB 446.5 kB/s eta 0:02:13\n",
      "     --------------------------------------- 0.6/60.0 MB 446.5 kB/s eta 0:02:13\n",
      "     --------------------------------------- 0.7/60.0 MB 398.1 kB/s eta 0:02:30\n",
      "     --------------------------------------- 0.7/60.0 MB 406.4 kB/s eta 0:02:26\n",
      "     --------------------------------------- 0.7/60.0 MB 406.4 kB/s eta 0:02:26\n",
      "     --------------------------------------- 0.7/60.0 MB 406.4 kB/s eta 0:02:26\n",
      "     --------------------------------------- 0.7/60.0 MB 406.4 kB/s eta 0:02:26\n",
      "     --------------------------------------- 0.7/60.0 MB 406.4 kB/s eta 0:02:26\n",
      "     --------------------------------------- 0.7/60.0 MB 367.0 kB/s eta 0:02:42\n",
      "      -------------------------------------- 0.9/60.0 MB 455.7 kB/s eta 0:02:10\n",
      "      -------------------------------------- 0.9/60.0 MB 455.7 kB/s eta 0:02:10\n",
      "      -------------------------------------- 0.9/60.0 MB 455.7 kB/s eta 0:02:10\n",
      "      -------------------------------------- 0.9/60.0 MB 455.7 kB/s eta 0:02:10\n",
      "      -------------------------------------- 0.9/60.0 MB 455.7 kB/s eta 0:02:10\n",
      "      -------------------------------------- 0.9/60.0 MB 455.7 kB/s eta 0:02:10\n",
      "      -------------------------------------- 0.9/60.0 MB 455.7 kB/s eta 0:02:10\n",
      "      -------------------------------------- 1.0/60.0 MB 407.3 kB/s eta 0:02:25\n",
      "      -------------------------------------- 1.0/60.0 MB 407.3 kB/s eta 0:02:25\n",
      "      -------------------------------------- 1.0/60.0 MB 407.3 kB/s eta 0:02:25\n",
      "      -------------------------------------- 1.0/60.0 MB 407.3 kB/s eta 0:02:25\n",
      "      -------------------------------------- 1.0/60.0 MB 407.3 kB/s eta 0:02:25\n",
      "      -------------------------------------- 1.0/60.0 MB 407.3 kB/s eta 0:02:25\n",
      "      -------------------------------------- 1.0/60.0 MB 407.3 kB/s eta 0:02:25\n",
      "      -------------------------------------- 1.0/60.0 MB 407.3 kB/s eta 0:02:25\n",
      "      -------------------------------------- 1.0/60.0 MB 407.3 kB/s eta 0:02:25\n",
      "      -------------------------------------- 1.0/60.0 MB 407.3 kB/s eta 0:02:25\n",
      "      -------------------------------------- 1.0/60.0 MB 407.3 kB/s eta 0:02:25\n",
      "      -------------------------------------- 1.0/60.0 MB 407.3 kB/s eta 0:02:25\n",
      "      -------------------------------------- 1.0/60.0 MB 407.3 kB/s eta 0:02:25\n",
      "      -------------------------------------- 1.0/60.0 MB 327.6 kB/s eta 0:03:01\n",
      "      -------------------------------------- 1.2/60.0 MB 391.1 kB/s eta 0:02:31\n",
      "      -------------------------------------- 1.2/60.0 MB 392.5 kB/s eta 0:02:30\n",
      "      -------------------------------------- 1.2/60.0 MB 392.5 kB/s eta 0:02:30\n",
      "      -------------------------------------- 1.2/60.0 MB 392.5 kB/s eta 0:02:30\n",
      "      -------------------------------------- 1.2/60.0 MB 392.5 kB/s eta 0:02:30\n",
      "      -------------------------------------- 1.2/60.0 MB 372.2 kB/s eta 0:02:38\n",
      "      -------------------------------------- 1.3/60.0 MB 387.5 kB/s eta 0:02:32\n",
      "      -------------------------------------- 1.3/60.0 MB 388.2 kB/s eta 0:02:32\n",
      "      -------------------------------------- 1.4/60.0 MB 399.2 kB/s eta 0:02:27\n",
      "      -------------------------------------- 1.4/60.0 MB 399.2 kB/s eta 0:02:27\n",
      "      -------------------------------------- 1.4/60.0 MB 399.2 kB/s eta 0:02:27\n",
      "      -------------------------------------- 1.4/60.0 MB 399.2 kB/s eta 0:02:27\n",
      "      -------------------------------------- 1.4/60.0 MB 399.2 kB/s eta 0:02:27\n",
      "      -------------------------------------- 1.4/60.0 MB 399.2 kB/s eta 0:02:27\n",
      "      -------------------------------------- 1.4/60.0 MB 382.9 kB/s eta 0:02:34\n",
      "      -------------------------------------- 1.4/60.0 MB 382.9 kB/s eta 0:02:34\n",
      "      -------------------------------------- 1.4/60.0 MB 382.9 kB/s eta 0:02:34\n",
      "      -------------------------------------- 1.4/60.0 MB 382.9 kB/s eta 0:02:34\n",
      "      -------------------------------------- 1.4/60.0 MB 382.9 kB/s eta 0:02:34\n",
      "      -------------------------------------- 1.4/60.0 MB 366.5 kB/s eta 0:02:40\n",
      "     - ------------------------------------- 1.6/60.0 MB 416.8 kB/s eta 0:02:21\n",
      "     - ------------------------------------- 1.6/60.0 MB 416.0 kB/s eta 0:02:21\n",
      "     - ------------------------------------- 1.7/60.0 MB 416.3 kB/s eta 0:02:21\n",
      "     - ------------------------------------- 1.7/60.0 MB 416.3 kB/s eta 0:02:21\n",
      "     - ------------------------------------- 1.7/60.0 MB 416.3 kB/s eta 0:02:21\n",
      "     - ------------------------------------- 1.7/60.0 MB 416.3 kB/s eta 0:02:21\n",
      "     - ------------------------------------- 1.7/60.0 MB 416.3 kB/s eta 0:02:21\n",
      "     - ------------------------------------- 1.7/60.0 MB 396.5 kB/s eta 0:02:28\n",
      "     - ------------------------------------- 1.7/60.0 MB 397.6 kB/s eta 0:02:27\n",
      "     - ------------------------------------- 1.7/60.0 MB 397.6 kB/s eta 0:02:27\n",
      "     - ------------------------------------- 1.7/60.0 MB 397.6 kB/s eta 0:02:27\n",
      "     - ------------------------------------- 1.7/60.0 MB 397.6 kB/s eta 0:02:27\n",
      "     - ------------------------------------- 1.7/60.0 MB 397.6 kB/s eta 0:02:27\n",
      "     - ------------------------------------- 1.8/60.0 MB 385.5 kB/s eta 0:02:32\n",
      "     - ------------------------------------- 2.0/60.0 MB 430.9 kB/s eta 0:02:15\n",
      "     - ------------------------------------- 2.0/60.0 MB 430.9 kB/s eta 0:02:15\n",
      "     - ------------------------------------- 2.0/60.0 MB 430.9 kB/s eta 0:02:15\n",
      "     - ------------------------------------- 2.0/60.0 MB 430.9 kB/s eta 0:02:15\n",
      "     - ------------------------------------- 2.0/60.0 MB 430.9 kB/s eta 0:02:15\n",
      "     - ------------------------------------- 2.0/60.0 MB 430.9 kB/s eta 0:02:15\n",
      "     - ------------------------------------- 2.0/60.0 MB 430.9 kB/s eta 0:02:15\n",
      "     - ------------------------------------- 2.0/60.0 MB 430.9 kB/s eta 0:02:15\n",
      "     - ------------------------------------- 2.0/60.0 MB 430.9 kB/s eta 0:02:15\n",
      "     - ------------------------------------- 2.0/60.0 MB 430.9 kB/s eta 0:02:15\n",
      "     - ------------------------------------- 2.0/60.0 MB 430.9 kB/s eta 0:02:15\n",
      "     - ------------------------------------- 2.0/60.0 MB 430.9 kB/s eta 0:02:15\n",
      "     - ------------------------------------- 2.0/60.0 MB 430.9 kB/s eta 0:02:15\n",
      "     - ------------------------------------- 2.1/60.0 MB 397.2 kB/s eta 0:02:26\n",
      "     - ------------------------------------- 2.2/60.0 MB 425.1 kB/s eta 0:02:16\n",
      "     - ------------------------------------- 2.3/60.0 MB 427.2 kB/s eta 0:02:16\n",
      "     - ------------------------------------- 2.3/60.0 MB 429.7 kB/s eta 0:02:15\n",
      "     - ------------------------------------- 2.3/60.0 MB 429.7 kB/s eta 0:02:15\n",
      "     - ------------------------------------- 2.3/60.0 MB 429.7 kB/s eta 0:02:15\n",
      "     - ------------------------------------- 2.3/60.0 MB 429.7 kB/s eta 0:02:15\n",
      "     - ------------------------------------- 2.3/60.0 MB 429.7 kB/s eta 0:02:15\n",
      "     - ------------------------------------- 2.3/60.0 MB 418.9 kB/s eta 0:02:18\n",
      "     - ------------------------------------- 2.3/60.0 MB 418.9 kB/s eta 0:02:18\n",
      "     - ------------------------------------- 2.3/60.0 MB 418.9 kB/s eta 0:02:18\n",
      "     - ------------------------------------- 2.3/60.0 MB 418.9 kB/s eta 0:02:18\n",
      "     - ------------------------------------- 2.3/60.0 MB 418.9 kB/s eta 0:02:18\n",
      "     - ------------------------------------- 2.4/60.0 MB 408.5 kB/s eta 0:02:22\n",
      "     - ------------------------------------- 2.5/60.0 MB 426.3 kB/s eta 0:02:15\n",
      "     - ------------------------------------- 2.6/60.0 MB 445.1 kB/s eta 0:02:09\n",
      "     - ------------------------------------- 2.6/60.0 MB 445.1 kB/s eta 0:02:09\n",
      "     - ------------------------------------- 2.6/60.0 MB 445.1 kB/s eta 0:02:09\n",
      "     - ------------------------------------- 2.6/60.0 MB 445.1 kB/s eta 0:02:09\n",
      "     - ------------------------------------- 2.6/60.0 MB 445.1 kB/s eta 0:02:09\n",
      "     - ------------------------------------- 2.6/60.0 MB 445.1 kB/s eta 0:02:09\n",
      "     - ------------------------------------- 2.6/60.0 MB 445.1 kB/s eta 0:02:09\n",
      "     - ------------------------------------- 2.6/60.0 MB 445.1 kB/s eta 0:02:09\n",
      "     - ------------------------------------- 2.6/60.0 MB 445.1 kB/s eta 0:02:09\n",
      "     - ------------------------------------- 2.6/60.0 MB 445.1 kB/s eta 0:02:09\n",
      "     - ------------------------------------- 2.6/60.0 MB 445.1 kB/s eta 0:02:09\n",
      "     - ------------------------------------- 2.6/60.0 MB 445.1 kB/s eta 0:02:09\n",
      "     - ------------------------------------- 2.8/60.0 MB 432.1 kB/s eta 0:02:13\n",
      "     - ------------------------------------- 2.9/60.0 MB 440.1 kB/s eta 0:02:10\n",
      "     - ------------------------------------- 2.9/60.0 MB 440.1 kB/s eta 0:02:10\n",
      "     - ------------------------------------- 2.9/60.0 MB 446.2 kB/s eta 0:02:08\n",
      "     - ------------------------------------- 2.9/60.0 MB 446.2 kB/s eta 0:02:08\n",
      "     - ------------------------------------- 2.9/60.0 MB 446.2 kB/s eta 0:02:08\n",
      "     - ------------------------------------- 2.9/60.0 MB 446.2 kB/s eta 0:02:08\n",
      "     - ------------------------------------- 2.9/60.0 MB 446.2 kB/s eta 0:02:08\n",
      "     - ------------------------------------- 2.9/60.0 MB 446.2 kB/s eta 0:02:08\n",
      "     - ------------------------------------- 2.9/60.0 MB 446.2 kB/s eta 0:02:08\n",
      "     - ------------------------------------- 2.9/60.0 MB 446.2 kB/s eta 0:02:08\n",
      "     - ------------------------------------- 2.9/60.0 MB 446.2 kB/s eta 0:02:08\n",
      "     - ------------------------------------- 2.9/60.0 MB 446.2 kB/s eta 0:02:08\n",
      "     - ------------------------------------- 2.9/60.0 MB 446.2 kB/s eta 0:02:08\n",
      "     -- ------------------------------------ 3.1/60.0 MB 434.0 kB/s eta 0:02:12\n",
      "     -- ------------------------------------ 3.2/60.0 MB 447.9 kB/s eta 0:02:07\n",
      "     -- ------------------------------------ 3.2/60.0 MB 451.7 kB/s eta 0:02:06\n",
      "     -- ------------------------------------ 3.3/60.0 MB 455.9 kB/s eta 0:02:05\n",
      "     -- ------------------------------------ 3.3/60.0 MB 455.9 kB/s eta 0:02:05\n",
      "     -- ------------------------------------ 3.3/60.0 MB 455.9 kB/s eta 0:02:05\n",
      "     -- ------------------------------------ 3.3/60.0 MB 455.9 kB/s eta 0:02:05\n",
      "     -- ------------------------------------ 3.3/60.0 MB 455.9 kB/s eta 0:02:05\n",
      "     -- ------------------------------------ 3.3/60.0 MB 455.9 kB/s eta 0:02:05\n",
      "     -- ------------------------------------ 3.3/60.0 MB 455.9 kB/s eta 0:02:05\n",
      "     -- ------------------------------------ 3.3/60.0 MB 455.9 kB/s eta 0:02:05\n",
      "     -- ------------------------------------ 3.3/60.0 MB 455.9 kB/s eta 0:02:05\n",
      "     -- ------------------------------------ 3.3/60.0 MB 455.9 kB/s eta 0:02:05\n",
      "     -- ------------------------------------ 3.3/60.0 MB 432.9 kB/s eta 0:02:11\n",
      "     -- ------------------------------------ 3.4/60.0 MB 439.1 kB/s eta 0:02:09\n",
      "     -- ------------------------------------ 3.6/60.0 MB 457.5 kB/s eta 0:02:04\n",
      "     -- ------------------------------------ 3.6/60.0 MB 458.7 kB/s eta 0:02:03\n",
      "     -- ------------------------------------ 3.7/60.0 MB 466.0 kB/s eta 0:02:01\n",
      "     -- ------------------------------------ 3.7/60.0 MB 466.0 kB/s eta 0:02:01\n",
      "     -- ------------------------------------ 3.7/60.0 MB 466.0 kB/s eta 0:02:01\n",
      "     -- ------------------------------------ 3.7/60.0 MB 466.0 kB/s eta 0:02:01\n",
      "     -- ------------------------------------ 3.7/60.0 MB 466.0 kB/s eta 0:02:01\n",
      "     -- ------------------------------------ 3.7/60.0 MB 457.2 kB/s eta 0:02:04\n",
      "     -- ------------------------------------ 3.7/60.0 MB 457.1 kB/s eta 0:02:04\n",
      "     -- ------------------------------------ 3.7/60.0 MB 457.1 kB/s eta 0:02:04\n",
      "     -- ------------------------------------ 3.7/60.0 MB 457.1 kB/s eta 0:02:04\n",
      "     -- ------------------------------------ 3.7/60.0 MB 457.1 kB/s eta 0:02:04\n",
      "     -- ------------------------------------ 3.8/60.0 MB 454.9 kB/s eta 0:02:04\n",
      "     -- ------------------------------------ 3.9/60.0 MB 467.1 kB/s eta 0:02:01\n",
      "     -- ------------------------------------ 4.0/60.0 MB 478.7 kB/s eta 0:01:57\n",
      "     -- ------------------------------------ 4.1/60.0 MB 481.2 kB/s eta 0:01:57\n",
      "     -- ------------------------------------ 4.2/60.0 MB 487.0 kB/s eta 0:01:55\n",
      "     -- ------------------------------------ 4.2/60.0 MB 487.0 kB/s eta 0:01:55\n",
      "     -- ------------------------------------ 4.2/60.0 MB 487.0 kB/s eta 0:01:55\n",
      "     -- ------------------------------------ 4.2/60.0 MB 487.0 kB/s eta 0:01:55\n",
      "     -- ------------------------------------ 4.2/60.0 MB 487.0 kB/s eta 0:01:55\n",
      "     -- ------------------------------------ 4.2/60.0 MB 487.0 kB/s eta 0:01:55\n",
      "     -- ------------------------------------ 4.2/60.0 MB 487.0 kB/s eta 0:01:55\n",
      "     -- ------------------------------------ 4.2/60.0 MB 487.0 kB/s eta 0:01:55\n",
      "     -- ------------------------------------ 4.2/60.0 MB 487.0 kB/s eta 0:01:55\n",
      "     -- ------------------------------------ 4.2/60.0 MB 487.0 kB/s eta 0:01:55\n",
      "     -- ------------------------------------ 4.2/60.0 MB 487.0 kB/s eta 0:01:55\n",
      "     -- ------------------------------------ 4.3/60.0 MB 470.9 kB/s eta 0:01:59\n",
      "     -- ------------------------------------ 4.3/60.0 MB 474.3 kB/s eta 0:01:58\n",
      "     -- ------------------------------------ 4.5/60.0 MB 491.8 kB/s eta 0:01:53\n",
      "     --- ----------------------------------- 4.6/60.0 MB 503.8 kB/s eta 0:01:50\n",
      "     --- ----------------------------------- 4.6/60.0 MB 503.8 kB/s eta 0:01:50\n",
      "     --- ----------------------------------- 4.6/60.0 MB 503.8 kB/s eta 0:01:50\n",
      "     --- ----------------------------------- 4.6/60.0 MB 503.8 kB/s eta 0:01:50\n",
      "     --- ----------------------------------- 4.7/60.0 MB 501.4 kB/s eta 0:01:51\n",
      "     --- ----------------------------------- 4.7/60.0 MB 501.6 kB/s eta 0:01:51\n",
      "     --- ----------------------------------- 4.7/60.0 MB 501.6 kB/s eta 0:01:51\n",
      "     --- ----------------------------------- 4.7/60.0 MB 501.6 kB/s eta 0:01:51\n",
      "     --- ----------------------------------- 4.7/60.0 MB 501.6 kB/s eta 0:01:51\n",
      "     --- ----------------------------------- 4.7/60.0 MB 501.6 kB/s eta 0:01:51\n",
      "     --- ----------------------------------- 4.8/60.0 MB 496.3 kB/s eta 0:01:52\n",
      "     --- ----------------------------------- 5.0/60.0 MB 509.7 kB/s eta 0:01:48\n",
      "     --- ----------------------------------- 5.0/60.0 MB 510.4 kB/s eta 0:01:48\n",
      "     --- ----------------------------------- 5.2/60.0 MB 534.1 kB/s eta 0:01:43\n",
      "     --- ----------------------------------- 5.3/60.0 MB 536.4 kB/s eta 0:01:43\n",
      "     --- ----------------------------------- 5.3/60.0 MB 536.4 kB/s eta 0:01:43\n",
      "     --- ----------------------------------- 5.3/60.0 MB 536.4 kB/s eta 0:01:43\n",
      "     --- ----------------------------------- 5.3/60.0 MB 536.4 kB/s eta 0:01:43\n",
      "     --- ----------------------------------- 5.3/60.0 MB 529.4 kB/s eta 0:01:44\n",
      "     --- ----------------------------------- 5.3/60.0 MB 529.4 kB/s eta 0:01:44\n",
      "     --- ----------------------------------- 5.3/60.0 MB 529.4 kB/s eta 0:01:44\n",
      "     --- ----------------------------------- 5.3/60.0 MB 529.4 kB/s eta 0:01:44\n",
      "     --- ----------------------------------- 5.3/60.0 MB 529.4 kB/s eta 0:01:44\n",
      "     --- ----------------------------------- 5.5/60.0 MB 531.9 kB/s eta 0:01:43\n",
      "     --- ----------------------------------- 5.7/60.0 MB 548.1 kB/s eta 0:01:40\n",
      "     --- ----------------------------------- 5.8/60.0 MB 557.3 kB/s eta 0:01:38\n",
      "     --- ----------------------------------- 5.9/60.0 MB 564.8 kB/s eta 0:01:36\n",
      "     --- ----------------------------------- 5.9/60.0 MB 567.9 kB/s eta 0:01:36\n",
      "     --- ----------------------------------- 5.9/60.0 MB 567.9 kB/s eta 0:01:36\n",
      "     --- ----------------------------------- 5.9/60.0 MB 567.9 kB/s eta 0:01:36\n",
      "     --- ----------------------------------- 5.9/60.0 MB 567.9 kB/s eta 0:01:36\n",
      "     --- ----------------------------------- 6.0/60.0 MB 563.0 kB/s eta 0:01:36\n",
      "     --- ----------------------------------- 6.1/60.0 MB 568.9 kB/s eta 0:01:35\n",
      "     --- ----------------------------------- 6.1/60.0 MB 568.9 kB/s eta 0:01:35\n",
      "     --- ----------------------------------- 6.1/60.0 MB 568.9 kB/s eta 0:01:35\n",
      "     --- ----------------------------------- 6.1/60.0 MB 568.9 kB/s eta 0:01:35\n",
      "     --- ----------------------------------- 6.1/60.0 MB 560.3 kB/s eta 0:01:37\n",
      "     ---- ---------------------------------- 6.4/60.0 MB 586.9 kB/s eta 0:01:32\n",
      "     ---- ---------------------------------- 6.7/60.0 MB 605.9 kB/s eta 0:01:29\n",
      "     ---- ---------------------------------- 6.7/60.0 MB 609.6 kB/s eta 0:01:28\n",
      "     ---- ---------------------------------- 6.8/60.0 MB 615.5 kB/s eta 0:01:27\n",
      "     ---- ---------------------------------- 6.9/60.0 MB 615.7 kB/s eta 0:01:27\n",
      "     ---- ---------------------------------- 6.9/60.0 MB 615.7 kB/s eta 0:01:27\n",
      "     ---- ---------------------------------- 6.9/60.0 MB 615.7 kB/s eta 0:01:27\n",
      "     ---- ---------------------------------- 6.9/60.0 MB 615.7 kB/s eta 0:01:27\n",
      "     ---- ---------------------------------- 7.0/60.0 MB 618.2 kB/s eta 0:01:26\n",
      "     ---- ---------------------------------- 7.1/60.0 MB 626.4 kB/s eta 0:01:25\n",
      "     ---- ---------------------------------- 7.1/60.0 MB 626.4 kB/s eta 0:01:25\n",
      "     ---- ---------------------------------- 7.1/60.0 MB 626.4 kB/s eta 0:01:25\n",
      "     ---- ---------------------------------- 7.1/60.0 MB 626.4 kB/s eta 0:01:25\n",
      "     ---- ---------------------------------- 7.2/60.0 MB 627.0 kB/s eta 0:01:25\n",
      "     ---- ---------------------------------- 7.5/60.0 MB 645.6 kB/s eta 0:01:22\n",
      "     ---- ---------------------------------- 7.6/60.0 MB 658.0 kB/s eta 0:01:20\n",
      "     ----- --------------------------------- 7.7/60.0 MB 659.8 kB/s eta 0:01:20\n",
      "     ----- --------------------------------- 7.8/60.0 MB 665.8 kB/s eta 0:01:19\n",
      "     ----- --------------------------------- 8.0/60.0 MB 678.0 kB/s eta 0:01:17\n",
      "     ----- --------------------------------- 8.0/60.0 MB 678.0 kB/s eta 0:01:17\n",
      "     ----- --------------------------------- 8.0/60.0 MB 678.0 kB/s eta 0:01:17\n",
      "     ----- --------------------------------- 8.0/60.0 MB 678.0 kB/s eta 0:01:17\n",
      "     ----- --------------------------------- 8.1/60.0 MB 675.9 kB/s eta 0:01:17\n",
      "     ----- --------------------------------- 8.1/60.0 MB 675.9 kB/s eta 0:01:17\n",
      "     ----- --------------------------------- 8.1/60.0 MB 675.9 kB/s eta 0:01:17\n",
      "     ----- --------------------------------- 8.1/60.0 MB 675.9 kB/s eta 0:01:17\n",
      "     ----- --------------------------------- 8.1/60.0 MB 667.1 kB/s eta 0:01:18\n",
      "     ----- --------------------------------- 8.3/60.0 MB 676.3 kB/s eta 0:01:17\n",
      "     ----- --------------------------------- 8.5/60.0 MB 692.2 kB/s eta 0:01:15\n",
      "     ----- --------------------------------- 8.5/60.0 MB 692.2 kB/s eta 0:01:15\n",
      "     ----- --------------------------------- 8.6/60.0 MB 700.2 kB/s eta 0:01:14\n",
      "     ----- --------------------------------- 8.8/60.0 MB 713.3 kB/s eta 0:01:12\n",
      "     ----- --------------------------------- 8.8/60.0 MB 713.3 kB/s eta 0:01:12\n",
      "     ----- --------------------------------- 8.8/60.0 MB 713.3 kB/s eta 0:01:12\n",
      "     ----- --------------------------------- 8.8/60.0 MB 713.3 kB/s eta 0:01:12\n",
      "     ----- --------------------------------- 9.0/60.0 MB 714.0 kB/s eta 0:01:12\n",
      "     ----- --------------------------------- 9.1/60.0 MB 720.3 kB/s eta 0:01:11\n",
      "     ----- --------------------------------- 9.1/60.0 MB 720.3 kB/s eta 0:01:11\n",
      "     ----- --------------------------------- 9.1/60.0 MB 720.3 kB/s eta 0:01:11\n",
      "     ----- --------------------------------- 9.1/60.0 MB 720.3 kB/s eta 0:01:11\n",
      "     ----- --------------------------------- 9.2/60.0 MB 716.9 kB/s eta 0:01:11\n",
      "     ------ -------------------------------- 9.5/60.0 MB 738.7 kB/s eta 0:01:09\n",
      "     ------ -------------------------------- 9.6/60.0 MB 745.0 kB/s eta 0:01:08\n",
      "     ------ -------------------------------- 9.7/60.0 MB 746.9 kB/s eta 0:01:08\n",
      "     ------ -------------------------------- 9.8/60.0 MB 750.5 kB/s eta 0:01:07\n",
      "     ------ -------------------------------- 9.9/60.0 MB 759.7 kB/s eta 0:01:06\n",
      "     ------ -------------------------------- 9.9/60.0 MB 759.7 kB/s eta 0:01:06\n",
      "     ------ -------------------------------- 9.9/60.0 MB 759.7 kB/s eta 0:01:06\n",
      "     ------ -------------------------------- 9.9/60.0 MB 759.7 kB/s eta 0:01:06\n",
      "     ------ -------------------------------- 9.9/60.0 MB 759.7 kB/s eta 0:01:06\n",
      "     ------ -------------------------------- 9.9/60.0 MB 759.7 kB/s eta 0:01:06\n",
      "     ------ -------------------------------- 9.9/60.0 MB 759.7 kB/s eta 0:01:06\n",
      "     ------ -------------------------------- 9.9/60.0 MB 759.7 kB/s eta 0:01:06\n",
      "     ------ -------------------------------- 9.9/60.0 MB 759.7 kB/s eta 0:01:06\n",
      "     ------ -------------------------------- 9.9/60.0 MB 759.7 kB/s eta 0:01:06\n",
      "     ------ -------------------------------- 9.9/60.0 MB 732.5 kB/s eta 0:01:09\n",
      "     ------ ------------------------------- 10.0/60.0 MB 735.3 kB/s eta 0:01:09\n",
      "     ------ ------------------------------- 10.2/60.0 MB 746.3 kB/s eta 0:01:07\n",
      "     ------ ------------------------------- 10.3/60.0 MB 750.0 kB/s eta 0:01:07\n",
      "     ------ ------------------------------- 10.3/60.0 MB 752.5 kB/s eta 0:01:07\n",
      "     ------ ------------------------------- 10.3/60.0 MB 752.5 kB/s eta 0:01:07\n",
      "     ------ ------------------------------- 10.3/60.0 MB 752.5 kB/s eta 0:01:07\n",
      "     ------ ------------------------------- 10.4/60.0 MB 774.7 kB/s eta 0:01:04\n",
      "     ------ ------------------------------- 10.5/60.0 MB 774.8 kB/s eta 0:01:04\n",
      "     ------ ------------------------------- 10.5/60.0 MB 774.8 kB/s eta 0:01:04\n",
      "     ------ ------------------------------- 10.5/60.0 MB 774.8 kB/s eta 0:01:04\n",
      "     ------ ------------------------------- 10.5/60.0 MB 774.8 kB/s eta 0:01:04\n",
      "     ------ ------------------------------- 10.6/60.0 MB 764.0 kB/s eta 0:01:05\n",
      "     ------ ------------------------------- 10.8/60.0 MB 799.4 kB/s eta 0:01:02\n",
      "     ------ ------------------------------- 11.0/60.0 MB 838.3 kB/s eta 0:00:59\n",
      "     ------ ------------------------------- 11.0/60.0 MB 836.2 kB/s eta 0:00:59\n",
      "     ------- ------------------------------ 11.2/60.0 MB 903.0 kB/s eta 0:00:54\n",
      "     ------- ------------------------------ 11.4/60.0 MB 901.8 kB/s eta 0:00:54\n",
      "     ------- ------------------------------ 11.4/60.0 MB 901.9 kB/s eta 0:00:54\n",
      "     ------- ------------------------------ 11.4/60.0 MB 901.9 kB/s eta 0:00:54\n",
      "     ------- ------------------------------ 11.4/60.0 MB 901.9 kB/s eta 0:00:54\n",
      "     ------- ------------------------------ 11.4/60.0 MB 901.9 kB/s eta 0:00:54\n",
      "     ------- ------------------------------ 11.4/60.0 MB 901.9 kB/s eta 0:00:54\n",
      "     ------- ------------------------------ 11.4/60.0 MB 901.9 kB/s eta 0:00:54\n",
      "     ------- ------------------------------ 11.4/60.0 MB 901.9 kB/s eta 0:00:54\n",
      "     ------- ------------------------------ 11.4/60.0 MB 901.9 kB/s eta 0:00:54\n",
      "     ------- ------------------------------ 11.4/60.0 MB 901.9 kB/s eta 0:00:54\n",
      "     ------- ------------------------------ 11.4/60.0 MB 901.9 kB/s eta 0:00:54\n",
      "     ------- ------------------------------ 11.4/60.0 MB 901.9 kB/s eta 0:00:54\n",
      "     ------- ------------------------------ 11.4/60.0 MB 878.8 kB/s eta 0:00:56\n",
      "     ------- ------------------------------ 11.6/60.0 MB 903.0 kB/s eta 0:00:54\n",
      "     ------- ------------------------------ 11.8/60.0 MB 923.4 kB/s eta 0:00:53\n",
      "     ------- ------------------------------ 11.8/60.0 MB 923.4 kB/s eta 0:00:53\n",
      "     ------- ------------------------------ 11.8/60.0 MB 923.4 kB/s eta 0:00:53\n",
      "     ------- ------------------------------ 11.8/60.0 MB 923.4 kB/s eta 0:00:53\n",
      "     ------- ------------------------------ 11.8/60.0 MB 923.4 kB/s eta 0:00:53\n",
      "     ------- ------------------------------ 11.8/60.0 MB 923.4 kB/s eta 0:00:53\n",
      "     ------- ------------------------------ 11.8/60.0 MB 923.4 kB/s eta 0:00:53\n",
      "     ------- ------------------------------ 11.8/60.0 MB 923.4 kB/s eta 0:00:53\n",
      "     ------- ------------------------------ 11.8/60.0 MB 923.4 kB/s eta 0:00:53\n",
      "     ------- ------------------------------ 12.0/60.0 MB 936.6 kB/s eta 0:00:52\n",
      "     ------- ------------------------------ 12.2/60.0 MB 940.7 kB/s eta 0:00:51\n",
      "     ------- ------------------------------ 12.2/60.0 MB 992.0 kB/s eta 0:00:49\n",
      "     ------- ------------------------------ 12.4/60.0 MB 987.5 kB/s eta 0:00:49\n",
      "     -------- ------------------------------- 12.6/60.0 MB 1.0 MB/s eta 0:00:46\n",
      "     -------- ------------------------------- 12.7/60.0 MB 1.0 MB/s eta 0:00:46\n",
      "     -------- ------------------------------- 12.7/60.0 MB 1.0 MB/s eta 0:00:46\n",
      "     -------- ------------------------------- 12.7/60.0 MB 1.0 MB/s eta 0:00:46\n",
      "     -------- ------------------------------- 12.7/60.0 MB 1.0 MB/s eta 0:00:46\n",
      "     -------- ------------------------------- 12.8/60.0 MB 1.0 MB/s eta 0:00:47\n",
      "     -------- ------------------------------- 12.8/60.0 MB 1.0 MB/s eta 0:00:47\n",
      "     -------- ------------------------------- 12.8/60.0 MB 1.0 MB/s eta 0:00:47\n",
      "     -------- ------------------------------- 12.8/60.0 MB 1.0 MB/s eta 0:00:47\n",
      "     -------- ------------------------------- 12.9/60.0 MB 1.1 MB/s eta 0:00:45\n",
      "     -------- ------------------------------- 13.1/60.0 MB 1.1 MB/s eta 0:00:45\n",
      "     -------- ------------------------------- 13.2/60.0 MB 1.1 MB/s eta 0:00:42\n",
      "     -------- ------------------------------- 13.2/60.0 MB 1.1 MB/s eta 0:00:42\n",
      "     -------- ------------------------------- 13.4/60.0 MB 1.1 MB/s eta 0:00:42\n",
      "     --------- ------------------------------ 13.6/60.0 MB 1.2 MB/s eta 0:00:39\n",
      "     --------- ------------------------------ 13.6/60.0 MB 1.2 MB/s eta 0:00:39\n",
      "     --------- ------------------------------ 13.6/60.0 MB 1.2 MB/s eta 0:00:39\n",
      "     --------- ------------------------------ 13.6/60.0 MB 1.2 MB/s eta 0:00:40\n",
      "     --------- ------------------------------ 13.8/60.0 MB 1.2 MB/s eta 0:00:39\n",
      "     --------- ------------------------------ 13.8/60.0 MB 1.2 MB/s eta 0:00:39\n",
      "     --------- ------------------------------ 13.8/60.0 MB 1.2 MB/s eta 0:00:39\n",
      "     --------- ------------------------------ 13.8/60.0 MB 1.2 MB/s eta 0:00:39\n",
      "     --------- ------------------------------ 13.8/60.0 MB 1.2 MB/s eta 0:00:40\n",
      "     --------- ------------------------------ 14.1/60.0 MB 1.2 MB/s eta 0:00:38\n",
      "     --------- ------------------------------ 14.2/60.0 MB 1.2 MB/s eta 0:00:38\n",
      "     --------- ------------------------------ 14.2/60.0 MB 1.2 MB/s eta 0:00:38\n",
      "     --------- ------------------------------ 14.2/60.0 MB 1.2 MB/s eta 0:00:38\n",
      "     --------- ------------------------------ 14.5/60.0 MB 1.3 MB/s eta 0:00:35\n",
      "     --------- ------------------------------ 14.5/60.0 MB 1.3 MB/s eta 0:00:35\n",
      "     --------- ------------------------------ 14.5/60.0 MB 1.3 MB/s eta 0:00:35\n",
      "     --------- ------------------------------ 14.5/60.0 MB 1.3 MB/s eta 0:00:35\n",
      "     --------- ------------------------------ 14.5/60.0 MB 1.3 MB/s eta 0:00:35\n",
      "     --------- ------------------------------ 14.5/60.0 MB 1.3 MB/s eta 0:00:35\n",
      "     --------- ------------------------------ 14.5/60.0 MB 1.3 MB/s eta 0:00:35\n",
      "     --------- ------------------------------ 14.5/60.0 MB 1.3 MB/s eta 0:00:35\n",
      "     --------- ------------------------------ 14.5/60.0 MB 1.3 MB/s eta 0:00:35\n",
      "     --------- ------------------------------ 14.5/60.0 MB 1.3 MB/s eta 0:00:35\n",
      "     --------- ------------------------------ 14.7/60.0 MB 1.2 MB/s eta 0:00:37\n",
      "     --------- ------------------------------ 14.8/60.0 MB 1.2 MB/s eta 0:00:37\n",
      "     --------- ------------------------------ 14.9/60.0 MB 1.3 MB/s eta 0:00:36\n",
      "     ---------- ----------------------------- 15.2/60.0 MB 1.3 MB/s eta 0:00:35\n",
      "     ---------- ----------------------------- 15.4/60.0 MB 1.3 MB/s eta 0:00:34\n",
      "     ---------- ----------------------------- 15.4/60.0 MB 1.3 MB/s eta 0:00:34\n",
      "     ---------- ----------------------------- 15.4/60.0 MB 1.3 MB/s eta 0:00:34\n",
      "     ---------- ----------------------------- 15.4/60.0 MB 1.3 MB/s eta 0:00:35\n",
      "     ---------- ----------------------------- 15.7/60.0 MB 1.4 MB/s eta 0:00:33\n",
      "     ---------- ----------------------------- 15.7/60.0 MB 1.4 MB/s eta 0:00:33\n",
      "     ---------- ----------------------------- 15.7/60.0 MB 1.4 MB/s eta 0:00:33\n",
      "     ---------- ----------------------------- 15.7/60.0 MB 1.4 MB/s eta 0:00:33\n",
      "     ---------- ----------------------------- 15.7/60.0 MB 1.3 MB/s eta 0:00:33\n",
      "     ---------- ----------------------------- 16.0/60.0 MB 1.3 MB/s eta 0:00:33\n",
      "     ---------- ----------------------------- 16.0/60.0 MB 1.3 MB/s eta 0:00:33\n",
      "     ---------- ----------------------------- 16.0/60.0 MB 1.3 MB/s eta 0:00:33\n",
      "     ---------- ----------------------------- 16.0/60.0 MB 1.3 MB/s eta 0:00:33\n",
      "     ---------- ----------------------------- 16.2/60.0 MB 1.4 MB/s eta 0:00:33\n",
      "     ---------- ----------------------------- 16.3/60.0 MB 1.4 MB/s eta 0:00:33\n",
      "     ---------- ----------------------------- 16.3/60.0 MB 1.4 MB/s eta 0:00:33\n",
      "     ---------- ----------------------------- 16.3/60.0 MB 1.4 MB/s eta 0:00:33\n",
      "     ---------- ----------------------------- 16.3/60.0 MB 1.4 MB/s eta 0:00:33\n",
      "     ---------- ----------------------------- 16.3/60.0 MB 1.4 MB/s eta 0:00:33\n",
      "     ---------- ----------------------------- 16.3/60.0 MB 1.4 MB/s eta 0:00:33\n",
      "     ---------- ----------------------------- 16.3/60.0 MB 1.4 MB/s eta 0:00:33\n",
      "     ---------- ----------------------------- 16.3/60.0 MB 1.4 MB/s eta 0:00:33\n",
      "     ---------- ----------------------------- 16.3/60.0 MB 1.4 MB/s eta 0:00:33\n",
      "     ---------- ----------------------------- 16.3/60.0 MB 1.4 MB/s eta 0:00:33\n",
      "     ---------- ----------------------------- 16.3/60.0 MB 1.4 MB/s eta 0:00:33\n",
      "     ---------- ----------------------------- 16.3/60.0 MB 1.4 MB/s eta 0:00:33\n",
      "     ---------- ----------------------------- 16.3/60.0 MB 1.4 MB/s eta 0:00:33\n",
      "     ---------- ----------------------------- 16.3/60.0 MB 1.4 MB/s eta 0:00:33\n",
      "     ---------- ----------------------------- 16.3/60.0 MB 1.4 MB/s eta 0:00:33\n",
      "     ---------- ----------------------------- 16.3/60.0 MB 1.4 MB/s eta 0:00:33\n",
      "     ---------- ----------------------------- 16.3/60.0 MB 1.4 MB/s eta 0:00:33\n",
      "     ---------- ----------------------------- 16.3/60.0 MB 1.4 MB/s eta 0:00:33\n",
      "     ---------- ----------------------------- 16.3/60.0 MB 1.4 MB/s eta 0:00:33\n",
      "     ---------- ----------------------------- 16.3/60.0 MB 1.4 MB/s eta 0:00:33\n",
      "     ---------- ----------------------------- 16.3/60.0 MB 1.4 MB/s eta 0:00:33\n",
      "     ---------- ----------------------------- 16.3/60.0 MB 1.4 MB/s eta 0:00:33\n",
      "     ---------- ----------------------------- 16.3/60.0 MB 1.4 MB/s eta 0:00:33\n",
      "     ---------- ----------------------------- 16.3/60.0 MB 1.4 MB/s eta 0:00:33\n",
      "     ---------- ----------------------------- 16.3/60.0 MB 1.4 MB/s eta 0:00:33\n",
      "     ---------- ----------------------------- 16.3/60.0 MB 1.4 MB/s eta 0:00:33\n",
      "     ---------- ----------------------------- 16.3/60.0 MB 1.4 MB/s eta 0:00:33\n",
      "     ---------- ----------------------------- 16.3/60.0 MB 1.4 MB/s eta 0:00:33\n",
      "     ---------- ----------------------------- 16.3/60.0 MB 1.4 MB/s eta 0:00:33\n",
      "     ---------- ----------------------------- 16.3/60.0 MB 1.4 MB/s eta 0:00:33\n",
      "     ---------- ----------------------------- 16.3/60.0 MB 1.4 MB/s eta 0:00:33\n",
      "     ---------- ----------------------------- 16.3/60.0 MB 1.4 MB/s eta 0:00:33\n",
      "     ---------- ----------------------------- 16.3/60.0 MB 1.4 MB/s eta 0:00:33\n",
      "     ---------- ----------------------------- 16.3/60.0 MB 1.4 MB/s eta 0:00:33\n",
      "     ---------- ----------------------------- 16.3/60.0 MB 1.4 MB/s eta 0:00:33\n",
      "     ---------- ----------------------------- 16.3/60.0 MB 1.4 MB/s eta 0:00:33\n",
      "     ---------- ----------------------------- 16.3/60.0 MB 1.4 MB/s eta 0:00:33\n",
      "     ---------- ----------------------------- 16.3/60.0 MB 1.4 MB/s eta 0:00:33\n",
      "     ---------- ----------------------------- 16.3/60.0 MB 1.4 MB/s eta 0:00:33\n",
      "     ---------- ----------------------------- 16.3/60.0 MB 1.4 MB/s eta 0:00:33\n",
      "     ---------- ----------------------------- 16.3/60.0 MB 1.4 MB/s eta 0:00:33\n",
      "     ---------- ----------------------------- 16.3/60.0 MB 1.4 MB/s eta 0:00:33\n",
      "     ---------- ----------------------------- 16.3/60.0 MB 1.4 MB/s eta 0:00:33\n",
      "     ---------- ----------------------------- 16.3/60.0 MB 1.4 MB/s eta 0:00:33\n",
      "     ---------- ----------------------------- 16.3/60.0 MB 1.4 MB/s eta 0:00:33\n",
      "     ----------- ---------------------------- 18.0/60.0 MB 1.2 MB/s eta 0:00:36\n",
      "     ------------ --------------------------- 18.4/60.0 MB 1.3 MB/s eta 0:00:34\n",
      "     ------------ --------------------------- 18.4/60.0 MB 1.3 MB/s eta 0:00:34\n",
      "     ------------ --------------------------- 18.4/60.0 MB 1.3 MB/s eta 0:00:34\n",
      "     ------------ --------------------------- 18.4/60.0 MB 1.3 MB/s eta 0:00:34\n",
      "     ------------ --------------------------- 18.4/60.0 MB 1.3 MB/s eta 0:00:34\n",
      "     ------------ --------------------------- 18.4/60.0 MB 1.3 MB/s eta 0:00:34\n",
      "     ------------ --------------------------- 18.4/60.0 MB 1.3 MB/s eta 0:00:34\n",
      "     ------------ --------------------------- 18.4/60.0 MB 1.3 MB/s eta 0:00:34\n",
      "     ------------ --------------------------- 18.4/60.0 MB 1.3 MB/s eta 0:00:34\n",
      "     ------------ --------------------------- 18.4/60.0 MB 1.3 MB/s eta 0:00:34\n",
      "     ------------ --------------------------- 18.4/60.0 MB 1.3 MB/s eta 0:00:34\n",
      "     ------------ --------------------------- 18.4/60.0 MB 1.3 MB/s eta 0:00:34\n",
      "     ------------ --------------------------- 18.4/60.0 MB 1.3 MB/s eta 0:00:34\n",
      "     ------------ --------------------------- 18.4/60.0 MB 1.3 MB/s eta 0:00:34\n",
      "     ------------ --------------------------- 18.4/60.0 MB 1.3 MB/s eta 0:00:34\n",
      "     ------------ --------------------------- 18.4/60.0 MB 1.3 MB/s eta 0:00:34\n",
      "     ------------ --------------------------- 18.4/60.0 MB 1.3 MB/s eta 0:00:34\n",
      "     ------------ --------------------------- 18.4/60.0 MB 1.3 MB/s eta 0:00:34\n",
      "     ------------ --------------------------- 18.4/60.0 MB 1.3 MB/s eta 0:00:34\n",
      "     ------------ --------------------------- 18.4/60.0 MB 1.3 MB/s eta 0:00:34\n",
      "     ------------ --------------------------- 18.4/60.0 MB 1.3 MB/s eta 0:00:34\n",
      "     ------------ --------------------------- 18.4/60.0 MB 1.3 MB/s eta 0:00:34\n",
      "     ------------ --------------------------- 18.4/60.0 MB 1.3 MB/s eta 0:00:34\n",
      "     ------------ --------------------------- 18.4/60.0 MB 1.3 MB/s eta 0:00:34\n",
      "     ------------ --------------------------- 18.4/60.0 MB 1.3 MB/s eta 0:00:34\n",
      "     ------------ --------------------------- 18.4/60.0 MB 1.3 MB/s eta 0:00:34\n",
      "     ------------ --------------------------- 18.4/60.0 MB 1.3 MB/s eta 0:00:34\n",
      "     ------------ --------------------------- 18.4/60.0 MB 1.3 MB/s eta 0:00:34\n",
      "     ------------ --------------------------- 18.4/60.0 MB 1.3 MB/s eta 0:00:34\n",
      "     ------------ --------------------------- 18.4/60.0 MB 1.3 MB/s eta 0:00:34\n",
      "     ------------ --------------------------- 18.4/60.0 MB 1.3 MB/s eta 0:00:34\n",
      "     ------------ --------------------------- 18.4/60.0 MB 1.3 MB/s eta 0:00:34\n",
      "     ------------ --------------------------- 18.4/60.0 MB 1.3 MB/s eta 0:00:34\n",
      "     ------------ --------------------------- 18.4/60.0 MB 1.3 MB/s eta 0:00:34\n",
      "     ------------ --------------------------- 18.4/60.0 MB 1.3 MB/s eta 0:00:34\n",
      "     ------------ --------------------------- 18.4/60.0 MB 1.3 MB/s eta 0:00:34\n",
      "     ------------ --------------------------- 18.4/60.0 MB 1.3 MB/s eta 0:00:34\n",
      "     ------------ --------------------------- 18.4/60.0 MB 1.3 MB/s eta 0:00:34\n",
      "     ------------ --------------------------- 18.4/60.0 MB 1.3 MB/s eta 0:00:34\n",
      "     ------------ --------------------------- 18.4/60.0 MB 1.3 MB/s eta 0:00:34\n",
      "     ------------ --------------------------- 18.4/60.0 MB 1.3 MB/s eta 0:00:34\n",
      "     ------------ --------------------------- 18.4/60.0 MB 1.3 MB/s eta 0:00:34\n",
      "     ------------ --------------------------- 18.4/60.0 MB 1.3 MB/s eta 0:00:34\n",
      "     ------------ --------------------------- 18.4/60.0 MB 1.3 MB/s eta 0:00:34\n",
      "     ------------ --------------------------- 18.4/60.0 MB 1.3 MB/s eta 0:00:34\n",
      "     ------------ --------------------------- 18.4/60.0 MB 1.3 MB/s eta 0:00:34\n",
      "     ------------ --------------------------- 18.4/60.0 MB 1.3 MB/s eta 0:00:34\n",
      "     ------------ --------------------------- 18.4/60.0 MB 1.3 MB/s eta 0:00:34\n",
      "     ------------ --------------------------- 18.4/60.0 MB 1.3 MB/s eta 0:00:34\n",
      "     ------------ --------------------------- 18.4/60.0 MB 1.3 MB/s eta 0:00:34\n",
      "     ------------ --------------------------- 18.4/60.0 MB 1.3 MB/s eta 0:00:34\n",
      "     ------------ --------------------------- 18.4/60.0 MB 1.3 MB/s eta 0:00:34\n",
      "     ------------ --------------------------- 18.4/60.0 MB 1.3 MB/s eta 0:00:34\n",
      "     ------------ --------------------------- 18.4/60.0 MB 1.3 MB/s eta 0:00:34\n",
      "     ------------ --------------------------- 18.4/60.0 MB 1.3 MB/s eta 0:00:34\n",
      "     ------------ --------------------------- 18.4/60.0 MB 1.3 MB/s eta 0:00:34\n",
      "     ------------ --------------------------- 18.4/60.0 MB 1.3 MB/s eta 0:00:34\n",
      "     ------------ --------------------------- 18.4/60.0 MB 1.3 MB/s eta 0:00:34\n",
      "     ------------ --------------------------- 18.4/60.0 MB 1.3 MB/s eta 0:00:34\n",
      "     ------------ --------------------------- 18.4/60.0 MB 1.3 MB/s eta 0:00:34\n",
      "     ------------ --------------------------- 18.4/60.0 MB 1.3 MB/s eta 0:00:34\n",
      "     ------------ --------------------------- 18.4/60.0 MB 1.3 MB/s eta 0:00:34\n",
      "     ------------ --------------------------- 18.4/60.0 MB 1.3 MB/s eta 0:00:34\n",
      "     ------------ --------------------------- 18.4/60.0 MB 1.3 MB/s eta 0:00:34\n",
      "     ------------ --------------------------- 18.4/60.0 MB 1.3 MB/s eta 0:00:34\n",
      "     ------------ --------------------------- 18.4/60.0 MB 1.3 MB/s eta 0:00:34\n",
      "     ------------ --------------------------- 18.4/60.0 MB 1.3 MB/s eta 0:00:34\n",
      "     ------------ --------------------------- 18.4/60.0 MB 1.3 MB/s eta 0:00:34\n",
      "     ------------ --------------------------- 18.4/60.0 MB 1.3 MB/s eta 0:00:34\n",
      "     ------------ --------------------------- 18.4/60.0 MB 1.3 MB/s eta 0:00:34\n",
      "     ------------ --------------------------- 18.4/60.0 MB 1.3 MB/s eta 0:00:34\n",
      "     ------------ --------------------------- 18.4/60.0 MB 1.3 MB/s eta 0:00:34\n",
      "     ------------ --------------------------- 18.4/60.0 MB 1.3 MB/s eta 0:00:34\n",
      "     ------------ --------------------------- 18.4/60.0 MB 1.3 MB/s eta 0:00:34\n",
      "     ------------ --------------------------- 18.4/60.0 MB 1.3 MB/s eta 0:00:34\n",
      "     ------------ --------------------------- 18.4/60.0 MB 1.3 MB/s eta 0:00:34\n",
      "     ------------ --------------------------- 18.4/60.0 MB 1.3 MB/s eta 0:00:34\n",
      "     ------------ --------------------------- 18.4/60.0 MB 1.3 MB/s eta 0:00:34\n",
      "     ------------ --------------------------- 18.4/60.0 MB 1.3 MB/s eta 0:00:34\n",
      "     ------------ --------------------------- 18.4/60.0 MB 1.3 MB/s eta 0:00:34\n",
      "     ------------ --------------------------- 18.4/60.0 MB 1.3 MB/s eta 0:00:34\n",
      "     ------------ --------------------------- 18.4/60.0 MB 1.3 MB/s eta 0:00:34\n",
      "     ------------ --------------------------- 18.4/60.0 MB 1.3 MB/s eta 0:00:34\n",
      "     ------------ --------------------------- 18.4/60.0 MB 1.3 MB/s eta 0:00:34\n",
      "     ------------ --------------------------- 18.4/60.0 MB 1.3 MB/s eta 0:00:34\n",
      "     ------------ --------------------------- 18.4/60.0 MB 1.3 MB/s eta 0:00:34\n",
      "     ------------ --------------------------- 18.4/60.0 MB 1.3 MB/s eta 0:00:34\n",
      "     ------------ --------------------------- 18.4/60.0 MB 1.3 MB/s eta 0:00:34\n",
      "     ------------ --------------------------- 18.4/60.0 MB 1.3 MB/s eta 0:00:34\n",
      "     ------------ --------------------------- 18.4/60.0 MB 1.3 MB/s eta 0:00:34\n",
      "     ------------ --------------------------- 18.4/60.0 MB 1.3 MB/s eta 0:00:34\n",
      "     ------------ --------------------------- 18.4/60.0 MB 1.3 MB/s eta 0:00:34\n",
      "     ------------ --------------------------- 18.4/60.0 MB 1.3 MB/s eta 0:00:34\n",
      "     ------------ --------------------------- 18.4/60.0 MB 1.3 MB/s eta 0:00:34\n",
      "     ------------ --------------------------- 18.4/60.0 MB 1.3 MB/s eta 0:00:34\n",
      "     ------------ --------------------------- 18.4/60.0 MB 1.3 MB/s eta 0:00:34\n",
      "     ------------ --------------------------- 18.4/60.0 MB 1.3 MB/s eta 0:00:34\n",
      "     ------------ --------------------------- 18.4/60.0 MB 1.3 MB/s eta 0:00:34\n",
      "     ------------ --------------------------- 18.4/60.0 MB 1.3 MB/s eta 0:00:34\n",
      "     ------------ --------------------------- 18.4/60.0 MB 1.3 MB/s eta 0:00:34\n",
      "     ------------ --------------------------- 18.4/60.0 MB 1.3 MB/s eta 0:00:34\n",
      "     ------------ --------------------------- 18.4/60.0 MB 1.3 MB/s eta 0:00:34\n",
      "     ------------ --------------------------- 18.4/60.0 MB 1.3 MB/s eta 0:00:34\n",
      "     ------------ --------------------------- 18.4/60.0 MB 1.3 MB/s eta 0:00:34\n",
      "     ------------ --------------------------- 18.4/60.0 MB 1.3 MB/s eta 0:00:34\n",
      "     ------------ --------------------------- 18.4/60.0 MB 1.3 MB/s eta 0:00:34\n",
      "     ------------ --------------------------- 18.4/60.0 MB 1.3 MB/s eta 0:00:34\n",
      "     ------------ --------------------------- 18.4/60.0 MB 1.3 MB/s eta 0:00:34\n",
      "     ------------ --------------------------- 18.4/60.0 MB 1.3 MB/s eta 0:00:34\n",
      "     ------------ --------------------------- 18.4/60.0 MB 1.3 MB/s eta 0:00:34\n",
      "     ------------ --------------------------- 18.4/60.0 MB 1.3 MB/s eta 0:00:34\n",
      "     ------------ --------------------------- 18.4/60.0 MB 1.3 MB/s eta 0:00:34\n",
      "     ------------ --------------------------- 18.4/60.0 MB 1.3 MB/s eta 0:00:34\n",
      "     ------------ --------------------------- 18.4/60.0 MB 1.3 MB/s eta 0:00:34\n",
      "     ----------- -------------------------- 18.4/60.0 MB 760.4 kB/s eta 0:00:55\n",
      "     ----------- -------------------------- 18.4/60.0 MB 760.4 kB/s eta 0:00:55\n",
      "     ----------- -------------------------- 18.4/60.0 MB 760.4 kB/s eta 0:00:55\n",
      "     ----------- -------------------------- 18.4/60.0 MB 760.4 kB/s eta 0:00:55\n",
      "     ----------- -------------------------- 18.4/60.0 MB 760.4 kB/s eta 0:00:55\n",
      "     ----------- -------------------------- 18.4/60.0 MB 760.4 kB/s eta 0:00:55\n",
      "     ----------- -------------------------- 18.4/60.0 MB 760.4 kB/s eta 0:00:55\n",
      "     ----------- -------------------------- 18.4/60.0 MB 740.6 kB/s eta 0:00:57\n",
      "     ----------- -------------------------- 18.4/60.0 MB 740.6 kB/s eta 0:00:57\n",
      "     ----------- -------------------------- 18.4/60.0 MB 740.6 kB/s eta 0:00:57\n",
      "     ----------- -------------------------- 18.4/60.0 MB 740.6 kB/s eta 0:00:57\n",
      "     ----------- -------------------------- 18.4/60.0 MB 740.6 kB/s eta 0:00:57\n",
      "     ----------- -------------------------- 18.4/60.0 MB 727.4 kB/s eta 0:00:58\n",
      "     ----------- -------------------------- 18.4/60.0 MB 727.4 kB/s eta 0:00:58\n",
      "     ----------- -------------------------- 18.4/60.0 MB 727.4 kB/s eta 0:00:58\n",
      "     ----------- -------------------------- 18.4/60.0 MB 727.4 kB/s eta 0:00:58\n",
      "     ----------- -------------------------- 18.4/60.0 MB 719.4 kB/s eta 0:00:58\n",
      "     ----------- -------------------------- 18.4/60.0 MB 719.4 kB/s eta 0:00:58\n",
      "     ----------- -------------------------- 18.4/60.0 MB 719.4 kB/s eta 0:00:58\n",
      "     ----------- -------------------------- 18.4/60.0 MB 719.4 kB/s eta 0:00:58\n",
      "     ----------- -------------------------- 18.4/60.0 MB 719.4 kB/s eta 0:00:58\n",
      "     ----------- -------------------------- 18.5/60.0 MB 707.8 kB/s eta 0:00:59\n",
      "     ----------- -------------------------- 18.5/60.0 MB 707.8 kB/s eta 0:00:59\n",
      "     ----------- -------------------------- 18.5/60.0 MB 707.8 kB/s eta 0:00:59\n",
      "     ----------- -------------------------- 18.5/60.0 MB 707.8 kB/s eta 0:00:59\n",
      "     ----------- -------------------------- 18.5/60.0 MB 707.8 kB/s eta 0:00:59\n",
      "     ----------- -------------------------- 18.6/60.0 MB 696.5 kB/s eta 0:01:00\n",
      "     ----------- -------------------------- 18.6/60.0 MB 695.8 kB/s eta 0:01:00\n",
      "     ----------- -------------------------- 18.6/60.0 MB 693.5 kB/s eta 0:01:00\n",
      "     ----------- -------------------------- 18.6/60.0 MB 693.5 kB/s eta 0:01:00\n",
      "     ----------- -------------------------- 18.6/60.0 MB 693.5 kB/s eta 0:01:00\n",
      "     ----------- -------------------------- 18.6/60.0 MB 693.5 kB/s eta 0:01:00\n",
      "     ----------- -------------------------- 18.6/60.0 MB 693.5 kB/s eta 0:01:00\n",
      "     ----------- -------------------------- 18.6/60.0 MB 693.5 kB/s eta 0:01:00\n",
      "     ----------- -------------------------- 18.6/60.0 MB 693.5 kB/s eta 0:01:00\n",
      "     ----------- -------------------------- 18.6/60.0 MB 693.5 kB/s eta 0:01:00\n",
      "     ----------- -------------------------- 18.6/60.0 MB 693.5 kB/s eta 0:01:00\n",
      "     ----------- -------------------------- 18.6/60.0 MB 693.5 kB/s eta 0:01:00\n",
      "     ----------- -------------------------- 18.6/60.0 MB 693.5 kB/s eta 0:01:00\n",
      "     ----------- -------------------------- 18.6/60.0 MB 693.5 kB/s eta 0:01:00\n",
      "     ----------- -------------------------- 18.6/60.0 MB 667.4 kB/s eta 0:01:02\n",
      "     ----------- -------------------------- 18.8/60.0 MB 670.1 kB/s eta 0:01:02\n",
      "     ----------- -------------------------- 18.8/60.0 MB 670.1 kB/s eta 0:01:02\n",
      "     ----------- -------------------------- 18.8/60.0 MB 670.1 kB/s eta 0:01:02\n",
      "     ----------- -------------------------- 18.8/60.0 MB 670.1 kB/s eta 0:01:02\n",
      "     ----------- -------------------------- 18.8/60.0 MB 670.1 kB/s eta 0:01:02\n",
      "     ----------- -------------------------- 18.8/60.0 MB 670.1 kB/s eta 0:01:02\n",
      "     ----------- -------------------------- 18.8/60.0 MB 670.1 kB/s eta 0:01:02\n",
      "     ----------- -------------------------- 18.8/60.0 MB 670.1 kB/s eta 0:01:02\n",
      "     ----------- -------------------------- 18.8/60.0 MB 670.1 kB/s eta 0:01:02\n",
      "     ----------- -------------------------- 18.8/60.0 MB 670.1 kB/s eta 0:01:02\n",
      "     ----------- -------------------------- 18.8/60.0 MB 670.1 kB/s eta 0:01:02\n",
      "     ----------- -------------------------- 18.8/60.0 MB 670.1 kB/s eta 0:01:02\n",
      "     ----------- -------------------------- 18.8/60.0 MB 670.1 kB/s eta 0:01:02\n",
      "     ----------- -------------------------- 18.8/60.0 MB 670.1 kB/s eta 0:01:02\n",
      "     ----------- -------------------------- 18.8/60.0 MB 670.1 kB/s eta 0:01:02\n",
      "     ----------- -------------------------- 18.8/60.0 MB 670.1 kB/s eta 0:01:02\n",
      "     ----------- -------------------------- 18.8/60.0 MB 670.1 kB/s eta 0:01:02\n",
      "     ----------- -------------------------- 18.8/60.0 MB 670.1 kB/s eta 0:01:02\n",
      "     ----------- -------------------------- 18.8/60.0 MB 670.1 kB/s eta 0:01:02\n",
      "     ----------- -------------------------- 18.8/60.0 MB 670.1 kB/s eta 0:01:02\n",
      "     ----------- -------------------------- 18.8/60.0 MB 670.1 kB/s eta 0:01:02\n",
      "     ----------- -------------------------- 18.9/60.0 MB 630.7 kB/s eta 0:01:06\n",
      "     ------------ ------------------------- 19.1/60.0 MB 630.7 kB/s eta 0:01:05\n",
      "     ------------ ------------------------- 19.1/60.0 MB 630.7 kB/s eta 0:01:05\n",
      "     ------------ ------------------------- 19.1/60.0 MB 630.7 kB/s eta 0:01:05\n",
      "     ------------ ------------------------- 19.1/60.0 MB 630.7 kB/s eta 0:01:05\n",
      "     ------------ ------------------------- 19.1/60.0 MB 630.7 kB/s eta 0:01:05\n",
      "     ------------ ------------------------- 19.1/60.0 MB 630.7 kB/s eta 0:01:05\n",
      "     ------------ ------------------------- 19.1/60.0 MB 625.9 kB/s eta 0:01:06\n",
      "     ------------ ------------------------- 19.1/60.0 MB 625.9 kB/s eta 0:01:06\n",
      "     ------------ ------------------------- 19.4/60.0 MB 632.6 kB/s eta 0:01:05\n",
      "     ------------ ------------------------- 19.4/60.0 MB 632.6 kB/s eta 0:01:05\n",
      "     ------------ ------------------------- 19.4/60.0 MB 632.6 kB/s eta 0:01:05\n",
      "     ------------ ------------------------- 19.4/60.0 MB 632.6 kB/s eta 0:01:05\n",
      "     ------------ ------------------------- 19.4/60.0 MB 632.6 kB/s eta 0:01:05\n",
      "     ------------ ------------------------- 19.4/60.0 MB 632.6 kB/s eta 0:01:05\n",
      "     ------------ ------------------------- 19.4/60.0 MB 632.6 kB/s eta 0:01:05\n",
      "     ------------ ------------------------- 19.4/60.0 MB 632.6 kB/s eta 0:01:05\n",
      "     ------------ ------------------------- 19.4/60.0 MB 632.6 kB/s eta 0:01:05\n",
      "     ------------ ------------------------- 19.4/60.0 MB 632.6 kB/s eta 0:01:05\n",
      "     ------------ ------------------------- 19.4/60.0 MB 632.6 kB/s eta 0:01:05\n",
      "     ------------ ------------------------- 19.4/60.0 MB 632.6 kB/s eta 0:01:05\n",
      "     ------------ ------------------------- 19.6/60.0 MB 613.6 kB/s eta 0:01:06\n",
      "     ------------ ------------------------- 19.6/60.0 MB 611.9 kB/s eta 0:01:07\n",
      "     ------------ ------------------------- 19.8/60.0 MB 611.3 kB/s eta 0:01:06\n",
      "     ------------ ------------------------- 19.8/60.0 MB 611.3 kB/s eta 0:01:06\n",
      "     ------------ ------------------------- 19.8/60.0 MB 611.3 kB/s eta 0:01:06\n",
      "     ------------ ------------------------- 19.8/60.0 MB 611.3 kB/s eta 0:01:06\n",
      "     ------------ ------------------------- 19.8/60.0 MB 611.3 kB/s eta 0:01:06\n",
      "     ------------ ------------------------- 19.8/60.0 MB 611.3 kB/s eta 0:01:06\n",
      "     ------------ ------------------------- 19.8/60.0 MB 611.3 kB/s eta 0:01:06\n",
      "     ------------ ------------------------- 19.8/60.0 MB 611.3 kB/s eta 0:01:06\n",
      "     ------------ ------------------------- 19.8/60.0 MB 611.3 kB/s eta 0:01:06\n",
      "     ------------ ------------------------- 19.8/60.0 MB 611.3 kB/s eta 0:01:06\n",
      "     ------------ ------------------------- 19.8/60.0 MB 611.3 kB/s eta 0:01:06\n",
      "     ------------ ------------------------- 20.0/60.0 MB 596.8 kB/s eta 0:01:08\n",
      "     ------------ ------------------------- 20.1/60.0 MB 596.8 kB/s eta 0:01:07\n",
      "     ------------ ------------------------- 20.2/60.0 MB 614.1 kB/s eta 0:01:05\n",
      "     ------------ ------------------------- 20.2/60.0 MB 614.1 kB/s eta 0:01:05\n",
      "     ------------ ------------------------- 20.2/60.0 MB 614.1 kB/s eta 0:01:05\n",
      "     ------------ ------------------------- 20.2/60.0 MB 614.1 kB/s eta 0:01:05\n",
      "     ------------ ------------------------- 20.2/60.0 MB 614.1 kB/s eta 0:01:05\n",
      "     ------------ ------------------------- 20.2/60.0 MB 606.2 kB/s eta 0:01:06\n",
      "     ------------ ------------------------- 20.3/60.0 MB 604.5 kB/s eta 0:01:06\n",
      "     ------------ ------------------------- 20.3/60.0 MB 604.5 kB/s eta 0:01:06\n",
      "     ------------ ------------------------- 20.3/60.0 MB 604.5 kB/s eta 0:01:06\n",
      "     ------------ ------------------------- 20.3/60.0 MB 604.5 kB/s eta 0:01:06\n",
      "     ------------ ------------------------- 20.3/60.0 MB 597.9 kB/s eta 0:01:07\n",
      "     ------------ ------------------------- 20.5/60.0 MB 598.4 kB/s eta 0:01:07\n",
      "     ------------- ------------------------ 20.7/60.0 MB 604.0 kB/s eta 0:01:06\n",
      "     ------------- ------------------------ 20.7/60.0 MB 604.0 kB/s eta 0:01:06\n",
      "     ------------- ------------------------ 20.7/60.0 MB 601.8 kB/s eta 0:01:06\n",
      "     ------------- ------------------------ 20.7/60.0 MB 600.1 kB/s eta 0:01:06\n",
      "     ------------- ------------------------ 20.7/60.0 MB 599.0 kB/s eta 0:01:06\n",
      "     ------------- ------------------------ 20.7/60.0 MB 599.0 kB/s eta 0:01:06\n",
      "     ------------- ------------------------ 20.7/60.0 MB 599.0 kB/s eta 0:01:06\n",
      "     ------------- ------------------------ 20.9/60.0 MB 600.7 kB/s eta 0:01:06\n",
      "     ------------- ------------------------ 20.9/60.0 MB 599.0 kB/s eta 0:01:06\n",
      "     ------------- ------------------------ 20.9/60.0 MB 599.0 kB/s eta 0:01:06\n",
      "     ------------- ------------------------ 20.9/60.0 MB 599.0 kB/s eta 0:01:06\n",
      "     ------------- ------------------------ 20.9/60.0 MB 599.0 kB/s eta 0:01:06\n",
      "     ------------- ------------------------ 20.9/60.0 MB 593.0 kB/s eta 0:01:06\n",
      "     ------------- ------------------------ 21.2/60.0 MB 595.2 kB/s eta 0:01:06\n",
      "     ------------- ------------------------ 21.3/60.0 MB 595.2 kB/s eta 0:01:05\n",
      "     ------------- ------------------------ 21.3/60.0 MB 595.2 kB/s eta 0:01:05\n",
      "     ------------- ------------------------ 21.3/60.0 MB 595.2 kB/s eta 0:01:05\n",
      "     ------------- ------------------------ 21.4/60.0 MB 590.4 kB/s eta 0:01:06\n",
      "     ------------- ------------------------ 21.4/60.0 MB 590.4 kB/s eta 0:01:06\n",
      "     ------------- ------------------------ 21.4/60.0 MB 590.4 kB/s eta 0:01:06\n",
      "     ------------- ------------------------ 21.4/60.0 MB 590.4 kB/s eta 0:01:06\n",
      "     ------------- ------------------------ 21.4/60.0 MB 590.4 kB/s eta 0:01:06\n",
      "     ------------- ------------------------ 21.4/60.0 MB 590.4 kB/s eta 0:01:06\n",
      "     ------------- ------------------------ 21.4/60.0 MB 590.4 kB/s eta 0:01:06\n",
      "     ------------- ------------------------ 21.4/60.0 MB 590.4 kB/s eta 0:01:06\n",
      "     ------------- ------------------------ 21.4/60.0 MB 590.4 kB/s eta 0:01:06\n",
      "     ------------- ------------------------ 21.5/60.0 MB 576.3 kB/s eta 0:01:07\n",
      "     ------------- ------------------------ 21.7/60.0 MB 595.7 kB/s eta 0:01:05\n",
      "     ------------- ------------------------ 21.8/60.0 MB 595.2 kB/s eta 0:01:05\n",
      "     ------------- ------------------------ 21.9/60.0 MB 594.6 kB/s eta 0:01:05\n",
      "     ------------- ------------------------ 21.9/60.0 MB 593.0 kB/s eta 0:01:05\n",
      "     ------------- ------------------------ 21.9/60.0 MB 591.9 kB/s eta 0:01:05\n",
      "     ------------- ------------------------ 21.9/60.0 MB 591.9 kB/s eta 0:01:05\n",
      "     ------------- ------------------------ 21.9/60.0 MB 591.9 kB/s eta 0:01:05\n",
      "     ------------- ------------------------ 21.9/60.0 MB 587.2 kB/s eta 0:01:05\n",
      "     ------------- ------------------------ 22.1/60.0 MB 600.7 kB/s eta 0:01:04\n",
      "     ------------- ------------------------ 22.1/60.0 MB 600.7 kB/s eta 0:01:04\n",
      "     ------------- ------------------------ 22.1/60.0 MB 600.7 kB/s eta 0:01:04\n",
      "     ------------- ------------------------ 22.1/60.0 MB 600.7 kB/s eta 0:01:04\n",
      "     ------------- ------------------------ 22.1/60.0 MB 600.7 kB/s eta 0:01:04\n",
      "     -------------- ----------------------- 22.2/60.0 MB 593.0 kB/s eta 0:01:04\n",
      "     -------------- ----------------------- 22.4/60.0 MB 592.5 kB/s eta 0:01:04\n",
      "     -------------- ----------------------- 22.5/60.0 MB 594.1 kB/s eta 0:01:04\n",
      "     -------------- ----------------------- 22.6/60.0 MB 593.0 kB/s eta 0:01:04\n",
      "     -------------- ----------------------- 22.6/60.0 MB 592.5 kB/s eta 0:01:04\n",
      "     -------------- ----------------------- 22.7/60.0 MB 590.4 kB/s eta 0:01:04\n",
      "     -------------- ----------------------- 22.7/60.0 MB 590.4 kB/s eta 0:01:04\n",
      "     -------------- ----------------------- 22.7/60.0 MB 590.4 kB/s eta 0:01:04\n",
      "     -------------- ----------------------- 22.7/60.0 MB 585.6 kB/s eta 0:01:04\n",
      "     -------------- ----------------------- 22.8/60.0 MB 585.6 kB/s eta 0:01:04\n",
      "     -------------- ----------------------- 22.8/60.0 MB 585.6 kB/s eta 0:01:04\n",
      "     -------------- ----------------------- 22.8/60.0 MB 585.6 kB/s eta 0:01:04\n",
      "     -------------- ----------------------- 22.8/60.0 MB 585.6 kB/s eta 0:01:04\n",
      "     -------------- ----------------------- 22.8/60.0 MB 585.6 kB/s eta 0:01:04\n",
      "     -------------- ----------------------- 23.1/60.0 MB 590.9 kB/s eta 0:01:03\n",
      "     -------------- ----------------------- 23.3/60.0 MB 591.4 kB/s eta 0:01:03\n",
      "     -------------- ----------------------- 23.3/60.0 MB 591.4 kB/s eta 0:01:03\n",
      "     -------------- ----------------------- 23.3/60.0 MB 588.8 kB/s eta 0:01:03\n",
      "     -------------- ----------------------- 23.3/60.0 MB 588.8 kB/s eta 0:01:03\n",
      "     -------------- ----------------------- 23.4/60.0 MB 586.6 kB/s eta 0:01:03\n",
      "     -------------- ----------------------- 23.4/60.0 MB 586.6 kB/s eta 0:01:03\n",
      "     -------------- ----------------------- 23.4/60.0 MB 586.6 kB/s eta 0:01:03\n",
      "     -------------- ----------------------- 23.6/60.0 MB 585.1 kB/s eta 0:01:03\n",
      "     --------------- ---------------------- 23.7/60.0 MB 584.6 kB/s eta 0:01:03\n",
      "     --------------- ---------------------- 23.7/60.0 MB 584.6 kB/s eta 0:01:03\n",
      "     --------------- ---------------------- 23.7/60.0 MB 584.6 kB/s eta 0:01:03\n",
      "     --------------- ---------------------- 23.7/60.0 MB 584.6 kB/s eta 0:01:03\n",
      "     --------------- ---------------------- 23.8/60.0 MB 583.5 kB/s eta 0:01:02\n",
      "     --------------- ---------------------- 24.0/60.0 MB 583.5 kB/s eta 0:01:02\n",
      "     --------------- ---------------------- 24.2/60.0 MB 589.3 kB/s eta 0:01:01\n",
      "     --------------- ---------------------- 24.2/60.0 MB 587.7 kB/s eta 0:01:01\n",
      "     --------------- ---------------------- 24.3/60.0 MB 586.6 kB/s eta 0:01:01\n",
      "     --------------- ---------------------- 24.3/60.0 MB 585.1 kB/s eta 0:01:02\n",
      "     --------------- ---------------------- 24.3/60.0 MB 585.1 kB/s eta 0:01:02\n",
      "     --------------- ---------------------- 24.3/60.0 MB 585.1 kB/s eta 0:01:02\n",
      "     --------------- ---------------------- 24.3/60.0 MB 580.4 kB/s eta 0:01:02\n",
      "     --------------- ---------------------- 24.4/60.0 MB 579.9 kB/s eta 0:01:02\n",
      "     --------------- ---------------------- 24.4/60.0 MB 579.9 kB/s eta 0:01:02\n",
      "     --------------- ---------------------- 24.4/60.0 MB 579.9 kB/s eta 0:01:02\n",
      "     --------------- ---------------------- 24.4/60.0 MB 579.9 kB/s eta 0:01:02\n",
      "     --------------- ---------------------- 24.4/60.0 MB 579.9 kB/s eta 0:01:02\n",
      "     --------------- ---------------------- 24.4/60.0 MB 579.9 kB/s eta 0:01:02\n",
      "     --------------- ---------------------- 24.4/60.0 MB 574.3 kB/s eta 0:01:02\n",
      "     --------------- ---------------------- 24.6/60.0 MB 574.3 kB/s eta 0:01:02\n",
      "     --------------- ---------------------- 24.7/60.0 MB 572.8 kB/s eta 0:01:02\n",
      "     --------------- ---------------------- 24.8/60.0 MB 587.2 kB/s eta 0:01:00\n",
      "     --------------- ---------------------- 25.0/60.0 MB 586.1 kB/s eta 0:01:00\n",
      "     --------------- ---------------------- 25.0/60.0 MB 586.1 kB/s eta 0:01:00\n",
      "     --------------- ---------------------- 25.0/60.0 MB 586.1 kB/s eta 0:01:00\n",
      "     --------------- ---------------------- 25.0/60.0 MB 582.5 kB/s eta 0:01:01\n",
      "     --------------- ---------------------- 25.1/60.0 MB 582.0 kB/s eta 0:01:00\n",
      "     --------------- ---------------------- 25.1/60.0 MB 582.0 kB/s eta 0:01:00\n",
      "     --------------- ---------------------- 25.1/60.0 MB 582.0 kB/s eta 0:01:00\n",
      "     --------------- ---------------------- 25.1/60.0 MB 582.0 kB/s eta 0:01:00\n",
      "     --------------- ---------------------- 25.1/60.0 MB 582.0 kB/s eta 0:01:00\n",
      "     --------------- ---------------------- 25.2/60.0 MB 574.8 kB/s eta 0:01:01\n",
      "     ---------------- --------------------- 25.4/60.0 MB 574.3 kB/s eta 0:01:01\n",
      "     ---------------- --------------------- 25.4/60.0 MB 572.8 kB/s eta 0:01:01\n",
      "     ---------------- --------------------- 25.6/60.0 MB 572.8 kB/s eta 0:01:01\n",
      "     ---------------- --------------------- 25.8/60.0 MB 577.9 kB/s eta 0:01:00\n",
      "     ---------------- --------------------- 25.8/60.0 MB 577.9 kB/s eta 0:01:00\n",
      "     ---------------- --------------------- 25.8/60.0 MB 577.9 kB/s eta 0:01:00\n",
      "     ---------------- --------------------- 25.8/60.0 MB 577.9 kB/s eta 0:01:00\n",
      "     ---------------- --------------------- 25.8/60.0 MB 572.3 kB/s eta 0:01:00\n",
      "     ---------------- --------------------- 25.8/60.0 MB 572.3 kB/s eta 0:01:00\n",
      "     ---------------- --------------------- 25.8/60.0 MB 572.3 kB/s eta 0:01:00\n",
      "     ---------------- --------------------- 25.8/60.0 MB 572.3 kB/s eta 0:01:00\n",
      "     ---------------- --------------------- 25.8/60.0 MB 572.3 kB/s eta 0:01:00\n",
      "     ---------------- --------------------- 25.9/60.0 MB 564.4 kB/s eta 0:01:01\n",
      "     ---------------- --------------------- 26.1/60.0 MB 569.8 kB/s eta 0:01:00\n",
      "     ---------------- --------------------- 26.3/60.0 MB 573.8 kB/s eta 0:00:59\n",
      "     ---------------- --------------------- 26.4/60.0 MB 573.3 kB/s eta 0:00:59\n",
      "     ---------------- --------------------- 26.5/60.0 MB 573.3 kB/s eta 0:00:59\n",
      "     ---------------- --------------------- 26.5/60.0 MB 573.3 kB/s eta 0:00:59\n",
      "     ---------------- --------------------- 26.5/60.0 MB 573.3 kB/s eta 0:00:59\n",
      "     ---------------- --------------------- 26.5/60.0 MB 573.3 kB/s eta 0:00:59\n",
      "     ---------------- --------------------- 26.6/60.0 MB 641.2 kB/s eta 0:00:53\n",
      "     ---------------- --------------------- 26.6/60.0 MB 638.8 kB/s eta 0:00:53\n",
      "     ---------------- --------------------- 26.6/60.0 MB 638.8 kB/s eta 0:00:53\n",
      "     ---------------- --------------------- 26.6/60.0 MB 638.8 kB/s eta 0:00:53\n",
      "     ---------------- --------------------- 26.6/60.0 MB 638.8 kB/s eta 0:00:53\n",
      "     ---------------- --------------------- 26.7/60.0 MB 630.7 kB/s eta 0:00:53\n",
      "     ---------------- --------------------- 26.8/60.0 MB 629.5 kB/s eta 0:00:53\n",
      "     ----------------- -------------------- 27.1/60.0 MB 628.3 kB/s eta 0:00:53\n",
      "     ----------------- -------------------- 27.1/60.0 MB 627.7 kB/s eta 0:00:53\n",
      "     ----------------- -------------------- 27.3/60.0 MB 624.7 kB/s eta 0:00:53\n",
      "     ----------------- -------------------- 27.4/60.0 MB 622.9 kB/s eta 0:00:53\n",
      "     ----------------- -------------------- 27.4/60.0 MB 622.9 kB/s eta 0:00:53\n",
      "     ----------------- -------------------- 27.4/60.0 MB 622.9 kB/s eta 0:00:53\n",
      "     ----------------- -------------------- 27.4/60.0 MB 622.9 kB/s eta 0:00:53\n",
      "     ----------------- -------------------- 27.5/60.0 MB 616.5 kB/s eta 0:00:53\n",
      "     ----------------- -------------------- 27.5/60.0 MB 616.5 kB/s eta 0:00:53\n",
      "     ----------------- -------------------- 27.5/60.0 MB 616.5 kB/s eta 0:00:53\n",
      "     ----------------- -------------------- 27.5/60.0 MB 616.5 kB/s eta 0:00:53\n",
      "     ----------------- -------------------- 27.5/60.0 MB 616.5 kB/s eta 0:00:53\n",
      "     ----------------- -------------------- 27.6/60.0 MB 607.9 kB/s eta 0:00:54\n",
      "     ----------------- -------------------- 27.8/60.0 MB 606.2 kB/s eta 0:00:54\n",
      "     ----------------- -------------------- 28.0/60.0 MB 604.5 kB/s eta 0:00:53\n",
      "     ----------------- -------------------- 28.1/60.0 MB 602.8 kB/s eta 0:00:53\n",
      "     ----------------- -------------------- 28.2/60.0 MB 601.8 kB/s eta 0:00:53\n",
      "     ----------------- -------------------- 28.3/60.0 MB 600.7 kB/s eta 0:00:53\n",
      "     ----------------- -------------------- 28.3/60.0 MB 600.7 kB/s eta 0:00:53\n",
      "     ----------------- -------------------- 28.3/60.0 MB 600.7 kB/s eta 0:00:53\n",
      "     ----------------- -------------------- 28.3/60.0 MB 600.7 kB/s eta 0:00:53\n",
      "     ------------------ ------------------- 28.5/60.0 MB 594.1 kB/s eta 0:00:54\n",
      "     ------------------ ------------------- 28.5/60.0 MB 594.1 kB/s eta 0:00:54\n",
      "     ------------------ ------------------- 28.5/60.0 MB 594.1 kB/s eta 0:00:54\n",
      "     ------------------ ------------------- 28.5/60.0 MB 594.1 kB/s eta 0:00:54\n",
      "     ------------------ ------------------- 28.5/60.0 MB 594.1 kB/s eta 0:00:54\n",
      "     ------------------ ------------------- 28.6/60.0 MB 586.1 kB/s eta 0:00:54\n",
      "     ------------------ ------------------- 28.9/60.0 MB 995.0 kB/s eta 0:00:32\n",
      "     ------------------ ------------------- 29.0/60.0 MB 994.9 kB/s eta 0:00:32\n",
      "     ------------------- -------------------- 29.1/60.0 MB 1.1 MB/s eta 0:00:29\n",
      "     ------------------- -------------------- 29.3/60.0 MB 1.1 MB/s eta 0:00:29\n",
      "     ------------------- -------------------- 29.4/60.0 MB 1.1 MB/s eta 0:00:28\n",
      "     ------------------- -------------------- 29.4/60.0 MB 1.1 MB/s eta 0:00:28\n",
      "     ------------------- -------------------- 29.4/60.0 MB 1.1 MB/s eta 0:00:28\n",
      "     ------------------- -------------------- 29.4/60.0 MB 1.1 MB/s eta 0:00:28\n",
      "     ------------------- -------------------- 29.4/60.0 MB 1.1 MB/s eta 0:00:28\n",
      "     ------------------- -------------------- 29.4/60.0 MB 1.1 MB/s eta 0:00:28\n",
      "     ------------------- -------------------- 29.4/60.0 MB 1.1 MB/s eta 0:00:28\n",
      "     ------------------- -------------------- 29.4/60.0 MB 1.1 MB/s eta 0:00:28\n",
      "     ------------------- -------------------- 29.5/60.0 MB 1.1 MB/s eta 0:00:29\n",
      "     ------------------- -------------------- 29.7/60.0 MB 1.1 MB/s eta 0:00:28\n",
      "     ------------------- -------------------- 29.9/60.0 MB 1.2 MB/s eta 0:00:27\n",
      "     ------------------- -------------------- 29.9/60.0 MB 1.2 MB/s eta 0:00:27\n",
      "     -------------------- ------------------- 30.1/60.0 MB 1.2 MB/s eta 0:00:25\n",
      "     -------------------- ------------------- 30.3/60.0 MB 1.2 MB/s eta 0:00:25\n",
      "     -------------------- ------------------- 30.3/60.0 MB 1.2 MB/s eta 0:00:25\n",
      "     -------------------- ------------------- 30.3/60.0 MB 1.2 MB/s eta 0:00:25\n",
      "     -------------------- ------------------- 30.3/60.0 MB 1.2 MB/s eta 0:00:25\n",
      "     -------------------- ------------------- 30.5/60.0 MB 1.2 MB/s eta 0:00:25\n",
      "     -------------------- ------------------- 30.5/60.0 MB 1.2 MB/s eta 0:00:25\n",
      "     -------------------- ------------------- 30.5/60.0 MB 1.2 MB/s eta 0:00:25\n",
      "     -------------------- ------------------- 30.5/60.0 MB 1.2 MB/s eta 0:00:25\n",
      "     -------------------- ------------------- 30.5/60.0 MB 1.2 MB/s eta 0:00:25\n",
      "     -------------------- ------------------- 30.6/60.0 MB 1.2 MB/s eta 0:00:24\n",
      "     -------------------- ------------------- 30.8/60.0 MB 1.2 MB/s eta 0:00:24\n",
      "     -------------------- ------------------- 31.0/60.0 MB 1.3 MB/s eta 0:00:23\n",
      "     -------------------- ------------------- 31.2/60.0 MB 1.3 MB/s eta 0:00:23\n",
      "     -------------------- ------------------- 31.4/60.0 MB 1.3 MB/s eta 0:00:22\n",
      "     -------------------- ------------------- 31.4/60.0 MB 1.3 MB/s eta 0:00:22\n",
      "     -------------------- ------------------- 31.4/60.0 MB 1.3 MB/s eta 0:00:22\n",
      "     -------------------- ------------------- 31.4/60.0 MB 1.3 MB/s eta 0:00:22\n",
      "     -------------------- ------------------- 31.5/60.0 MB 1.3 MB/s eta 0:00:23\n",
      "     --------------------- ------------------ 31.5/60.0 MB 1.3 MB/s eta 0:00:23\n",
      "     --------------------- ------------------ 31.5/60.0 MB 1.3 MB/s eta 0:00:23\n",
      "     --------------------- ------------------ 31.5/60.0 MB 1.3 MB/s eta 0:00:23\n",
      "     --------------------- ------------------ 31.5/60.0 MB 1.3 MB/s eta 0:00:23\n",
      "     --------------------- ------------------ 31.5/60.0 MB 1.3 MB/s eta 0:00:23\n",
      "     --------------------- ------------------ 31.7/60.0 MB 1.3 MB/s eta 0:00:22\n",
      "     --------------------- ------------------ 32.0/60.0 MB 1.3 MB/s eta 0:00:22\n",
      "     --------------------- ------------------ 32.1/60.0 MB 1.3 MB/s eta 0:00:21\n",
      "     --------------------- ------------------ 32.1/60.0 MB 1.4 MB/s eta 0:00:21\n",
      "     --------------------- ------------------ 32.5/60.0 MB 1.4 MB/s eta 0:00:20\n",
      "     --------------------- ------------------ 32.5/60.0 MB 1.4 MB/s eta 0:00:20\n",
      "     --------------------- ------------------ 32.5/60.0 MB 1.4 MB/s eta 0:00:20\n",
      "     --------------------- ------------------ 32.5/60.0 MB 1.4 MB/s eta 0:00:20\n",
      "     --------------------- ------------------ 32.6/60.0 MB 1.4 MB/s eta 0:00:20\n",
      "     --------------------- ------------------ 32.8/60.0 MB 1.4 MB/s eta 0:00:20\n",
      "     --------------------- ------------------ 32.8/60.0 MB 1.4 MB/s eta 0:00:20\n",
      "     --------------------- ------------------ 32.8/60.0 MB 1.4 MB/s eta 0:00:20\n",
      "     --------------------- ------------------ 32.8/60.0 MB 1.4 MB/s eta 0:00:20\n",
      "     --------------------- ------------------ 32.8/60.0 MB 1.4 MB/s eta 0:00:20\n",
      "     ---------------------- ----------------- 33.1/60.0 MB 1.4 MB/s eta 0:00:19\n",
      "     ---------------------- ----------------- 33.4/60.0 MB 1.4 MB/s eta 0:00:19\n",
      "     ---------------------- ----------------- 33.4/60.0 MB 1.4 MB/s eta 0:00:19\n",
      "     ---------------------- ----------------- 33.6/60.0 MB 1.5 MB/s eta 0:00:18\n",
      "     ---------------------- ----------------- 33.9/60.0 MB 1.5 MB/s eta 0:00:18\n",
      "     ---------------------- ----------------- 33.9/60.0 MB 1.5 MB/s eta 0:00:18\n",
      "     ---------------------- ----------------- 33.9/60.0 MB 1.5 MB/s eta 0:00:18\n",
      "     ---------------------- ----------------- 33.9/60.0 MB 1.5 MB/s eta 0:00:18\n",
      "     ---------------------- ----------------- 34.1/60.0 MB 1.5 MB/s eta 0:00:18\n",
      "     ---------------------- ----------------- 34.1/60.0 MB 1.5 MB/s eta 0:00:18\n",
      "     ---------------------- ----------------- 34.1/60.0 MB 1.5 MB/s eta 0:00:18\n",
      "     ---------------------- ----------------- 34.1/60.0 MB 1.5 MB/s eta 0:00:18\n",
      "     ---------------------- ----------------- 34.1/60.0 MB 1.5 MB/s eta 0:00:18\n",
      "     ---------------------- ----------------- 34.2/60.0 MB 1.5 MB/s eta 0:00:18\n",
      "     ----------------------- ---------------- 34.5/60.0 MB 1.5 MB/s eta 0:00:18\n",
      "     ----------------------- ---------------- 34.6/60.0 MB 1.6 MB/s eta 0:00:16\n",
      "     ----------------------- ---------------- 34.9/60.0 MB 1.6 MB/s eta 0:00:16\n",
      "     ----------------------- ---------------- 35.1/60.0 MB 1.6 MB/s eta 0:00:16\n",
      "     ----------------------- ---------------- 35.2/60.0 MB 1.6 MB/s eta 0:00:16\n",
      "     ----------------------- ---------------- 35.2/60.0 MB 1.6 MB/s eta 0:00:16\n",
      "     ----------------------- ---------------- 35.2/60.0 MB 1.6 MB/s eta 0:00:16\n",
      "     ----------------------- ---------------- 35.2/60.0 MB 1.6 MB/s eta 0:00:16\n",
      "     ----------------------- ---------------- 35.2/60.0 MB 1.6 MB/s eta 0:00:16\n",
      "     ----------------------- ---------------- 35.2/60.0 MB 1.6 MB/s eta 0:00:16\n",
      "     ----------------------- ---------------- 35.2/60.0 MB 1.6 MB/s eta 0:00:16\n",
      "     ----------------------- ---------------- 35.2/60.0 MB 1.6 MB/s eta 0:00:16\n",
      "     ----------------------- ---------------- 35.2/60.0 MB 1.6 MB/s eta 0:00:16\n",
      "     ----------------------- ---------------- 35.2/60.0 MB 1.6 MB/s eta 0:00:16\n",
      "     ----------------------- ---------------- 35.2/60.0 MB 1.5 MB/s eta 0:00:17\n",
      "     ----------------------- ---------------- 35.2/60.0 MB 1.5 MB/s eta 0:00:17\n",
      "     ----------------------- ---------------- 35.6/60.0 MB 1.6 MB/s eta 0:00:16\n",
      "     ----------------------- ---------------- 35.8/60.0 MB 1.6 MB/s eta 0:00:16\n",
      "     ----------------------- ---------------- 35.9/60.0 MB 1.6 MB/s eta 0:00:16\n",
      "     ----------------------- ---------------- 35.9/60.0 MB 1.6 MB/s eta 0:00:16\n",
      "     ----------------------- ---------------- 35.9/60.0 MB 1.6 MB/s eta 0:00:16\n",
      "     ----------------------- ---------------- 35.9/60.0 MB 1.6 MB/s eta 0:00:16\n",
      "     ----------------------- ---------------- 35.9/60.0 MB 1.6 MB/s eta 0:00:16\n",
      "     ----------------------- ---------------- 35.9/60.0 MB 1.6 MB/s eta 0:00:16\n",
      "     ----------------------- ---------------- 35.9/60.0 MB 1.6 MB/s eta 0:00:16\n",
      "     ----------------------- ---------------- 35.9/60.0 MB 1.6 MB/s eta 0:00:16\n",
      "     ----------------------- ---------------- 35.9/60.0 MB 1.6 MB/s eta 0:00:16\n",
      "     ----------------------- ---------------- 35.9/60.0 MB 1.6 MB/s eta 0:00:16\n",
      "     ------------------------ --------------- 36.0/60.0 MB 1.6 MB/s eta 0:00:16\n",
      "     ------------------------ --------------- 36.1/60.0 MB 1.6 MB/s eta 0:00:16\n",
      "     ------------------------ --------------- 36.4/60.0 MB 1.6 MB/s eta 0:00:15\n",
      "     ------------------------ --------------- 36.7/60.0 MB 1.6 MB/s eta 0:00:15\n",
      "     ------------------------ --------------- 36.7/60.0 MB 1.6 MB/s eta 0:00:15\n",
      "     ------------------------ --------------- 36.7/60.0 MB 1.6 MB/s eta 0:00:15\n",
      "     ------------------------ --------------- 36.7/60.0 MB 1.6 MB/s eta 0:00:15\n",
      "     ------------------------ --------------- 36.8/60.0 MB 1.6 MB/s eta 0:00:15\n",
      "     ------------------------ --------------- 36.8/60.0 MB 1.6 MB/s eta 0:00:15\n",
      "     ------------------------ --------------- 36.8/60.0 MB 1.6 MB/s eta 0:00:15\n",
      "     ------------------------ --------------- 36.8/60.0 MB 1.6 MB/s eta 0:00:15\n",
      "     ------------------------ --------------- 36.8/60.0 MB 1.6 MB/s eta 0:00:15\n",
      "     ------------------------ --------------- 36.9/60.0 MB 1.5 MB/s eta 0:00:15\n",
      "     ------------------------ --------------- 37.1/60.0 MB 1.6 MB/s eta 0:00:15\n",
      "     ------------------------ --------------- 37.2/60.0 MB 1.6 MB/s eta 0:00:15\n",
      "     ------------------------ --------------- 37.3/60.0 MB 1.6 MB/s eta 0:00:15\n",
      "     ------------------------ --------------- 37.5/60.0 MB 1.6 MB/s eta 0:00:15\n",
      "     ------------------------- -------------- 37.6/60.0 MB 1.6 MB/s eta 0:00:15\n",
      "     ------------------------- -------------- 37.6/60.0 MB 1.6 MB/s eta 0:00:15\n",
      "     ------------------------- -------------- 37.6/60.0 MB 1.6 MB/s eta 0:00:15\n",
      "     ------------------------- -------------- 37.7/60.0 MB 1.6 MB/s eta 0:00:14\n",
      "     ------------------------- -------------- 37.9/60.0 MB 1.7 MB/s eta 0:00:14\n",
      "     ------------------------- -------------- 37.9/60.0 MB 1.7 MB/s eta 0:00:14\n",
      "     ------------------------- -------------- 37.9/60.0 MB 1.7 MB/s eta 0:00:14\n",
      "     ------------------------- -------------- 37.9/60.0 MB 1.7 MB/s eta 0:00:14\n",
      "     ------------------------- -------------- 37.9/60.0 MB 1.7 MB/s eta 0:00:14\n",
      "     ------------------------- -------------- 38.1/60.0 MB 1.6 MB/s eta 0:00:14\n",
      "     ------------------------- -------------- 38.4/60.0 MB 1.6 MB/s eta 0:00:14\n",
      "     ------------------------- -------------- 38.4/60.0 MB 1.6 MB/s eta 0:00:14\n",
      "     ------------------------- -------------- 38.6/60.0 MB 1.6 MB/s eta 0:00:13\n",
      "     ------------------------- -------------- 38.7/60.0 MB 1.7 MB/s eta 0:00:13\n",
      "     ------------------------- -------------- 38.8/60.0 MB 1.7 MB/s eta 0:00:13\n",
      "     ------------------------- -------------- 38.8/60.0 MB 1.7 MB/s eta 0:00:13\n",
      "     ------------------------- -------------- 38.8/60.0 MB 1.7 MB/s eta 0:00:13\n",
      "     ------------------------- -------------- 38.8/60.0 MB 1.7 MB/s eta 0:00:13\n",
      "     ------------------------- -------------- 38.9/60.0 MB 1.7 MB/s eta 0:00:13\n",
      "     ------------------------- -------------- 38.9/60.0 MB 1.7 MB/s eta 0:00:13\n",
      "     ------------------------- -------------- 38.9/60.0 MB 1.7 MB/s eta 0:00:13\n",
      "     ------------------------- -------------- 38.9/60.0 MB 1.7 MB/s eta 0:00:13\n",
      "     ------------------------- -------------- 38.9/60.0 MB 1.7 MB/s eta 0:00:13\n",
      "     ------------------------- -------------- 38.9/60.0 MB 1.7 MB/s eta 0:00:13\n",
      "     ------------------------- -------------- 38.9/60.0 MB 1.6 MB/s eta 0:00:14\n",
      "     -------------------------- ------------- 39.0/60.0 MB 1.6 MB/s eta 0:00:14\n",
      "     -------------------------- ------------- 39.3/60.0 MB 1.6 MB/s eta 0:00:14\n",
      "     -------------------------- ------------- 39.4/60.0 MB 1.6 MB/s eta 0:00:13\n",
      "     -------------------------- ------------- 39.4/60.0 MB 1.6 MB/s eta 0:00:13\n",
      "     -------------------------- ------------- 39.4/60.0 MB 1.6 MB/s eta 0:00:13\n",
      "     -------------------------- ------------- 39.5/60.0 MB 1.6 MB/s eta 0:00:14\n",
      "     -------------------------- ------------- 39.7/60.0 MB 1.7 MB/s eta 0:00:13\n",
      "     -------------------------- ------------- 39.7/60.0 MB 1.7 MB/s eta 0:00:13\n",
      "     -------------------------- ------------- 39.7/60.0 MB 1.7 MB/s eta 0:00:13\n",
      "     -------------------------- ------------- 39.7/60.0 MB 1.7 MB/s eta 0:00:13\n",
      "     -------------------------- ------------- 39.7/60.0 MB 1.7 MB/s eta 0:00:13\n",
      "     -------------------------- ------------- 39.7/60.0 MB 1.7 MB/s eta 0:00:13\n",
      "     -------------------------- ------------- 39.9/60.0 MB 1.6 MB/s eta 0:00:13\n",
      "     -------------------------- ------------- 39.9/60.0 MB 1.6 MB/s eta 0:00:13\n",
      "     -------------------------- ------------- 40.1/60.0 MB 1.6 MB/s eta 0:00:13\n",
      "     -------------------------- ------------- 40.3/60.0 MB 1.6 MB/s eta 0:00:13\n",
      "     -------------------------- ------------- 40.4/60.0 MB 1.6 MB/s eta 0:00:13\n",
      "     -------------------------- ------------- 40.4/60.0 MB 1.6 MB/s eta 0:00:13\n",
      "     -------------------------- ------------- 40.4/60.0 MB 1.6 MB/s eta 0:00:13\n",
      "     --------------------------- ------------ 40.5/60.0 MB 1.6 MB/s eta 0:00:13\n",
      "     --------------------------- ------------ 40.7/60.0 MB 1.6 MB/s eta 0:00:13\n",
      "     --------------------------- ------------ 40.7/60.0 MB 1.6 MB/s eta 0:00:13\n",
      "     --------------------------- ------------ 40.7/60.0 MB 1.6 MB/s eta 0:00:13\n",
      "     --------------------------- ------------ 40.7/60.0 MB 1.6 MB/s eta 0:00:13\n",
      "     --------------------------- ------------ 40.7/60.0 MB 1.6 MB/s eta 0:00:13\n",
      "     --------------------------- ------------ 40.8/60.0 MB 1.6 MB/s eta 0:00:13\n",
      "     --------------------------- ------------ 40.9/60.0 MB 1.6 MB/s eta 0:00:13\n",
      "     --------------------------- ------------ 41.0/60.0 MB 1.6 MB/s eta 0:00:13\n",
      "     --------------------------- ------------ 41.2/60.0 MB 1.6 MB/s eta 0:00:12\n",
      "     --------------------------- ------------ 41.5/60.0 MB 1.6 MB/s eta 0:00:12\n",
      "     --------------------------- ------------ 41.5/60.0 MB 1.6 MB/s eta 0:00:12\n",
      "     --------------------------- ------------ 41.5/60.0 MB 1.6 MB/s eta 0:00:12\n",
      "     --------------------------- ------------ 41.5/60.0 MB 1.6 MB/s eta 0:00:12\n",
      "     --------------------------- ------------ 41.5/60.0 MB 1.6 MB/s eta 0:00:12\n",
      "     --------------------------- ------------ 41.5/60.0 MB 1.6 MB/s eta 0:00:12\n",
      "     --------------------------- ------------ 41.5/60.0 MB 1.6 MB/s eta 0:00:12\n",
      "     --------------------------- ------------ 41.5/60.0 MB 1.6 MB/s eta 0:00:12\n",
      "     --------------------------- ------------ 41.5/60.0 MB 1.6 MB/s eta 0:00:12\n",
      "     --------------------------- ------------ 41.5/60.0 MB 1.5 MB/s eta 0:00:13\n",
      "     --------------------------- ------------ 41.7/60.0 MB 1.5 MB/s eta 0:00:12\n",
      "     --------------------------- ------------ 41.8/60.0 MB 1.6 MB/s eta 0:00:12\n",
      "     --------------------------- ------------ 41.9/60.0 MB 1.6 MB/s eta 0:00:12\n",
      "     ---------------------------- ----------- 42.2/60.0 MB 1.6 MB/s eta 0:00:12\n",
      "     ---------------------------- ----------- 42.4/60.0 MB 1.6 MB/s eta 0:00:12\n",
      "     ---------------------------- ----------- 42.4/60.0 MB 1.6 MB/s eta 0:00:12\n",
      "     ---------------------------- ----------- 42.4/60.0 MB 1.6 MB/s eta 0:00:12\n",
      "     ---------------------------- ----------- 42.4/60.0 MB 1.5 MB/s eta 0:00:12\n",
      "     ---------------------------- ----------- 42.6/60.0 MB 1.5 MB/s eta 0:00:12\n",
      "     ---------------------------- ----------- 42.6/60.0 MB 1.5 MB/s eta 0:00:12\n",
      "     ---------------------------- ----------- 42.6/60.0 MB 1.5 MB/s eta 0:00:12\n",
      "     ---------------------------- ----------- 42.6/60.0 MB 1.5 MB/s eta 0:00:12\n",
      "     ---------------------------- ----------- 42.6/60.0 MB 1.5 MB/s eta 0:00:12\n",
      "     ---------------------------- ----------- 42.6/60.0 MB 1.5 MB/s eta 0:00:12\n",
      "     ---------------------------- ----------- 42.6/60.0 MB 1.5 MB/s eta 0:00:12\n",
      "     ---------------------------- ----------- 42.7/60.0 MB 1.5 MB/s eta 0:00:12\n",
      "     ---------------------------- ----------- 42.9/60.0 MB 1.5 MB/s eta 0:00:12\n",
      "     ---------------------------- ----------- 43.1/60.0 MB 1.5 MB/s eta 0:00:11\n",
      "     ---------------------------- ----------- 43.2/60.0 MB 1.5 MB/s eta 0:00:11\n",
      "     ---------------------------- ----------- 43.2/60.0 MB 1.5 MB/s eta 0:00:11\n",
      "     ---------------------------- ----------- 43.2/60.0 MB 1.5 MB/s eta 0:00:11\n",
      "     ---------------------------- ----------- 43.2/60.0 MB 1.5 MB/s eta 0:00:11\n",
      "     ---------------------------- ----------- 43.2/60.0 MB 1.5 MB/s eta 0:00:11\n",
      "     ---------------------------- ----------- 43.2/60.0 MB 1.5 MB/s eta 0:00:11\n",
      "     ---------------------------- ----------- 43.2/60.0 MB 1.5 MB/s eta 0:00:11\n",
      "     ---------------------------- ----------- 43.2/60.0 MB 1.5 MB/s eta 0:00:11\n",
      "     ---------------------------- ----------- 43.2/60.0 MB 1.5 MB/s eta 0:00:11\n",
      "     ---------------------------- ----------- 43.2/60.0 MB 1.5 MB/s eta 0:00:11\n",
      "     ---------------------------- ----------- 43.4/60.0 MB 1.4 MB/s eta 0:00:12\n",
      "     ---------------------------- ----------- 43.5/60.0 MB 1.4 MB/s eta 0:00:12\n",
      "     ----------------------------- ---------- 43.7/60.0 MB 1.4 MB/s eta 0:00:12\n",
      "     ----------------------------- ---------- 44.0/60.0 MB 1.4 MB/s eta 0:00:12\n",
      "     ----------------------------- ---------- 44.0/60.0 MB 1.4 MB/s eta 0:00:12\n",
      "     ----------------------------- ---------- 44.0/60.0 MB 1.4 MB/s eta 0:00:12\n",
      "     ----------------------------- ---------- 44.0/60.0 MB 1.4 MB/s eta 0:00:12\n",
      "     ----------------------------- ---------- 44.0/60.0 MB 1.4 MB/s eta 0:00:12\n",
      "     ----------------------------- ---------- 44.0/60.0 MB 1.4 MB/s eta 0:00:12\n",
      "     ----------------------------- ---------- 44.0/60.0 MB 1.4 MB/s eta 0:00:12\n",
      "     ----------------------------- ---------- 44.0/60.0 MB 1.4 MB/s eta 0:00:12\n",
      "     ----------------------------- ---------- 44.0/60.0 MB 1.4 MB/s eta 0:00:12\n",
      "     ----------------------------- ---------- 44.0/60.0 MB 1.4 MB/s eta 0:00:12\n",
      "     ----------------------------- ---------- 44.2/60.0 MB 1.4 MB/s eta 0:00:12\n",
      "     ----------------------------- ---------- 44.3/60.0 MB 1.4 MB/s eta 0:00:12\n",
      "     ----------------------------- ---------- 44.4/60.0 MB 1.4 MB/s eta 0:00:11\n",
      "     ----------------------------- ---------- 44.7/60.0 MB 1.4 MB/s eta 0:00:11\n",
      "     ----------------------------- ---------- 44.9/60.0 MB 1.4 MB/s eta 0:00:11\n",
      "     ----------------------------- ---------- 44.9/60.0 MB 1.4 MB/s eta 0:00:11\n",
      "     ----------------------------- ---------- 44.9/60.0 MB 1.4 MB/s eta 0:00:11\n",
      "     ----------------------------- ---------- 44.9/60.0 MB 1.4 MB/s eta 0:00:11\n",
      "     ----------------------------- ---------- 44.9/60.0 MB 1.4 MB/s eta 0:00:11\n",
      "     ----------------------------- ---------- 44.9/60.0 MB 1.4 MB/s eta 0:00:11\n",
      "     ----------------------------- ---------- 44.9/60.0 MB 1.4 MB/s eta 0:00:11\n",
      "     ----------------------------- ---------- 44.9/60.0 MB 1.4 MB/s eta 0:00:11\n",
      "     ----------------------------- ---------- 44.9/60.0 MB 1.4 MB/s eta 0:00:11\n",
      "     ----------------------------- ---------- 45.0/60.0 MB 1.4 MB/s eta 0:00:12\n",
      "     ------------------------------ --------- 45.2/60.0 MB 1.4 MB/s eta 0:00:11\n",
      "     ------------------------------ --------- 45.3/60.0 MB 1.4 MB/s eta 0:00:11\n",
      "     ------------------------------ --------- 45.5/60.0 MB 1.4 MB/s eta 0:00:11\n",
      "     ------------------------------ --------- 45.7/60.0 MB 1.4 MB/s eta 0:00:10\n",
      "     ------------------------------ --------- 45.7/60.0 MB 1.4 MB/s eta 0:00:10\n",
      "     ------------------------------ --------- 45.7/60.0 MB 1.4 MB/s eta 0:00:10\n",
      "     ------------------------------ --------- 45.7/60.0 MB 1.4 MB/s eta 0:00:10\n",
      "     ------------------------------ --------- 45.8/60.0 MB 1.4 MB/s eta 0:00:11\n",
      "     ------------------------------ --------- 45.8/60.0 MB 1.4 MB/s eta 0:00:11\n",
      "     ------------------------------ --------- 45.8/60.0 MB 1.4 MB/s eta 0:00:11\n",
      "     ------------------------------ --------- 45.8/60.0 MB 1.4 MB/s eta 0:00:11\n",
      "     ------------------------------ --------- 45.8/60.0 MB 1.4 MB/s eta 0:00:11\n",
      "     ------------------------------ --------- 45.9/60.0 MB 1.4 MB/s eta 0:00:11\n",
      "     ------------------------------ --------- 46.1/60.0 MB 1.5 MB/s eta 0:00:10\n",
      "     ------------------------------ --------- 46.3/60.0 MB 1.5 MB/s eta 0:00:10\n",
      "     ------------------------------ --------- 46.3/60.0 MB 1.5 MB/s eta 0:00:10\n",
      "     ------------------------------ --------- 46.5/60.0 MB 1.5 MB/s eta 0:00:10\n",
      "     ------------------------------- -------- 46.7/60.0 MB 1.4 MB/s eta 0:00:10\n",
      "     ------------------------------- -------- 46.8/60.0 MB 1.4 MB/s eta 0:00:10\n",
      "     ------------------------------- -------- 46.8/60.0 MB 1.4 MB/s eta 0:00:10\n",
      "     ------------------------------- -------- 46.8/60.0 MB 1.4 MB/s eta 0:00:10\n",
      "     ------------------------------- -------- 46.8/60.0 MB 1.4 MB/s eta 0:00:10\n",
      "     ------------------------------- -------- 46.8/60.0 MB 1.4 MB/s eta 0:00:10\n",
      "     ------------------------------- -------- 46.8/60.0 MB 1.4 MB/s eta 0:00:10\n",
      "     ------------------------------- -------- 46.8/60.0 MB 1.4 MB/s eta 0:00:10\n",
      "     ------------------------------- -------- 46.8/60.0 MB 1.4 MB/s eta 0:00:10\n",
      "     ------------------------------- -------- 46.8/60.0 MB 1.4 MB/s eta 0:00:10\n",
      "     ------------------------------- -------- 46.8/60.0 MB 1.4 MB/s eta 0:00:10\n",
      "     ------------------------------- -------- 46.9/60.0 MB 1.4 MB/s eta 0:00:10\n",
      "     ------------------------------- -------- 47.0/60.0 MB 1.4 MB/s eta 0:00:10\n",
      "     ------------------------------- -------- 47.3/60.0 MB 1.4 MB/s eta 0:00:09\n",
      "     ------------------------------- -------- 47.4/60.0 MB 1.4 MB/s eta 0:00:09\n",
      "     ------------------------------- -------- 47.4/60.0 MB 1.4 MB/s eta 0:00:09\n",
      "     ------------------------------- -------- 47.4/60.0 MB 1.4 MB/s eta 0:00:09\n",
      "     ------------------------------- -------- 47.4/60.0 MB 1.4 MB/s eta 0:00:09\n",
      "     ------------------------------- -------- 47.4/60.0 MB 1.4 MB/s eta 0:00:09\n",
      "     ------------------------------- -------- 47.4/60.0 MB 1.4 MB/s eta 0:00:09\n",
      "     ------------------------------- -------- 47.4/60.0 MB 1.4 MB/s eta 0:00:09\n",
      "     ------------------------------- -------- 47.4/60.0 MB 1.4 MB/s eta 0:00:09\n",
      "     ------------------------------- -------- 47.4/60.0 MB 1.4 MB/s eta 0:00:09\n",
      "     ------------------------------- -------- 47.4/60.0 MB 1.4 MB/s eta 0:00:09\n",
      "     ------------------------------- -------- 47.6/60.0 MB 1.3 MB/s eta 0:00:10\n",
      "     ------------------------------- -------- 47.7/60.0 MB 1.4 MB/s eta 0:00:10\n",
      "     ------------------------------- -------- 47.8/60.0 MB 1.3 MB/s eta 0:00:10\n",
      "     -------------------------------- ------- 48.0/60.0 MB 1.4 MB/s eta 0:00:09\n",
      "     -------------------------------- ------- 48.1/60.0 MB 1.4 MB/s eta 0:00:09\n",
      "     -------------------------------- ------- 48.1/60.0 MB 1.4 MB/s eta 0:00:09\n",
      "     -------------------------------- ------- 48.1/60.0 MB 1.4 MB/s eta 0:00:09\n",
      "     -------------------------------- ------- 48.1/60.0 MB 1.4 MB/s eta 0:00:09\n",
      "     -------------------------------- ------- 48.1/60.0 MB 1.4 MB/s eta 0:00:09\n",
      "     -------------------------------- ------- 48.1/60.0 MB 1.4 MB/s eta 0:00:09\n",
      "     -------------------------------- ------- 48.1/60.0 MB 1.4 MB/s eta 0:00:09\n",
      "     -------------------------------- ------- 48.1/60.0 MB 1.4 MB/s eta 0:00:09\n",
      "     -------------------------------- ------- 48.1/60.0 MB 1.4 MB/s eta 0:00:09\n",
      "     -------------------------------- ------- 48.3/60.0 MB 1.3 MB/s eta 0:00:09\n",
      "     -------------------------------- ------- 48.5/60.0 MB 1.3 MB/s eta 0:00:09\n",
      "     -------------------------------- ------- 48.5/60.0 MB 1.3 MB/s eta 0:00:09\n",
      "     -------------------------------- ------- 48.7/60.0 MB 1.3 MB/s eta 0:00:09\n",
      "     -------------------------------- ------- 48.9/60.0 MB 1.3 MB/s eta 0:00:09\n",
      "     -------------------------------- ------- 49.0/60.0 MB 1.3 MB/s eta 0:00:09\n",
      "     -------------------------------- ------- 49.0/60.0 MB 1.3 MB/s eta 0:00:09\n",
      "     -------------------------------- ------- 49.0/60.0 MB 1.3 MB/s eta 0:00:09\n",
      "     -------------------------------- ------- 49.0/60.0 MB 1.3 MB/s eta 0:00:09\n",
      "     -------------------------------- ------- 49.0/60.0 MB 1.3 MB/s eta 0:00:09\n",
      "     -------------------------------- ------- 49.0/60.0 MB 1.3 MB/s eta 0:00:09\n",
      "     -------------------------------- ------- 49.0/60.0 MB 1.3 MB/s eta 0:00:09\n",
      "     -------------------------------- ------- 49.0/60.0 MB 1.3 MB/s eta 0:00:09\n",
      "     -------------------------------- ------- 49.2/60.0 MB 1.4 MB/s eta 0:00:08\n",
      "     -------------------------------- ------- 49.4/60.0 MB 1.4 MB/s eta 0:00:08\n",
      "     -------------------------------- ------- 49.5/60.0 MB 1.3 MB/s eta 0:00:08\n",
      "     --------------------------------- ------ 49.6/60.0 MB 1.3 MB/s eta 0:00:08\n",
      "     --------------------------------- ------ 49.8/60.0 MB 1.4 MB/s eta 0:00:08\n",
      "     --------------------------------- ------ 50.0/60.0 MB 1.4 MB/s eta 0:00:08\n",
      "     --------------------------------- ------ 50.0/60.0 MB 1.4 MB/s eta 0:00:08\n",
      "     --------------------------------- ------ 50.0/60.0 MB 1.4 MB/s eta 0:00:08\n",
      "     --------------------------------- ------ 50.0/60.0 MB 1.4 MB/s eta 0:00:08\n",
      "     --------------------------------- ------ 50.0/60.0 MB 1.4 MB/s eta 0:00:08\n",
      "     --------------------------------- ------ 50.0/60.0 MB 1.4 MB/s eta 0:00:08\n",
      "     --------------------------------- ------ 50.0/60.0 MB 1.4 MB/s eta 0:00:08\n",
      "     --------------------------------- ------ 50.0/60.0 MB 1.4 MB/s eta 0:00:08\n",
      "     --------------------------------- ------ 50.0/60.0 MB 1.4 MB/s eta 0:00:08\n",
      "     --------------------------------- ------ 50.0/60.0 MB 1.4 MB/s eta 0:00:08\n",
      "     --------------------------------- ------ 50.1/60.0 MB 1.3 MB/s eta 0:00:08\n",
      "     --------------------------------- ------ 50.1/60.0 MB 1.3 MB/s eta 0:00:08\n",
      "     --------------------------------- ------ 50.4/60.0 MB 1.3 MB/s eta 0:00:08\n",
      "     --------------------------------- ------ 50.6/60.0 MB 1.3 MB/s eta 0:00:08\n",
      "     --------------------------------- ------ 50.7/60.0 MB 1.4 MB/s eta 0:00:07\n",
      "     --------------------------------- ------ 50.7/60.0 MB 1.4 MB/s eta 0:00:07\n",
      "     --------------------------------- ------ 50.7/60.0 MB 1.4 MB/s eta 0:00:07\n",
      "     --------------------------------- ------ 50.7/60.0 MB 1.3 MB/s eta 0:00:07\n",
      "     --------------------------------- ------ 51.0/60.0 MB 1.4 MB/s eta 0:00:07\n",
      "     --------------------------------- ------ 51.0/60.0 MB 1.4 MB/s eta 0:00:07\n",
      "     --------------------------------- ------ 51.0/60.0 MB 1.4 MB/s eta 0:00:07\n",
      "     --------------------------------- ------ 51.0/60.0 MB 1.4 MB/s eta 0:00:07\n",
      "     --------------------------------- ------ 51.0/60.0 MB 1.3 MB/s eta 0:00:07\n",
      "     ---------------------------------- ----- 51.2/60.0 MB 1.3 MB/s eta 0:00:07\n",
      "     ---------------------------------- ----- 51.4/60.0 MB 1.3 MB/s eta 0:00:07\n",
      "     ---------------------------------- ----- 51.4/60.0 MB 1.3 MB/s eta 0:00:07\n",
      "     ---------------------------------- ----- 51.5/60.0 MB 1.3 MB/s eta 0:00:07\n",
      "     ---------------------------------- ----- 51.7/60.0 MB 1.4 MB/s eta 0:00:06\n",
      "     ---------------------------------- ----- 51.8/60.0 MB 1.4 MB/s eta 0:00:06\n",
      "     ---------------------------------- ----- 51.8/60.0 MB 1.4 MB/s eta 0:00:06\n",
      "     ---------------------------------- ----- 51.8/60.0 MB 1.4 MB/s eta 0:00:06\n",
      "     ---------------------------------- ----- 51.8/60.0 MB 1.4 MB/s eta 0:00:06\n",
      "     ---------------------------------- ----- 51.8/60.0 MB 1.4 MB/s eta 0:00:06\n",
      "     ---------------------------------- ----- 51.8/60.0 MB 1.4 MB/s eta 0:00:06\n",
      "     ---------------------------------- ----- 51.8/60.0 MB 1.4 MB/s eta 0:00:06\n",
      "     ---------------------------------- ----- 51.8/60.0 MB 1.4 MB/s eta 0:00:06\n",
      "     ---------------------------------- ----- 51.8/60.0 MB 1.4 MB/s eta 0:00:06\n",
      "     ---------------------------------- ----- 52.1/60.0 MB 1.4 MB/s eta 0:00:06\n",
      "     ---------------------------------- ----- 52.4/60.0 MB 1.4 MB/s eta 0:00:06\n",
      "     ---------------------------------- ----- 52.4/60.0 MB 1.3 MB/s eta 0:00:06\n",
      "     ----------------------------------- ---- 52.7/60.0 MB 1.4 MB/s eta 0:00:06\n",
      "     ----------------------------------- ---- 53.0/60.0 MB 1.4 MB/s eta 0:00:05\n",
      "     ----------------------------------- ---- 53.0/60.0 MB 1.4 MB/s eta 0:00:05\n",
      "     ----------------------------------- ---- 53.0/60.0 MB 1.4 MB/s eta 0:00:05\n",
      "     ----------------------------------- ---- 53.0/60.0 MB 1.4 MB/s eta 0:00:05\n",
      "     ----------------------------------- ---- 53.2/60.0 MB 1.4 MB/s eta 0:00:05\n",
      "     ----------------------------------- ---- 53.2/60.0 MB 1.4 MB/s eta 0:00:05\n",
      "     ----------------------------------- ---- 53.2/60.0 MB 1.4 MB/s eta 0:00:05\n",
      "     ----------------------------------- ---- 53.2/60.0 MB 1.4 MB/s eta 0:00:05\n",
      "     ----------------------------------- ---- 53.2/60.0 MB 1.4 MB/s eta 0:00:05\n",
      "     ----------------------------------- ---- 53.2/60.0 MB 1.4 MB/s eta 0:00:05\n",
      "     ----------------------------------- ---- 53.2/60.0 MB 1.4 MB/s eta 0:00:05\n",
      "     ----------------------------------- ---- 53.2/60.0 MB 1.4 MB/s eta 0:00:05\n",
      "     ----------------------------------- ---- 53.2/60.0 MB 1.4 MB/s eta 0:00:05\n",
      "     ----------------------------------- ---- 53.2/60.0 MB 1.4 MB/s eta 0:00:05\n",
      "     ----------------------------------- ---- 53.2/60.0 MB 1.4 MB/s eta 0:00:05\n",
      "     ----------------------------------- ---- 53.2/60.0 MB 1.4 MB/s eta 0:00:05\n",
      "     ----------------------------------- ---- 53.2/60.0 MB 1.4 MB/s eta 0:00:05\n",
      "     ----------------------------------- ---- 53.2/60.0 MB 1.4 MB/s eta 0:00:05\n",
      "     ----------------------------------- ---- 53.2/60.0 MB 1.4 MB/s eta 0:00:05\n",
      "     ----------------------------------- ---- 53.2/60.0 MB 1.4 MB/s eta 0:00:05\n",
      "     ----------------------------------- ---- 53.2/60.0 MB 1.4 MB/s eta 0:00:05\n",
      "     ----------------------------------- ---- 53.2/60.0 MB 1.4 MB/s eta 0:00:05\n",
      "     ----------------------------------- ---- 53.2/60.0 MB 1.4 MB/s eta 0:00:05\n",
      "     ----------------------------------- ---- 53.2/60.0 MB 1.4 MB/s eta 0:00:05\n",
      "     ----------------------------------- ---- 53.2/60.0 MB 1.4 MB/s eta 0:00:05\n",
      "     ----------------------------------- ---- 53.2/60.0 MB 1.4 MB/s eta 0:00:05\n",
      "     ----------------------------------- ---- 53.2/60.0 MB 1.4 MB/s eta 0:00:05\n",
      "     ----------------------------------- ---- 53.2/60.0 MB 1.4 MB/s eta 0:00:05\n",
      "     ----------------------------------- ---- 53.2/60.0 MB 1.4 MB/s eta 0:00:05\n",
      "     ----------------------------------- ---- 53.2/60.0 MB 1.4 MB/s eta 0:00:05\n",
      "     ----------------------------------- ---- 53.2/60.0 MB 1.4 MB/s eta 0:00:05\n",
      "     ----------------------------------- ---- 53.2/60.0 MB 1.4 MB/s eta 0:00:05\n",
      "     ----------------------------------- ---- 53.2/60.0 MB 1.4 MB/s eta 0:00:05\n",
      "     ----------------------------------- ---- 53.2/60.0 MB 1.4 MB/s eta 0:00:05\n",
      "     ----------------------------------- ---- 53.2/60.0 MB 1.4 MB/s eta 0:00:05\n",
      "     ----------------------------------- ---- 53.2/60.0 MB 1.4 MB/s eta 0:00:05\n",
      "     ----------------------------------- ---- 53.2/60.0 MB 1.4 MB/s eta 0:00:05\n",
      "     ----------------------------------- ---- 53.2/60.0 MB 1.4 MB/s eta 0:00:05\n",
      "     ----------------------------------- ---- 53.2/60.0 MB 1.4 MB/s eta 0:00:05\n",
      "     ----------------------------------- ---- 53.2/60.0 MB 1.4 MB/s eta 0:00:05\n",
      "     ----------------------------------- ---- 53.9/60.0 MB 1.2 MB/s eta 0:00:05\n",
      "     ------------------------------------ --- 54.9/60.0 MB 1.3 MB/s eta 0:00:04\n",
      "     ------------------------------------ --- 54.9/60.0 MB 1.3 MB/s eta 0:00:04\n",
      "     ------------------------------------ --- 54.9/60.0 MB 1.3 MB/s eta 0:00:04\n",
      "     ------------------------------------ --- 54.9/60.0 MB 1.3 MB/s eta 0:00:04\n",
      "     ------------------------------------ --- 54.9/60.0 MB 1.3 MB/s eta 0:00:04\n",
      "     ------------------------------------ --- 54.9/60.0 MB 1.3 MB/s eta 0:00:04\n",
      "     ------------------------------------ --- 54.9/60.0 MB 1.3 MB/s eta 0:00:04\n",
      "     ------------------------------------ --- 54.9/60.0 MB 1.3 MB/s eta 0:00:04\n",
      "     ------------------------------------ --- 54.9/60.0 MB 1.3 MB/s eta 0:00:04\n",
      "     ------------------------------------ --- 55.3/60.0 MB 1.3 MB/s eta 0:00:04\n",
      "     ------------------------------------ --- 55.5/60.0 MB 1.3 MB/s eta 0:00:04\n",
      "     ------------------------------------ --- 55.5/60.0 MB 1.3 MB/s eta 0:00:04\n",
      "     ------------------------------------- -- 55.6/60.0 MB 1.3 MB/s eta 0:00:04\n",
      "     ------------------------------------- -- 55.6/60.0 MB 1.3 MB/s eta 0:00:04\n",
      "     ------------------------------------- -- 55.6/60.0 MB 1.3 MB/s eta 0:00:04\n",
      "     ------------------------------------- -- 55.6/60.0 MB 1.3 MB/s eta 0:00:04\n",
      "     ------------------------------------- -- 55.6/60.0 MB 1.3 MB/s eta 0:00:04\n",
      "     ------------------------------------- -- 55.6/60.0 MB 1.3 MB/s eta 0:00:04\n",
      "     ------------------------------------- -- 55.6/60.0 MB 1.3 MB/s eta 0:00:04\n",
      "     ------------------------------------- -- 55.6/60.0 MB 1.3 MB/s eta 0:00:04\n",
      "     ------------------------------------- -- 55.6/60.0 MB 1.3 MB/s eta 0:00:04\n",
      "     ------------------------------------- -- 55.6/60.0 MB 1.3 MB/s eta 0:00:04\n",
      "     ------------------------------------- -- 55.6/60.0 MB 1.3 MB/s eta 0:00:04\n",
      "     ------------------------------------- -- 55.6/60.0 MB 1.3 MB/s eta 0:00:04\n",
      "     ------------------------------------- -- 55.6/60.0 MB 1.3 MB/s eta 0:00:04\n",
      "     ------------------------------------- -- 55.6/60.0 MB 1.2 MB/s eta 0:00:04\n",
      "     ------------------------------------- -- 55.8/60.0 MB 1.2 MB/s eta 0:00:04\n",
      "     ------------------------------------- -- 56.0/60.0 MB 1.3 MB/s eta 0:00:04\n",
      "     ------------------------------------- -- 56.1/60.0 MB 1.3 MB/s eta 0:00:04\n",
      "     ------------------------------------- -- 56.1/60.0 MB 1.3 MB/s eta 0:00:04\n",
      "     ------------------------------------- -- 56.1/60.0 MB 1.3 MB/s eta 0:00:04\n",
      "     ------------------------------------- -- 56.1/60.0 MB 1.3 MB/s eta 0:00:04\n",
      "     ------------------------------------- -- 56.3/60.0 MB 1.3 MB/s eta 0:00:03\n",
      "     ------------------------------------- -- 56.3/60.0 MB 1.3 MB/s eta 0:00:03\n",
      "     ------------------------------------- -- 56.3/60.0 MB 1.3 MB/s eta 0:00:03\n",
      "     ------------------------------------- -- 56.3/60.0 MB 1.3 MB/s eta 0:00:03\n",
      "     ------------------------------------- -- 56.4/60.0 MB 1.2 MB/s eta 0:00:03\n",
      "     ------------------------------------- -- 56.6/60.0 MB 1.2 MB/s eta 0:00:03\n",
      "     ------------------------------------- -- 56.6/60.0 MB 1.2 MB/s eta 0:00:03\n",
      "     ------------------------------------- -- 56.6/60.0 MB 1.2 MB/s eta 0:00:03\n",
      "     ------------------------------------- -- 56.6/60.0 MB 1.2 MB/s eta 0:00:03\n",
      "     ------------------------------------- -- 56.6/60.0 MB 1.2 MB/s eta 0:00:03\n",
      "     ------------------------------------- -- 56.6/60.0 MB 1.2 MB/s eta 0:00:03\n",
      "     ------------------------------------- -- 56.6/60.0 MB 1.2 MB/s eta 0:00:03\n",
      "     ------------------------------------- -- 56.6/60.0 MB 1.2 MB/s eta 0:00:03\n",
      "     ------------------------------------- -- 56.6/60.0 MB 1.2 MB/s eta 0:00:03\n",
      "     ------------------------------------- -- 56.6/60.0 MB 1.2 MB/s eta 0:00:03\n",
      "     ------------------------------------- -- 56.6/60.0 MB 1.2 MB/s eta 0:00:03\n",
      "     ------------------------------------- -- 56.6/60.0 MB 1.2 MB/s eta 0:00:03\n",
      "     ------------------------------------- -- 56.6/60.0 MB 1.2 MB/s eta 0:00:03\n",
      "     ------------------------------------- -- 56.6/60.0 MB 1.2 MB/s eta 0:00:03\n",
      "     ------------------------------------- -- 56.6/60.0 MB 1.2 MB/s eta 0:00:03\n",
      "     ------------------------------------- -- 56.6/60.0 MB 1.2 MB/s eta 0:00:03\n",
      "     ------------------------------------- -- 56.6/60.0 MB 1.2 MB/s eta 0:00:03\n",
      "     -------------------------------------- - 57.5/60.0 MB 1.2 MB/s eta 0:00:03\n",
      "     -------------------------------------- - 58.2/60.0 MB 1.3 MB/s eta 0:00:02\n",
      "     -------------------------------------- - 58.2/60.0 MB 1.3 MB/s eta 0:00:02\n",
      "     -------------------------------------- - 58.2/60.0 MB 1.3 MB/s eta 0:00:02\n",
      "     -------------------------------------- - 58.2/60.0 MB 1.3 MB/s eta 0:00:02\n",
      "     -------------------------------------- - 58.2/60.0 MB 1.3 MB/s eta 0:00:02\n",
      "     -------------------------------------- - 58.2/60.0 MB 1.3 MB/s eta 0:00:02\n",
      "     -------------------------------------- - 58.2/60.0 MB 1.3 MB/s eta 0:00:02\n",
      "     -------------------------------------- - 58.2/60.0 MB 1.3 MB/s eta 0:00:02\n",
      "     -------------------------------------- - 58.2/60.0 MB 1.3 MB/s eta 0:00:02\n",
      "     -------------------------------------- - 58.4/60.0 MB 1.3 MB/s eta 0:00:02\n",
      "     ---------------------------------------  58.6/60.0 MB 1.3 MB/s eta 0:00:02\n",
      "     ---------------------------------------  58.6/60.0 MB 1.3 MB/s eta 0:00:02\n",
      "     ---------------------------------------  58.7/60.0 MB 1.3 MB/s eta 0:00:01\n",
      "     ---------------------------------------  58.8/60.0 MB 1.3 MB/s eta 0:00:01\n",
      "     ---------------------------------------  58.8/60.0 MB 1.3 MB/s eta 0:00:01\n",
      "     ---------------------------------------  58.8/60.0 MB 1.3 MB/s eta 0:00:01\n",
      "     ---------------------------------------  58.8/60.0 MB 1.3 MB/s eta 0:00:01\n",
      "     ---------------------------------------  59.0/60.0 MB 1.3 MB/s eta 0:00:01\n",
      "     ---------------------------------------  59.1/60.0 MB 1.3 MB/s eta 0:00:01\n",
      "     ---------------------------------------  59.1/60.0 MB 1.3 MB/s eta 0:00:01\n",
      "     ---------------------------------------  59.1/60.0 MB 1.3 MB/s eta 0:00:01\n",
      "     ---------------------------------------  59.1/60.0 MB 1.3 MB/s eta 0:00:01\n",
      "     ---------------------------------------  59.1/60.0 MB 1.3 MB/s eta 0:00:01\n",
      "     ---------------------------------------  59.1/60.0 MB 1.3 MB/s eta 0:00:01\n",
      "     ---------------------------------------  59.1/60.0 MB 1.2 MB/s eta 0:00:01\n",
      "     ---------------------------------------  59.2/60.0 MB 1.2 MB/s eta 0:00:01\n",
      "     ---------------------------------------  59.5/60.0 MB 1.3 MB/s eta 0:00:01\n",
      "     ---------------------------------------  59.7/60.0 MB 1.3 MB/s eta 0:00:01\n",
      "     ---------------------------------------  59.7/60.0 MB 1.3 MB/s eta 0:00:01\n",
      "     ---------------------------------------  59.7/60.0 MB 1.3 MB/s eta 0:00:01\n",
      "     ---------------------------------------  59.7/60.0 MB 1.3 MB/s eta 0:00:01\n",
      "     ---------------------------------------  59.9/60.0 MB 1.3 MB/s eta 0:00:01\n",
      "     ---------------------------------------  60.0/60.0 MB 1.3 MB/s eta 0:00:01\n",
      "     ---------------------------------------  60.0/60.0 MB 1.3 MB/s eta 0:00:01\n",
      "     ---------------------------------------  60.0/60.0 MB 1.3 MB/s eta 0:00:01\n",
      "     ---------------------------------------  60.0/60.0 MB 1.3 MB/s eta 0:00:01\n",
      "     ---------------------------------------  60.0/60.0 MB 1.3 MB/s eta 0:00:01\n",
      "     ---------------------------------------  60.0/60.0 MB 1.3 MB/s eta 0:00:01\n",
      "     ---------------------------------------  60.0/60.0 MB 1.2 MB/s eta 0:00:01\n",
      "     ---------------------------------------  60.0/60.0 MB 1.2 MB/s eta 0:00:01\n",
      "     ---------------------------------------  60.0/60.0 MB 1.2 MB/s eta 0:00:01\n",
      "     ---------------------------------------- 60.0/60.0 MB 1.2 MB/s eta 0:00:00\n",
      "Collecting PyQt5>=5.15.4\n",
      "  Using cached PyQt5-5.15.9-cp37-abi3-win_amd64.whl (6.8 MB)\n",
      "Collecting PyQt5-sip<13,>=12.11\n",
      "  Downloading PyQt5_sip-12.12.1-cp39-cp39-win_amd64.whl (78 kB)\n",
      "     ---------------------------------------- 0.0/78.4 kB ? eta -:--:--\n",
      "     ----- ---------------------------------- 10.2/78.4 kB ? eta -:--:--\n",
      "     ----- ---------------------------------- 10.2/78.4 kB ? eta -:--:--\n",
      "     ----- ---------------------------------- 10.2/78.4 kB ? eta -:--:--\n",
      "     ----- ---------------------------------- 10.2/78.4 kB ? eta -:--:--\n",
      "     -------------------------------------- 78.4/78.4 kB 312.7 kB/s eta 0:00:00\n",
      "Collecting PyQt5-Qt5>=5.15.2\n",
      "  Using cached PyQt5_Qt5-5.15.2-py3-none-win_amd64.whl (50.1 MB)\n",
      "Installing collected packages: PyQtWebEngine-Qt5, PyQt5-Qt5, PyQt5-sip, PyQt5, pyqtwebengine\n",
      "Successfully installed PyQt5-5.15.9 PyQt5-Qt5-5.15.2 PyQt5-sip-12.12.1 PyQtWebEngine-Qt5-5.15.2 pyqtwebengine-5.15.6\n"
     ]
    },
    {
     "name": "stderr",
     "output_type": "stream",
     "text": [
      "\n",
      "[notice] A new release of pip is available: 23.0.1 -> 23.1.1\n",
      "[notice] To update, run: python.exe -m pip install --upgrade pip\n"
     ]
    }
   ],
   "source": [
    "!pip install nbconvert[qtpdf]\n"
   ]
  },
  {
   "cell_type": "code",
   "execution_count": null,
   "id": "a2e51c83",
   "metadata": {},
   "outputs": [],
   "source": []
  }
 ],
 "metadata": {
  "kernelspec": {
   "display_name": "Python 3 (ipykernel)",
   "language": "python",
   "name": "python3"
  },
  "language_info": {
   "codemirror_mode": {
    "name": "ipython",
    "version": 3
   },
   "file_extension": ".py",
   "mimetype": "text/x-python",
   "name": "python",
   "nbconvert_exporter": "python",
   "pygments_lexer": "ipython3",
   "version": "3.9.13"
  }
 },
 "nbformat": 4,
 "nbformat_minor": 5
}
