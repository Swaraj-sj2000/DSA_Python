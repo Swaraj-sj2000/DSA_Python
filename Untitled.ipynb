{
 "cells": [
  {
   "cell_type": "markdown",
   "id": "3e063196",
   "metadata": {},
   "source": [
    "#Queue in Queue"
   ]
  },
  {
   "cell_type": "code",
   "execution_count": 1,
   "id": "50d98190",
   "metadata": {},
   "outputs": [],
   "source": [
    "from queue import Queue"
   ]
  },
  {
   "cell_type": "code",
   "execution_count": 2,
   "id": "abe192c2",
   "metadata": {},
   "outputs": [],
   "source": [
    "q=Queue(maxsize=3)"
   ]
  },
  {
   "cell_type": "code",
   "execution_count": 3,
   "id": "b64ba413",
   "metadata": {},
   "outputs": [],
   "source": [
    "q.put(0)"
   ]
  },
  {
   "cell_type": "code",
   "execution_count": 4,
   "id": "7d6c9fa2",
   "metadata": {},
   "outputs": [],
   "source": [
    "q.put(1)"
   ]
  },
  {
   "cell_type": "code",
   "execution_count": 5,
   "id": "b636c0be",
   "metadata": {},
   "outputs": [],
   "source": [
    "q.put(3)"
   ]
  },
  {
   "cell_type": "code",
   "execution_count": 6,
   "id": "b768ea60",
   "metadata": {},
   "outputs": [
    {
     "name": "stdout",
     "output_type": "stream",
     "text": [
      "0\n"
     ]
    }
   ],
   "source": [
    "print(q.get())"
   ]
  },
  {
   "cell_type": "code",
   "execution_count": 7,
   "id": "4d37bc6e",
   "metadata": {},
   "outputs": [
    {
     "name": "stdout",
     "output_type": "stream",
     "text": [
      "1\n"
     ]
    }
   ],
   "source": [
    "print(q.get())"
   ]
  },
  {
   "cell_type": "code",
   "execution_count": 8,
   "id": "1b44feb2",
   "metadata": {},
   "outputs": [
    {
     "name": "stdout",
     "output_type": "stream",
     "text": [
      "<queue.Queue object at 0x0000027081325910>\n"
     ]
    }
   ],
   "source": [
    "print(q)"
   ]
  },
  {
   "cell_type": "code",
   "execution_count": 9,
   "id": "3d9b4686",
   "metadata": {},
   "outputs": [
    {
     "name": "stdout",
     "output_type": "stream",
     "text": [
      "1\n"
     ]
    }
   ],
   "source": [
    "print(q.qsize())"
   ]
  },
  {
   "cell_type": "code",
   "execution_count": 10,
   "id": "5c960036",
   "metadata": {},
   "outputs": [],
   "source": [
    "q.put([10,11,12])"
   ]
  },
  {
   "cell_type": "code",
   "execution_count": 13,
   "id": "d6c284a2",
   "metadata": {},
   "outputs": [
    {
     "name": "stdout",
     "output_type": "stream",
     "text": [
      "2\n"
     ]
    }
   ],
   "source": [
    "print(q.qsize())"
   ]
  },
  {
   "cell_type": "code",
   "execution_count": 11,
   "id": "a01579f1",
   "metadata": {},
   "outputs": [
    {
     "name": "stdout",
     "output_type": "stream",
     "text": [
      "3\n"
     ]
    }
   ],
   "source": [
    "print(q.get())"
   ]
  },
  {
   "cell_type": "code",
   "execution_count": 12,
   "id": "046e63e7",
   "metadata": {},
   "outputs": [
    {
     "name": "stdout",
     "output_type": "stream",
     "text": [
      "[10, 11, 12]\n"
     ]
    }
   ],
   "source": [
    "print(q.get())"
   ]
  },
  {
   "cell_type": "code",
   "execution_count": 16,
   "id": "f8d9d31f",
   "metadata": {},
   "outputs": [],
   "source": [
    "q.put(10,11,12)"
   ]
  },
  {
   "cell_type": "code",
   "execution_count": 13,
   "id": "bc4c68ce",
   "metadata": {},
   "outputs": [
    {
     "name": "stdout",
     "output_type": "stream",
     "text": [
      "0\n"
     ]
    }
   ],
   "source": [
    "print(q.qsize())"
   ]
  },
  {
   "cell_type": "code",
   "execution_count": 2,
   "id": "152a1bb0",
   "metadata": {},
   "outputs": [],
   "source": [
    "q=Queue(maxsize=0)"
   ]
  },
  {
   "cell_type": "code",
   "execution_count": 6,
   "id": "9750ebbe",
   "metadata": {},
   "outputs": [],
   "source": [
    "for i in range(10):\n",
    "    q.put(i)"
   ]
  },
  {
   "cell_type": "code",
   "execution_count": 9,
   "id": "b83c2e6b",
   "metadata": {},
   "outputs": [
    {
     "name": "stdout",
     "output_type": "stream",
     "text": [
      "[0, 1, 2, 3, 4, 5, 6, 7, 8, 9, 0, 1, 2, 3, 4, 5, 6, 7, 8, 9]\n"
     ]
    }
   ],
   "source": [
    "l1=[]\n",
    "while not(q.empty()):\n",
    "    l1.append(q.get())\n",
    "print(l1)"
   ]
  },
  {
   "cell_type": "code",
   "execution_count": 10,
   "id": "547f542a",
   "metadata": {},
   "outputs": [
    {
     "name": "stdout",
     "output_type": "stream",
     "text": [
      "True\n"
     ]
    }
   ],
   "source": [
    "print(q.empty())"
   ]
  },
  {
   "cell_type": "code",
   "execution_count": null,
   "id": "ce91ac9d",
   "metadata": {},
   "outputs": [],
   "source": []
  }
 ],
 "metadata": {
  "kernelspec": {
   "display_name": "Python 3 (ipykernel)",
   "language": "python",
   "name": "python3"
  },
  "language_info": {
   "codemirror_mode": {
    "name": "ipython",
    "version": 3
   },
   "file_extension": ".py",
   "mimetype": "text/x-python",
   "name": "python",
   "nbconvert_exporter": "python",
   "pygments_lexer": "ipython3",
   "version": "3.9.13"
  }
 },
 "nbformat": 4,
 "nbformat_minor": 5
}
