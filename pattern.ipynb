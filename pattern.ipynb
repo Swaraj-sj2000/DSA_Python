{
 "cells": [
  {
   "cell_type": "markdown",
   "id": "e9c12549",
   "metadata": {},
   "source": [
    "# Triangle patterns:"
   ]
  },
  {
   "cell_type": "code",
   "execution_count": 13,
   "id": "99f37a22",
   "metadata": {},
   "outputs": [],
   "source": [
    "def inc_Triangle(n,c='*'):\n",
    "    for i in range(n):\n",
    "        for j in range(i+1):\n",
    "            print(c,end=\"\")\n",
    "        print()"
   ]
  },
  {
   "cell_type": "code",
   "execution_count": 14,
   "id": "fae27911",
   "metadata": {},
   "outputs": [
    {
     "name": "stdout",
     "output_type": "stream",
     "text": [
      "*\n",
      "**\n",
      "***\n",
      "****\n",
      "*****\n"
     ]
    }
   ],
   "source": [
    "inc_Triangle(5)"
   ]
  },
  {
   "cell_type": "code",
   "execution_count": 15,
   "id": "619b0bdc",
   "metadata": {},
   "outputs": [],
   "source": [
    "def dec_Triangle(n,c='*'):\n",
    "    for i in range(n,0,-1):\n",
    "        for j in range(i):\n",
    "            print(\"*\",end=\"\")\n",
    "        print()"
   ]
  },
  {
   "cell_type": "code",
   "execution_count": 16,
   "id": "3413e70d",
   "metadata": {},
   "outputs": [
    {
     "name": "stdout",
     "output_type": "stream",
     "text": [
      "*****\n",
      "****\n",
      "***\n",
      "**\n",
      "*\n"
     ]
    }
   ],
   "source": [
    "dec_Triangle(5)"
   ]
  },
  {
   "cell_type": "code",
   "execution_count": 27,
   "id": "955019ea",
   "metadata": {},
   "outputs": [
    {
     "name": "stdout",
     "output_type": "stream",
     "text": [
      "    * \n",
      "   * * \n",
      "  * * * \n",
      " * * * * \n",
      "* * * * * \n"
     ]
    }
   ],
   "source": [
    "def pyramid(n,c='*'):\n",
    "    for j in range(n):\n",
    "       for i in range(n-j-1):\n",
    "            print(\" \",end=\"\")\n",
    "       for m in range(j+1):\n",
    "            print(c,end=\" \")\n",
    "       print()\n",
    "pyramid(5)\n",
    "        \n",
    "    "
   ]
  },
  {
   "cell_type": "code",
   "execution_count": 44,
   "id": "b721533c",
   "metadata": {},
   "outputs": [
    {
     "name": "stdout",
     "output_type": "stream",
     "text": [
      "bbbb*\n",
      "bbb**\n",
      "bb***\n",
      "b****\n",
      "*****\n"
     ]
    }
   ],
   "source": [
    "def spaced_triangle(n,c='*'):\n",
    "    for j in range(n):\n",
    "        for i in range(1,n-j):\n",
    "            print(\"b\",end=\"\")\n",
    "        for k in range(j+1):\n",
    "            print(\"*\",end=\"\")\n",
    "        print()\n",
    "spaced_triangle(5)"
   ]
  },
  {
   "cell_type": "code",
   "execution_count": 36,
   "id": "b1ad63a4",
   "metadata": {},
   "outputs": [
    {
     "name": "stdout",
     "output_type": "stream",
     "text": [
      "*****\n",
      " ****\n",
      "  ***\n",
      "   **\n",
      "    *\n"
     ]
    }
   ],
   "source": [
    "def inverted_spaced_triangle(n,c='*'):\n",
    "    for i in range(n):\n",
    "        for j in range(i):\n",
    "            print(\" \",end=\"\")\n",
    "        for m in range(n-i):\n",
    "            print(c,end=\"\")\n",
    "        print()\n",
    "inverted_spaced_triangle(5)"
   ]
  },
  {
   "cell_type": "code",
   "execution_count": 47,
   "id": "d3e6f090",
   "metadata": {},
   "outputs": [],
   "source": [
    "def inc_Triangle1(n):\n",
    "    for i in range(n):\n",
    "        for j in range(i+1):\n",
    "            print(j+1,end=\"\")\n",
    "        print()"
   ]
  },
  {
   "cell_type": "code",
   "execution_count": 48,
   "id": "0b861ba2",
   "metadata": {},
   "outputs": [
    {
     "name": "stdout",
     "output_type": "stream",
     "text": [
      "1\n",
      "12\n",
      "123\n",
      "1234\n",
      "12345\n"
     ]
    }
   ],
   "source": [
    "inc_Triangle1(5)"
   ]
  },
  {
   "cell_type": "code",
   "execution_count": 54,
   "id": "8ac8f4c2",
   "metadata": {},
   "outputs": [],
   "source": [
    "def inc_Triangle2(n):\n",
    "    for i in range(n):\n",
    "        for j in range(i+1):\n",
    "            print(i+1,end=\"\")\n",
    "        print()"
   ]
  },
  {
   "cell_type": "code",
   "execution_count": 55,
   "id": "b33aeb08",
   "metadata": {},
   "outputs": [
    {
     "name": "stdout",
     "output_type": "stream",
     "text": [
      "1\n",
      "22\n",
      "333\n",
      "4444\n",
      "55555\n"
     ]
    }
   ],
   "source": [
    "inc_Triangle2(5)"
   ]
  },
  {
   "cell_type": "code",
   "execution_count": 52,
   "id": "591394a8",
   "metadata": {},
   "outputs": [],
   "source": [
    "def dec_Triangle1(n):\n",
    "    for i in range(n,0,-1):\n",
    "        for j in range(i):\n",
    "            print(j+1,end=\"\")\n",
    "        print()"
   ]
  },
  {
   "cell_type": "code",
   "execution_count": 53,
   "id": "faf0296c",
   "metadata": {
    "scrolled": true
   },
   "outputs": [
    {
     "name": "stdout",
     "output_type": "stream",
     "text": [
      "12345\n",
      "1234\n",
      "123\n",
      "12\n",
      "1\n"
     ]
    }
   ],
   "source": [
    "dec_Triangle1(5)"
   ]
  },
  {
   "cell_type": "code",
   "execution_count": 57,
   "id": "1800ca02",
   "metadata": {},
   "outputs": [
    {
     "name": "stdout",
     "output_type": "stream",
     "text": [
      "55555\n",
      "4444\n",
      "333\n",
      "22\n",
      "1\n"
     ]
    }
   ],
   "source": [
    "def dec_Triangle2(n):\n",
    "    for i in range(n,0,-1):\n",
    "        for j in range(i):\n",
    "            print(i,end=\"\")\n",
    "        print()\n",
    "dec_Triangle2(5)"
   ]
  },
  {
   "cell_type": "code",
   "execution_count": 60,
   "id": "e9b623ba",
   "metadata": {},
   "outputs": [
    {
     "name": "stdout",
     "output_type": "stream",
     "text": [
      "1 \n",
      "2 3 \n",
      "4 5 6 \n",
      "7 8 9 10 \n",
      "11 12 13 14 15 \n"
     ]
    }
   ],
   "source": [
    "def inc_Triangle1(n):\n",
    "    k=1\n",
    "    for i in range(n):\n",
    "        for j in range(i+1):\n",
    "            print(f\"{k} \",end=\"\")\n",
    "            k+=1\n",
    "        print()\n",
    "inc_Triangle1(5)"
   ]
  },
  {
   "cell_type": "code",
   "execution_count": 103,
   "id": "ed9c92ed",
   "metadata": {},
   "outputs": [],
   "source": [
    "def diamond(n,c=\"*\"):\n",
    "    if n%2==0:\n",
    "        for j in range(n):\n",
    "           for i in range(n-j-1):\n",
    "                print(\" \",end=\"\")\n",
    "           for m in range(j+1):\n",
    "                print(c,end=\" \")\n",
    "           print()\n",
    "        for j in range(n):\n",
    "            for i in range(j):\n",
    "                print(\" \",end=\"\")\n",
    "            for i in range(n-j):\n",
    "                print(c,end=\" \")\n",
    "            print()\n",
    "    else:\n",
    "        for j in range(n):\n",
    "           for i in range(n-j-1):\n",
    "                print(\" \",end=\"\")\n",
    "           for m in range(j+1):\n",
    "                print(c,end=\" \")\n",
    "           print()\n",
    "        print(\" \",end=\"\")\n",
    "        for j in range(n-1):\n",
    "            for i in range(j):\n",
    "                print(\" \",end=\"\")\n",
    "            for i in range(n-1-j):\n",
    "                print(c,end=\" \")\n",
    "            \n",
    "            print()\n",
    "            print(\" \",end=\"\")\n",
    "        \n",
    "       \n",
    "        "
   ]
  },
  {
   "cell_type": "code",
   "execution_count": 106,
   "id": "96c450e0",
   "metadata": {},
   "outputs": [
    {
     "name": "stdout",
     "output_type": "stream",
     "text": [
      "   * \n",
      "  * * \n",
      " * * * \n",
      "* * * * \n",
      "* * * * \n",
      " * * * \n",
      "  * * \n",
      "   * \n"
     ]
    }
   ],
   "source": [
    "diamond(4)"
   ]
  },
  {
   "cell_type": "code",
   "execution_count": 107,
   "id": "ab4149c7",
   "metadata": {},
   "outputs": [
    {
     "name": "stdout",
     "output_type": "stream",
     "text": [
      "    * \n",
      "   * * \n",
      "  * * * \n",
      " * * * * \n",
      "* * * * * \n",
      " * * * * \n",
      "  * * * \n",
      "   * * \n",
      "    * \n",
      " "
     ]
    }
   ],
   "source": [
    "diamond(5)"
   ]
  }
 ],
 "metadata": {
  "kernelspec": {
   "display_name": "Python 3 (ipykernel)",
   "language": "python",
   "name": "python3"
  },
  "language_info": {
   "codemirror_mode": {
    "name": "ipython",
    "version": 3
   },
   "file_extension": ".py",
   "mimetype": "text/x-python",
   "name": "python",
   "nbconvert_exporter": "python",
   "pygments_lexer": "ipython3",
   "version": "3.9.1"
  }
 },
 "nbformat": 4,
 "nbformat_minor": 5
}
