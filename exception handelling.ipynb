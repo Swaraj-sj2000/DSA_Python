{
 "cells": [
  {
   "cell_type": "raw",
   "id": "66ca5bca",
   "metadata": {},
   "source": [
    "try: keeps a check on the block"
   ]
  },
  {
   "cell_type": "raw",
   "id": "d82eda75",
   "metadata": {},
   "source": [
    "except:executes only when exceptions occures"
   ]
  },
  {
   "cell_type": "raw",
   "id": "4385e57d",
   "metadata": {},
   "source": [
    "else:executes if no exception occures"
   ]
  },
  {
   "cell_type": "raw",
   "id": "94cc09f7",
   "metadata": {},
   "source": [
    "finally:always runs this codes"
   ]
  }
 ],
 "metadata": {
  "kernelspec": {
   "display_name": "Python 3 (ipykernel)",
   "language": "python",
   "name": "python3"
  },
  "language_info": {
   "codemirror_mode": {
    "name": "ipython",
    "version": 3
   },
   "file_extension": ".py",
   "mimetype": "text/x-python",
   "name": "python",
   "nbconvert_exporter": "python",
   "pygments_lexer": "ipython3",
   "version": "3.9.1"
  }
 },
 "nbformat": 4,
 "nbformat_minor": 5
}
