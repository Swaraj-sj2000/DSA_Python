{
 "cells": [
  {
   "cell_type": "raw",
   "id": "16f054bc",
   "metadata": {},
   "source": [
    "A recursion is preferred over aloop when the problem can be broken into simpler parts and each simpler part can be broken into further simpler parts for solution. makes it more readable"
   ]
  },
  {
   "cell_type": "raw",
   "id": "17425c18",
   "metadata": {},
   "source": [
    "Recursive function has three parts:\n",
    "    1. base case\n",
    "    2. general recursive case\n",
    "    3. work process"
   ]
  },
  {
   "cell_type": "raw",
   "id": "e5638860",
   "metadata": {},
   "source": [
    "base case determines when is the loop going to terminate.\n",
    "\n",
    "general recursive case repeats itself untill base case arrives.It makes use of call stack and every time the function is called it moves to the top of the stack.\n"
   ]
  },
  {
   "cell_type": "markdown",
   "id": "d717d4f0",
   "metadata": {},
   "source": [
    "## Simple countdown timer recursion:"
   ]
  },
  {
   "cell_type": "code",
   "execution_count": 1,
   "id": "d8acdda3",
   "metadata": {},
   "outputs": [],
   "source": [
    "import os\n",
    "from time import sleep\n",
    "def countdown(n):\n",
    "    os.system('cls')\n",
    "    if n<0:\n",
    "        print(\"times up\")\n",
    "        return \n",
    "    print(n)\n",
    "    sleep(1)\n",
    "    countdown(n-1)"
   ]
  },
  {
   "cell_type": "code",
   "execution_count": 2,
   "id": "f9de7aa6",
   "metadata": {},
   "outputs": [
    {
     "name": "stdout",
     "output_type": "stream",
     "text": [
      "10\n",
      "9\n",
      "8\n",
      "7\n",
      "6\n",
      "5\n",
      "4\n",
      "3\n",
      "2\n",
      "1\n",
      "0\n",
      "times up\n"
     ]
    }
   ],
   "source": [
    "countdown(10)  #clears the output ans rewrite it in a terminal not in this notebook"
   ]
  },
  {
   "cell_type": "markdown",
   "id": "88d38973",
   "metadata": {},
   "source": [
    "### Sum of 1 to n:"
   ]
  },
  {
   "cell_type": "code",
   "execution_count": 3,
   "id": "77958429",
   "metadata": {},
   "outputs": [],
   "source": [
    "def sum_n(n):\n",
    "    if n<1:\n",
    "        return 0\n",
    "    return n+sum_n(n-1)"
   ]
  },
  {
   "cell_type": "code",
   "execution_count": 4,
   "id": "6fc5f0e4",
   "metadata": {},
   "outputs": [
    {
     "data": {
      "text/plain": [
       "55"
      ]
     },
     "execution_count": 4,
     "metadata": {},
     "output_type": "execute_result"
    }
   ],
   "source": [
    "sum_n(10)"
   ]
  },
  {
   "cell_type": "markdown",
   "id": "cc64c1c7",
   "metadata": {},
   "source": [
    "# Two types of recursion in python:"
   ]
  },
  {
   "cell_type": "raw",
   "id": "5039eeca",
   "metadata": {},
   "source": [
    "1.Direct recursion\n",
    "    a.Tail recursion\n",
    "    b.head recursion\n",
    "2.Indirect recursion"
   ]
  },
  {
   "cell_type": "markdown",
   "id": "9e99e967",
   "metadata": {},
   "source": [
    "### Tail recursion:"
   ]
  },
  {
   "cell_type": "raw",
   "id": "00956581",
   "metadata": {},
   "source": [
    "tail recursive if it is the last statement executed within a function."
   ]
  },
  {
   "cell_type": "code",
   "execution_count": 5,
   "id": "7452763b",
   "metadata": {},
   "outputs": [
    {
     "name": "stdout",
     "output_type": "stream",
     "text": [
      "5\n",
      "4\n",
      "3\n",
      "2\n",
      "1\n"
     ]
    }
   ],
   "source": [
    "def tail(n):\n",
    "    if n==0:\n",
    "        return\n",
    "    print(n)\n",
    "    tail(n-1)\n",
    "tail(5)"
   ]
  },
  {
   "cell_type": "markdown",
   "id": "bc8d6c4b",
   "metadata": {},
   "source": [
    "### Head recursion:"
   ]
  },
  {
   "cell_type": "raw",
   "id": "ea19497c",
   "metadata": {},
   "source": [
    "recursive statement is not the last statement to be executed. i.e. after recursion also we have some steps to follow."
   ]
  },
  {
   "cell_type": "code",
   "execution_count": 6,
   "id": "ca444290",
   "metadata": {},
   "outputs": [
    {
     "name": "stdout",
     "output_type": "stream",
     "text": [
      "1 2 3 4 5 "
     ]
    }
   ],
   "source": [
    "def head(n):\n",
    "    if n>0:\n",
    "        head(n-1)\n",
    "        print(n,end=\" \")\n",
    "head(5)"
   ]
  },
  {
   "cell_type": "markdown",
   "id": "ff5f2d36",
   "metadata": {},
   "source": [
    "# Indirect recursion:"
   ]
  },
  {
   "cell_type": "raw",
   "id": "fab6fbe9",
   "metadata": {},
   "source": [
    "in this the function calls anaother function that calls the original function."
   ]
  },
  {
   "cell_type": "code",
   "execution_count": 7,
   "id": "77d7183a",
   "metadata": {},
   "outputs": [
    {
     "name": "stdout",
     "output_type": "stream",
     "text": [
      "20 21 16 17 12 13 8 9 4 5 "
     ]
    }
   ],
   "source": [
    "def a(n):\n",
    "    if n > 0:\n",
    "        print(n, end=\" \")\n",
    "        b(n+1)\n",
    "    else: return\n",
    "    \n",
    "def b(n):\n",
    "    if n > 1:\n",
    "        print(n, end=\" \")\n",
    "        a(n-5)\n",
    "        \n",
    "        \n",
    "a(20)\n"
   ]
  },
  {
   "cell_type": "markdown",
   "id": "a86bbf1a",
   "metadata": {},
   "source": [
    "## Fibonacci:\n"
   ]
  },
  {
   "cell_type": "code",
   "execution_count": 8,
   "id": "960b6aee",
   "metadata": {},
   "outputs": [],
   "source": [
    "def fibonacci(n):\n",
    "    if n<=2:\n",
    "        return 1\n",
    "    else: return fibonacci(n-1)+fibonacci(n-2)"
   ]
  },
  {
   "cell_type": "code",
   "execution_count": 9,
   "id": "2bc65214",
   "metadata": {},
   "outputs": [
    {
     "data": {
      "text/plain": [
       "5"
      ]
     },
     "execution_count": 9,
     "metadata": {},
     "output_type": "execute_result"
    }
   ],
   "source": [
    "fibonacci(5)"
   ]
  },
  {
   "cell_type": "code",
   "execution_count": null,
   "id": "dd71e90b",
   "metadata": {},
   "outputs": [],
   "source": []
  }
 ],
 "metadata": {
  "kernelspec": {
   "display_name": "Python 3 (ipykernel)",
   "language": "python",
   "name": "python3"
  },
  "language_info": {
   "codemirror_mode": {
    "name": "ipython",
    "version": 3
   },
   "file_extension": ".py",
   "mimetype": "text/x-python",
   "name": "python",
   "nbconvert_exporter": "python",
   "pygments_lexer": "ipython3",
   "version": "3.9.1"
  }
 },
 "nbformat": 4,
 "nbformat_minor": 5
}
