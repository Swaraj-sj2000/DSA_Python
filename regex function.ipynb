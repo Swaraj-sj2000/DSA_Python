{
 "cells": [
  {
   "cell_type": "markdown",
   "id": "2659f131",
   "metadata": {},
   "source": [
    "# Regex function:\n"
   ]
  },
  {
   "cell_type": "markdown",
   "id": "ad8803d8",
   "metadata": {},
   "source": [
    "Regular expresssions or python regex.<br>\n",
    "used for string matching .<br>\n"
   ]
  },
  {
   "cell_type": "code",
   "execution_count": 3,
   "id": "796d9ab4",
   "metadata": {},
   "outputs": [
    {
     "name": "stdout",
     "output_type": "stream",
     "text": [
      "7\n"
     ]
    }
   ],
   "source": [
    "s=\"foolabc231def\"\n",
    "#to find 123 in s\n",
    "t=s.find('231')\n",
    "print(t)"
   ]
  },
  {
   "cell_type": "code",
   "execution_count": 4,
   "id": "ca9d3be4",
   "metadata": {},
   "outputs": [],
   "source": [
    "import re"
   ]
  },
  {
   "cell_type": "code",
   "execution_count": 5,
   "id": "d7c9cc7b",
   "metadata": {},
   "outputs": [],
   "source": [
    "s='Swaraj is a good boy @Swaraj'"
   ]
  },
  {
   "cell_type": "code",
   "execution_count": 7,
   "id": "35b2881d",
   "metadata": {},
   "outputs": [],
   "source": [
    "match=re.search(r'good',s)"
   ]
  },
  {
   "cell_type": "code",
   "execution_count": 8,
   "id": "a1da27c3",
   "metadata": {},
   "outputs": [
    {
     "name": "stdout",
     "output_type": "stream",
     "text": [
      "start index 12\n",
      "end index 16\n"
     ]
    }
   ],
   "source": [
    "print(\"start index\",match.start())\n",
    "print(\"end index\",match.end())"
   ]
  },
  {
   "cell_type": "code",
   "execution_count": null,
   "id": "bba546f2",
   "metadata": {},
   "outputs": [],
   "source": []
  }
 ],
 "metadata": {
  "kernelspec": {
   "display_name": "Python 3 (ipykernel)",
   "language": "python",
   "name": "python3"
  },
  "language_info": {
   "codemirror_mode": {
    "name": "ipython",
    "version": 3
   },
   "file_extension": ".py",
   "mimetype": "text/x-python",
   "name": "python",
   "nbconvert_exporter": "python",
   "pygments_lexer": "ipython3",
   "version": "3.9.1"
  }
 },
 "nbformat": 4,
 "nbformat_minor": 5
}
