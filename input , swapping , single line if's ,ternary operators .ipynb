{
 "cells": [
  {
   "cell_type": "markdown",
   "id": "7a0ba76e",
   "metadata": {},
   "source": [
    "# User Input:"
   ]
  },
  {
   "cell_type": "markdown",
   "id": "bf8c6ad0",
   "metadata": {},
   "source": [
    "# Swapping without a third  variable"
   ]
  },
  {
   "cell_type": "code",
   "execution_count": 4,
   "id": "3ac09aa2",
   "metadata": {},
   "outputs": [],
   "source": [
    "a=5\n",
    "b=10\n",
    "a,b=b,a"
   ]
  },
  {
   "cell_type": "code",
   "execution_count": 5,
   "id": "4ecc3d24",
   "metadata": {},
   "outputs": [
    {
     "name": "stdout",
     "output_type": "stream",
     "text": [
      "10\n",
      "5\n"
     ]
    }
   ],
   "source": [
    "print(a)\n",
    "print(b)"
   ]
  },
  {
   "cell_type": "markdown",
   "id": "c65b1c6a",
   "metadata": {},
   "source": [
    "## Swapping using arithmentic opertations:"
   ]
  },
  {
   "cell_type": "code",
   "execution_count": 6,
   "id": "f544e0a1",
   "metadata": {},
   "outputs": [
    {
     "name": "stdout",
     "output_type": "stream",
     "text": [
      "m=12 and n=10\n"
     ]
    }
   ],
   "source": [
    "m=10\n",
    "n=12\n",
    "m+=n\n",
    "n=m-n\n",
    "m=m-n\n",
    "print(f\"m={m} and n={n}\")"
   ]
  },
  {
   "cell_type": "code",
   "execution_count": 7,
   "id": "6e7c1274",
   "metadata": {},
   "outputs": [
    {
     "name": "stdout",
     "output_type": "stream",
     "text": [
      "10.0\n",
      "12.0\n"
     ]
    }
   ],
   "source": [
    "m=m*n\n",
    "n=m/n\n",
    "m=m/n\n",
    "print(m)\n",
    "print(n)"
   ]
  },
  {
   "cell_type": "markdown",
   "id": "b07b3629",
   "metadata": {},
   "source": [
    "## Swapping using xor operator:"
   ]
  },
  {
   "cell_type": "markdown",
   "id": "af40f7dd",
   "metadata": {},
   "source": [
    "a=3 i.e. 11<br>\n",
    "b=2  i.e. 10<br>\n",
    "a=a xor b<br>\n",
    "0011<br>\n",
    "0010<br>\n",
    "_____<br>\n",
    "0001<br>\n",
    "thus a=1<br>\n",
    "<br>\n",
    "now b=b xor a<br>\n",
    "\n",
    "0010<br>\n",
    "0001<br>\n",
    "____<br>\n",
    "0011=3 <br>\n",
    "thus b=3 <br>\n",
    "a=a xor b <br>\n",
    "0001<br>\n",
    "0011<br>\n",
    "____<br>\n",
    "0010=2<br>\n",
    "thus a=2"
   ]
  },
  {
   "cell_type": "code",
   "execution_count": 8,
   "id": "71548f9c",
   "metadata": {},
   "outputs": [
    {
     "name": "stdout",
     "output_type": "stream",
     "text": [
      "a=2 b=3\n"
     ]
    }
   ],
   "source": [
    "a=3\n",
    "b=2\n",
    "a=a^b\n",
    "b=b^a\n",
    "a=a^b\n",
    "print(f\"a={a} b={b}\")"
   ]
  },
  {
   "cell_type": "markdown",
   "id": "7920b2f6",
   "metadata": {},
   "source": [
    "# Input in list:"
   ]
  },
  {
   "cell_type": "code",
   "execution_count": 14,
   "id": "0e5d8c32",
   "metadata": {},
   "outputs": [
    {
     "name": "stdout",
     "output_type": "stream",
     "text": [
      "<class 'str'>\n",
      "<class 'str'>\n",
      "<class 'str'>\n",
      "<class 'str'>\n",
      "<class 'int'>\n",
      "<class 'int'>\n",
      "<class 'int'>\n",
      "<class 'int'>\n"
     ]
    }
   ],
   "source": [
    "a=\"1 2 3 4\"\n",
    "l1=list(a.split( \" \"))\n",
    "for i in l1:print(type(i))\n",
    "l1=list(map(lambda x:int(x),l1))\n",
    "for i in l1:print(type(i))"
   ]
  },
  {
   "cell_type": "code",
   "execution_count": 15,
   "id": "b533725e",
   "metadata": {},
   "outputs": [
    {
     "name": "stdout",
     "output_type": "stream",
     "text": [
      "<class 'int'>\n",
      "<class 'int'>\n",
      "<class 'int'>\n",
      "<class 'int'>\n"
     ]
    }
   ],
   "source": [
    "l2=[int(i) for i in a.split()]\n",
    "for i in l2:\n",
    "    print(type(i))"
   ]
  },
  {
   "cell_type": "markdown",
   "id": "3e557315",
   "metadata": {},
   "source": [
    "# Single line if statement:"
   ]
  },
  {
   "cell_type": "code",
   "execution_count": 16,
   "id": "40b05dd4",
   "metadata": {},
   "outputs": [
    {
     "name": "stdout",
     "output_type": "stream",
     "text": [
      "blah blah\n",
      "abhi bhi blah blah\n",
      "isme else nhi lagta\n"
     ]
    }
   ],
   "source": [
    "a=20\n",
    "b=30\n",
    "if a<b:print(\"blah blah\") ; print(\"abhi bhi blah blah\") ; print(\"isme else nhi lagta\")"
   ]
  },
  {
   "cell_type": "markdown",
   "id": "f1bad5d4",
   "metadata": {},
   "source": [
    "## Ternary operator in python:"
   ]
  },
  {
   "cell_type": "markdown",
   "id": "b7d9a85e",
   "metadata": {},
   "source": [
    "(expression if condition is True) if (condition) else (expression if condition is false)"
   ]
  },
  {
   "cell_type": "code",
   "execution_count": 17,
   "id": "25eb80a9",
   "metadata": {},
   "outputs": [
    {
     "name": "stdout",
     "output_type": "stream",
     "text": [
      "False hai\n"
     ]
    }
   ],
   "source": [
    "print(\"True hai\") if a>b else print(\"False hai\")"
   ]
  },
  {
   "cell_type": "code",
   "execution_count": 18,
   "id": "195b0d4f",
   "metadata": {
    "scrolled": true
   },
   "outputs": [
    {
     "name": "stdout",
     "output_type": "stream",
     "text": [
      "30\n"
     ]
    }
   ],
   "source": [
    "c=a if a>b else b\n",
    "print(c)"
   ]
  },
  {
   "cell_type": "markdown",
   "id": "ce4a8645",
   "metadata": {},
   "source": [
    "#### If q=1 sum till n else if q=2 product till n"
   ]
  },
  {
   "cell_type": "code",
   "execution_count": 26,
   "id": "5c61ff21",
   "metadata": {},
   "outputs": [],
   "source": [
    "def s_or_p(n,q):\n",
    "    if q==1:\n",
    "        if n<1:return 0\n",
    "        else:return n+s_or_p(n-1,q)\n",
    "    elif q==2:\n",
    "        if n<=1:return 1\n",
    "        else: return n*s_or_p(n-1,q)\n",
    "    "
   ]
  },
  {
   "cell_type": "code",
   "execution_count": 27,
   "id": "52ec2c54",
   "metadata": {},
   "outputs": [
    {
     "name": "stdout",
     "output_type": "stream",
     "text": [
      "120\n",
      "15\n"
     ]
    }
   ],
   "source": [
    "print(s_or_p(5,2))\n",
    "print(s_or_p(5,1))"
   ]
  },
  {
   "cell_type": "code",
   "execution_count": null,
   "id": "e48a72b5",
   "metadata": {},
   "outputs": [],
   "source": []
  }
 ],
 "metadata": {
  "kernelspec": {
   "display_name": "Python 3 (ipykernel)",
   "language": "python",
   "name": "python3"
  },
  "language_info": {
   "codemirror_mode": {
    "name": "ipython",
    "version": 3
   },
   "file_extension": ".py",
   "mimetype": "text/x-python",
   "name": "python",
   "nbconvert_exporter": "python",
   "pygments_lexer": "ipython3",
   "version": "3.9.1"
  }
 },
 "nbformat": 4,
 "nbformat_minor": 5
}
