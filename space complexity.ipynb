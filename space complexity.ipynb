{
 "cells": [
  {
   "cell_type": "markdown",
   "id": "47f7eefd",
   "metadata": {},
   "source": [
    "# Space Complexity"
   ]
  },
  {
   "cell_type": "markdown",
   "id": "c694c00e",
   "metadata": {},
   "source": [
    "A better software has<br>\n",
    "1.less memory consumption<br>\n",
    "2.less execution time<br>"
   ]
  },
  {
   "cell_type": "markdown",
   "id": "293a9246",
   "metadata": {},
   "source": [
    "Space complexity means <br>\n",
    "Total memory taken by a programme to run smoothly and produce correct result"
   ]
  },
  {
   "cell_type": "markdown",
   "id": "f8b62d7c",
   "metadata": {},
   "source": [
    "Suffiecient memory must be allocated to the programme.<br>\n",
    "So either increase the memory size or optimise the programme to reduce its size"
   ]
  },
  {
   "cell_type": "markdown",
   "id": "fefb600c",
   "metadata": {},
   "source": [
    "# Big O Notation:"
   ]
  },
  {
   "cell_type": "markdown",
   "id": "4e2cc6dd",
   "metadata": {},
   "source": [
    " space complexity depends on the size of element.<br>\n",
    " like for interger input O(1)<br>\n",
    " for list input O(n)<br>"
   ]
  },
  {
   "cell_type": "markdown",
   "id": "c1b7d72f",
   "metadata": {},
   "source": [
    "<img src=\"space1.png\">"
   ]
  },
  {
   "cell_type": "markdown",
   "id": "13e515f9",
   "metadata": {},
   "source": [
    "Always provide peak memory required by the programme.\n"
   ]
  },
  {
   "cell_type": "markdown",
   "id": "1bcb73c5",
   "metadata": {},
   "source": [
    "# Factors on which Space complexity depends:"
   ]
  },
  {
   "cell_type": "markdown",
   "id": "fb339aba",
   "metadata": {},
   "source": [
    "1. Instructions: What peak memory is required by the programme instruction at any point of time in the execution.<br>"
   ]
  },
  {
   "cell_type": "markdown",
   "id": "229866b1",
   "metadata": {},
   "source": [
    "2. Variables"
   ]
  },
  {
   "cell_type": "markdown",
   "id": "c25f453a",
   "metadata": {},
   "source": [
    "3. Constants"
   ]
  },
  {
   "cell_type": "markdown",
   "id": "169323fd",
   "metadata": {},
   "source": [
    "4. Call Stack or Function calls: Function may have some children functions                                    and every time a child function is called                                    its returned value takes more space and                                      hence this is called call stack."
   ]
  },
  {
   "cell_type": "markdown",
   "id": "c8131a55",
   "metadata": {},
   "source": [
    "5. Auxiliary space and space complexity: Aux. space is the space required                                              only to calculate the desired result \n",
    "Union of Aux. space and input space is alled space complexity."
   ]
  },
  {
   "cell_type": "markdown",
   "id": "8a3ec58d",
   "metadata": {},
   "source": [
    "# Examples:"
   ]
  },
  {
   "cell_type": "code",
   "execution_count": 4,
   "id": "c11e9b2a",
   "metadata": {},
   "outputs": [
    {
     "name": "stdout",
     "output_type": "stream",
     "text": [
      "55\n"
     ]
    }
   ],
   "source": [
    "def add(n):\n",
    "    if n<=0:\n",
    "        return 0\n",
    "    else :return n+add(n-1)\n",
    "print(add(10))"
   ]
  },
  {
   "cell_type": "markdown",
   "id": "67599c0e",
   "metadata": {},
   "source": [
    "10+9+8+7+.....+0=55"
   ]
  },
  {
   "cell_type": "markdown",
   "id": "e879ed11",
   "metadata": {},
   "source": [
    "space complexity=O(n)<br>\n",
    "memory for every recursed add functon is used"
   ]
  },
  {
   "cell_type": "code",
   "execution_count": 6,
   "id": "3a5618da",
   "metadata": {},
   "outputs": [
    {
     "data": {
      "text/plain": [
       "25"
      ]
     },
     "execution_count": 6,
     "metadata": {},
     "output_type": "execute_result"
    }
   ],
   "source": [
    "def pairSum(a,b):    #O(1)\n",
    "    return a+b\n",
    "\n",
    "def add(n):          #O(1)\n",
    "    sum=0\n",
    "    for i in range(n):\n",
    "        sum+=pairSum(i,i+1)\n",
    "    return sum\n",
    "add(5)"
   ]
  },
  {
   "cell_type": "markdown",
   "id": "ebd1e4ba",
   "metadata": {},
   "source": [
    "now in above function the space complexity for the add function is also O(1)\n",
    "Since every time the pairSum function is called it occupies the same space i.e. added in the sum and space is only required for a return call<br>\n",
    "unlike in the previous function where it was returned again and again taking one location for each return."
   ]
  },
  {
   "cell_type": "markdown",
   "id": "a79cd70c",
   "metadata": {},
   "source": [
    "# Trade off between Time and Space Complexity:"
   ]
  },
  {
   "cell_type": "markdown",
   "id": "945a1973",
   "metadata": {},
   "source": [
    "1. Bubble Sort: Time complexity=O(n^2)  Space Complexity=O(1)\n",
    "2.Merge Sort: Time Complexity=O(nlog n) Space Complexity =O(n)\n",
    "    "
   ]
  },
  {
   "cell_type": "markdown",
   "id": "588ae313",
   "metadata": {},
   "source": [
    "So as space required decreases the time required increases in some manner."
   ]
  }
 ],
 "metadata": {
  "kernelspec": {
   "display_name": "Python 3 (ipykernel)",
   "language": "python",
   "name": "python3"
  },
  "language_info": {
   "codemirror_mode": {
    "name": "ipython",
    "version": 3
   },
   "file_extension": ".py",
   "mimetype": "text/x-python",
   "name": "python",
   "nbconvert_exporter": "python",
   "pygments_lexer": "ipython3",
   "version": "3.9.1"
  }
 },
 "nbformat": 4,
 "nbformat_minor": 5
}
