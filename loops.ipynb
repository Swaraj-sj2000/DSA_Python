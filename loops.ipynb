{
 "cells": [
  {
   "cell_type": "markdown",
   "id": "d9e4bc5d",
   "metadata": {},
   "source": [
    "# For else statements:"
   ]
  },
  {
   "cell_type": "markdown",
   "id": "b244dd22",
   "metadata": {},
   "source": [
    "in this the else part is only executed after the for loop terminates naturally i.e. no break or continue statement terminates the loop"
   ]
  },
  {
   "cell_type": "code",
   "execution_count": 1,
   "id": "a473c7b9",
   "metadata": {},
   "outputs": [
    {
     "name": "stdout",
     "output_type": "stream",
     "text": [
      "apple\n",
      "orange\n",
      "banana\n"
     ]
    }
   ],
   "source": [
    "a=[\"apple\",\"orange\",\"banana\",\"kiwi\"]\n",
    "for i in a:\n",
    "    print(i)\n",
    "    if i==\"banana\":\n",
    "        break\n",
    "else:print(\"no unnatural termination of loop here\")"
   ]
  },
  {
   "cell_type": "code",
   "execution_count": 2,
   "id": "fd2a4b44",
   "metadata": {},
   "outputs": [
    {
     "name": "stdout",
     "output_type": "stream",
     "text": [
      "apple\n",
      "orange\n",
      "banana\n",
      "kiwi\n",
      "no unnatural termination of loop here\n"
     ]
    }
   ],
   "source": [
    "a=[\"apple\",\"orange\",\"banana\",\"kiwi\"]\n",
    "for i in a:\n",
    "    print(i)\n",
    "    if i==\"mango\":\n",
    "        break\n",
    "else:print(\"no unnatural termination of loop here\")"
   ]
  },
  {
   "cell_type": "markdown",
   "id": "f369c3de",
   "metadata": {},
   "source": [
    "## indexing in for loop:\n"
   ]
  },
  {
   "cell_type": "markdown",
   "id": "afb129f8",
   "metadata": {},
   "source": [
    "for indexing in for loop we use enumerate function"
   ]
  },
  {
   "cell_type": "code",
   "execution_count": 5,
   "id": "28ea6ff9",
   "metadata": {},
   "outputs": [
    {
     "name": "stdout",
     "output_type": "stream",
     "text": [
      "0 apple\n",
      "1 orange\n",
      "2 banana\n",
      "3 kiwi\n"
     ]
    }
   ],
   "source": [
    "for i,val in enumerate(a):\n",
    "    print(i,val)"
   ]
  },
  {
   "cell_type": "markdown",
   "id": "604f760c",
   "metadata": {},
   "source": [
    "# binary Search"
   ]
  },
  {
   "cell_type": "code",
   "execution_count": 21,
   "id": "9e0afb69",
   "metadata": {},
   "outputs": [],
   "source": [
    "def binarySearch(arr,x):\n",
    "    n=len(arr)\n",
    "    hi=n-1\n",
    "    lo=0\n",
    "    mid=0\n",
    "    while hi>lo:\n",
    "        mid=int((hi+lo)/2)\n",
    "        if arr[mid]>x:hi=mid-1\n",
    "        elif arr[mid]<x:lo=mid+1\n",
    "        elif arr[mid]==x:return mid\n",
    "    return -1\n",
    "     "
   ]
  },
  {
   "cell_type": "code",
   "execution_count": 22,
   "id": "a70e6af3",
   "metadata": {},
   "outputs": [
    {
     "name": "stdout",
     "output_type": "stream",
     "text": [
      "-1\n"
     ]
    }
   ],
   "source": [
    "a=binarySearch([1,2,3,5,7,90,121],909)\n",
    "print(a)"
   ]
  },
  {
   "cell_type": "markdown",
   "id": "691f7cd6",
   "metadata": {},
   "source": [
    "# loop control sequence:"
   ]
  },
  {
   "cell_type": "markdown",
   "id": "d7eb3027",
   "metadata": {},
   "source": [
    "change in execution from its natural sequence<br>\n",
    "exiting a loop:break<br>\n",
    "skip iteration:continue<br>\n",
    "ignore iterations:pass<br>"
   ]
  },
  {
   "cell_type": "code",
   "execution_count": null,
   "id": "309d905b",
   "metadata": {},
   "outputs": [],
   "source": []
  }
 ],
 "metadata": {
  "kernelspec": {
   "display_name": "Python 3 (ipykernel)",
   "language": "python",
   "name": "python3"
  },
  "language_info": {
   "codemirror_mode": {
    "name": "ipython",
    "version": 3
   },
   "file_extension": ".py",
   "mimetype": "text/x-python",
   "name": "python",
   "nbconvert_exporter": "python",
   "pygments_lexer": "ipython3",
   "version": "3.9.1"
  }
 },
 "nbformat": 4,
 "nbformat_minor": 5
}
