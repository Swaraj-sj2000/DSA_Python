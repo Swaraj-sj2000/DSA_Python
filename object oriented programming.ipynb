{
 "cells": [
  {
   "cell_type": "markdown",
   "id": "19023f14",
   "metadata": {},
   "source": [
    "# OOP"
   ]
  },
  {
   "cell_type": "markdown",
   "id": "0369d091",
   "metadata": {},
   "source": [
    "## oop vs procedural programming"
   ]
  },
  {
   "cell_type": "markdown",
   "id": "12c6b39e",
   "metadata": {},
   "source": [
    "<img src=\"oopvsproc.png\">"
   ]
  },
  {
   "cell_type": "markdown",
   "id": "b4db9c0d",
   "metadata": {},
   "source": [
    "classes are generally speaking are user defined datatypes contaning data members and member functions"
   ]
  },
  {
   "cell_type": "code",
   "execution_count": 20,
   "id": "db4b062b",
   "metadata": {},
   "outputs": [],
   "source": [
    "class Calculator:\n",
    "    def __init__(self,a,b):\n",
    "        self.a=a\n",
    "        self.b=b\n",
    "    def add(self):\n",
    "        return self.a+self.b\n",
    "    def sub(self):\n",
    "        return self.a-self.b\n",
    "class cat:\n",
    "    color=\"black\"\n",
    "    name=\"john\"\n",
    "    def fn(self):\n",
    "        print(f\"i am a {self.color} cat named {self.name}\")\n",
    "    @classmethod\n",
    "    def talk(cls):\n",
    "        print(cls.name,cls.color)\n",
    "              \n",
    "        "
   ]
  },
  {
   "cell_type": "code",
   "execution_count": 21,
   "id": "6ce59aa6",
   "metadata": {},
   "outputs": [
    {
     "name": "stdout",
     "output_type": "stream",
     "text": [
      "john black\n"
     ]
    }
   ],
   "source": [
    "c1=cat()\n",
    "cat.talk()"
   ]
  },
  {
   "cell_type": "code",
   "execution_count": 5,
   "id": "388ae5d3",
   "metadata": {},
   "outputs": [
    {
     "name": "stdout",
     "output_type": "stream",
     "text": [
      "animal is created\n",
      "kangaroo\n",
      "0\n",
      "animal is created\n",
      "kangaroo\n",
      "0\n",
      "animal\n",
      "0\n",
      "jumps\n",
      "0\n",
      "runs\n"
     ]
    }
   ],
   "source": [
    "class Animal():\n",
    "    def __init__(self):\n",
    "        print(\"animal is created\")\n",
    "    def name(self):\n",
    "        print(\"animal\")\n",
    "    def do(self):\n",
    "        print(\"runs\")\n",
    "\n",
    "class Kangaroo(Animal):\n",
    "    def __init__(self):\n",
    "        super().__init__()\n",
    "        print(\"kangaroo\")\n",
    "    def jumps(self):\n",
    "        print(\"jumps\")\n",
    "kan=Kangaroo()\n",
    "print(\"0\")\n",
    "kan.__init__()\n",
    "print(\"0\")\n",
    "kan.name()\n",
    "print(\"0\")\n",
    "kan.jumps()\n",
    "print(\"0\")\n",
    "kan.do()\n",
    "    \n",
    "    "
   ]
  },
  {
   "cell_type": "markdown",
   "id": "f628bbdb",
   "metadata": {},
   "source": [
    "# Encapsulation"
   ]
  },
  {
   "cell_type": "markdown",
   "id": "c630a031",
   "metadata": {},
   "source": [
    "Access specifiers<br>\n",
    "private<br>\n",
    "protected<br>\n",
    "public<br>"
   ]
  },
  {
   "cell_type": "markdown",
   "id": "cb23a7bb",
   "metadata": {},
   "source": [
    "python does not have access specifiers."
   ]
  },
  {
   "cell_type": "code",
   "execution_count": 7,
   "id": "f8e203b3",
   "metadata": {},
   "outputs": [
    {
     "name": "stdout",
     "output_type": "stream",
     "text": [
      "sj\n",
      "7\n"
     ]
    }
   ],
   "source": [
    "class p:\n",
    "    def __init__(self,name,age):\n",
    "        self.name=name\n",
    "        self.age=age\n",
    "    def Age(self):\n",
    "        print(self.age)\n",
    "o=p(\"sj\",7)\n",
    "print(o.name)\n",
    "o.Age()"
   ]
  },
  {
   "cell_type": "code",
   "execution_count": 10,
   "id": "048dae2b",
   "metadata": {},
   "outputs": [
    {
     "name": "stdout",
     "output_type": "stream",
     "text": [
      "main class constructor\n",
      "child class constructor\n",
      "child class grade\n"
     ]
    }
   ],
   "source": [
    "class s1():\n",
    "    def __init__(self):\n",
    "        print(\"main class constructor\")\n",
    "    def grade(self):\n",
    "        print(\"main class grades\")\n",
    "class s2(s1):\n",
    "    def __init__(self):\n",
    "        super().__init__()\n",
    "        print(\"child class constructor\")\n",
    "    def grade(self):\n",
    "        print(\"child class grade\")\n",
    "s3=s2()\n",
    "s3.grade()"
   ]
  },
  {
   "cell_type": "code",
   "execution_count": 11,
   "id": "47d461e1",
   "metadata": {},
   "outputs": [
    {
     "name": "stdout",
     "output_type": "stream",
     "text": [
      "<__main__.s2 object at 0x00000203C6312400>\n"
     ]
    }
   ],
   "source": [
    "print(s3)"
   ]
  },
  {
   "cell_type": "code",
   "execution_count": 12,
   "id": "64febaa6",
   "metadata": {},
   "outputs": [
    {
     "name": "stdout",
     "output_type": "stream",
     "text": [
      "<class '__main__.s2'>\n"
     ]
    }
   ],
   "source": [
    " print(type(s3))"
   ]
  },
  {
   "cell_type": "code",
   "execution_count": 18,
   "id": "b08a9a63",
   "metadata": {},
   "outputs": [],
   "source": [
    " class student():\n",
    "        def __init__(self,marks=99,name=\"rohan\"):\n",
    "            self.marks=marks\n",
    "            self.name=name\n",
    "        def talk(self):\n",
    "            print(f\"i am {self.name} and i got {self.marks}\")"
   ]
  },
  {
   "cell_type": "code",
   "execution_count": 20,
   "id": "0f4534dd",
   "metadata": {},
   "outputs": [
    {
     "name": "stdout",
     "output_type": "stream",
     "text": [
      "i am rohan and i got 99\n",
      "i am swaraj and i got 100\n"
     ]
    }
   ],
   "source": [
    "rohan=student()\n",
    "swaraj=student(100,\"swaraj\")\n",
    "rohan.talk()\n",
    "swaraj.talk()"
   ]
  },
  {
   "cell_type": "markdown",
   "id": "4adb3b26",
   "metadata": {},
   "source": [
    "# Data Mangling "
   ]
  },
  {
   "cell_type": "markdown",
   "id": "81f89911",
   "metadata": {},
   "source": [
    "in order to declare a data as private in a class."
   ]
  },
  {
   "cell_type": "code",
   "execution_count": 23,
   "id": "edffb206",
   "metadata": {},
   "outputs": [
    {
     "name": "stdout",
     "output_type": "stream",
     "text": [
      "credit card123456 used\n"
     ]
    }
   ],
   "source": [
    "class creditcard:\n",
    "    def __init__(self,cardNumber):\n",
    "        self.cardNumber=cardNumber\n",
    "    def useCard(self):\n",
    "        print(f\"credit card {self.cardNumber} used\")\n",
    "c= creditcard(123456)\n",
    "c.useCard()"
   ]
  },
  {
   "cell_type": "markdown",
   "id": "b400f084",
   "metadata": {},
   "source": [
    "the data is not hidden"
   ]
  },
  {
   "cell_type": "code",
   "execution_count": 24,
   "id": "c12924ee",
   "metadata": {},
   "outputs": [],
   "source": [
    "class cCard:\n",
    "    def __init__(self,cardNumber):\n",
    "        self.__cardNumber=cardNumber #adding__ in front of the name\n",
    "    def useCard1(self):\n",
    "        print(f\"i got the card {self.cardNumber}\")\n",
    "        "
   ]
  },
  {
   "cell_type": "code",
   "execution_count": 26,
   "id": "8e9568b9",
   "metadata": {},
   "outputs": [],
   "source": [
    "c1=cCard(123456)\n"
   ]
  },
  {
   "cell_type": "code",
   "execution_count": 27,
   "id": "c87655cb",
   "metadata": {},
   "outputs": [
    {
     "ename": "AttributeError",
     "evalue": "'cCard' object has no attribute 'cardNumber'",
     "output_type": "error",
     "traceback": [
      "\u001b[1;31m---------------------------------------------------------------------------\u001b[0m",
      "\u001b[1;31mAttributeError\u001b[0m                            Traceback (most recent call last)",
      "\u001b[1;32m~\\AppData\\Local\\Temp\\ipykernel_2300\\858766142.py\u001b[0m in \u001b[0;36m<module>\u001b[1;34m\u001b[0m\n\u001b[1;32m----> 1\u001b[1;33m \u001b[0mc1\u001b[0m\u001b[1;33m.\u001b[0m\u001b[0museCard1\u001b[0m\u001b[1;33m(\u001b[0m\u001b[1;33m)\u001b[0m\u001b[1;33m\u001b[0m\u001b[1;33m\u001b[0m\u001b[0m\n\u001b[0m",
      "\u001b[1;32m~\\AppData\\Local\\Temp\\ipykernel_2300\\2477667401.py\u001b[0m in \u001b[0;36museCard1\u001b[1;34m(self)\u001b[0m\n\u001b[0;32m      3\u001b[0m         \u001b[0mself\u001b[0m\u001b[1;33m.\u001b[0m\u001b[0m__cardNumber\u001b[0m\u001b[1;33m=\u001b[0m\u001b[0mcardNumber\u001b[0m \u001b[1;31m#adding__ in front of the name\u001b[0m\u001b[1;33m\u001b[0m\u001b[1;33m\u001b[0m\u001b[0m\n\u001b[0;32m      4\u001b[0m     \u001b[1;32mdef\u001b[0m \u001b[0museCard1\u001b[0m\u001b[1;33m(\u001b[0m\u001b[0mself\u001b[0m\u001b[1;33m)\u001b[0m\u001b[1;33m:\u001b[0m\u001b[1;33m\u001b[0m\u001b[1;33m\u001b[0m\u001b[0m\n\u001b[1;32m----> 5\u001b[1;33m         \u001b[0mprint\u001b[0m\u001b[1;33m(\u001b[0m\u001b[1;34mf\"i got the card {self.cardNumber}\"\u001b[0m\u001b[1;33m)\u001b[0m\u001b[1;33m\u001b[0m\u001b[1;33m\u001b[0m\u001b[0m\n\u001b[0m\u001b[0;32m      6\u001b[0m \u001b[1;33m\u001b[0m\u001b[0m\n",
      "\u001b[1;31mAttributeError\u001b[0m: 'cCard' object has no attribute 'cardNumber'"
     ]
    }
   ],
   "source": [
    "c1.useCard1()"
   ]
  },
  {
   "cell_type": "code",
   "execution_count": 28,
   "id": "76158e51",
   "metadata": {},
   "outputs": [
    {
     "ename": "AttributeError",
     "evalue": "'cCard' object has no attribute '__cardNumber'",
     "output_type": "error",
     "traceback": [
      "\u001b[1;31m---------------------------------------------------------------------------\u001b[0m",
      "\u001b[1;31mAttributeError\u001b[0m                            Traceback (most recent call last)",
      "\u001b[1;32m~\\AppData\\Local\\Temp\\ipykernel_2300\\346338806.py\u001b[0m in \u001b[0;36m<module>\u001b[1;34m\u001b[0m\n\u001b[1;32m----> 1\u001b[1;33m \u001b[0mprint\u001b[0m\u001b[1;33m(\u001b[0m\u001b[0mc1\u001b[0m\u001b[1;33m.\u001b[0m\u001b[0m__cardNumber\u001b[0m\u001b[1;33m)\u001b[0m\u001b[1;33m\u001b[0m\u001b[1;33m\u001b[0m\u001b[0m\n\u001b[0m",
      "\u001b[1;31mAttributeError\u001b[0m: 'cCard' object has no attribute '__cardNumber'"
     ]
    }
   ],
   "source": [
    "print(c1.__cardNumber)"
   ]
  },
  {
   "cell_type": "markdown",
   "id": "b201aba9",
   "metadata": {},
   "source": [
    "To access such private data there is a specific way to do that\n"
   ]
  },
  {
   "cell_type": "code",
   "execution_count": 30,
   "id": "fe6d5322",
   "metadata": {},
   "outputs": [
    {
     "name": "stdout",
     "output_type": "stream",
     "text": [
      "123456\n"
     ]
    }
   ],
   "source": [
    "print(c1._cCard__cardNumber) #objectname._classname__variablename"
   ]
  },
  {
   "cell_type": "markdown",
   "id": "4819611d",
   "metadata": {},
   "source": [
    "# class methods and instance methods"
   ]
  },
  {
   "cell_type": "code",
   "execution_count": 5,
   "id": "9680e019",
   "metadata": {},
   "outputs": [
    {
     "data": {
      "text/plain": [
       "99"
      ]
     },
     "execution_count": 5,
     "metadata": {},
     "output_type": "execute_result"
    }
   ],
   "source": [
    "class sj:\n",
    "    percentage=89                       #class variable\n",
    "    def __init__(self,name,percent):\n",
    "        self.name=name\n",
    "        self.percent=percent\n",
    "    def dec_percent(self):\n",
    "        self.percent-=1\n",
    "    @classmethod\n",
    "    def inc_percent(cls,n):\n",
    "        sj.percentage+=n\n",
    "        \n",
    "c1=sj(\"swaraj\",80)\n",
    "c2=sj(\"rohan\",90)\n",
    "print(c1.percent)\n",
    "print(c2.percent)\n",
    "\n",
    "c1.dec_percent()#instance method\n",
    "\n",
    "sj.inc_percent(10)#class method"
   ]
  },
  {
   "cell_type": "code",
   "execution_count": null,
   "id": "8884d3d1",
   "metadata": {},
   "outputs": [],
   "source": [
    "print(c1.percent)\n",
    "print(c2.percent)"
   ]
  },
  {
   "cell_type": "code",
   "execution_count": 8,
   "id": "3aeef7fc",
   "metadata": {},
   "outputs": [
    {
     "name": "stdout",
     "output_type": "stream",
     "text": [
      "99\n"
     ]
    }
   ],
   "source": [
    "print(c1.percentage)"
   ]
  },
  {
   "cell_type": "code",
   "execution_count": 15,
   "id": "c82b4aba",
   "metadata": {},
   "outputs": [
    {
     "name": "stdout",
     "output_type": "stream",
     "text": [
      "109\n"
     ]
    }
   ],
   "source": [
    "print(sj.inc_percent(2))"
   ]
  },
  {
   "cell_type": "markdown",
   "id": "1f5a3485",
   "metadata": {},
   "source": [
    "# Static methods"
   ]
  },
  {
   "cell_type": "code",
   "execution_count": 52,
   "id": "52ca9d20",
   "metadata": {},
   "outputs": [
    {
     "name": "stdout",
     "output_type": "stream",
     "text": [
      "4\n"
     ]
    }
   ],
   "source": [
    "class mathematics:\n",
    "    @staticmethod\n",
    "    def sq(num):\n",
    "        return num**2\n",
    "print(mathematics.sq(2))"
   ]
  },
  {
   "cell_type": "markdown",
   "id": "223bb3ea",
   "metadata": {},
   "source": [
    "# Constructors"
   ]
  },
  {
   "cell_type": "markdown",
   "id": "bb8e2896",
   "metadata": {},
   "source": [
    "to initialise the instance's property<br>\n",
    "Classes are blueprints of objects that define structure and functions of objects<br>\n",
    "Objects are a set of properites and functions<br>\n",
    "When any object is created the first method that is called is the constuctors<br>\n",
    "\n",
    "\n"
   ]
  },
  {
   "cell_type": "code",
   "execution_count": 126,
   "id": "c6529968",
   "metadata": {},
   "outputs": [],
   "source": [
    "class abc:\n",
    "    instances=[]\n",
    "    def __init__(self,a,b):\n",
    "        self.name=a\n",
    "        self.color=b\n",
    "        self.instances.append((self.name,self.color))\n",
    "        \n",
    "    @classmethod        #defines to keep track of the instances being created\n",
    "    def inst(cls):\n",
    "        return cls.instances,len(cls.instances)\n",
    "    "
   ]
  },
  {
   "cell_type": "code",
   "execution_count": 127,
   "id": "29184656",
   "metadata": {},
   "outputs": [],
   "source": [
    "a1=abc(\"a\",\"black\")\n",
    "b1=abc(\"b\",\"brown\")\n",
    "c1=abc(\"c\",\"blue\")"
   ]
  },
  {
   "cell_type": "code",
   "execution_count": 128,
   "id": "46c47180",
   "metadata": {
    "scrolled": true
   },
   "outputs": [
    {
     "name": "stdout",
     "output_type": "stream",
     "text": [
      "([('a', 'black'), ('b', 'brown'), ('c', 'blue')], 3)\n"
     ]
    }
   ],
   "source": [
    "print(abc.inst())"
   ]
  },
  {
   "cell_type": "code",
   "execution_count": 129,
   "id": "dc6cc4a0",
   "metadata": {},
   "outputs": [],
   "source": [
    "d1=abc(\"d\",\"green\")"
   ]
  },
  {
   "cell_type": "code",
   "execution_count": 130,
   "id": "85adb60d",
   "metadata": {},
   "outputs": [
    {
     "name": "stdout",
     "output_type": "stream",
     "text": [
      "([('a', 'black'), ('b', 'brown'), ('c', 'blue'), ('d', 'green')], 4)\n"
     ]
    }
   ],
   "source": [
    "print(abc.inst())"
   ]
  },
  {
   "cell_type": "markdown",
   "id": "97f0f46b",
   "metadata": {},
   "source": [
    "## Types of construcors in python:"
   ]
  },
  {
   "cell_type": "markdown",
   "id": "90645eb6",
   "metadata": {},
   "source": [
    "1.Default constructors<br>\n",
    "2.Parametrised constructors"
   ]
  },
  {
   "cell_type": "markdown",
   "id": "389d60a9",
   "metadata": {},
   "source": [
    "# Default constructor or default init"
   ]
  },
  {
   "cell_type": "code",
   "execution_count": 132,
   "id": "dfad6400",
   "metadata": {},
   "outputs": [],
   "source": [
    "class sabji:\n",
    "    def __init__(self,name=\"baigan\",color=\"purple\"):\n",
    "        self.name=name\n",
    "        self.color=color\n",
    "\n",
    "kaddu=sabji(\"kaddu\",\"green\")\n",
    "eggplant=sabji()        "
   ]
  },
  {
   "cell_type": "code",
   "execution_count": 134,
   "id": "ceef02f6",
   "metadata": {
    "scrolled": false
   },
   "outputs": [
    {
     "name": "stdout",
     "output_type": "stream",
     "text": [
      "baigan\n"
     ]
    }
   ],
   "source": [
    "print(eggplant.name)"
   ]
  },
  {
   "cell_type": "code",
   "execution_count": 135,
   "id": "784731c0",
   "metadata": {},
   "outputs": [
    {
     "name": "stdout",
     "output_type": "stream",
     "text": [
      "green\n"
     ]
    }
   ],
   "source": [
    "print(kaddu.color)"
   ]
  },
  {
   "cell_type": "markdown",
   "id": "5ea571c9",
   "metadata": {},
   "source": [
    "# Destructors"
   ]
  },
  {
   "cell_type": "raw",
   "id": "042704fa",
   "metadata": {},
   "source": [
    "Destrucotrs are special functions that actually deletes an instance, it can be used in the same manner as a constructor ,i.e. can be defined or is also present by default"
   ]
  },
  {
   "cell_type": "code",
   "execution_count": 65,
   "id": "80eec6e8",
   "metadata": {},
   "outputs": [],
   "source": [
    "class dog:\n",
    "    color=\"green\"\n",
    "    def __init__(self,name):\n",
    "        self.name=name\n",
    "        print(f\"new instance {self.name} is created\")\n",
    "        \n",
    "    def __del__(self):\n",
    "        print(f\"instance {self.name} is deleted\")\n",
    "        \n",
    "    def setColor(self,color):\n",
    "        self.color=color\n",
    "    def getData(self):\n",
    "        return self.name,self.color"
   ]
  },
  {
   "cell_type": "code",
   "execution_count": 66,
   "id": "af356619",
   "metadata": {},
   "outputs": [
    {
     "name": "stdout",
     "output_type": "stream",
     "text": [
      "new instance tommy is created\n"
     ]
    }
   ],
   "source": [
    "d1=dog(\"tommy\")"
   ]
  },
  {
   "cell_type": "code",
   "execution_count": 67,
   "id": "2bded2b4",
   "metadata": {},
   "outputs": [
    {
     "name": "stdout",
     "output_type": "stream",
     "text": [
      "instance tommy is deleted\n"
     ]
    }
   ],
   "source": [
    "del d1"
   ]
  },
  {
   "cell_type": "code",
   "execution_count": 68,
   "id": "fdb1ed20",
   "metadata": {},
   "outputs": [
    {
     "name": "stdout",
     "output_type": "stream",
     "text": [
      "new instance runny is created\n"
     ]
    }
   ],
   "source": [
    "d2=dog(\"runny\")"
   ]
  },
  {
   "cell_type": "code",
   "execution_count": 69,
   "id": "f494f99c",
   "metadata": {
    "scrolled": true
   },
   "outputs": [
    {
     "name": "stdout",
     "output_type": "stream",
     "text": [
      "instance runny is deleted\n"
     ]
    }
   ],
   "source": [
    "del d2  #even if the destructor is not defined in the class"
   ]
  },
  {
   "cell_type": "markdown",
   "id": "2c37468e",
   "metadata": {},
   "source": [
    "# setters "
   ]
  },
  {
   "cell_type": "markdown",
   "id": "1dcc0c92",
   "metadata": {},
   "source": [
    "The methods defined to set attributes to an instance of a class is called setters"
   ]
  },
  {
   "cell_type": "code",
   "execution_count": 70,
   "id": "8c0204d5",
   "metadata": {},
   "outputs": [
    {
     "name": "stdout",
     "output_type": "stream",
     "text": [
      "new instance tuffy is created\n",
      "instance tuffy is deleted\n"
     ]
    }
   ],
   "source": [
    "d5=dog(\"tuffy\")"
   ]
  },
  {
   "cell_type": "code",
   "execution_count": 71,
   "id": "b9e56936",
   "metadata": {},
   "outputs": [
    {
     "name": "stdout",
     "output_type": "stream",
     "text": [
      "new instance shaggy is created\n",
      "instance shaggy is deleted\n"
     ]
    }
   ],
   "source": [
    "d6=dog(\"shaggy\")"
   ]
  },
  {
   "cell_type": "code",
   "execution_count": 72,
   "id": "c670ec75",
   "metadata": {},
   "outputs": [],
   "source": [
    "d5.setColor(\"blue\")"
   ]
  },
  {
   "cell_type": "code",
   "execution_count": 73,
   "id": "5a7ba1fe",
   "metadata": {},
   "outputs": [
    {
     "name": "stdout",
     "output_type": "stream",
     "text": [
      "blue\n"
     ]
    }
   ],
   "source": [
    "print(d5.color)"
   ]
  },
  {
   "cell_type": "code",
   "execution_count": 74,
   "id": "f52e4007",
   "metadata": {},
   "outputs": [
    {
     "name": "stdout",
     "output_type": "stream",
     "text": [
      "green\n"
     ]
    }
   ],
   "source": [
    "print(d6.color)"
   ]
  },
  {
   "cell_type": "markdown",
   "id": "6fcfc5b2",
   "metadata": {},
   "source": [
    "# Getters:"
   ]
  },
  {
   "cell_type": "markdown",
   "id": "7020d5c9",
   "metadata": {},
   "source": [
    "Methods used to access data members values (all or one anything)"
   ]
  },
  {
   "cell_type": "code",
   "execution_count": 76,
   "id": "4c0ab9f4",
   "metadata": {},
   "outputs": [
    {
     "data": {
      "text/plain": [
       "('shaggy', 'green')"
      ]
     },
     "execution_count": 76,
     "metadata": {},
     "output_type": "execute_result"
    }
   ],
   "source": [
    "d6.getData()"
   ]
  },
  {
   "cell_type": "code",
   "execution_count": 77,
   "id": "cb8ae32c",
   "metadata": {},
   "outputs": [],
   "source": [
    "class bear:\n",
    "    def __init__(self,name,color):\n",
    "        self.name=name\n",
    "        self.color=color\n",
    "    def setName(self,name):\n",
    "        self.name=name\n",
    "    def getName(self):\n",
    "        return self.name\n",
    "a=bear(\"sloth\",\"black\")\n",
    "    "
   ]
  },
  {
   "cell_type": "code",
   "execution_count": 78,
   "id": "87ca9268",
   "metadata": {},
   "outputs": [
    {
     "name": "stdout",
     "output_type": "stream",
     "text": [
      "sloth\n"
     ]
    }
   ],
   "source": [
    "print(a.getName())"
   ]
  },
  {
   "cell_type": "code",
   "execution_count": 79,
   "id": "4983eb83",
   "metadata": {},
   "outputs": [],
   "source": [
    "a.setName(\"grizzly\")"
   ]
  },
  {
   "cell_type": "code",
   "execution_count": 81,
   "id": "4931a4b7",
   "metadata": {},
   "outputs": [
    {
     "name": "stdout",
     "output_type": "stream",
     "text": [
      "grizzly\n"
     ]
    }
   ],
   "source": [
    "print(a.getName())"
   ]
  },
  {
   "cell_type": "markdown",
   "id": "cb59ca42",
   "metadata": {},
   "source": [
    "# Public /Protected /Private members"
   ]
  },
  {
   "cell_type": "code",
   "execution_count": 83,
   "id": "8ca37747",
   "metadata": {},
   "outputs": [],
   "source": [
    "class cat:\n",
    "    _name=\"John\"   #protected members are denoted by single_\n",
    "    __color=\"black\" #pribvate members are denoted by double__\n",
    "    age=5\n",
    "    \n",
    "a=cat()"
   ]
  },
  {
   "cell_type": "code",
   "execution_count": 89,
   "id": "843e9ddf",
   "metadata": {},
   "outputs": [
    {
     "name": "stdout",
     "output_type": "stream",
     "text": [
      "John\n"
     ]
    }
   ],
   "source": [
    "print(a._name)"
   ]
  },
  {
   "cell_type": "code",
   "execution_count": 90,
   "id": "4af2449b",
   "metadata": {},
   "outputs": [
    {
     "name": "stdout",
     "output_type": "stream",
     "text": [
      "black\n"
     ]
    }
   ],
   "source": [
    "print(a._cat__color)"
   ]
  },
  {
   "cell_type": "code",
   "execution_count": 92,
   "id": "ad202244",
   "metadata": {},
   "outputs": [
    {
     "name": "stdout",
     "output_type": "stream",
     "text": [
      "5\n"
     ]
    }
   ],
   "source": [
    "print(a.age)"
   ]
  },
  {
   "cell_type": "markdown",
   "id": "06578011",
   "metadata": {},
   "source": [
    "# Memory Space allocation:"
   ]
  },
  {
   "cell_type": "markdown",
   "id": "3e6b85a9",
   "metadata": {},
   "source": [
    "The methods are assigned with memory as soon as the class is created<br>\n",
    "However since the data members vary from instance to instance so their memory allocation is done as soon as the instance is created<br>\n"
   ]
  },
  {
   "cell_type": "markdown",
   "id": "0efb47fd",
   "metadata": {},
   "source": [
    "# Nested class or Inner Class:"
   ]
  },
  {
   "cell_type": "code",
   "execution_count": 144,
   "id": "64aaf0cc",
   "metadata": {},
   "outputs": [],
   "source": [
    "class outer1:\n",
    "    class inner:\n",
    "        pass\n",
    "        class inner_inner:\n",
    "            pass\n",
    "    class inner2:\n",
    "        pass\n",
    "    pass"
   ]
  },
  {
   "cell_type": "markdown",
   "id": "b11d35f9",
   "metadata": {},
   "source": [
    "## need of nested classes:\n"
   ]
  },
  {
   "cell_type": "markdown",
   "id": "1fcfac68",
   "metadata": {},
   "source": [
    "used for weel organisation of codes"
   ]
  },
  {
   "cell_type": "code",
   "execution_count": 145,
   "id": "6a5ff0c4",
   "metadata": {},
   "outputs": [
    {
     "name": "stdout",
     "output_type": "stream",
     "text": [
      "language python\n",
      "type High level\n",
      "founded in  1991\n"
     ]
    }
   ],
   "source": [
    "class language:\n",
    "    def __init__(self):\n",
    "        self.language=\"python\"\n",
    "        self.lg=self.specification()#this attribute is an object of the specifications class\n",
    "    def show(self):\n",
    "        print(\"language\",self.language)\n",
    "    class specification:\n",
    "        def __init__(self):\n",
    "            self.type=\"High level\"\n",
    "            self.founded=\"1991\"\n",
    "        def display(self):\n",
    "            print(\"type\",self.type)\n",
    "            print(\"founded in \",self.founded)\n",
    "out=language()\n",
    "out.show()\n",
    "ppool=out.lg #attribute of the main class but an object of the inner class \n",
    "ppool.display() #thus can call this function, cant do the same with the language attribute"
   ]
  },
  {
   "cell_type": "markdown",
   "id": "a589a47f",
   "metadata": {},
   "source": [
    "## Types of inner class in python:\n"
   ]
  },
  {
   "cell_type": "markdown",
   "id": "14c8e7b0",
   "metadata": {},
   "source": [
    "1.Multiple inner class <br>\n",
    "2.Multilevel inner class <br>"
   ]
  },
  {
   "cell_type": "code",
   "execution_count": 157,
   "id": "0ae4182d",
   "metadata": {},
   "outputs": [
    {
     "name": "stdout",
     "output_type": "stream",
     "text": [
      "outer object is created\n",
      "Inner object is created\n",
      "_inner object is created\n",
      "*\n",
      "Inner object is created\n",
      "*\n",
      "_inner object is created\n",
      "*\n",
      "this is outer class\n",
      "<__main__.outer.Inner object at 0x000001DE77F8D9D0>\n",
      "<__main__.outer._Inner object at 0x000001DE77F8D5B0>\n",
      "*\n",
      "<__main__.outer.Inner object at 0x000001DE77F8D9D0>\n",
      "*\n",
      "<__main__.outer._Inner object at 0x000001DE77F8D5B0>\n",
      "*\n",
      "This is the inner class\n",
      "just print\n",
      "*\n",
      "This is  _inner class\n",
      "print it\n"
     ]
    }
   ],
   "source": [
    "#multiple inner class\n",
    "class outer:\n",
    "    def __init__(self):\n",
    "        print(\"outer object is created\")\n",
    "        self.inner=self.Inner()\n",
    "        self._inner=self._Inner()\n",
    "       \n",
    "        \n",
    "    def show_classes(self):\n",
    "        print(\"this is outer class\")\n",
    "        print(inner)\n",
    "        print(_inner)\n",
    "        \n",
    "    class Inner:\n",
    "        def __init__(self):\n",
    "            print(\"Inner object is created\")\n",
    "            \n",
    "        def inner_display(self,msg):\n",
    "            print(\"This is the inner class\")\n",
    "            print(msg)\n",
    "            \n",
    "    class _Inner:\n",
    "        def __init__(self):\n",
    "            print(\"_inner object is created\")\n",
    "        def inner_display(self,msg):\n",
    "            print(\"This is  _inner class\")\n",
    "            print(msg)\n",
    "\n",
    "out=outer()\n",
    "print(\"*\")\n",
    "inner=outer.Inner()\n",
    "print(\"*\")\n",
    "_inner=outer._Inner()\n",
    "print(\"*\")\n",
    "out.show_classes()\n",
    "print(\"*\")\n",
    "inner.inner_display(\"just print\")\n",
    "print(\"*\")\n",
    "_inner.inner_display(\"print it\")\n"
   ]
  },
  {
   "cell_type": "code",
   "execution_count": 12,
   "id": "b300406b",
   "metadata": {
    "scrolled": true
   },
   "outputs": [
    {
     "name": "stdout",
     "output_type": "stream",
     "text": [
      "this is inner class\n",
      "just print it!!!!\n"
     ]
    }
   ],
   "source": [
    "#multilevel inner class (class inside a class inside a class and so on)\n",
    "\n",
    "class outer2:\n",
    "    def __init__(self):\n",
    "        self.inner=self.Inner()\n",
    "        self.innerinner=self.Inner.InnerInner()    \n",
    "    def show_classes(self):\n",
    "        print(\"This is outer class\")\n",
    "        print(self.inner)   \n",
    "    class Inner:\n",
    "        def __init__(self):\n",
    "            self.innerinner=self.InnerInner()     \n",
    "        def show_classes(self):\n",
    "            print(\"this is inner class\")\n",
    "            print(self.innerinner)    \n",
    "        class InnerInner:\n",
    "            def inner_display(self,msg):\n",
    "                print(\"This is multilevel innerinner class\")\n",
    "                print(msg)        \n",
    "            def inner_display(self,msg):\n",
    "                print(\"this is inner class\")\n",
    "                print(msg) \n",
    "                \n",
    "outer =outer2()\n",
    "inner=outer.Inner()\n",
    "innerinner=outer.Inner.InnerInner()\n",
    "innerinner.inner_display(\"just print it!!!!\")\n",
    "\n",
    "        "
   ]
  },
  {
   "cell_type": "markdown",
   "id": "342958a9",
   "metadata": {},
   "source": [
    "# Inheritance:"
   ]
  },
  {
   "cell_type": "markdown",
   "id": "c949a936",
   "metadata": {},
   "source": [
    "when a child class inherits the properties and methods of one or multiple parents classes then its called inheritance."
   ]
  },
  {
   "cell_type": "code",
   "execution_count": 21,
   "id": "f43c2969",
   "metadata": {},
   "outputs": [
    {
     "name": "stdout",
     "output_type": "stream",
     "text": [
      "parent is created\n",
      "child is created\n",
      "child is speaking now\n",
      "tell me the truth\n"
     ]
    }
   ],
   "source": [
    "class parent:\n",
    "    p_instances=0\n",
    "\n",
    "    \n",
    "    def __init__(self):\n",
    "        self.update_inst()\n",
    "        print(\"parent is created\")\n",
    "    def speak(self):\n",
    "        print(\"parent is speaking\")\n",
    "    def tellme(self):\n",
    "        print(\"tell me the truth\")\n",
    "       \n",
    "    @classmethod\n",
    "    def update_inst(cls):\n",
    "        cls.p_instances+=1\n",
    "        \n",
    "class child(parent):\n",
    "    \n",
    "    instances=0\n",
    "    \n",
    "    def __init__(self):\n",
    "        self.instances+=1\n",
    "      \n",
    "        print(\"child is created\")\n",
    "        \n",
    "    def speak(self):\n",
    "        print(\"child is speaking now\")\n",
    "\n",
    "sj=parent()\n",
    "rohan=child()\n",
    "rohan.speak()\n",
    "rohan.tellme()\n"
   ]
  },
  {
   "cell_type": "code",
   "execution_count": 22,
   "id": "c19a4ff7",
   "metadata": {},
   "outputs": [
    {
     "name": "stdout",
     "output_type": "stream",
     "text": [
      "1\n"
     ]
    }
   ],
   "source": [
    "print(rohan.instances)"
   ]
  },
  {
   "cell_type": "code",
   "execution_count": 23,
   "id": "a8bb6f46",
   "metadata": {},
   "outputs": [
    {
     "name": "stdout",
     "output_type": "stream",
     "text": [
      "1\n"
     ]
    }
   ],
   "source": [
    "print(sj.p_instances)"
   ]
  },
  {
   "cell_type": "code",
   "execution_count": 24,
   "id": "028206ff",
   "metadata": {},
   "outputs": [
    {
     "name": "stdout",
     "output_type": "stream",
     "text": [
      "0\n"
     ]
    }
   ],
   "source": [
    "print(sj.ch_instances)"
   ]
  },
  {
   "cell_type": "code",
   "execution_count": 25,
   "id": "864d737c",
   "metadata": {},
   "outputs": [
    {
     "name": "stdout",
     "output_type": "stream",
     "text": [
      "1\n"
     ]
    }
   ],
   "source": [
    "print(rohan.ch_instances)"
   ]
  },
  {
   "cell_type": "markdown",
   "id": "54c22f20",
   "metadata": {},
   "source": [
    "# Types of inheritance: "
   ]
  },
  {
   "cell_type": "markdown",
   "id": "d903cee0",
   "metadata": {},
   "source": [
    "single inheritance<br>\n",
    "multilevel Inheritance<br>\n",
    "multiple inheritance <br>\n",
    "hierarchical inheritance<br>"
   ]
  },
  {
   "cell_type": "code",
   "execution_count": 61,
   "id": "45c5eb77",
   "metadata": {},
   "outputs": [],
   "source": [
    "class vehicle:\n",
    "    def __init__(self,numTyres,color):\n",
    "        self.numTyres=numTyres\n",
    "        self.color=color\n",
    "        print(\"a vehicle is built\")\n",
    "    def display(self):\n",
    "        print(self.numTyres ,self.color)"
   ]
  },
  {
   "cell_type": "code",
   "execution_count": 62,
   "id": "a2bbafc2",
   "metadata": {},
   "outputs": [
    {
     "name": "stdout",
     "output_type": "stream",
     "text": [
      "a vehicle is built\n"
     ]
    }
   ],
   "source": [
    "obj=vehicle(4,\"red\")"
   ]
  },
  {
   "cell_type": "code",
   "execution_count": 63,
   "id": "4de61f06",
   "metadata": {},
   "outputs": [
    {
     "name": "stdout",
     "output_type": "stream",
     "text": [
      "4 red\n"
     ]
    }
   ],
   "source": [
    "obj.display()"
   ]
  },
  {
   "cell_type": "markdown",
   "id": "5e1a977f",
   "metadata": {},
   "source": [
    "## Single inheritance"
   ]
  },
  {
   "cell_type": "code",
   "execution_count": 64,
   "id": "3a2b0744",
   "metadata": {},
   "outputs": [],
   "source": [
    "class car(vehicle):\n",
    "    def __init__(self,color):\n",
    "        self.accelerator=True\n",
    "        vehicle.__init__(self,4,color)\n",
    "        print(\"a car is created\")\n",
    "    def drive(self):\n",
    "        print(\"driving\")\n",
    "\n",
    "\n",
    "    "
   ]
  },
  {
   "cell_type": "code",
   "execution_count": 65,
   "id": "3e427f25",
   "metadata": {},
   "outputs": [
    {
     "name": "stdout",
     "output_type": "stream",
     "text": [
      "a vehicle is built\n",
      "a car is created\n",
      "driving\n"
     ]
    }
   ],
   "source": [
    "obj2=car(\"blue\")\n",
    "obj2.drive()"
   ]
  },
  {
   "cell_type": "code",
   "execution_count": 66,
   "id": "1367004e",
   "metadata": {},
   "outputs": [
    {
     "data": {
      "text/plain": [
       "4"
      ]
     },
     "execution_count": 66,
     "metadata": {},
     "output_type": "execute_result"
    }
   ],
   "source": [
    "obj2.numTyres"
   ]
  },
  {
   "cell_type": "code",
   "execution_count": 67,
   "id": "83fcddb2",
   "metadata": {},
   "outputs": [
    {
     "name": "stdout",
     "output_type": "stream",
     "text": [
      "4 blue\n"
     ]
    }
   ],
   "source": [
    "obj2.display()"
   ]
  },
  {
   "cell_type": "markdown",
   "id": "c94ad1d4",
   "metadata": {},
   "source": [
    "## Multilevel iheritance"
   ]
  },
  {
   "cell_type": "code",
   "execution_count": 68,
   "id": "9b4d4586",
   "metadata": {},
   "outputs": [],
   "source": [
    "class hondacity(car):\n",
    "    def __init__(self):\n",
    "        print(\"it must be a hondacity\")\n",
    "        car.__init__(self,\"red\")\n",
    "        print(\"its hondacity\")\n",
    "    def drive(self):\n",
    "        print(\"hondacity is driving\")\n",
    "         "
   ]
  },
  {
   "cell_type": "code",
   "execution_count": 69,
   "id": "dfeed7b1",
   "metadata": {},
   "outputs": [
    {
     "name": "stdout",
     "output_type": "stream",
     "text": [
      "it must be a hondacity\n",
      "a vehicle is built\n",
      "a car is created\n",
      "its hondacity\n",
      "hondacity is driving\n"
     ]
    }
   ],
   "source": [
    "hc=hondacity()\n",
    "hc.drive()"
   ]
  },
  {
   "cell_type": "code",
   "execution_count": 70,
   "id": "d2365e66",
   "metadata": {},
   "outputs": [
    {
     "data": {
      "text/plain": [
       "True"
      ]
     },
     "execution_count": 70,
     "metadata": {},
     "output_type": "execute_result"
    }
   ],
   "source": [
    "hc.accelerator"
   ]
  },
  {
   "cell_type": "markdown",
   "id": "e9d0c8f7",
   "metadata": {},
   "source": [
    "## Multiple inheritance:"
   ]
  },
  {
   "cell_type": "code",
   "execution_count": 80,
   "id": "be83c29d",
   "metadata": {},
   "outputs": [
    {
     "name": "stdout",
     "output_type": "stream",
     "text": [
      "6 feet height\n",
      "color is brown\n"
     ]
    }
   ],
   "source": [
    "class Father:\n",
    "    def height(self):\n",
    "        print(\"6 feet height\")\n",
    "class Mother:\n",
    "    def color(self):\n",
    "        print(\"color is brown\")\n",
    "class child(Father,Mother):\n",
    "    pass\n",
    "c=child()\n",
    "c.height()\n",
    "c.color()"
   ]
  },
  {
   "cell_type": "markdown",
   "id": "81b108c1",
   "metadata": {},
   "source": [
    "The problem with multiple inheritance is that it overrides the constructors and methods of the same name that exists in the super classes.<br>\n",
    "We use the super() construcotr for this."
   ]
  },
  {
   "cell_type": "code",
   "execution_count": 81,
   "id": "0038a4fa",
   "metadata": {},
   "outputs": [
    {
     "name": "stdout",
     "output_type": "stream",
     "text": [
      "c\n",
      "a\n"
     ]
    }
   ],
   "source": [
    "class A:\n",
    "    def __init__(self):\n",
    "        self.a='a'\n",
    "        print(self.a)\n",
    "class B:\n",
    "    def __init__(self):\n",
    "        self.b='b'\n",
    "        print(self.b)\n",
    "class C(A,B):\n",
    "    def __init__(self):\n",
    "        self.c='c'\n",
    "        print(self.c)\n",
    "        super().__init__()\n",
    "o=C()"
   ]
  },
  {
   "cell_type": "markdown",
   "id": "2248be9d",
   "metadata": {},
   "source": [
    "but still it gives the construcotr of class A only"
   ]
  },
  {
   "cell_type": "markdown",
   "id": "8f086905",
   "metadata": {},
   "source": [
    "so if the class was defined as class C(B,A): then we would get output c b<br>\n",
    "to overcome this we define a super construtor n every class to search for each constructor using Method Resolution Order(MRO)"
   ]
  },
  {
   "cell_type": "code",
   "execution_count": 84,
   "id": "5584500a",
   "metadata": {},
   "outputs": [],
   "source": [
    "class A(object):\n",
    "    def method(Self):\n",
    "        print(\"A class method\")\n",
    "        super().method()\n",
    "class B(object):\n",
    "    def method(self):\n",
    "        print(\"B class method\")\n",
    "        super().method()\n",
    "class C(object):\n",
    "    def method(self):\n",
    "        print(\"C class method\")\n",
    "        \n",
    "class X(A,B):\n",
    "    def method(self):\n",
    "        print(\"x class method\")\n",
    "        super().method()\n",
    "        \n",
    "class Y(B,C):\n",
    "    def method(self):\n",
    "        print(\"Y class method\")\n",
    "        super().method()\n",
    "                                "
   ]
  },
  {
   "cell_type": "code",
   "execution_count": 87,
   "id": "ec4e4a27",
   "metadata": {},
   "outputs": [
    {
     "name": "stdout",
     "output_type": "stream",
     "text": [
      "p class method\n",
      "x class method\n",
      "A class method\n",
      "Y class method\n",
      "B class method\n",
      "C class method\n"
     ]
    }
   ],
   "source": [
    "class p(X,Y,C):\n",
    "    def method(self):\n",
    "        print(\"p class method\")\n",
    "        super().method()\n",
    "p1=p()\n",
    "p1.method()"
   ]
  },
  {
   "cell_type": "code",
   "execution_count": 90,
   "id": "0cb62531",
   "metadata": {},
   "outputs": [
    {
     "name": "stdout",
     "output_type": "stream",
     "text": [
      "[<class '__main__.p'>, <class '__main__.X'>, <class '__main__.A'>, <class '__main__.Y'>, <class '__main__.B'>, <class '__main__.C'>, <class 'object'>]\n"
     ]
    }
   ],
   "source": [
    "print(p.mro()) #gives the flow of mro for a class"
   ]
  },
  {
   "cell_type": "markdown",
   "id": "7929bddc",
   "metadata": {},
   "source": [
    "# Super():"
   ]
  },
  {
   "cell_type": "markdown",
   "id": "79a9a2dc",
   "metadata": {},
   "source": [
    "this method is used to call the super class constructors or methods.<br>\n",
    "Since the sub class constructors always overrides the super class constructor so as to access it for initialising a super class variable and using them in sub class we use the super method.<br>\n"
   ]
  },
  {
   "cell_type": "code",
   "execution_count": 73,
   "id": "c42d037f",
   "metadata": {},
   "outputs": [
    {
     "name": "stdout",
     "output_type": "stream",
     "text": [
      "total property of the child is  5000\n",
      "father's property= 3000\n"
     ]
    }
   ],
   "source": [
    "class Father:\n",
    "    def __init__(self,property=0):\n",
    "        self.property=property\n",
    "    def display(self):\n",
    "        print(\"father\\'s property=\",self.property)\n",
    "class son(Father):\n",
    "    def __init__(self,property1=0,property=0):\n",
    "        super().__init__(property)\n",
    "        self.property1=property1\n",
    "    def display_property(self):\n",
    "        print(\"total property of the child is \",self.property+self.property1)\n",
    "s=son(2000,3000)\n",
    "s.display_property()\n",
    "s.display()"
   ]
  },
  {
   "cell_type": "code",
   "execution_count": 79,
   "id": "f07389da",
   "metadata": {},
   "outputs": [
    {
     "name": "stdout",
     "output_type": "stream",
     "text": [
      "11 12\n",
      "area of the square= 121.0\n",
      "area of the rectangle is 132.0\n"
     ]
    }
   ],
   "source": [
    "class square:\n",
    "    def __init__(self,x):\n",
    "        self.x=x\n",
    "    def area(self):\n",
    "        print(\"area of the square=\",self.x**2)\n",
    "\n",
    "class rectangle(square):\n",
    "    def __init__(self,x,y):\n",
    "        self.y=y\n",
    "        super().__init__(x)\n",
    "        \n",
    "        \n",
    "    def area(self):\n",
    "        super().area()\n",
    "        print(\"area of the rectangle is\",self.x*self.y)\n",
    "a,b= [float(x) for x in input(\"\").split()]\n",
    "r=rectangle(a,b)\n",
    "r.area()"
   ]
  },
  {
   "cell_type": "markdown",
   "id": "554d5570",
   "metadata": {},
   "source": [
    "# Polymorphism: "
   ]
  },
  {
   "cell_type": "markdown",
   "id": "fd8b6b49",
   "metadata": {},
   "source": [
    "Same thing many forms"
   ]
  },
  {
   "cell_type": "code",
   "execution_count": 2,
   "id": "3ae91438",
   "metadata": {},
   "outputs": [
    {
     "name": "stdout",
     "output_type": "stream",
     "text": [
      "50000 L\n",
      "Red\n",
      "--------\n",
      "7 Seater\n",
      "Black\n",
      "--------\n"
     ]
    }
   ],
   "source": [
    "class Truck():\n",
    "    def capacity(self):\n",
    "        print(\"50000 L\")\n",
    "    def color(self):\n",
    "        print(\"Red\")\n",
    "class Car():\n",
    "    def capacity(self):\n",
    "        print(\"7 Seater\")\n",
    "    def color(self):\n",
    "        print(\"Black\")\n",
    "    \n",
    "obj_truck=Truck()\n",
    "obj_car=Car()\n",
    "for vehicle in (obj_truck,obj_car):\n",
    "    vehicle.capacity()\n",
    "    vehicle.color()\n",
    "    print(\"--------\")\n",
    "    \n",
    "        "
   ]
  },
  {
   "cell_type": "markdown",
   "id": "3b83e719",
   "metadata": {},
   "source": [
    "depending on the object or the class the respective method is called"
   ]
  },
  {
   "cell_type": "markdown",
   "id": "441b6976",
   "metadata": {},
   "source": [
    "# Polymorphism and inheritance:\n"
   ]
  },
  {
   "cell_type": "markdown",
   "id": "b12e385f",
   "metadata": {},
   "source": [
    "polymorphism--->inheritance"
   ]
  },
  {
   "cell_type": "markdown",
   "id": "21407baf",
   "metadata": {},
   "source": [
    "while inheriting the child object is calling the function that is defined in its own class.<br> So if the method has same name then it calls its own function rather than the one in the parent class.<br>"
   ]
  },
  {
   "cell_type": "markdown",
   "id": "2b592861",
   "metadata": {},
   "source": [
    "This is called method overriding"
   ]
  },
  {
   "cell_type": "code",
   "execution_count": 5,
   "id": "d0588ad5",
   "metadata": {},
   "outputs": [
    {
     "name": "stdout",
     "output_type": "stream",
     "text": [
      "we have different vehicles\n",
      "They have variation\n",
      "-------\n",
      "we have different vehicles\n",
      "They are slow\n",
      "-------\n",
      "we have different vehicles\n",
      "They are faster\n",
      "-------\n"
     ]
    }
   ],
   "source": [
    "class vehicle():\n",
    "    def intro(self):\n",
    "        print(\"we have different vehicles\")\n",
    "    def speed(self):\n",
    "        print(\"They have variation\")\n",
    "        \n",
    "class Truck(vehicle):\n",
    "    def speed(self):\n",
    "        print(\"They are slow\")\n",
    "        \n",
    "class Car(vehicle):\n",
    "    def speed(self):\n",
    "        print(\"They are faster\")\n",
    "\n",
    "obj_veh=vehicle()\n",
    "obj_truck=Truck()\n",
    "obj_car=Car()\n",
    "\n",
    "for i in [obj_veh,obj_truck,obj_car]:\n",
    "    i.intro()\n",
    "    i.speed()\n",
    "    print(\"-------\")\n",
    "\n",
    "\n",
    "    "
   ]
  },
  {
   "cell_type": "markdown",
   "id": "9aa2ba4b",
   "metadata": {},
   "source": [
    "# Duck Typing:"
   ]
  },
  {
   "cell_type": "markdown",
   "id": "56cc14d8",
   "metadata": {},
   "source": [
    "its a concept related to dynamic typing where the type or the class of an object is less important than the method it defines.Using Duck Typing we don't check types at all.Instead we check for using presence of a given method or attribute."
   ]
  },
  {
   "cell_type": "markdown",
   "id": "de467c12",
   "metadata": {},
   "source": [
    "Since in python the type of the variable is decided at the run time."
   ]
  },
  {
   "cell_type": "code",
   "execution_count": 11,
   "id": "dbcb9ebe",
   "metadata": {},
   "outputs": [
    {
     "name": "stdout",
     "output_type": "stream",
     "text": [
      "tabdak tabdak\n",
      "thapak thapak\n"
     ]
    },
    {
     "ename": "AttributeError",
     "evalue": "'Cat' object has no attribute 'walk'",
     "output_type": "error",
     "traceback": [
      "\u001b[1;31m---------------------------------------------------------------------------\u001b[0m",
      "\u001b[1;31mAttributeError\u001b[0m                            Traceback (most recent call last)",
      "\u001b[1;32m~\\AppData\\Local\\Temp\\ipykernel_11320\\1128461167.py\u001b[0m in \u001b[0;36m<module>\u001b[1;34m\u001b[0m\n\u001b[0;32m     19\u001b[0m \u001b[1;33m\u001b[0m\u001b[0m\n\u001b[0;32m     20\u001b[0m \u001b[1;32mfor\u001b[0m \u001b[0mi\u001b[0m \u001b[1;32min\u001b[0m \u001b[1;33m(\u001b[0m\u001b[0mh\u001b[0m\u001b[1;33m,\u001b[0m\u001b[0md\u001b[0m\u001b[1;33m,\u001b[0m\u001b[0mc\u001b[0m\u001b[1;33m)\u001b[0m\u001b[1;33m:\u001b[0m\u001b[1;33m\u001b[0m\u001b[1;33m\u001b[0m\u001b[0m\n\u001b[1;32m---> 21\u001b[1;33m     \u001b[0mmyfunction\u001b[0m\u001b[1;33m(\u001b[0m\u001b[0mi\u001b[0m\u001b[1;33m)\u001b[0m\u001b[1;33m\u001b[0m\u001b[1;33m\u001b[0m\u001b[0m\n\u001b[0m",
      "\u001b[1;32m~\\AppData\\Local\\Temp\\ipykernel_11320\\1128461167.py\u001b[0m in \u001b[0;36mmyfunction\u001b[1;34m(obj)\u001b[0m\n\u001b[0;32m     12\u001b[0m \u001b[1;33m\u001b[0m\u001b[0m\n\u001b[0;32m     13\u001b[0m \u001b[1;32mdef\u001b[0m \u001b[0mmyfunction\u001b[0m\u001b[1;33m(\u001b[0m\u001b[0mobj\u001b[0m\u001b[1;33m)\u001b[0m\u001b[1;33m:\u001b[0m\u001b[1;33m\u001b[0m\u001b[1;33m\u001b[0m\u001b[0m\n\u001b[1;32m---> 14\u001b[1;33m     \u001b[0mobj\u001b[0m\u001b[1;33m.\u001b[0m\u001b[0mwalk\u001b[0m\u001b[1;33m(\u001b[0m\u001b[1;33m)\u001b[0m\u001b[1;33m\u001b[0m\u001b[1;33m\u001b[0m\u001b[0m\n\u001b[0m\u001b[0;32m     15\u001b[0m \u001b[1;33m\u001b[0m\u001b[0m\n\u001b[0;32m     16\u001b[0m \u001b[0mh\u001b[0m\u001b[1;33m=\u001b[0m\u001b[0mHorse\u001b[0m\u001b[1;33m(\u001b[0m\u001b[1;33m)\u001b[0m\u001b[1;33m\u001b[0m\u001b[1;33m\u001b[0m\u001b[0m\n",
      "\u001b[1;31mAttributeError\u001b[0m: 'Cat' object has no attribute 'walk'"
     ]
    }
   ],
   "source": [
    "class Duck:\n",
    "    def walk(self):\n",
    "        print(\"thapak thapak\")\n",
    "        \n",
    "class Horse:\n",
    "    def walk(self):\n",
    "        print(\"tabdak tabdak\")\n",
    "        \n",
    "class Cat:\n",
    "    def talk(self):\n",
    "        print(\"meow meow\")\n",
    "        \n",
    "def myfunction(obj):\n",
    "    obj.walk()\n",
    "  \n",
    "h=Horse()\n",
    "d=Duck()\n",
    "c=Cat()\n",
    "\n",
    "for i in (h,d,c):\n",
    "    myfunction(i)"
   ]
  },
  {
   "cell_type": "markdown",
   "id": "c570e9a8",
   "metadata": {},
   "source": [
    "# Strong Typing:"
   ]
  },
  {
   "cell_type": "markdown",
   "id": "8cfb0d6b",
   "metadata": {},
   "source": [
    "hasattr()-->function to check whether the object has a method or not."
   ]
  },
  {
   "cell_type": "markdown",
   "id": "645314d7",
   "metadata": {},
   "source": [
    "syntax--> hasattr(object,attribute)\n",
    "This attribute can be amethod or propert if it is found in the object then returns True else False is returned"
   ]
  },
  {
   "cell_type": "code",
   "execution_count": 14,
   "id": "23ca5ffc",
   "metadata": {},
   "outputs": [
    {
     "name": "stdout",
     "output_type": "stream",
     "text": [
      "tabdak tabdak\n",
      "thapak thapak\n",
      "meow meow\n"
     ]
    }
   ],
   "source": [
    "class Duck:\n",
    "    def walk(self):\n",
    "        print(\"thapak thapak\")\n",
    "        \n",
    "class Horse:\n",
    "    def walk(self):\n",
    "        print(\"tabdak tabdak\")\n",
    "        \n",
    "class Cat:\n",
    "    def talk(self):\n",
    "        print(\"meow meow\")\n",
    "        \n",
    "def myfunction(obj):\n",
    "    if hasattr(obj,'walk'):\n",
    "        obj.walk()\n",
    "    if hasattr(obj,'talk'):\n",
    "        obj.talk()\n",
    "  \n",
    "h=Horse()\n",
    "d=Duck()\n",
    "c=Cat()\n",
    "\n",
    "for i in (h,d,c):\n",
    "    myfunction(i)"
   ]
  },
  {
   "cell_type": "code",
   "execution_count": 18,
   "id": "39b2b1f0",
   "metadata": {},
   "outputs": [
    {
     "name": "stdout",
     "output_type": "stream",
     "text": [
      "quack quack\n",
      "woof woof\n"
     ]
    },
    {
     "ename": "TypeError",
     "evalue": "'str' object is not callable",
     "output_type": "error",
     "traceback": [
      "\u001b[1;31m---------------------------------------------------------------------------\u001b[0m",
      "\u001b[1;31mTypeError\u001b[0m                                 Traceback (most recent call last)",
      "\u001b[1;32m~\\AppData\\Local\\Temp\\ipykernel_11320\\1468224381.py\u001b[0m in \u001b[0;36m<module>\u001b[1;34m\u001b[0m\n\u001b[0;32m     20\u001b[0m \u001b[1;33m\u001b[0m\u001b[0m\n\u001b[0;32m     21\u001b[0m \u001b[1;32mfor\u001b[0m \u001b[0mobj\u001b[0m \u001b[1;32min\u001b[0m \u001b[1;33m[\u001b[0m\u001b[0mduck\u001b[0m\u001b[1;33m,\u001b[0m\u001b[0mdog\u001b[0m\u001b[1;33m,\u001b[0m\u001b[0mcat\u001b[0m\u001b[1;33m]\u001b[0m\u001b[1;33m:\u001b[0m\u001b[1;33m\u001b[0m\u001b[1;33m\u001b[0m\u001b[0m\n\u001b[1;32m---> 22\u001b[1;33m     \u001b[0mallSound\u001b[0m\u001b[1;33m(\u001b[0m\u001b[0mobj\u001b[0m\u001b[1;33m)\u001b[0m\u001b[1;33m\u001b[0m\u001b[1;33m\u001b[0m\u001b[0m\n\u001b[0m\u001b[0;32m     23\u001b[0m \u001b[1;33m\u001b[0m\u001b[0m\n\u001b[0;32m     24\u001b[0m \u001b[1;33m\u001b[0m\u001b[0m\n",
      "\u001b[1;32m~\\AppData\\Local\\Temp\\ipykernel_11320\\1468224381.py\u001b[0m in \u001b[0;36mallSound\u001b[1;34m(obj)\u001b[0m\n\u001b[0;32m     13\u001b[0m \u001b[1;32mdef\u001b[0m \u001b[0mallSound\u001b[0m\u001b[1;33m(\u001b[0m\u001b[0mobj\u001b[0m\u001b[1;33m)\u001b[0m\u001b[1;33m:\u001b[0m\u001b[1;33m\u001b[0m\u001b[1;33m\u001b[0m\u001b[0m\n\u001b[0;32m     14\u001b[0m     \u001b[1;32mif\u001b[0m \u001b[0mhasattr\u001b[0m\u001b[1;33m(\u001b[0m\u001b[0mobj\u001b[0m\u001b[1;33m,\u001b[0m\u001b[1;34m'sound'\u001b[0m\u001b[1;33m)\u001b[0m\u001b[1;33m:\u001b[0m\u001b[1;33m\u001b[0m\u001b[1;33m\u001b[0m\u001b[0m\n\u001b[1;32m---> 15\u001b[1;33m         \u001b[0mobj\u001b[0m\u001b[1;33m.\u001b[0m\u001b[0msound\u001b[0m\u001b[1;33m(\u001b[0m\u001b[1;33m)\u001b[0m\u001b[1;33m\u001b[0m\u001b[1;33m\u001b[0m\u001b[0m\n\u001b[0m\u001b[0;32m     16\u001b[0m \u001b[1;33m\u001b[0m\u001b[0m\n\u001b[0;32m     17\u001b[0m \u001b[0mduck\u001b[0m\u001b[1;33m=\u001b[0m\u001b[0mDuck\u001b[0m\u001b[1;33m(\u001b[0m\u001b[1;33m)\u001b[0m\u001b[1;33m\u001b[0m\u001b[1;33m\u001b[0m\u001b[0m\n",
      "\u001b[1;31mTypeError\u001b[0m: 'str' object is not callable"
     ]
    }
   ],
   "source": [
    "class Duck:\n",
    "    def sound(self):\n",
    "        print(\"quack quack\")\n",
    "    \n",
    "class Dog:\n",
    "    def sound(self):\n",
    "        print(\"woof woof\")\n",
    "              \n",
    "class Cat:\n",
    "    def __init__(self):\n",
    "        self.sound=\"meow meow\"\n",
    "            \n",
    "def allSound(obj):\n",
    "    if hasattr(obj,'sound'):\n",
    "        obj.sound()\n",
    "\n",
    "duck=Duck()\n",
    "dog=Dog()\n",
    "cat=Cat()\n",
    "\n",
    "for obj in [duck,dog,cat]:\n",
    "    allSound(obj)\n",
    "        \n",
    "\n",
    "              \n",
    "              "
   ]
  },
  {
   "cell_type": "markdown",
   "id": "d5df3033",
   "metadata": {},
   "source": [
    "In above code there is an attribute of sound for cat but its not a method or in short is not callable.<br>to overcome this we check whether the object is callable or not"
   ]
  },
  {
   "cell_type": "markdown",
   "id": "97293b93",
   "metadata": {},
   "source": [
    "synatx--->callable(obj.attribute)"
   ]
  },
  {
   "cell_type": "code",
   "execution_count": 19,
   "id": "721dd8bb",
   "metadata": {},
   "outputs": [
    {
     "name": "stdout",
     "output_type": "stream",
     "text": [
      "quack quack\n",
      "woof woof\n"
     ]
    }
   ],
   "source": [
    "class Duck:\n",
    "    def sound(self):\n",
    "        print(\"quack quack\")\n",
    "    \n",
    "class Dog:\n",
    "    def sound(self):\n",
    "        print(\"woof woof\")\n",
    "              \n",
    "class Cat:\n",
    "    def __init__(self):\n",
    "        self.sound=\"meow meow\"\n",
    "            \n",
    "def allSound(obj):\n",
    "    if hasattr(obj,'sound') and callable(obj.sound):\n",
    "        obj.sound()\n",
    "\n",
    "duck=Duck()\n",
    "dog=Dog()\n",
    "cat=Cat()\n",
    "\n",
    "for obj in [duck,dog,cat]:\n",
    "    allSound(obj)\n",
    "        \n"
   ]
  },
  {
   "cell_type": "markdown",
   "id": "0f89e5bd",
   "metadata": {},
   "source": [
    "# Operator overloading:"
   ]
  },
  {
   "cell_type": "markdown",
   "id": "2dd3b798",
   "metadata": {},
   "source": [
    "In object-oriented programming, both overloading and overriding are mechanisms for modifying the behavior of methods in a class. However, there are some key differences between the two:"
   ]
  },
  {
   "cell_type": "markdown",
   "id": "ae57adc9",
   "metadata": {},
   "source": [
    "### Definition:"
   ]
  },
  {
   "cell_type": "markdown",
   "id": "0a1cf4da",
   "metadata": {},
   "source": [
    "Overloading: It means defining multiple methods with the same name but with different signatures (number or types of arguments) within the same class.\n",
    "<br><br>\n",
    "Overriding: It means redefining a method in the subclass that already exists in the parent class with the same name and signature."
   ]
  },
  {
   "cell_type": "markdown",
   "id": "439d7568",
   "metadata": {},
   "source": [
    "### Applicability:"
   ]
  },
  {
   "cell_type": "markdown",
   "id": "ba26b022",
   "metadata": {},
   "source": [
    "Overloading: It is applicable to both static and non-static methods.<br>\n",
    "Overriding: It is applicable only to instance methods (non-static) because static methods belong to the class, not the instance.\n",
    "<br>Inheritance:<br>\n",
    "Overloading: It is an example of compile-time (static) polymorphism, which is resolved at the time of compilation.<br>\n",
    "Overriding: It is an example of run-time (dynamic) polymorphism, which is resolved at runtime based on the actual type of the object.<br>\n",
    "Relationship between classes:<br>\n",
    "\n",
    "Overloading: It occurs within a single class.<br>\n",
    "Overriding: It occurs between a subclass and its parent class.<br><br>\n",
    "Signature:\n",
    "\n",
    "Overloading: Methods with different signatures (number or types of arguments) are defined in the same class.<br>\n",
    "Overriding: The signature of the overridden method in the subclass must match the signature of the method in the parent class.<br><br>`\n",
    "In summary,<br> overloading is defining multiple methods with the same name but different signatures, while overriding is redefining a method in a subclass that already exists in the parent class. <br>Overloading is an example of compile-time polymorphism and is applicable to both static and non-static methods, while overriding is an example of run-time polymorphism and is only applicable to instance methods.\n"
   ]
  },
  {
   "cell_type": "code",
   "execution_count": 20,
   "id": "7619c13a",
   "metadata": {},
   "outputs": [
    {
     "ename": "TypeError",
     "evalue": "unsupported operand type(s) for +: 'complexNo' and 'complexNo'",
     "output_type": "error",
     "traceback": [
      "\u001b[1;31m---------------------------------------------------------------------------\u001b[0m",
      "\u001b[1;31mTypeError\u001b[0m                                 Traceback (most recent call last)",
      "\u001b[1;32m~\\AppData\\Local\\Temp\\ipykernel_11320\\2167743956.py\u001b[0m in \u001b[0;36m<module>\u001b[1;34m\u001b[0m\n\u001b[0;32m      5\u001b[0m \u001b[0mc1\u001b[0m\u001b[1;33m=\u001b[0m\u001b[0mcomplexNo\u001b[0m\u001b[1;33m(\u001b[0m\u001b[1;36m1\u001b[0m\u001b[1;33m,\u001b[0m\u001b[1;36m2\u001b[0m\u001b[1;33m)\u001b[0m\u001b[1;33m\u001b[0m\u001b[1;33m\u001b[0m\u001b[0m\n\u001b[0;32m      6\u001b[0m \u001b[0mc2\u001b[0m\u001b[1;33m=\u001b[0m\u001b[0mcomplexNo\u001b[0m\u001b[1;33m(\u001b[0m\u001b[1;36m2\u001b[0m\u001b[1;33m,\u001b[0m\u001b[1;36m3\u001b[0m\u001b[1;33m)\u001b[0m\u001b[1;33m\u001b[0m\u001b[1;33m\u001b[0m\u001b[0m\n\u001b[1;32m----> 7\u001b[1;33m \u001b[0mprint\u001b[0m\u001b[1;33m(\u001b[0m\u001b[0mc1\u001b[0m\u001b[1;33m+\u001b[0m\u001b[0mc2\u001b[0m\u001b[1;33m)\u001b[0m\u001b[1;33m\u001b[0m\u001b[1;33m\u001b[0m\u001b[0m\n\u001b[0m",
      "\u001b[1;31mTypeError\u001b[0m: unsupported operand type(s) for +: 'complexNo' and 'complexNo'"
     ]
    }
   ],
   "source": [
    "class complexNo:\n",
    "    def __init__(self,real,imaginary):\n",
    "        self.real=real\n",
    "        self.imaginary=imaginary\n",
    "    \n",
    "c1=complexNo(1,2)\n",
    "c2=complexNo(2,3)\n",
    "print(c1+c2)"
   ]
  },
  {
   "cell_type": "markdown",
   "id": "5f1ae44c",
   "metadata": {},
   "source": [
    "# Special functions:"
   ]
  },
  {
   "cell_type": "markdown",
   "id": "18f391ca",
   "metadata": {},
   "source": [
    "1.__str__ is a special method in Python that is used to define a string representation of an object. It is called by the built-in str() function or by the print() function to obtain a string representation of an object. The primary purpose of __str__ is to provide a human-readable string representation of an object, which can be useful for debugging, logging, or other purposes."
   ]
  },
  {
   "cell_type": "code",
   "execution_count": 24,
   "id": "5dacac34",
   "metadata": {},
   "outputs": [
    {
     "name": "stdout",
     "output_type": "stream",
     "text": [
      "John (30 years old)\n"
     ]
    }
   ],
   "source": [
    "class Person:\n",
    "    def __init__(self, name, age):\n",
    "        self.name = name\n",
    "        self.age = age\n",
    "\n",
    "    def __str__(self):\n",
    "        return f\"{self.name} ({self.age} years old)\"\n",
    "\n",
    "\n",
    "p = Person(\"John\", 30)\n",
    "\n",
    "\n",
    "print(str(p))\n"
   ]
  },
  {
   "cell_type": "markdown",
   "id": "b1be7014",
   "metadata": {},
   "source": [
    "2.__add__ is a special method in Python that defines the behavior of the addition operator + for instances of a class. This method allows you to customize the addition operation for your own classes."
   ]
  },
  {
   "cell_type": "markdown",
   "id": "b6125652",
   "metadata": {},
   "source": [
    "The __add__ method takes two parameters, self and other, where self is the instance on the left-hand side of the + operator, and other is the instance on the right-hand side.\n",
    "\n",
    "The return value of the __add__ method should be the result of the addition operation. It can be any object, but it should be of the same class as the instances that you're adding together."
   ]
  },
  {
   "cell_type": "markdown",
   "id": "a348b48f",
   "metadata": {},
   "source": [
    "3. __lt__ is a special method in Python that defines the behavior of the less-than operator < for instances of a class. This method allows you to customize the comparison operation for your own classes."
   ]
  },
  {
   "cell_type": "code",
   "execution_count": 1,
   "id": "3e830d64",
   "metadata": {},
   "outputs": [
    {
     "name": "stdout",
     "output_type": "stream",
     "text": [
      "c1=1+2j is less than c2=3+4j\n"
     ]
    }
   ],
   "source": [
    "class complexNo:\n",
    "    def __init__(self,real,imaginary):\n",
    "        self.real=real\n",
    "        self.imaginary=imaginary\n",
    "        \n",
    "    def __lt__(self,complex_number_2):\n",
    "        if self.real<complex_number_2.real:\n",
    "            return True\n",
    "        elif self.real==complex_number_2.real:\n",
    "            if self.imaginary<complex_number_2.imaginary:\n",
    "                return True\n",
    "            else:\n",
    "                return False\n",
    "        else:return False\n",
    "        \n",
    "    def __str__(self):\n",
    "        return str(self.real)+'+'+str(self.imaginary)+'j'\n",
    "    def __add__(self,complex_no):\n",
    "        real=self.real+complex_no.real\n",
    "        img=self.imaginary+complex_no.imaginary\n",
    "        return complexNo(real,img)\n",
    "\n",
    "complex_number1=complexNo(1,2)\n",
    "complex_number2=complexNo(3,4)\n",
    "\n",
    "if complex_number1<complex_number2:\n",
    "    print(f\"c1={complex_number1} is less than c2={complex_number2}\")\n",
    "else:\n",
    "    print(f\"c1={complex_number1} is greater than c2={complex_number2}\")\n",
    " \n",
    "        "
   ]
  },
  {
   "cell_type": "code",
   "execution_count": 2,
   "id": "92ac8d78",
   "metadata": {},
   "outputs": [
    {
     "name": "stdout",
     "output_type": "stream",
     "text": [
      "1+2j\n"
     ]
    }
   ],
   "source": [
    "print(complex_number1)"
   ]
  },
  {
   "cell_type": "code",
   "execution_count": 3,
   "id": "e9013371",
   "metadata": {},
   "outputs": [
    {
     "name": "stdout",
     "output_type": "stream",
     "text": [
      "3+4j\n"
     ]
    }
   ],
   "source": [
    "print(complex_number2)"
   ]
  },
  {
   "cell_type": "code",
   "execution_count": 4,
   "id": "9910f1da",
   "metadata": {},
   "outputs": [
    {
     "name": "stdout",
     "output_type": "stream",
     "text": [
      "True\n"
     ]
    }
   ],
   "source": [
    "print(complex_number1.__lt__(complex_number2))"
   ]
  },
  {
   "cell_type": "code",
   "execution_count": 5,
   "id": "f787063b",
   "metadata": {},
   "outputs": [],
   "source": [
    "a=complex_number1.__add__(complex_number2)"
   ]
  },
  {
   "cell_type": "code",
   "execution_count": 6,
   "id": "3bc9dd7f",
   "metadata": {},
   "outputs": [
    {
     "name": "stdout",
     "output_type": "stream",
     "text": [
      "4+6j\n"
     ]
    }
   ],
   "source": [
    "print(a)"
   ]
  },
  {
   "cell_type": "markdown",
   "id": "0cec6fb1",
   "metadata": {},
   "source": [
    "## Magic method in python:"
   ]
  },
  {
   "cell_type": "raw",
   "id": "8ab0c6d0",
   "metadata": {},
   "source": [
    "operator                        |       magic method\n",
    "-------------------------------------------------------------------\n",
    "1.Addition(+)                   |     __add__() \n",
    "2.subtraction(-)                |     __sub__()\n",
    "3.multiplication(*)             |     __mul__()\n",
    "4.division(/)                   |     __truediv__()\n",
    "5.Power(**)                     |     __pow__()\n",
    "6.floor division(||)            |     __floordiv__()\n",
    "7.modulo(%)                     |     __mod__()\n",
    "8.equal to(==)                  |     __eq__()\n",
    "9.bitwise not(~)                |     __invert__()\n",
    "10.not equal to(!=)             |     __ne__()"
   ]
  },
  {
   "cell_type": "markdown",
   "id": "2cc91054",
   "metadata": {},
   "source": [
    "# Abstract classes and abstract methods:"
   ]
  },
  {
   "cell_type": "raw",
   "id": "1a34dc4f",
   "metadata": {},
   "source": [
    "no objects of an abstract class can be made and have to be inherited into a subclass to be used within an instance."
   ]
  },
  {
   "cell_type": "raw",
   "id": "787f25fc",
   "metadata": {},
   "source": [
    "an abstract method is a method whose actions are redefined in the sub classes as per the requirement of the objects.\n",
    "Generally are written without a body since it has to be redefined in the sub classes."
   ]
  },
  {
   "cell_type": "raw",
   "id": "b1d7c953",
   "metadata": {},
   "source": [
    "to mark the method we give the decorator @abstractmethod"
   ]
  },
  {
   "cell_type": "raw",
   "id": "225c2083",
   "metadata": {},
   "source": [
    "an abstract class is a class that generally contains some abstract methods."
   ]
  },
  {
   "cell_type": "raw",
   "id": "4058b15f",
   "metadata": {},
   "source": [
    "all abstract classes are derived from the meta ABC  class which belongs to abc module(abstract base class)"
   ]
  },
  {
   "cell_type": "raw",
   "id": "9b22a247",
   "metadata": {},
   "source": [
    "A meta class is a class that defines the behaviour of other classes."
   ]
  },
  {
   "cell_type": "code",
   "execution_count": 7,
   "id": "98a3b5bd",
   "metadata": {},
   "outputs": [
    {
     "name": "stdout",
     "output_type": "stream",
     "text": [
      "barking\n"
     ]
    }
   ],
   "source": [
    "from abc import ABC,abstractmethod\n",
    "\n",
    "class Animal(ABC):\n",
    "    @abstractmethod\n",
    "    def do(self):\n",
    "        pass\n",
    "    \n",
    "class Dog(Animal):\n",
    "    def do(self):\n",
    "        print(\"barking\")\n",
    "\n",
    "dog=Dog()\n",
    "dog.do()\n"
   ]
  },
  {
   "cell_type": "code",
   "execution_count": 8,
   "id": "66472552",
   "metadata": {},
   "outputs": [
    {
     "name": "stdout",
     "output_type": "stream",
     "text": [
      "square value= 256\n",
      "square root= 4.0\n",
      "cube value= 4096\n"
     ]
    }
   ],
   "source": [
    "class Myclass(ABC):\n",
    "    @abstractmethod\n",
    "    def calculate(self,x):\n",
    "        pass\n",
    "class sub1(Myclass):\n",
    "    def calculate(self,x):\n",
    "        print(\"square value=\",x**2)\n",
    "\n",
    "        \n",
    "import math\n",
    "class sub2(Myclass):\n",
    "    def calculate(self,x):\n",
    "        print(\"square root=\",math.sqrt(x))\n",
    "\n",
    "class sub3(Myclass):\n",
    "    def calculate(self,x):\n",
    "        print(\"cube value=\",x**3)\n",
    "\n",
    "        \n",
    "obj1=sub1()\n",
    "obj1.calculate(16)\n",
    "\n",
    "obj2=sub2()\n",
    "obj2.calculate(16)\n",
    "\n",
    "obj3=sub3()\n",
    "obj3.calculate(16)\n",
    "\n",
    "        \n",
    "    \n",
    "    "
   ]
  },
  {
   "cell_type": "markdown",
   "id": "129a8e65",
   "metadata": {},
   "source": [
    "# Interface:"
   ]
  },
  {
   "cell_type": "raw",
   "id": "74cdbf5d",
   "metadata": {},
   "source": [
    "an abstract class ma contain abstract methods along wth some concrete methods but an abstract class that contains only abstract methods are known as interface."
   ]
  },
  {
   "cell_type": "code",
   "execution_count": null,
   "id": "8ed2e677",
   "metadata": {},
   "outputs": [],
   "source": []
  }
 ],
 "metadata": {
  "kernelspec": {
   "display_name": "Python 3 (ipykernel)",
   "language": "python",
   "name": "python3"
  },
  "language_info": {
   "codemirror_mode": {
    "name": "ipython",
    "version": 3
   },
   "file_extension": ".py",
   "mimetype": "text/x-python",
   "name": "python",
   "nbconvert_exporter": "python",
   "pygments_lexer": "ipython3",
   "version": "3.9.1"
  }
 },
 "nbformat": 4,
 "nbformat_minor": 5
}
