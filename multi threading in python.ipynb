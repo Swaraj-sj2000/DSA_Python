{
 "cells": [
  {
   "cell_type": "raw",
   "id": "5f39fa7a",
   "metadata": {},
   "source": [
    "process: a programme sent to cpu for execution is a process. a programme in execution"
   ]
  },
  {
   "cell_type": "raw",
   "id": "855d3760",
   "metadata": {},
   "source": [
    "three basic components of a process:\n",
    "    executable programme\n",
    "    associated programme data\n",
    "    execution state of a process\n",
    "    "
   ]
  },
  {
   "cell_type": "raw",
   "id": "945a6347",
   "metadata": {},
   "source": [
    "to increase the efficiency we use multiple cpu cores by breaking a process in multiple parts known as thread."
   ]
  },
  {
   "cell_type": "raw",
   "id": "57b3914b",
   "metadata": {},
   "source": [
    "thread is an entity inside a process, its the smallest executable partof a programme"
   ]
  },
  {
   "cell_type": "markdown",
   "id": "ceef6143",
   "metadata": {},
   "source": [
    "# Thread control block (TCP):"
   ]
  },
  {
   "cell_type": "raw",
   "id": "e04833c3",
   "metadata": {},
   "source": [
    "->its a thread identifier\n",
    "->stack pointer :for a particular thread the stack contain local variable data for a thread\n",
    "->programme counter: tells where is the particular thread residing in memory\n",
    "->thread state: waiting state or runninfg state or input/output\n",
    "->thread register: the registers assigned for processing a thread\n",
    "->parent process pointer"
   ]
  },
  {
   "cell_type": "markdown",
   "id": "88910f58",
   "metadata": {},
   "source": [
    "# Process block:\n"
   ]
  },
  {
   "cell_type": "code",
   "execution_count": null,
   "id": "0a151042",
   "metadata": {},
   "outputs": [],
   "source": []
  },
  {
   "cell_type": "markdown",
   "id": "eae7008c",
   "metadata": {},
   "source": [
    "# Multithreading:"
   ]
  },
  {
   "cell_type": "raw",
   "id": "a1f4a6e9",
   "metadata": {},
   "source": [
    "when multiple threads of a process is being executed simultaneously"
   ]
  },
  {
   "cell_type": "raw",
   "id": "9a3b4710",
   "metadata": {},
   "source": [
    "each thread will be assigned a seperate register set"
   ]
  },
  {
   "cell_type": "raw",
   "id": "8f853940",
   "metadata": {},
   "source": [
    "local variables are assigned to thread"
   ]
  },
  {
   "cell_type": "raw",
   "id": "7972c182",
   "metadata": {},
   "source": [
    "all the threads will be using same global variable"
   ]
  },
  {
   "cell_type": "code",
   "execution_count": 3,
   "id": "abb3bd3e",
   "metadata": {},
   "outputs": [],
   "source": [
    "import threading"
   ]
  },
  {
   "cell_type": "code",
   "execution_count": 4,
   "id": "b97ad540",
   "metadata": {},
   "outputs": [
    {
     "name": "stdout",
     "output_type": "stream",
     "text": [
      "hello swaraj\n",
      "bye rohan\n",
      "Done\n"
     ]
    }
   ],
   "source": [
    "def hello(name):\n",
    "    print(f\"hello {name}\")\n",
    "def bye(name):\n",
    "    print(f\"bye {name}\")\n",
    "    \n",
    "if __name__==\"__main__\":\n",
    "    #create thread for particular function\n",
    "    t1=threading.Thread(target=hello,args=(\"swaraj\",))\n",
    "    t2=threading.Thread(target=bye,args=(\"rohan\",))\n",
    "    \n",
    "    #start the thread\n",
    "    t1.start()\n",
    "    t2.start()\n",
    "    \n",
    "    #wait till threads are completed\n",
    "    t1.join()\n",
    "    t2.join()\n",
    "    \n",
    "    print(\"Done\")"
   ]
  },
  {
   "cell_type": "markdown",
   "id": "635f7ac6",
   "metadata": {},
   "source": [
    "# Finding thread details"
   ]
  },
  {
   "cell_type": "code",
   "execution_count": 6,
   "id": "071cce98",
   "metadata": {},
   "outputs": [
    {
     "name": "stdout",
     "output_type": "stream",
     "text": [
      "process pid:13452\n",
      "process name:MainThread\n",
      "name=T1\n",
      "pid=13452\n",
      "name=T2\n",
      "pid=13452\n",
      "Done\n"
     ]
    }
   ],
   "source": [
    "import threading\n",
    "import os\n",
    "\n",
    "def hello():\n",
    "    print(f\"name={threading.current_thread().name}\")\n",
    "    print(f\"pid={os.getpid()}\")\n",
    "    \n",
    "def bye():\n",
    "    print(f\"name={threading.current_thread().name}\")\n",
    "    print(f\"pid={os.getpid()}\")\n",
    "\n",
    "    \n",
    "if __name__==\"__main__\":\n",
    "    print(f\"process pid:{os.getpid()}\")\n",
    "    print(f\"process name:{threading.current_thread().name}\")\n",
    "    \n",
    "    t1=threading.Thread(target=hello,name=\"T1\")\n",
    "    t2=threading.Thread(target=bye,name=\"T2\")\n",
    "    \n",
    "    t1.start()\n",
    "    t2.start()\n",
    "    \n",
    "    t1.join()\n",
    "    t2.join()\n",
    "    \n",
    "    print(\"Done\")\n",
    "    "
   ]
  },
  {
   "cell_type": "raw",
   "id": "56bdb9e3",
   "metadata": {},
   "source": [
    "27:11 multithreading"
   ]
  },
  {
   "cell_type": "code",
   "execution_count": null,
   "id": "6b548e31",
   "metadata": {},
   "outputs": [],
   "source": []
  }
 ],
 "metadata": {
  "kernelspec": {
   "display_name": "Python 3 (ipykernel)",
   "language": "python",
   "name": "python3"
  },
  "language_info": {
   "codemirror_mode": {
    "name": "ipython",
    "version": 3
   },
   "file_extension": ".py",
   "mimetype": "text/x-python",
   "name": "python",
   "nbconvert_exporter": "python",
   "pygments_lexer": "ipython3",
   "version": "3.9.1"
  }
 },
 "nbformat": 4,
 "nbformat_minor": 5
}
