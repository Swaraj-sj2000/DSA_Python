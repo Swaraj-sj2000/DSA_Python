{
 "cells": [
  {
   "cell_type": "markdown",
   "id": "a2fb06c2",
   "metadata": {},
   "source": [
    "# Global Variable:"
   ]
  },
  {
   "cell_type": "code",
   "execution_count": 4,
   "id": "b92bb24b",
   "metadata": {},
   "outputs": [
    {
     "name": "stdout",
     "output_type": "stream",
     "text": [
      "Before function call s=0\n",
      "during function call s=5\n",
      "after function call s=0\n"
     ]
    }
   ],
   "source": [
    "s=0\n",
    "def add(a,b):\n",
    "    s=a+b\n",
    "    return s\n",
    "print(f\"Before function call s={s}\")\n",
    "print(f\"during function call s={add(2,3)}\")\n",
    "print(f\"after function call s={s}\")"
   ]
  },
  {
   "cell_type": "code",
   "execution_count": 5,
   "id": "96d35fd5",
   "metadata": {},
   "outputs": [
    {
     "name": "stdout",
     "output_type": "stream",
     "text": [
      "Before function call s=0\n",
      "during function call s=5\n",
      "after function call s=5\n"
     ]
    }
   ],
   "source": [
    "s=0\n",
    "def add(a,b):\n",
    "    global s\n",
    "    s=a+b\n",
    "    return s\n",
    "print(f\"Before function call s={s}\")\n",
    "print(f\"during function call s={add(2,3)}\")\n",
    "print(f\"after function call s={s}\")"
   ]
  }
 ],
 "metadata": {
  "kernelspec": {
   "display_name": "Python 3 (ipykernel)",
   "language": "python",
   "name": "python3"
  },
  "language_info": {
   "codemirror_mode": {
    "name": "ipython",
    "version": 3
   },
   "file_extension": ".py",
   "mimetype": "text/x-python",
   "name": "python",
   "nbconvert_exporter": "python",
   "pygments_lexer": "ipython3",
   "version": "3.9.1"
  }
 },
 "nbformat": 4,
 "nbformat_minor": 5
}
