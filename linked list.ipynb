{
 "cells": [
  {
   "cell_type": "markdown",
   "id": "1ddfbb78",
   "metadata": {},
   "source": [
    "# Creating a linked list:"
   ]
  },
  {
   "cell_type": "code",
   "execution_count": 98,
   "id": "fd59feb7",
   "metadata": {
    "scrolled": false
   },
   "outputs": [
    {
     "name": "stdout",
     "output_type": "stream",
     "text": [
      "10 20 30 \n"
     ]
    }
   ],
   "source": [
    "class node:\n",
    "    def __init__(self,data):\n",
    "        self.data=data\n",
    "        self.next=None\n",
    "        \n",
    "        \n",
    "class LinkedList:\n",
    "    def __init__(self):\n",
    "        self.head=None\n",
    "        \n",
    "    def length(self):\n",
    "        '''this method returns the length of the singly linked list by traversing \n",
    "        through the list untill the current element becomes None and counting with each step'''\n",
    "        len=0\n",
    "        tmp=self.head\n",
    "        while tmp is not None:\n",
    "            tmp=tmp.next\n",
    "            len+=1\n",
    "        return len\n",
    "        \n",
    "    def printList(self):\n",
    "        '''this method prints the whole linked list'''\n",
    "        tmp=self.head\n",
    "        while tmp!=None:\n",
    "            print(tmp.data, end=\" \")\n",
    "            tmp=tmp.next\n",
    "        print()\n",
    "        \n",
    "    def pushBegin(self,data):\n",
    "        '''this method is used to add elements as the head'''\n",
    "        NewNode=node(data)\n",
    "        NewNode.next=self.head\n",
    "        self.head=NewNode\n",
    "    \n",
    "    def pushLast(self,data):\n",
    "        '''this method adds element at the tail'''\n",
    "        NewNode=node(data)\n",
    "        if self.head==None:\n",
    "            self.head=NewNode\n",
    "        tmp=self.head\n",
    "        while tmp.next!=None:\n",
    "            tmp=tmp.next\n",
    "        tmp.next=NewNode\n",
    "        \n",
    "    def insert_after(self,mid_node,data):\n",
    "        '''this method inserts a node after a certain provided node'''\n",
    "        if mid_node is None:\n",
    "            print(\"not present\")\n",
    "            return\n",
    "        Newnode=node(data)\n",
    "        Newnode.next=mid_node.next\n",
    "        mid_node.next=Newnode \n",
    "        \n",
    "    def insert_at_index(self,data,index):\n",
    "        '''this method inserts a node at a given index'''\n",
    "        if index>=self.length():\n",
    "            return -1\n",
    "        elif index==0:\n",
    "            self.pushBegin(data)\n",
    "        else:\n",
    "            curr_val=self.head\n",
    "            for i in range(1,index):\n",
    "                curr_val=curr_val.next\n",
    "            next_tmp=curr_val.next\n",
    "            curr_val.next=node(data)\n",
    "            curr_val=curr_val.next\n",
    "            curr_val.next=next_tmp\n",
    "\n",
    "        \n",
    "            \n",
    "        \n",
    "    def remove(self,key):\n",
    "        '''this method removes a node with the given data from the linked list'''\n",
    "        headval=self.head\n",
    "        \n",
    "        if headval is not None:\n",
    "            if headval.data==key:\n",
    "                self.head=headval.next\n",
    "                headval=None\n",
    "                return\n",
    "            \n",
    "            tmp=None\n",
    "            while headval is not None and headval.data!=key:\n",
    "                tmp=headval\n",
    "                headval=headval.next\n",
    "            if headval is None:\n",
    "                return\n",
    "            tmp.next=headval.next\n",
    "            headval=None\n",
    "            \n",
    "            \n",
    "    def remove_at(self,index):\n",
    "        '''this method removes node at agiven index'''\n",
    "        if index==0:\n",
    "            curr=self.head\n",
    "            self.head=curr.next\n",
    "            curr=None\n",
    "        elif index>=self.length():\n",
    "            return -1\n",
    "        else:\n",
    "            curr=self.head\n",
    "            for i in range(1,index):\n",
    "                curr=curr.next\n",
    "            tmp=curr.next\n",
    "            curr.next=tmp.next\n",
    "            tmp.next=None\n",
    "            tmp=None\n",
    "        \n",
    "        \n",
    "        \n",
    "    def middle(self):\n",
    "        s=self.head\n",
    "        f=self.head\n",
    "        \n",
    "        while s is not None and f is not None and f.next is not None:\n",
    "            s=s.next\n",
    "            f=f.next.next\n",
    "        return s\n",
    "    \n",
    "    def reverseList(self):\n",
    "        prev=None\n",
    "        curr=self.head\n",
    "        while curr is not None:\n",
    "            tmp=curr.next\n",
    "            curr.next=prev\n",
    "            prev=curr\n",
    "            curr=tmp\n",
    "        self.head=prev\n",
    "        return prev\n",
    "        \n",
    "#Driving code\n",
    "\n",
    "myList=LinkedList()\n",
    "first=node(10)\n",
    "second=node(20)\n",
    "third=node(30)\n",
    "\n",
    "#defining the links between the nodes\n",
    "myList.head=first\n",
    "first.next=second\n",
    "second.next=third\n",
    "\n",
    "myList.printList()"
   ]
  },
  {
   "cell_type": "code",
   "execution_count": 99,
   "id": "4a68a92d",
   "metadata": {},
   "outputs": [
    {
     "name": "stdout",
     "output_type": "stream",
     "text": [
      "40 10 20 30 \n"
     ]
    }
   ],
   "source": [
    "myList.pushBegin(40)\n",
    "myList.printList()"
   ]
  },
  {
   "cell_type": "code",
   "execution_count": 100,
   "id": "eb75c2b1",
   "metadata": {},
   "outputs": [
    {
     "name": "stdout",
     "output_type": "stream",
     "text": [
      "40 10 20 24 30 50 \n"
     ]
    }
   ],
   "source": [
    "myList.pushLast(50)\n",
    "myList.insert_after(second,24)\n",
    "myList.printList()"
   ]
  },
  {
   "cell_type": "code",
   "execution_count": 101,
   "id": "4d823b18",
   "metadata": {},
   "outputs": [
    {
     "name": "stdout",
     "output_type": "stream",
     "text": [
      "40 10 24 30 50 \n"
     ]
    }
   ],
   "source": [
    "myList.remove(20)\n",
    "myList.printList()"
   ]
  },
  {
   "cell_type": "code",
   "execution_count": 102,
   "id": "98c355cb",
   "metadata": {},
   "outputs": [
    {
     "name": "stdout",
     "output_type": "stream",
     "text": [
      "24\n"
     ]
    }
   ],
   "source": [
    "t=myList.middle()\n",
    "print(t.data)"
   ]
  },
  {
   "cell_type": "code",
   "execution_count": 103,
   "id": "71756730",
   "metadata": {},
   "outputs": [
    {
     "name": "stdout",
     "output_type": "stream",
     "text": [
      "40 10 24 30 89 50 \n"
     ]
    }
   ],
   "source": [
    "myList.insert_after(third,89)\n",
    "myList.printList()"
   ]
  },
  {
   "cell_type": "code",
   "execution_count": 104,
   "id": "3dcaf157",
   "metadata": {},
   "outputs": [
    {
     "name": "stdout",
     "output_type": "stream",
     "text": [
      "30\n",
      "6\n"
     ]
    }
   ],
   "source": [
    "print(myList.middle().data)\n",
    "print(myList.length())"
   ]
  },
  {
   "cell_type": "code",
   "execution_count": 105,
   "id": "ec1ab7bf",
   "metadata": {},
   "outputs": [
    {
     "name": "stdout",
     "output_type": "stream",
     "text": [
      "50 89 30 24 10 40 \n"
     ]
    }
   ],
   "source": [
    "myList.reverseList().data\n",
    "myList.printList()"
   ]
  },
  {
   "cell_type": "code",
   "execution_count": 106,
   "id": "e8a75991",
   "metadata": {},
   "outputs": [
    {
     "data": {
      "text/plain": [
       "89"
      ]
     },
     "execution_count": 106,
     "metadata": {},
     "output_type": "execute_result"
    }
   ],
   "source": [
    "myList.head.data\n",
    "myList.head.next.data"
   ]
  },
  {
   "cell_type": "code",
   "execution_count": 107,
   "id": "e975c544",
   "metadata": {},
   "outputs": [
    {
     "name": "stdout",
     "output_type": "stream",
     "text": [
      "50 89 30 23 24 10 40 \n"
     ]
    }
   ],
   "source": [
    "myList.insert_at_index(23,3)\n",
    "myList.printList()"
   ]
  },
  {
   "cell_type": "code",
   "execution_count": 108,
   "id": "c1e474e7",
   "metadata": {},
   "outputs": [
    {
     "name": "stdout",
     "output_type": "stream",
     "text": [
      "89 30 23 24 10 40 \n",
      "89 30 23 24 40 \n",
      "89 30 23 24 40 \n"
     ]
    }
   ],
   "source": [
    "myList.remove_at(0)\n",
    "myList.printList()\n",
    "myList.remove_at(4)\n",
    "myList.printList()\n",
    "myList.remove_at(10)\n",
    "myList.printList()"
   ]
  },
  {
   "cell_type": "markdown",
   "id": "f20185fe",
   "metadata": {},
   "source": [
    "## Properties of linkes lists:"
   ]
  },
  {
   "cell_type": "raw",
   "id": "298d2112",
   "metadata": {},
   "source": [
    "\n",
    "    Its a data structure used for storing collections of data. \n",
    "    A linked list has the following properties:\n",
    "        1.Successive elements shrink in size during the exexution of a prog.\n",
    "        2.can grow or shrink in size during the exexcution of a program .\n",
    "        3.does not waste memory space(but takes extra memory for pointers).\n",
    "        It allocates memory as the list grows.\n",
    "        4.each element or node of a list is comprising of two items.\n",
    "            1.data\n",
    "            2.pointer\n",
    "        5.in a linked list the elements are not stored in contiguous memory locations.\n",
    "        6.the last node is known as a tail.\n",
    "        7.the first element is known as the head.\n",
    "        the last node pointer refers to None.\n",
    "        "
   ]
  },
  {
   "cell_type": "markdown",
   "id": "964e3974",
   "metadata": {},
   "source": [
    "# Doubly linked list"
   ]
  },
  {
   "cell_type": "code",
   "execution_count": 162,
   "id": "2a1ad8ed",
   "metadata": {
    "scrolled": true
   },
   "outputs": [],
   "source": [
    "class Node:\n",
    "    def __init__(self,data):\n",
    "        self.data=data\n",
    "        self.next=None\n",
    "        self.prev=None\n",
    "        \n",
    "class D_Linkedlist:\n",
    "    def __init__(self):\n",
    "        self.star_node=None\n",
    "        \n",
    "    def insertToemptyList(self,data):\n",
    "        if self.start_node is None:\n",
    "            new_node=Node(data)\n",
    "            self.start_node=new_node\n",
    "            \n",
    "        else:\n",
    "            print(\"the list is empty\")\n",
    "    \n",
    "    \n",
    "    def insertToend(self,data):\n",
    "        if self.start_node is None:\n",
    "            new_node= Node(data)\n",
    "            self.start_node=new_node\n",
    "            return\n",
    "        \n",
    "        n=self.start_node\n",
    "        \n",
    "        while n.next is not None:\n",
    "            n=n.next\n",
    "        new_node= Node(data)\n",
    "        self.connect(n,new_node)\n",
    "        \n",
    "    def delete_at_start(self):\n",
    "        if self.start_node is None:\n",
    "            return\n",
    "        elif self.start_node.next is None:\n",
    "            self.start_node=None\n",
    "        else:    \n",
    "            self.start_node=self.start_node.next\n",
    "            self.start_node.prev=None\n",
    "        \n",
    "    def delete_at_end(self):\n",
    "        if self.start_node is None:\n",
    "            return\n",
    "        else:\n",
    "            tmp=self.start_node\n",
    "            while tmp.next is not None:\n",
    "                tmp=tmp.next\n",
    "            tmp.prev.next=None\n",
    "            tmp=None\n",
    "        \n",
    "    def printList(self):\n",
    "        tmp=self.start_node\n",
    "        while tmp is not None:\n",
    "            print(tmp.data,end=\" \")\n",
    "            tmp=tmp.next\n",
    "        print()\n",
    "            \n",
    "    def connect(self,pre,nex):\n",
    "        pre.next=nex\n",
    "        nex.prev=pre\n",
    "        \n",
    "    def swap(self,pre,nex):\n",
    "        \n",
    "        \n"
   ]
  },
  {
   "cell_type": "code",
   "execution_count": 163,
   "id": "affaa893",
   "metadata": {},
   "outputs": [],
   "source": [
    "m2=D_Linkedlist()\n",
    "first=Node(20)\n",
    "second=Node(30)\n",
    "third=Node(40)\n"
   ]
  },
  {
   "cell_type": "code",
   "execution_count": 164,
   "id": "e9279cbf",
   "metadata": {},
   "outputs": [],
   "source": [
    "m2.start_node=first\n",
    "m2.connect(first,second)\n",
    "m2.connect(second,third)\n"
   ]
  },
  {
   "cell_type": "code",
   "execution_count": 165,
   "id": "3f9825a4",
   "metadata": {},
   "outputs": [
    {
     "name": "stdout",
     "output_type": "stream",
     "text": [
      "20 30 40 \n"
     ]
    }
   ],
   "source": [
    "m2.printList()"
   ]
  },
  {
   "cell_type": "code",
   "execution_count": 166,
   "id": "7b779208",
   "metadata": {},
   "outputs": [
    {
     "name": "stdout",
     "output_type": "stream",
     "text": [
      "20 30 40 24 \n"
     ]
    }
   ],
   "source": [
    "m2.insertToend(24)\n",
    "m2.printList()"
   ]
  },
  {
   "cell_type": "code",
   "execution_count": 167,
   "id": "4628a975",
   "metadata": {},
   "outputs": [
    {
     "name": "stdout",
     "output_type": "stream",
     "text": [
      "30 40 24 \n"
     ]
    }
   ],
   "source": [
    "m2.delete_at_start()\n",
    "m2.printList()"
   ]
  },
  {
   "cell_type": "code",
   "execution_count": 168,
   "id": "5b38e0c6",
   "metadata": {},
   "outputs": [
    {
     "name": "stdout",
     "output_type": "stream",
     "text": [
      "30 40 \n"
     ]
    }
   ],
   "source": [
    "m2.delete_at_end()\n",
    "m2.printList()"
   ]
  },
  {
   "cell_type": "markdown",
   "id": "51fc3e35",
   "metadata": {},
   "source": [
    "#### Given a singly linked list of integers, sort the list using the Merge Sort algorithm"
   ]
  },
  {
   "cell_type": "code",
   "execution_count": 41,
   "id": "6042302b",
   "metadata": {},
   "outputs": [],
   "source": [
    "class Node:\n",
    "    def __init__(self,val):\n",
    "        self.val=val\n",
    "        self.next=None\n",
    "        \n",
    "class linkedList:\n",
    "    def __init__(self):\n",
    "        self.head=None\n",
    "        \n",
    "    def display(self):\n",
    "        tmp=self.head\n",
    "        while tmp is not None:\n",
    "            print(tmp.val,end=\" \")\n",
    "            tmp=tmp.next\n",
    "            \n",
    "    def middle(self):\n",
    "        slow=self.head\n",
    "        fast=self.head\n",
    "        while fast and fast.next:\n",
    "            slow=slow.next\n",
    "            fast=fast.next.next\n",
    "        return slow\n",
    "    \n",
    "    def mergeSort(self):\n",
    "        head=self.head\n",
    "        left=head\n",
    "        mid=self.middle()\n",
    "        right=mid.next\n",
    "        mid.next=None\n",
    "        \n",
    "        left=mergeSort(left)\n",
    "        right=mergeSort(right)\n",
    "        head=merge(left,right)\n",
    "        \n",
    "        return head\n",
    "    \n",
    "    def merge(self,left,right):\n",
    "        if left is None:\n",
    "            return right\n",
    "        if right is None:\n",
    "            return left\n",
    "        if left.val<=right.val:\n",
    "            head=left\n",
    "            left=left.next\n",
    "        else:\n",
    "            head=right\n",
    "            right=right.next\n",
    "        curr=head\n",
    "        \n",
    "        while i in [left,right] is not None:\n",
    "            if left.val<=rigth.val:\n",
    "                curr.next=left\n",
    "                left=left.next\n",
    "            else:\n",
    "                curr.next=right\n",
    "                right=right.next\n",
    "            curr=curr.next\n",
    "            \n",
    "        if left is None:\n",
    "            curr.next=right\n",
    "        else:\n",
    "            curr.next=left\n",
    "        return head\n",
    "        \n",
    "        \n",
    "        \n",
    "first=Node(10)\n",
    "l1=linkedList()\n",
    "l1.head=first\n",
    "tmp=first\n",
    "for i in [9,4,1,3]:\n",
    "    tmp.next=Node(i)\n",
    "    tmp=tmp.next"
   ]
  },
  {
   "cell_type": "code",
   "execution_count": 42,
   "id": "54f9ccbc",
   "metadata": {},
   "outputs": [
    {
     "name": "stdout",
     "output_type": "stream",
     "text": [
      "10 9 4 1 3 "
     ]
    }
   ],
   "source": [
    "l1.display()"
   ]
  },
  {
   "cell_type": "code",
   "execution_count": 44,
   "id": "c3c3fd05",
   "metadata": {},
   "outputs": [],
   "source": [
    "m=l1.mergeSort()"
   ]
  },
  {
   "cell_type": "code",
   "execution_count": 46,
   "id": "3b380ed2",
   "metadata": {},
   "outputs": [
    {
     "data": {
      "text/plain": [
       "10"
      ]
     },
     "execution_count": 46,
     "metadata": {},
     "output_type": "execute_result"
    }
   ],
   "source": [
    "m.val"
   ]
  },
  {
   "cell_type": "code",
   "execution_count": 48,
   "id": "f5113027",
   "metadata": {},
   "outputs": [
    {
     "ename": "AttributeError",
     "evalue": "'NoneType' object has no attribute 'val'",
     "output_type": "error",
     "traceback": [
      "\u001b[1;31m---------------------------------------------------------------------------\u001b[0m",
      "\u001b[1;31mAttributeError\u001b[0m                            Traceback (most recent call last)",
      "\u001b[1;32m~\\AppData\\Local\\Temp\\ipykernel_19568\\2917825729.py\u001b[0m in \u001b[0;36m<module>\u001b[1;34m\u001b[0m\n\u001b[1;32m----> 1\u001b[1;33m \u001b[0mm\u001b[0m\u001b[1;33m.\u001b[0m\u001b[0mnext\u001b[0m\u001b[1;33m.\u001b[0m\u001b[0mval\u001b[0m\u001b[1;33m\u001b[0m\u001b[1;33m\u001b[0m\u001b[0m\n\u001b[0m",
      "\u001b[1;31mAttributeError\u001b[0m: 'NoneType' object has no attribute 'val'"
     ]
    }
   ],
   "source": [
    "m.next.val"
   ]
  },
  {
   "cell_type": "code",
   "execution_count": null,
   "id": "92d733fc",
   "metadata": {},
   "outputs": [],
   "source": []
  }
 ],
 "metadata": {
  "kernelspec": {
   "display_name": "Python 3 (ipykernel)",
   "language": "python",
   "name": "python3"
  },
  "language_info": {
   "codemirror_mode": {
    "name": "ipython",
    "version": 3
   },
   "file_extension": ".py",
   "mimetype": "text/x-python",
   "name": "python",
   "nbconvert_exporter": "python",
   "pygments_lexer": "ipython3",
   "version": "3.9.1"
  }
 },
 "nbformat": 4,
 "nbformat_minor": 5
}
