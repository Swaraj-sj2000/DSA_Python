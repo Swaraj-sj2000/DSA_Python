{
 "cells": [
  {
   "cell_type": "markdown",
   "id": "55fa6648",
   "metadata": {},
   "source": [
    "# Rules for naming variable :"
   ]
  },
  {
   "cell_type": "markdown",
   "id": "ce643040",
   "metadata": {},
   "source": [
    "variable names can start with uuper and lowercase alphabet and also an underscore but not a no."
   ]
  },
  {
   "cell_type": "markdown",
   "id": "f2a47537",
   "metadata": {},
   "source": [
    "# Tpes of Variables:\n"
   ]
  },
  {
   "cell_type": "markdown",
   "id": "61df548e",
   "metadata": {},
   "source": [
    "int<br>\n",
    "float<br>\n",
    "complex<br>\n",
    "bool<br>\n",
    "string<br>\n",
    "list<br>"
   ]
  },
  {
   "cell_type": "code",
   "execution_count": 6,
   "id": "23ab017d",
   "metadata": {},
   "outputs": [
    {
     "name": "stdout",
     "output_type": "stream",
     "text": [
      "<class 'complex'>\n"
     ]
    }
   ],
   "source": [
    "a=1+2j\n",
    "print(type(a))"
   ]
  },
  {
   "cell_type": "markdown",
   "id": "154a4ed4",
   "metadata": {},
   "source": [
    "# TypeCasting:"
   ]
  },
  {
   "cell_type": "markdown",
   "id": "0b7ef159",
   "metadata": {},
   "source": [
    "Implicit typecasting:<Br> The variable automatically infers datatype of the variable no need to specify the datatype.<br>\n",
    "Eg:"
   ]
  },
  {
   "cell_type": "code",
   "execution_count": 19,
   "id": "6b7ca570",
   "metadata": {},
   "outputs": [
    {
     "name": "stdout",
     "output_type": "stream",
     "text": [
      "[<class 'int'>, <class 'float'>, <class 'complex'>]\n",
      "<class 'list'>\n"
     ]
    }
   ],
   "source": [
    "a=[10,20.31,4+3j]\n",
    "print(list(map(type,a)))\n",
    "print(type(a))"
   ]
  },
  {
   "cell_type": "markdown",
   "id": "62dee74a",
   "metadata": {},
   "source": [
    "Explicit Typecasting:<bR>\n",
    "    Here we explicitly specify which data type the variable is.<br>\n",
    "    Eg."
   ]
  },
  {
   "cell_type": "code",
   "execution_count": 18,
   "id": "5b2d773c",
   "metadata": {},
   "outputs": [
    {
     "name": "stdout",
     "output_type": "stream",
     "text": [
      "<class 'int'>\n"
     ]
    }
   ],
   "source": [
    "a=3.112\n",
    "b=int(a)\n",
    "print(type(b))"
   ]
  },
  {
   "cell_type": "markdown",
   "id": "41a61b87",
   "metadata": {},
   "source": [
    "# How variables work in python:"
   ]
  },
  {
   "cell_type": "markdown",
   "id": "b896b6b5",
   "metadata": {},
   "source": [
    "In C++ or JAVA when a variable is specified with a value<br>\n",
    "the variable name points to a memory location where the value is stored.<br>\n",
    "but when value of the variable is changed then the value is actually updated at the same memory loaction ."
   ]
  },
  {
   "cell_type": "markdown",
   "id": "988a7838",
   "metadata": {},
   "source": [
    "However when a value is stored in a variable in python it points to a memory location as prior but when the value of the variable is changed then the variable now points to a new memory block and stores the new value there the prior value remains stored in the prior block only undisturbed by the changes made."
   ]
  },
  {
   "cell_type": "code",
   "execution_count": 20,
   "id": "af6a7e24",
   "metadata": {},
   "outputs": [
    {
     "name": "stdout",
     "output_type": "stream",
     "text": [
      "2016263105104\n",
      "2016263105424\n"
     ]
    }
   ],
   "source": [
    "a=10\n",
    "print(id(a))\n",
    "a=20\n",
    "print(id(a))"
   ]
  },
  {
   "cell_type": "markdown",
   "id": "9f47a45b",
   "metadata": {},
   "source": [
    "Thus even after being the same variable it made the change in new memory location.\n",
    "So basically python variable points not to the memory location but the value specified."
   ]
  },
  {
   "cell_type": "code",
   "execution_count": 21,
   "id": "1e9380f7",
   "metadata": {},
   "outputs": [
    {
     "name": "stdout",
     "output_type": "stream",
     "text": [
      "2016263105424\n"
     ]
    }
   ],
   "source": [
    "c=20\n",
    "print(id(c))"
   ]
  },
  {
   "cell_type": "code",
   "execution_count": 22,
   "id": "8c298394",
   "metadata": {},
   "outputs": [
    {
     "name": "stdout",
     "output_type": "stream",
     "text": [
      "True\n"
     ]
    }
   ],
   "source": [
    "if id(a)==id(c):\n",
    "    print(True)"
   ]
  },
  {
   "cell_type": "markdown",
   "id": "0beb339a",
   "metadata": {},
   "source": [
    "So value 20 has the location '2016263105424' and not the variable a or c."
   ]
  },
  {
   "cell_type": "markdown",
   "id": "f6b99f7b",
   "metadata": {},
   "source": [
    "# Scope of a variable:"
   ]
  },
  {
   "cell_type": "markdown",
   "id": "18106ed1",
   "metadata": {},
   "source": [
    "Two scopes:<BR>\n",
    "    1. Local Scope: only valid till within a code block or indent block<br>\n",
    "    2.Global Scope:for all the indent blocks present in the page"
   ]
  },
  {
   "cell_type": "code",
   "execution_count": 39,
   "id": "d7ac47d6",
   "metadata": {},
   "outputs": [
    {
     "name": "stdout",
     "output_type": "stream",
     "text": [
      "inside function block i:2\n",
      "outside the function block i:10\n"
     ]
    }
   ],
   "source": [
    "i=10\n",
    "def scope_1():\n",
    "    i=2\n",
    "    print(f\"inside function block i:{i}\")\n",
    "scope_1()\n",
    "print(f\"outside the function block i:{i}\")"
   ]
  },
  {
   "cell_type": "markdown",
   "id": "a514f635",
   "metadata": {},
   "source": [
    "if global variable is needed to be used in local scope then define it by global keyword."
   ]
  },
  {
   "cell_type": "code",
   "execution_count": 40,
   "id": "afae1165",
   "metadata": {},
   "outputs": [
    {
     "name": "stdout",
     "output_type": "stream",
     "text": [
      "10\n",
      "2\n",
      "2\n"
     ]
    }
   ],
   "source": [
    "def scope_2():\n",
    "    global i\n",
    "    print(i)\n",
    "    i=2\n",
    "    print(i)\n",
    "scope_2()\n",
    "print(i)"
   ]
  },
  {
   "cell_type": "markdown",
   "id": "b5bb4c09",
   "metadata": {},
   "source": [
    "So the global i was set to 2 in the function.\n"
   ]
  }
 ],
 "metadata": {
  "kernelspec": {
   "display_name": "Python 3 (ipykernel)",
   "language": "python",
   "name": "python3"
  },
  "language_info": {
   "codemirror_mode": {
    "name": "ipython",
    "version": 3
   },
   "file_extension": ".py",
   "mimetype": "text/x-python",
   "name": "python",
   "nbconvert_exporter": "python",
   "pygments_lexer": "ipython3",
   "version": "3.9.1"
  }
 },
 "nbformat": 4,
 "nbformat_minor": 5
}
