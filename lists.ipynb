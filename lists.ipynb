{
 "cells": [
  {
   "cell_type": "code",
   "execution_count": 3,
   "id": "3f6b3d60",
   "metadata": {},
   "outputs": [],
   "source": [
    "def sum_odd_even(list1):\n",
    "    res={\"odd\":0,\"even\":0}\n",
    "    for i in list1:\n",
    "        if i%2==0:\n",
    "            res[\"even\"]+=i\n",
    "        else:res[\"odd\"]+=i\n",
    "    return res"
   ]
  },
  {
   "cell_type": "code",
   "execution_count": 4,
   "id": "e9432231",
   "metadata": {},
   "outputs": [
    {
     "name": "stdout",
     "output_type": "stream",
     "text": [
      "{'odd': 25, 'even': 30}\n"
     ]
    }
   ],
   "source": [
    "l1=[1,2,3,4,5,6,7,8,9,10]\n",
    "print(sum_odd_even(l1))"
   ]
  },
  {
   "cell_type": "code",
   "execution_count": 7,
   "id": "eed3edfe",
   "metadata": {},
   "outputs": [
    {
     "name": "stdout",
     "output_type": "stream",
     "text": [
      "[0, 10, 20]\n"
     ]
    }
   ],
   "source": [
    "a=[[0,10,20],[30,40,50],[60,70,80]]\n",
    "print(a[0:2][0])"
   ]
  },
  {
   "cell_type": "code",
   "execution_count": 14,
   "id": "668c731f",
   "metadata": {},
   "outputs": [
    {
     "name": "stdout",
     "output_type": "stream",
     "text": [
      "[[0.5, 7], [1, 2], [3, 1.5]]\n"
     ]
    }
   ],
   "source": [
    "p=[[1,2],[3,1.5],[0.5,7]]\n",
    "p.sort()\n",
    "print(p)"
   ]
  },
  {
   "cell_type": "markdown",
   "id": "6005259a",
   "metadata": {},
   "source": [
    "multidimensional lists are represented  by their first element and are list are sorted on priority of those"
   ]
  },
  {
   "cell_type": "code",
   "execution_count": 1,
   "id": "6f174e0a",
   "metadata": {
    "scrolled": true
   },
   "outputs": [
    {
     "name": "stdout",
     "output_type": "stream",
     "text": [
      "[[0.5, 7], [1, 2], [3, 1.5]]\n"
     ]
    }
   ],
   "source": [
    "p1=[[1,2],[3,1.5],[0.5,7]]\n",
    "p3=sorted(p1)\n",
    "print(p3)"
   ]
  },
  {
   "cell_type": "code",
   "execution_count": null,
   "id": "b90fc79e",
   "metadata": {},
   "outputs": [],
   "source": [
    " "
   ]
  }
 ],
 "metadata": {
  "kernelspec": {
   "display_name": "Python 3 (ipykernel)",
   "language": "python",
   "name": "python3"
  },
  "language_info": {
   "codemirror_mode": {
    "name": "ipython",
    "version": 3
   },
   "file_extension": ".py",
   "mimetype": "text/x-python",
   "name": "python",
   "nbconvert_exporter": "python",
   "pygments_lexer": "ipython3",
   "version": "3.9.1"
  }
 },
 "nbformat": 4,
 "nbformat_minor": 5
}
