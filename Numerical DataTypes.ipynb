{
 "cells": [
  {
   "cell_type": "markdown",
   "id": "41aadf86",
   "metadata": {},
   "source": [
    "# INT type:"
   ]
  },
  {
   "cell_type": "markdown",
   "id": "b1e5bd49",
   "metadata": {},
   "source": [
    "No range of length for int in python."
   ]
  },
  {
   "cell_type": "markdown",
   "id": "41fdf2b6",
   "metadata": {},
   "source": [
    "# Floating Type: "
   ]
  },
  {
   "cell_type": "code",
   "execution_count": 4,
   "id": "54364be1",
   "metadata": {},
   "outputs": [
    {
     "name": "stdout",
     "output_type": "stream",
     "text": [
      "250.0\n",
      "<class 'float'>\n"
     ]
    }
   ],
   "source": [
    "f=2.5e2\n",
    "print(f)\n",
    "print(type(f))"
   ]
  },
  {
   "cell_type": "markdown",
   "id": "d97b37c3",
   "metadata": {},
   "source": [
    "# Complex Type:\n"
   ]
  },
  {
   "cell_type": "code",
   "execution_count": 6,
   "id": "c2348ec1",
   "metadata": {},
   "outputs": [
    {
     "name": "stdout",
     "output_type": "stream",
     "text": [
      "(1+2j)\n",
      "<class 'complex'>\n"
     ]
    }
   ],
   "source": [
    "a=1+2J\n",
    "print(a)\n",
    "print(type(a))"
   ]
  },
  {
   "cell_type": "markdown",
   "id": "d8ae4978",
   "metadata": {},
   "source": [
    "# Typecasting:\n"
   ]
  },
  {
   "cell_type": "markdown",
   "id": "b928488e",
   "metadata": {},
   "source": [
    "## using arithmetic functions:"
   ]
  },
  {
   "cell_type": "code",
   "execution_count": 8,
   "id": "81f8f4ab",
   "metadata": {},
   "outputs": [
    {
     "name": "stdout",
     "output_type": "stream",
     "text": [
      "<class 'int'>\n",
      "3.0\n",
      "<class 'float'>\n"
     ]
    }
   ],
   "source": [
    "a=3\n",
    "print(type(a))\n",
    "a+=0.0\n",
    "print(a)\n",
    "print(type(a))"
   ]
  },
  {
   "cell_type": "markdown",
   "id": "734bfa14",
   "metadata": {},
   "source": [
    "## using functions:"
   ]
  },
  {
   "cell_type": "code",
   "execution_count": 15,
   "id": "10f1c20d",
   "metadata": {},
   "outputs": [
    {
     "name": "stdout",
     "output_type": "stream",
     "text": [
      "<class 'int'>\n",
      "<class 'int'>\n",
      "<class 'float'>\n",
      "<class 'complex'>\n"
     ]
    }
   ],
   "source": [
    "a=3\n",
    "print(type(a))\n",
    "\n",
    "print(type(int(a)))\n",
    "\n",
    "print(type(float(a)))\n",
    "\n",
    "print(type(complex(a)))"
   ]
  }
 ],
 "metadata": {
  "kernelspec": {
   "display_name": "Python 3 (ipykernel)",
   "language": "python",
   "name": "python3"
  },
  "language_info": {
   "codemirror_mode": {
    "name": "ipython",
    "version": 3
   },
   "file_extension": ".py",
   "mimetype": "text/x-python",
   "name": "python",
   "nbconvert_exporter": "python",
   "pygments_lexer": "ipython3",
   "version": "3.9.1"
  }
 },
 "nbformat": 4,
 "nbformat_minor": 5
}
