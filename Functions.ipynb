{
 "cells": [
  {
   "cell_type": "markdown",
   "id": "30363669",
   "metadata": {},
   "source": [
    "# Functions in python:"
   ]
  },
  {
   "cell_type": "code",
   "execution_count": 1,
   "id": "d3562a0c",
   "metadata": {},
   "outputs": [],
   "source": [
    "def add(a,b,c=90):\n",
    "    return a+b+c"
   ]
  },
  {
   "cell_type": "code",
   "execution_count": 2,
   "id": "61e54f31",
   "metadata": {},
   "outputs": [
    {
     "data": {
      "text/plain": [
       "120"
      ]
     },
     "execution_count": 2,
     "metadata": {},
     "output_type": "execute_result"
    }
   ],
   "source": [
    "a=10\n",
    "b=20\n",
    "add(a,b)"
   ]
  },
  {
   "cell_type": "markdown",
   "id": "b7eef824",
   "metadata": {},
   "source": [
    "# *args:"
   ]
  },
  {
   "cell_type": "markdown",
   "id": "6ba8dfe4",
   "metadata": {},
   "source": [
    "The special syntax *args in function definitions in python is used to pass a variable number of arguments to a function. It is used to pass a non-key worded, variable-length argument list. "
   ]
  },
  {
   "cell_type": "code",
   "execution_count": 4,
   "id": "8395e8bf",
   "metadata": {},
   "outputs": [
    {
     "name": "stdout",
     "output_type": "stream",
     "text": [
      "Hello\n",
      "Welcome\n",
      "to\n",
      "GeeksforGeeks\n"
     ]
    }
   ],
   "source": [
    "def myFun(*argv):\n",
    "    for arg in argv:\n",
    "        print(arg)\n",
    "  \n",
    "  \n",
    "myFun('Hello', 'Welcome', 'to', 'GeeksforGeeks')"
   ]
  },
  {
   "cell_type": "code",
   "execution_count": 5,
   "id": "35c302d7",
   "metadata": {},
   "outputs": [
    {
     "name": "stdout",
     "output_type": "stream",
     "text": [
      "First argument : Hello\n",
      "Next argument through *argv : Welcome\n",
      "Next argument through *argv : to\n",
      "Next argument through *argv : GeeksforGeeks\n"
     ]
    }
   ],
   "source": [
    "def myFun(arg1, *argv):\n",
    "    print(\"First argument :\", arg1)\n",
    "    for arg in argv:\n",
    "        print(\"Next argument through *argv :\", arg)\n",
    "  \n",
    "  \n",
    "myFun('Hello', 'Welcome', 'to', 'GeeksforGeeks')"
   ]
  },
  {
   "cell_type": "markdown",
   "id": "c52a7c10",
   "metadata": {},
   "source": [
    "# **kwargs:"
   ]
  },
  {
   "cell_type": "markdown",
   "id": "bcfe0a0c",
   "metadata": {},
   "source": [
    "The special syntax **kwargs in function definitions in python is used to pass a keyworded, variable-length argument list. We use the name kwargs with the double star. The reason is that the double star allows us to pass through keyword arguments (and any number of them).\n",
    "\n",
    "A keyword argument is where you provide a name to the variable as you pass it into the function.\n",
    "One can think of the kwargs as being a dictionary that maps each keyword to the value that we pass alongside it.<br> That is why when we iterate over the kwargs there doesn’t seem to be any order in which they were printed out."
   ]
  },
  {
   "cell_type": "code",
   "execution_count": 6,
   "id": "a3c3d570",
   "metadata": {},
   "outputs": [
    {
     "name": "stdout",
     "output_type": "stream",
     "text": [
      "first == Geeks\n",
      "mid == for\n",
      "last == Geeks\n"
     ]
    }
   ],
   "source": [
    "def myFun(**kwargs):\n",
    "    for key, value in kwargs.items():\n",
    "        print(\"%s == %s\" % (key, value))\n",
    "  \n",
    "  \n",
    "# Driver code\n",
    "myFun(first='Geeks', mid='for', last='Geeks')"
   ]
  },
  {
   "cell_type": "code",
   "execution_count": 7,
   "id": "75deb4c1",
   "metadata": {},
   "outputs": [
    {
     "name": "stdout",
     "output_type": "stream",
     "text": [
      "first == Geeks\n",
      "mid == for\n",
      "last == Geeks\n"
     ]
    }
   ],
   "source": [
    "def myFun(arg1, **kwargs):\n",
    "    for key, value in kwargs.items():\n",
    "        print(\"%s == %s\" % (key, value))\n",
    "  \n",
    "  \n",
    "# Driver code\n",
    "myFun(\"Hi\", first='Geeks', mid='for', last='Geeks')"
   ]
  },
  {
   "cell_type": "code",
   "execution_count": 15,
   "id": "d5981f10",
   "metadata": {},
   "outputs": [
    {
     "name": "stdout",
     "output_type": "stream",
     "text": [
      "True\n"
     ]
    }
   ],
   "source": [
    "#example1:\n",
    "def is_prime(n):\n",
    "    for i in range(2,int(n/2)+1): #no need to check after half of the number\n",
    "        if n%i==0:return False\n",
    "    return True\n",
    "\n",
    "print(is_prime(23))\n",
    "    \n"
   ]
  },
  {
   "cell_type": "code",
   "execution_count": 35,
   "id": "5d98ce05",
   "metadata": {},
   "outputs": [
    {
     "name": "stdout",
     "output_type": "stream",
     "text": [
      "[False, False, False, True, False]\n"
     ]
    }
   ],
   "source": [
    "#example2\n",
    "def prime(*args):\n",
    "    l1=[]\n",
    "    for arg in args:\n",
    "        res=True\n",
    "        for i in range(2,int(arg/2)+1): #no need to check after half of the number\n",
    "            if arg%i==0:res=False\n",
    "        \n",
    "        l1.append(res)\n",
    "    return l1\n",
    "print(prime(90,33,57,89,234))\n",
    "        "
   ]
  },
  {
   "cell_type": "code",
   "execution_count": 37,
   "id": "7e8cd146",
   "metadata": {},
   "outputs": [
    {
     "data": {
      "text/plain": [
       "120"
      ]
     },
     "execution_count": 37,
     "metadata": {},
     "output_type": "execute_result"
    }
   ],
   "source": [
    "def fact(n):\n",
    "    if n<=1:return 1\n",
    "    else:return n*fact(n-1)\n",
    "fact(5)"
   ]
  },
  {
   "cell_type": "markdown",
   "id": "1532c358",
   "metadata": {},
   "source": [
    "# Arguments and Parameters:"
   ]
  },
  {
   "cell_type": "markdown",
   "id": "cffb0db8",
   "metadata": {},
   "source": [
    "the variables passed to a function is called argument"
   ]
  },
  {
   "cell_type": "markdown",
   "id": "13cc616b",
   "metadata": {},
   "source": [
    "the variables in paranthesis of declaring a function is calles parameters"
   ]
  },
  {
   "cell_type": "markdown",
   "id": "44fb5db9",
   "metadata": {},
   "source": [
    "## Types of arguments in python"
   ]
  },
  {
   "cell_type": "markdown",
   "id": "4764cc52",
   "metadata": {},
   "source": [
    "1. Default <br>\n",
    "2. Keyword<br>\n",
    "3. Arbitrary <br>\n",
    "4. Required"
   ]
  },
  {
   "cell_type": "markdown",
   "id": "b7420dc0",
   "metadata": {},
   "source": [
    "# Two methods of passing arguments:"
   ]
  },
  {
   "cell_type": "markdown",
   "id": "996c40c0",
   "metadata": {},
   "source": [
    "1. Pass by Value <br>\n",
    "2. pass by reference"
   ]
  },
  {
   "cell_type": "code",
   "execution_count": null,
   "id": "777568e1",
   "metadata": {},
   "outputs": [],
   "source": []
  }
 ],
 "metadata": {
  "kernelspec": {
   "display_name": "Python 3 (ipykernel)",
   "language": "python",
   "name": "python3"
  },
  "language_info": {
   "codemirror_mode": {
    "name": "ipython",
    "version": 3
   },
   "file_extension": ".py",
   "mimetype": "text/x-python",
   "name": "python",
   "nbconvert_exporter": "python",
   "pygments_lexer": "ipython3",
   "version": "3.9.1"
  }
 },
 "nbformat": 4,
 "nbformat_minor": 5
}
